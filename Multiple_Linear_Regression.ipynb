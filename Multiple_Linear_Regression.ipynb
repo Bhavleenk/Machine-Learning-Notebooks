{
  "nbformat": 4,
  "nbformat_minor": 0,
  "metadata": {
    "colab": {
      "provenance": [],
      "authorship_tag": "ABX9TyN1RtY/RtVhZJg4FjHsjMtq",
      "include_colab_link": true
    },
    "kernelspec": {
      "name": "python3",
      "display_name": "Python 3"
    },
    "language_info": {
      "name": "python"
    }
  },
  "cells": [
    {
      "cell_type": "markdown",
      "metadata": {
        "id": "view-in-github",
        "colab_type": "text"
      },
      "source": [
        "<a href=\"https://colab.research.google.com/github/Bhavleenk/Machine-Learning-Notebooks/blob/main/Multiple_Linear_Regression.ipynb\" target=\"_parent\"><img src=\"https://colab.research.google.com/assets/colab-badge.svg\" alt=\"Open In Colab\"/></a>"
      ]
    },
    {
      "cell_type": "markdown",
      "source": [
        "# **Multiple Linear Regression** <br>\n",
        "![image.png](data:image/png;base64,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)\n",
        "\n"
      ],
      "metadata": {
        "id": "aW_VeqoYFgWG"
      }
    },
    {
      "cell_type": "markdown",
      "source": [
        "#Assumptions of Linear Regression <br>\n",
        "\"Anscombes's quartet\" <br>\n",
        "- Linearity (Linear relation between Y and each X) <br>\n",
        "- Homoscedasticity (Equal variance) <br>\n",
        "- Multivariate Normality (Normality of error distribution) <br>\n",
        "- Independence (of obs; includes \"no autocorrelation) <br>\n",
        "- Lack of Multicollinearity (Predictors are not correlated with each other) <br>\n",
        "- The Outlier Check\n"
      ],
      "metadata": {
        "id": "Fs8TW6T8Hg7c"
      }
    },
    {
      "cell_type": "markdown",
      "source": [
        "# Importing Libraries"
      ],
      "metadata": {
        "id": "V-6DOuG_GnVL"
      }
    },
    {
      "cell_type": "code",
      "execution_count": 1,
      "metadata": {
        "id": "oq8SilRDMZ43"
      },
      "outputs": [],
      "source": [
        "import numpy as np\n",
        "import matplotlib.pyplot as plt\n",
        "import pandas as pd\n",
        "import seaborn as sns"
      ]
    },
    {
      "cell_type": "markdown",
      "source": [
        "# Importing Dataset"
      ],
      "metadata": {
        "id": "xuLJW7uh5n9Y"
      }
    },
    {
      "cell_type": "code",
      "source": [
        "df = pd.read_csv(\"/content/50_Startups.csv\")\n",
        "X = df.iloc[:,:-1].values\n",
        "y = df.iloc[:,-1].values"
      ],
      "metadata": {
        "id": "FD0TEQH-5p-L"
      },
      "execution_count": 5,
      "outputs": []
    },
    {
      "cell_type": "code",
      "source": [
        "print(X)"
      ],
      "metadata": {
        "colab": {
          "base_uri": "https://localhost:8080/"
        },
        "id": "VzF4PBim6cG7",
        "outputId": "869a45e0-6cf9-422c-a695-e0fd25ca06f6"
      },
      "execution_count": 13,
      "outputs": [
        {
          "output_type": "stream",
          "name": "stdout",
          "text": [
            "[[0.0 0.0 1.0 165349.2 136897.8 471784.1]\n",
            " [1.0 0.0 0.0 162597.7 151377.59 443898.53]\n",
            " [0.0 1.0 0.0 153441.51 101145.55 407934.54]\n",
            " [0.0 0.0 1.0 144372.41 118671.85 383199.62]\n",
            " [0.0 1.0 0.0 142107.34 91391.77 366168.42]\n",
            " [0.0 0.0 1.0 131876.9 99814.71 362861.36]\n",
            " [1.0 0.0 0.0 134615.46 147198.87 127716.82]\n",
            " [0.0 1.0 0.0 130298.13 145530.06 323876.68]\n",
            " [0.0 0.0 1.0 120542.52 148718.95 311613.29]\n",
            " [1.0 0.0 0.0 123334.88 108679.17 304981.62]\n",
            " [0.0 1.0 0.0 101913.08 110594.11 229160.95]\n",
            " [1.0 0.0 0.0 100671.96 91790.61 249744.55]\n",
            " [0.0 1.0 0.0 93863.75 127320.38 249839.44]\n",
            " [1.0 0.0 0.0 91992.39 135495.07 252664.93]\n",
            " [0.0 1.0 0.0 119943.24 156547.42 256512.92]\n",
            " [0.0 0.0 1.0 114523.61 122616.84 261776.23]\n",
            " [1.0 0.0 0.0 78013.11 121597.55 264346.06]\n",
            " [0.0 0.0 1.0 94657.16 145077.58 282574.31]\n",
            " [0.0 1.0 0.0 91749.16 114175.79 294919.57]\n",
            " [0.0 0.0 1.0 86419.7 153514.11 0.0]\n",
            " [1.0 0.0 0.0 76253.86 113867.3 298664.47]\n",
            " [0.0 0.0 1.0 78389.47 153773.43 299737.29]\n",
            " [0.0 1.0 0.0 73994.56 122782.75 303319.26]\n",
            " [0.0 1.0 0.0 67532.53 105751.03 304768.73]\n",
            " [0.0 0.0 1.0 77044.01 99281.34 140574.81]\n",
            " [1.0 0.0 0.0 64664.71 139553.16 137962.62]\n",
            " [0.0 1.0 0.0 75328.87 144135.98 134050.07]\n",
            " [0.0 0.0 1.0 72107.6 127864.55 353183.81]\n",
            " [0.0 1.0 0.0 66051.52 182645.56 118148.2]\n",
            " [0.0 0.0 1.0 65605.48 153032.06 107138.38]\n",
            " [0.0 1.0 0.0 61994.48 115641.28 91131.24]\n",
            " [0.0 0.0 1.0 61136.38 152701.92 88218.23]\n",
            " [1.0 0.0 0.0 63408.86 129219.61 46085.25]\n",
            " [0.0 1.0 0.0 55493.95 103057.49 214634.81]\n",
            " [1.0 0.0 0.0 46426.07 157693.92 210797.67]\n",
            " [0.0 0.0 1.0 46014.02 85047.44 205517.64]\n",
            " [0.0 1.0 0.0 28663.76 127056.21 201126.82]\n",
            " [1.0 0.0 0.0 44069.95 51283.14 197029.42]\n",
            " [0.0 0.0 1.0 20229.59 65947.93 185265.1]\n",
            " [1.0 0.0 0.0 38558.51 82982.09 174999.3]\n",
            " [1.0 0.0 0.0 28754.33 118546.05 172795.67]\n",
            " [0.0 1.0 0.0 27892.92 84710.77 164470.71]\n",
            " [1.0 0.0 0.0 23640.93 96189.63 148001.11]\n",
            " [0.0 0.0 1.0 15505.73 127382.3 35534.17]\n",
            " [1.0 0.0 0.0 22177.74 154806.14 28334.72]\n",
            " [0.0 0.0 1.0 1000.23 124153.04 1903.93]\n",
            " [0.0 1.0 0.0 1315.46 115816.21 297114.46]\n",
            " [1.0 0.0 0.0 0.0 135426.92 0.0]\n",
            " [0.0 0.0 1.0 542.05 51743.15 0.0]\n",
            " [1.0 0.0 0.0 0.0 116983.8 45173.06]]\n"
          ]
        }
      ]
    },
    {
      "cell_type": "code",
      "source": [
        "print(y)"
      ],
      "metadata": {
        "colab": {
          "base_uri": "https://localhost:8080/"
        },
        "id": "n6YLsQV26gKq",
        "outputId": "b3186d06-98cb-41e9-ecc9-b04758d5818b"
      },
      "execution_count": 7,
      "outputs": [
        {
          "output_type": "stream",
          "name": "stdout",
          "text": [
            "[192261.83 191792.06 191050.39 182901.99 166187.94 156991.12 156122.51\n",
            " 155752.6  152211.77 149759.96 146121.95 144259.4  141585.52 134307.35\n",
            " 132602.65 129917.04 126992.93 125370.37 124266.9  122776.86 118474.03\n",
            " 111313.02 110352.25 108733.99 108552.04 107404.34 105733.54 105008.31\n",
            " 103282.38 101004.64  99937.59  97483.56  97427.84  96778.92  96712.8\n",
            "  96479.51  90708.19  89949.14  81229.06  81005.76  78239.91  77798.83\n",
            "  71498.49  69758.98  65200.33  64926.08  49490.75  42559.73  35673.41\n",
            "  14681.4 ]\n"
          ]
        }
      ]
    },
    {
      "cell_type": "markdown",
      "source": [
        "# Encoding Categorical Data"
      ],
      "metadata": {
        "id": "nDMIqzXo60C1"
      }
    },
    {
      "cell_type": "code",
      "source": [
        "from sklearn.compose import ColumnTransformer\n",
        "from sklearn.preprocessing import OneHotEncoder\n",
        "ct = ColumnTransformer(transformers = [('encoder', OneHotEncoder(), [3])], remainder='passthrough')\n",
        "X=np.array(ct.fit_transform(X))"
      ],
      "metadata": {
        "id": "Ce4QTUAS62_F"
      },
      "execution_count": 10,
      "outputs": []
    },
    {
      "cell_type": "markdown",
      "source": [
        "# Splitting the dataset into Training set and Testing set"
      ],
      "metadata": {
        "id": "7xKvbfug837r"
      }
    },
    {
      "cell_type": "code",
      "source": [
        "from sklearn.model_selection import train_test_split\n",
        "X_train, X_test, y_train, y_test = train_test_split(X,y,test_size=0.2, random_state=0)"
      ],
      "metadata": {
        "id": "GKW05NwY8AT1"
      },
      "execution_count": 11,
      "outputs": []
    },
    {
      "cell_type": "markdown",
      "source": [
        "# Training the Multiple Linear Regression model on the Training set"
      ],
      "metadata": {
        "id": "BciJmxa19d6C"
      }
    },
    {
      "cell_type": "code",
      "source": [
        "from sklearn.linear_model import LinearRegression\n",
        "regressor = LinearRegression()\n",
        "regressor.fit(X_train, y_train)"
      ],
      "metadata": {
        "colab": {
          "base_uri": "https://localhost:8080/",
          "height": 74
        },
        "id": "-5ofH9ck90Ez",
        "outputId": "eec033ac-1bdc-4e01-9af0-1db0ab0aade0"
      },
      "execution_count": 14,
      "outputs": [
        {
          "output_type": "execute_result",
          "data": {
            "text/plain": [
              "LinearRegression()"
            ],
            "text/html": [
              "<style>#sk-container-id-1 {color: black;background-color: white;}#sk-container-id-1 pre{padding: 0;}#sk-container-id-1 div.sk-toggleable {background-color: white;}#sk-container-id-1 label.sk-toggleable__label {cursor: pointer;display: block;width: 100%;margin-bottom: 0;padding: 0.3em;box-sizing: border-box;text-align: center;}#sk-container-id-1 label.sk-toggleable__label-arrow:before {content: \"▸\";float: left;margin-right: 0.25em;color: #696969;}#sk-container-id-1 label.sk-toggleable__label-arrow:hover:before {color: black;}#sk-container-id-1 div.sk-estimator:hover label.sk-toggleable__label-arrow:before {color: black;}#sk-container-id-1 div.sk-toggleable__content {max-height: 0;max-width: 0;overflow: hidden;text-align: left;background-color: #f0f8ff;}#sk-container-id-1 div.sk-toggleable__content pre {margin: 0.2em;color: black;border-radius: 0.25em;background-color: #f0f8ff;}#sk-container-id-1 input.sk-toggleable__control:checked~div.sk-toggleable__content {max-height: 200px;max-width: 100%;overflow: auto;}#sk-container-id-1 input.sk-toggleable__control:checked~label.sk-toggleable__label-arrow:before {content: \"▾\";}#sk-container-id-1 div.sk-estimator input.sk-toggleable__control:checked~label.sk-toggleable__label {background-color: #d4ebff;}#sk-container-id-1 div.sk-label input.sk-toggleable__control:checked~label.sk-toggleable__label {background-color: #d4ebff;}#sk-container-id-1 input.sk-hidden--visually {border: 0;clip: rect(1px 1px 1px 1px);clip: rect(1px, 1px, 1px, 1px);height: 1px;margin: -1px;overflow: hidden;padding: 0;position: absolute;width: 1px;}#sk-container-id-1 div.sk-estimator {font-family: monospace;background-color: #f0f8ff;border: 1px dotted black;border-radius: 0.25em;box-sizing: border-box;margin-bottom: 0.5em;}#sk-container-id-1 div.sk-estimator:hover {background-color: #d4ebff;}#sk-container-id-1 div.sk-parallel-item::after {content: \"\";width: 100%;border-bottom: 1px solid gray;flex-grow: 1;}#sk-container-id-1 div.sk-label:hover label.sk-toggleable__label {background-color: #d4ebff;}#sk-container-id-1 div.sk-serial::before {content: \"\";position: absolute;border-left: 1px solid gray;box-sizing: border-box;top: 0;bottom: 0;left: 50%;z-index: 0;}#sk-container-id-1 div.sk-serial {display: flex;flex-direction: column;align-items: center;background-color: white;padding-right: 0.2em;padding-left: 0.2em;position: relative;}#sk-container-id-1 div.sk-item {position: relative;z-index: 1;}#sk-container-id-1 div.sk-parallel {display: flex;align-items: stretch;justify-content: center;background-color: white;position: relative;}#sk-container-id-1 div.sk-item::before, #sk-container-id-1 div.sk-parallel-item::before {content: \"\";position: absolute;border-left: 1px solid gray;box-sizing: border-box;top: 0;bottom: 0;left: 50%;z-index: -1;}#sk-container-id-1 div.sk-parallel-item {display: flex;flex-direction: column;z-index: 1;position: relative;background-color: white;}#sk-container-id-1 div.sk-parallel-item:first-child::after {align-self: flex-end;width: 50%;}#sk-container-id-1 div.sk-parallel-item:last-child::after {align-self: flex-start;width: 50%;}#sk-container-id-1 div.sk-parallel-item:only-child::after {width: 0;}#sk-container-id-1 div.sk-dashed-wrapped {border: 1px dashed gray;margin: 0 0.4em 0.5em 0.4em;box-sizing: border-box;padding-bottom: 0.4em;background-color: white;}#sk-container-id-1 div.sk-label label {font-family: monospace;font-weight: bold;display: inline-block;line-height: 1.2em;}#sk-container-id-1 div.sk-label-container {text-align: center;}#sk-container-id-1 div.sk-container {/* jupyter's `normalize.less` sets `[hidden] { display: none; }` but bootstrap.min.css set `[hidden] { display: none !important; }` so we also need the `!important` here to be able to override the default hidden behavior on the sphinx rendered scikit-learn.org. See: https://github.com/scikit-learn/scikit-learn/issues/21755 */display: inline-block !important;position: relative;}#sk-container-id-1 div.sk-text-repr-fallback {display: none;}</style><div id=\"sk-container-id-1\" class=\"sk-top-container\"><div class=\"sk-text-repr-fallback\"><pre>LinearRegression()</pre><b>In a Jupyter environment, please rerun this cell to show the HTML representation or trust the notebook. <br />On GitHub, the HTML representation is unable to render, please try loading this page with nbviewer.org.</b></div><div class=\"sk-container\" hidden><div class=\"sk-item\"><div class=\"sk-estimator sk-toggleable\"><input class=\"sk-toggleable__control sk-hidden--visually\" id=\"sk-estimator-id-1\" type=\"checkbox\" checked><label for=\"sk-estimator-id-1\" class=\"sk-toggleable__label sk-toggleable__label-arrow\">LinearRegression</label><div class=\"sk-toggleable__content\"><pre>LinearRegression()</pre></div></div></div></div></div>"
            ]
          },
          "metadata": {},
          "execution_count": 14
        }
      ]
    },
    {
      "cell_type": "markdown",
      "source": [
        "# Predicting the Test set results"
      ],
      "metadata": {
        "id": "Eq6taf_t-zTM"
      }
    },
    {
      "cell_type": "code",
      "source": [
        "y_pred = regressor.predict(X_test)\n",
        "np.set_printoptions(precision=2)\n",
        "print(np.concatenate((y_pred.reshape(len(y_pred),1), y_test.reshape(len(y_test),1)), 1))"
      ],
      "metadata": {
        "colab": {
          "base_uri": "https://localhost:8080/"
        },
        "id": "HwaJ6cGq-6fp",
        "outputId": "ff8295da-5507-4c57-df27-6df85ed79159"
      },
      "execution_count": 23,
      "outputs": [
        {
          "output_type": "stream",
          "name": "stdout",
          "text": [
            "[[103015.2  103282.38]\n",
            " [132582.28 144259.4 ]\n",
            " [132447.74 146121.95]\n",
            " [ 71976.1   77798.83]\n",
            " [178537.48 191050.39]\n",
            " [116161.24 105008.31]\n",
            " [ 67851.69  81229.06]\n",
            " [ 98791.73  97483.56]\n",
            " [113969.44 110352.25]\n",
            " [167921.07 166187.94]]\n"
          ]
        }
      ]
    },
    {
      "cell_type": "markdown",
      "source": [
        "# Making a single prediction (for example the profit of a startup with R&D Spend = 160000, Administration Spend = 130000, Marketing Spend = 300000 and State = 'California')"
      ],
      "metadata": {
        "id": "gx2LlCYHA-Aq"
      }
    },
    {
      "cell_type": "code",
      "source": [
        "print(regressor.predict([[1, 0, 0, 160000, 130000, 300000]]))"
      ],
      "metadata": {
        "colab": {
          "base_uri": "https://localhost:8080/"
        },
        "id": "3Ns4POPTA_UX",
        "outputId": "68b9c452-0dad-4b69-809f-3537543b167a"
      },
      "execution_count": 24,
      "outputs": [
        {
          "output_type": "stream",
          "name": "stdout",
          "text": [
            "[181566.92]\n"
          ]
        }
      ]
    },
    {
      "cell_type": "markdown",
      "source": [
        "Therefore, our model predicts that the profit of a Californian startup which spent 160000 in R&D, 130000 in Administration and 300000 in Marketing is $ 181566,92.\n",
        "\n",
        "Important note 1: Notice that the values of the features were all input in a double pair of square brackets. That's because the \"predict\" method always expects a 2D array as the format of its inputs. And putting our values into a double pair of square brackets makes the input exactly a 2D array. Simply put:\n",
        "\n",
        "1,0,0,160000,130000,300000→scalars\n",
        "\n",
        "[1,0,0,160000,130000,300000]→1D array\n",
        "\n",
        "[[1,0,0,160000,130000,300000]]→2D array\n",
        "\n",
        "Important note 2: Notice also that the \"California\" state was not input as a string in the last column but as \"1, 0, 0\" in the first three columns. That's because of course the predict method expects the one-hot-encoded values of the state, and as we see in the second row of the matrix of features X, \"California\" was encoded as \"1, 0, 0\". And be careful to include these values in the first three columns, not the last three ones, because the dummy variables are always created in the first columns.\n",
        "\n"
      ],
      "metadata": {
        "id": "x8yTsMy4BERA"
      }
    },
    {
      "cell_type": "markdown",
      "source": [
        "# Getting the final linear regression equation with the values of the coefficients"
      ],
      "metadata": {
        "id": "pR1ligLEBJNL"
      }
    },
    {
      "cell_type": "code",
      "source": [
        "print(regressor.coef_)\n",
        "print(regressor.intercept_)"
      ],
      "metadata": {
        "colab": {
          "base_uri": "https://localhost:8080/"
        },
        "id": "Tb2kcMtBBFjj",
        "outputId": "95f976b4-a323-4522-f867-816d320c6f53"
      },
      "execution_count": 25,
      "outputs": [
        {
          "output_type": "stream",
          "name": "stdout",
          "text": [
            "[ 8.66e+01 -8.73e+02  7.86e+02  7.73e-01  3.29e-02  3.66e-02]\n",
            "42467.52924853278\n"
          ]
        }
      ]
    },
    {
      "cell_type": "markdown",
      "source": [
        "Therefore, the equation of our multiple linear regression model is:\n",
        "\n",
        "Profit=86.6×Dummy State 1−873×Dummy State 2+786×Dummy State 3+0.773×R&D Spend+0.0329×Administration+0.0366×Marketing Spend+42467.53\n",
        "\n",
        "Important Note: To get these coefficients we called the \"coef_\" and \"intercept_\" attributes from our regressor object. Attributes in Python are different than methods and usually return a simple value or an array of values."
      ],
      "metadata": {
        "id": "WebMgE5yBRGF"
      }
    }
  ]
}