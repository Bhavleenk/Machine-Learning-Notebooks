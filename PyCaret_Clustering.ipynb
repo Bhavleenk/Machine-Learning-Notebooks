{
  "nbformat": 4,
  "nbformat_minor": 0,
  "metadata": {
    "colab": {
      "provenance": [],
      "include_colab_link": true
    },
    "kernelspec": {
      "display_name": "Python 3",
      "language": "python",
      "name": "python3"
    },
    "language_info": {
      "codemirror_mode": {
        "name": "ipython",
        "version": 3
      },
      "file_extension": ".py",
      "mimetype": "text/x-python",
      "name": "python",
      "nbconvert_exporter": "python",
      "pygments_lexer": "ipython3",
      "version": "3.8.5"
    },
    "widgets": {
      "application/vnd.jupyter.widget-state+json": {
        "3da13b409180446c9e6d14c89fc5c7fb": {
          "model_module": "@jupyter-widgets/controls",
          "model_name": "HBoxModel",
          "model_module_version": "1.5.0",
          "state": {
            "_dom_classes": [],
            "_model_module": "@jupyter-widgets/controls",
            "_model_module_version": "1.5.0",
            "_model_name": "HBoxModel",
            "_view_count": null,
            "_view_module": "@jupyter-widgets/controls",
            "_view_module_version": "1.5.0",
            "_view_name": "HBoxView",
            "box_style": "",
            "children": [
              "IPY_MODEL_56d79dcacc0149c782b1f88d51f7b38d",
              "IPY_MODEL_c78c9026e101445da4b2dcae12a96a30",
              "IPY_MODEL_4894c47134a249b3a48ec307cb94b8fa"
            ],
            "layout": "IPY_MODEL_360082509be842e79426265cea258990"
          }
        },
        "56d79dcacc0149c782b1f88d51f7b38d": {
          "model_module": "@jupyter-widgets/controls",
          "model_name": "HTMLModel",
          "model_module_version": "1.5.0",
          "state": {
            "_dom_classes": [],
            "_model_module": "@jupyter-widgets/controls",
            "_model_module_version": "1.5.0",
            "_model_name": "HTMLModel",
            "_view_count": null,
            "_view_module": "@jupyter-widgets/controls",
            "_view_module_version": "1.5.0",
            "_view_name": "HTMLView",
            "description": "",
            "description_tooltip": null,
            "layout": "IPY_MODEL_e6212fb91bf14e86b40607e17517c935",
            "placeholder": "​",
            "style": "IPY_MODEL_6e246863d1f2449297d3924ce0aacf60",
            "value": "Processing:   0%"
          }
        },
        "c78c9026e101445da4b2dcae12a96a30": {
          "model_module": "@jupyter-widgets/controls",
          "model_name": "FloatProgressModel",
          "model_module_version": "1.5.0",
          "state": {
            "_dom_classes": [],
            "_model_module": "@jupyter-widgets/controls",
            "_model_module_version": "1.5.0",
            "_model_name": "FloatProgressModel",
            "_view_count": null,
            "_view_module": "@jupyter-widgets/controls",
            "_view_module_version": "1.5.0",
            "_view_name": "ProgressView",
            "bar_style": "",
            "description": "",
            "description_tooltip": null,
            "layout": "IPY_MODEL_d0cd29c3eff54f8b963c6d691b83a04e",
            "max": 3,
            "min": 0,
            "orientation": "horizontal",
            "style": "IPY_MODEL_4037c20bb2e343869e8a0a1359104ccf",
            "value": 3
          }
        },
        "4894c47134a249b3a48ec307cb94b8fa": {
          "model_module": "@jupyter-widgets/controls",
          "model_name": "HTMLModel",
          "model_module_version": "1.5.0",
          "state": {
            "_dom_classes": [],
            "_model_module": "@jupyter-widgets/controls",
            "_model_module_version": "1.5.0",
            "_model_name": "HTMLModel",
            "_view_count": null,
            "_view_module": "@jupyter-widgets/controls",
            "_view_module_version": "1.5.0",
            "_view_name": "HTMLView",
            "description": "",
            "description_tooltip": null,
            "layout": "IPY_MODEL_47e7cd91ab754382baadaab7e0875d3c",
            "placeholder": "​",
            "style": "IPY_MODEL_b1822eba78774cf3afafb94cb80c0650",
            "value": " 0/3 [00:00&lt;?, ?it/s]"
          }
        },
        "360082509be842e79426265cea258990": {
          "model_module": "@jupyter-widgets/base",
          "model_name": "LayoutModel",
          "model_module_version": "1.2.0",
          "state": {
            "_model_module": "@jupyter-widgets/base",
            "_model_module_version": "1.2.0",
            "_model_name": "LayoutModel",
            "_view_count": null,
            "_view_module": "@jupyter-widgets/base",
            "_view_module_version": "1.2.0",
            "_view_name": "LayoutView",
            "align_content": null,
            "align_items": null,
            "align_self": null,
            "border": null,
            "bottom": null,
            "display": null,
            "flex": null,
            "flex_flow": null,
            "grid_area": null,
            "grid_auto_columns": null,
            "grid_auto_flow": null,
            "grid_auto_rows": null,
            "grid_column": null,
            "grid_gap": null,
            "grid_row": null,
            "grid_template_areas": null,
            "grid_template_columns": null,
            "grid_template_rows": null,
            "height": null,
            "justify_content": null,
            "justify_items": null,
            "left": null,
            "margin": null,
            "max_height": null,
            "max_width": null,
            "min_height": null,
            "min_width": null,
            "object_fit": null,
            "object_position": null,
            "order": null,
            "overflow": null,
            "overflow_x": null,
            "overflow_y": null,
            "padding": null,
            "right": null,
            "top": null,
            "visibility": "hidden",
            "width": null
          }
        },
        "e6212fb91bf14e86b40607e17517c935": {
          "model_module": "@jupyter-widgets/base",
          "model_name": "LayoutModel",
          "model_module_version": "1.2.0",
          "state": {
            "_model_module": "@jupyter-widgets/base",
            "_model_module_version": "1.2.0",
            "_model_name": "LayoutModel",
            "_view_count": null,
            "_view_module": "@jupyter-widgets/base",
            "_view_module_version": "1.2.0",
            "_view_name": "LayoutView",
            "align_content": null,
            "align_items": null,
            "align_self": null,
            "border": null,
            "bottom": null,
            "display": null,
            "flex": null,
            "flex_flow": null,
            "grid_area": null,
            "grid_auto_columns": null,
            "grid_auto_flow": null,
            "grid_auto_rows": null,
            "grid_column": null,
            "grid_gap": null,
            "grid_row": null,
            "grid_template_areas": null,
            "grid_template_columns": null,
            "grid_template_rows": null,
            "height": null,
            "justify_content": null,
            "justify_items": null,
            "left": null,
            "margin": null,
            "max_height": null,
            "max_width": null,
            "min_height": null,
            "min_width": null,
            "object_fit": null,
            "object_position": null,
            "order": null,
            "overflow": null,
            "overflow_x": null,
            "overflow_y": null,
            "padding": null,
            "right": null,
            "top": null,
            "visibility": null,
            "width": null
          }
        },
        "6e246863d1f2449297d3924ce0aacf60": {
          "model_module": "@jupyter-widgets/controls",
          "model_name": "DescriptionStyleModel",
          "model_module_version": "1.5.0",
          "state": {
            "_model_module": "@jupyter-widgets/controls",
            "_model_module_version": "1.5.0",
            "_model_name": "DescriptionStyleModel",
            "_view_count": null,
            "_view_module": "@jupyter-widgets/base",
            "_view_module_version": "1.2.0",
            "_view_name": "StyleView",
            "description_width": ""
          }
        },
        "d0cd29c3eff54f8b963c6d691b83a04e": {
          "model_module": "@jupyter-widgets/base",
          "model_name": "LayoutModel",
          "model_module_version": "1.2.0",
          "state": {
            "_model_module": "@jupyter-widgets/base",
            "_model_module_version": "1.2.0",
            "_model_name": "LayoutModel",
            "_view_count": null,
            "_view_module": "@jupyter-widgets/base",
            "_view_module_version": "1.2.0",
            "_view_name": "LayoutView",
            "align_content": null,
            "align_items": null,
            "align_self": null,
            "border": null,
            "bottom": null,
            "display": null,
            "flex": null,
            "flex_flow": null,
            "grid_area": null,
            "grid_auto_columns": null,
            "grid_auto_flow": null,
            "grid_auto_rows": null,
            "grid_column": null,
            "grid_gap": null,
            "grid_row": null,
            "grid_template_areas": null,
            "grid_template_columns": null,
            "grid_template_rows": null,
            "height": null,
            "justify_content": null,
            "justify_items": null,
            "left": null,
            "margin": null,
            "max_height": null,
            "max_width": null,
            "min_height": null,
            "min_width": null,
            "object_fit": null,
            "object_position": null,
            "order": null,
            "overflow": null,
            "overflow_x": null,
            "overflow_y": null,
            "padding": null,
            "right": null,
            "top": null,
            "visibility": null,
            "width": null
          }
        },
        "4037c20bb2e343869e8a0a1359104ccf": {
          "model_module": "@jupyter-widgets/controls",
          "model_name": "ProgressStyleModel",
          "model_module_version": "1.5.0",
          "state": {
            "_model_module": "@jupyter-widgets/controls",
            "_model_module_version": "1.5.0",
            "_model_name": "ProgressStyleModel",
            "_view_count": null,
            "_view_module": "@jupyter-widgets/base",
            "_view_module_version": "1.2.0",
            "_view_name": "StyleView",
            "bar_color": null,
            "description_width": ""
          }
        },
        "47e7cd91ab754382baadaab7e0875d3c": {
          "model_module": "@jupyter-widgets/base",
          "model_name": "LayoutModel",
          "model_module_version": "1.2.0",
          "state": {
            "_model_module": "@jupyter-widgets/base",
            "_model_module_version": "1.2.0",
            "_model_name": "LayoutModel",
            "_view_count": null,
            "_view_module": "@jupyter-widgets/base",
            "_view_module_version": "1.2.0",
            "_view_name": "LayoutView",
            "align_content": null,
            "align_items": null,
            "align_self": null,
            "border": null,
            "bottom": null,
            "display": null,
            "flex": null,
            "flex_flow": null,
            "grid_area": null,
            "grid_auto_columns": null,
            "grid_auto_flow": null,
            "grid_auto_rows": null,
            "grid_column": null,
            "grid_gap": null,
            "grid_row": null,
            "grid_template_areas": null,
            "grid_template_columns": null,
            "grid_template_rows": null,
            "height": null,
            "justify_content": null,
            "justify_items": null,
            "left": null,
            "margin": null,
            "max_height": null,
            "max_width": null,
            "min_height": null,
            "min_width": null,
            "object_fit": null,
            "object_position": null,
            "order": null,
            "overflow": null,
            "overflow_x": null,
            "overflow_y": null,
            "padding": null,
            "right": null,
            "top": null,
            "visibility": null,
            "width": null
          }
        },
        "b1822eba78774cf3afafb94cb80c0650": {
          "model_module": "@jupyter-widgets/controls",
          "model_name": "DescriptionStyleModel",
          "model_module_version": "1.5.0",
          "state": {
            "_model_module": "@jupyter-widgets/controls",
            "_model_module_version": "1.5.0",
            "_model_name": "DescriptionStyleModel",
            "_view_count": null,
            "_view_module": "@jupyter-widgets/base",
            "_view_module_version": "1.2.0",
            "_view_name": "StyleView",
            "description_width": ""
          }
        },
        "e81bea958ecf4a4aa39e357c4ed124b1": {
          "model_module": "@jupyter-widgets/controls",
          "model_name": "VBoxModel",
          "model_module_version": "1.5.0",
          "state": {
            "_dom_classes": [
              "widget-interact"
            ],
            "_model_module": "@jupyter-widgets/controls",
            "_model_module_version": "1.5.0",
            "_model_name": "VBoxModel",
            "_view_count": null,
            "_view_module": "@jupyter-widgets/controls",
            "_view_module_version": "1.5.0",
            "_view_name": "VBoxView",
            "box_style": "",
            "children": [
              "IPY_MODEL_1b024f023b834b69a55cdb27c39bc843",
              "IPY_MODEL_a295f24c9a164c51a8a863393c288c4f"
            ],
            "layout": "IPY_MODEL_ec7691318a194e04900fb9b8c09ee061"
          }
        },
        "1b024f023b834b69a55cdb27c39bc843": {
          "model_module": "@jupyter-widgets/controls",
          "model_name": "ToggleButtonsModel",
          "model_module_version": "1.5.0",
          "state": {
            "_dom_classes": [],
            "_model_module": "@jupyter-widgets/controls",
            "_model_module_version": "1.5.0",
            "_model_name": "ToggleButtonsModel",
            "_options_labels": [
              "Pipeline Plot",
              "t-SNE (3d) Dimension Plot",
              "Cluster t-SNE (3d)",
              "Elbow Plot",
              "Silhouette Plot",
              "Distance Plot",
              "Distribution Plot"
            ],
            "_view_count": null,
            "_view_module": "@jupyter-widgets/controls",
            "_view_module_version": "1.5.0",
            "_view_name": "ToggleButtonsView",
            "button_style": "",
            "description": "Plot Type:",
            "description_tooltip": null,
            "disabled": false,
            "icons": [
              ""
            ],
            "index": 0,
            "layout": "IPY_MODEL_7d096d5ca2694a0db26001385dce2fd7",
            "style": "IPY_MODEL_48fd1ccc494449c490e333d474e42fa9",
            "tooltips": []
          }
        },
        "a295f24c9a164c51a8a863393c288c4f": {
          "model_module": "@jupyter-widgets/output",
          "model_name": "OutputModel",
          "model_module_version": "1.0.0",
          "state": {
            "_dom_classes": [],
            "_model_module": "@jupyter-widgets/output",
            "_model_module_version": "1.0.0",
            "_model_name": "OutputModel",
            "_view_count": null,
            "_view_module": "@jupyter-widgets/output",
            "_view_module_version": "1.0.0",
            "_view_name": "OutputView",
            "layout": "IPY_MODEL_2de82cfbcbba44f09b9234f6ea9334d4",
            "msg_id": "",
            "outputs": [
              {
                "output_type": "display_data",
                "data": {
                  "text/plain": "<Figure size 1200x600 with 1 Axes>",
                  "image/png": "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\n"
                },
                "metadata": {}
              }
            ]
          }
        },
        "ec7691318a194e04900fb9b8c09ee061": {
          "model_module": "@jupyter-widgets/base",
          "model_name": "LayoutModel",
          "model_module_version": "1.2.0",
          "state": {
            "_model_module": "@jupyter-widgets/base",
            "_model_module_version": "1.2.0",
            "_model_name": "LayoutModel",
            "_view_count": null,
            "_view_module": "@jupyter-widgets/base",
            "_view_module_version": "1.2.0",
            "_view_name": "LayoutView",
            "align_content": null,
            "align_items": null,
            "align_self": null,
            "border": null,
            "bottom": null,
            "display": null,
            "flex": null,
            "flex_flow": null,
            "grid_area": null,
            "grid_auto_columns": null,
            "grid_auto_flow": null,
            "grid_auto_rows": null,
            "grid_column": null,
            "grid_gap": null,
            "grid_row": null,
            "grid_template_areas": null,
            "grid_template_columns": null,
            "grid_template_rows": null,
            "height": null,
            "justify_content": null,
            "justify_items": null,
            "left": null,
            "margin": null,
            "max_height": null,
            "max_width": null,
            "min_height": null,
            "min_width": null,
            "object_fit": null,
            "object_position": null,
            "order": null,
            "overflow": null,
            "overflow_x": null,
            "overflow_y": null,
            "padding": null,
            "right": null,
            "top": null,
            "visibility": null,
            "width": null
          }
        },
        "7d096d5ca2694a0db26001385dce2fd7": {
          "model_module": "@jupyter-widgets/base",
          "model_name": "LayoutModel",
          "model_module_version": "1.2.0",
          "state": {
            "_model_module": "@jupyter-widgets/base",
            "_model_module_version": "1.2.0",
            "_model_name": "LayoutModel",
            "_view_count": null,
            "_view_module": "@jupyter-widgets/base",
            "_view_module_version": "1.2.0",
            "_view_name": "LayoutView",
            "align_content": null,
            "align_items": null,
            "align_self": null,
            "border": null,
            "bottom": null,
            "display": null,
            "flex": null,
            "flex_flow": null,
            "grid_area": null,
            "grid_auto_columns": null,
            "grid_auto_flow": null,
            "grid_auto_rows": null,
            "grid_column": null,
            "grid_gap": null,
            "grid_row": null,
            "grid_template_areas": null,
            "grid_template_columns": null,
            "grid_template_rows": null,
            "height": null,
            "justify_content": null,
            "justify_items": null,
            "left": null,
            "margin": null,
            "max_height": null,
            "max_width": null,
            "min_height": null,
            "min_width": null,
            "object_fit": null,
            "object_position": null,
            "order": null,
            "overflow": null,
            "overflow_x": null,
            "overflow_y": null,
            "padding": null,
            "right": null,
            "top": null,
            "visibility": null,
            "width": null
          }
        },
        "48fd1ccc494449c490e333d474e42fa9": {
          "model_module": "@jupyter-widgets/controls",
          "model_name": "ToggleButtonsStyleModel",
          "model_module_version": "1.5.0",
          "state": {
            "_model_module": "@jupyter-widgets/controls",
            "_model_module_version": "1.5.0",
            "_model_name": "ToggleButtonsStyleModel",
            "_view_count": null,
            "_view_module": "@jupyter-widgets/base",
            "_view_module_version": "1.2.0",
            "_view_name": "StyleView",
            "button_width": "",
            "description_width": "",
            "font_weight": ""
          }
        },
        "2de82cfbcbba44f09b9234f6ea9334d4": {
          "model_module": "@jupyter-widgets/base",
          "model_name": "LayoutModel",
          "model_module_version": "1.2.0",
          "state": {
            "_model_module": "@jupyter-widgets/base",
            "_model_module_version": "1.2.0",
            "_model_name": "LayoutModel",
            "_view_count": null,
            "_view_module": "@jupyter-widgets/base",
            "_view_module_version": "1.2.0",
            "_view_name": "LayoutView",
            "align_content": null,
            "align_items": null,
            "align_self": null,
            "border": null,
            "bottom": null,
            "display": null,
            "flex": null,
            "flex_flow": null,
            "grid_area": null,
            "grid_auto_columns": null,
            "grid_auto_flow": null,
            "grid_auto_rows": null,
            "grid_column": null,
            "grid_gap": null,
            "grid_row": null,
            "grid_template_areas": null,
            "grid_template_columns": null,
            "grid_template_rows": null,
            "height": null,
            "justify_content": null,
            "justify_items": null,
            "left": null,
            "margin": null,
            "max_height": null,
            "max_width": null,
            "min_height": null,
            "min_width": null,
            "object_fit": null,
            "object_position": null,
            "order": null,
            "overflow": null,
            "overflow_x": null,
            "overflow_y": null,
            "padding": null,
            "right": null,
            "top": null,
            "visibility": null,
            "width": null
          }
        },
        "9b2af193cce34aebb03d96ac658a9913": {
          "model_module": "@jupyter-widgets/controls",
          "model_name": "HBoxModel",
          "model_module_version": "1.5.0",
          "state": {
            "_dom_classes": [],
            "_model_module": "@jupyter-widgets/controls",
            "_model_module_version": "1.5.0",
            "_model_name": "HBoxModel",
            "_view_count": null,
            "_view_module": "@jupyter-widgets/controls",
            "_view_module_version": "1.5.0",
            "_view_name": "HBoxView",
            "box_style": "",
            "children": [
              "IPY_MODEL_5d8d6d6ba5a54e7eaed20bb6b569d1e1",
              "IPY_MODEL_6cc202dec47b47e086bd61ef100ee2a9",
              "IPY_MODEL_32164e445237412faaad9cad6875f3fb"
            ],
            "layout": "IPY_MODEL_caa5ae1896014f39977eb7c9ccfbef40"
          }
        },
        "5d8d6d6ba5a54e7eaed20bb6b569d1e1": {
          "model_module": "@jupyter-widgets/controls",
          "model_name": "HTMLModel",
          "model_module_version": "1.5.0",
          "state": {
            "_dom_classes": [],
            "_model_module": "@jupyter-widgets/controls",
            "_model_module_version": "1.5.0",
            "_model_name": "HTMLModel",
            "_view_count": null,
            "_view_module": "@jupyter-widgets/controls",
            "_view_module_version": "1.5.0",
            "_view_name": "HTMLView",
            "description": "",
            "description_tooltip": null,
            "layout": "IPY_MODEL_67ad328cc4a641fab2922824340610d9",
            "placeholder": "​",
            "style": "IPY_MODEL_7216fe691f48484589416d7690925689",
            "value": "Processing:   0%"
          }
        },
        "6cc202dec47b47e086bd61ef100ee2a9": {
          "model_module": "@jupyter-widgets/controls",
          "model_name": "FloatProgressModel",
          "model_module_version": "1.5.0",
          "state": {
            "_dom_classes": [],
            "_model_module": "@jupyter-widgets/controls",
            "_model_module_version": "1.5.0",
            "_model_name": "FloatProgressModel",
            "_view_count": null,
            "_view_module": "@jupyter-widgets/controls",
            "_view_module_version": "1.5.0",
            "_view_name": "ProgressView",
            "bar_style": "",
            "description": "",
            "description_tooltip": null,
            "layout": "IPY_MODEL_36ca0c510edb4b1597bf494743c53cf4",
            "max": 3,
            "min": 0,
            "orientation": "horizontal",
            "style": "IPY_MODEL_cc4365de439848c296fbecb0d34b7c39",
            "value": 3
          }
        },
        "32164e445237412faaad9cad6875f3fb": {
          "model_module": "@jupyter-widgets/controls",
          "model_name": "HTMLModel",
          "model_module_version": "1.5.0",
          "state": {
            "_dom_classes": [],
            "_model_module": "@jupyter-widgets/controls",
            "_model_module_version": "1.5.0",
            "_model_name": "HTMLModel",
            "_view_count": null,
            "_view_module": "@jupyter-widgets/controls",
            "_view_module_version": "1.5.0",
            "_view_name": "HTMLView",
            "description": "",
            "description_tooltip": null,
            "layout": "IPY_MODEL_9e8205b3ba3349b59ac6da7a7808cace",
            "placeholder": "​",
            "style": "IPY_MODEL_efa26b5949ce4ea9ba4cfc918d399f4f",
            "value": " 0/3 [00:00&lt;?, ?it/s]"
          }
        },
        "caa5ae1896014f39977eb7c9ccfbef40": {
          "model_module": "@jupyter-widgets/base",
          "model_name": "LayoutModel",
          "model_module_version": "1.2.0",
          "state": {
            "_model_module": "@jupyter-widgets/base",
            "_model_module_version": "1.2.0",
            "_model_name": "LayoutModel",
            "_view_count": null,
            "_view_module": "@jupyter-widgets/base",
            "_view_module_version": "1.2.0",
            "_view_name": "LayoutView",
            "align_content": null,
            "align_items": null,
            "align_self": null,
            "border": null,
            "bottom": null,
            "display": null,
            "flex": null,
            "flex_flow": null,
            "grid_area": null,
            "grid_auto_columns": null,
            "grid_auto_flow": null,
            "grid_auto_rows": null,
            "grid_column": null,
            "grid_gap": null,
            "grid_row": null,
            "grid_template_areas": null,
            "grid_template_columns": null,
            "grid_template_rows": null,
            "height": null,
            "justify_content": null,
            "justify_items": null,
            "left": null,
            "margin": null,
            "max_height": null,
            "max_width": null,
            "min_height": null,
            "min_width": null,
            "object_fit": null,
            "object_position": null,
            "order": null,
            "overflow": null,
            "overflow_x": null,
            "overflow_y": null,
            "padding": null,
            "right": null,
            "top": null,
            "visibility": "hidden",
            "width": null
          }
        },
        "67ad328cc4a641fab2922824340610d9": {
          "model_module": "@jupyter-widgets/base",
          "model_name": "LayoutModel",
          "model_module_version": "1.2.0",
          "state": {
            "_model_module": "@jupyter-widgets/base",
            "_model_module_version": "1.2.0",
            "_model_name": "LayoutModel",
            "_view_count": null,
            "_view_module": "@jupyter-widgets/base",
            "_view_module_version": "1.2.0",
            "_view_name": "LayoutView",
            "align_content": null,
            "align_items": null,
            "align_self": null,
            "border": null,
            "bottom": null,
            "display": null,
            "flex": null,
            "flex_flow": null,
            "grid_area": null,
            "grid_auto_columns": null,
            "grid_auto_flow": null,
            "grid_auto_rows": null,
            "grid_column": null,
            "grid_gap": null,
            "grid_row": null,
            "grid_template_areas": null,
            "grid_template_columns": null,
            "grid_template_rows": null,
            "height": null,
            "justify_content": null,
            "justify_items": null,
            "left": null,
            "margin": null,
            "max_height": null,
            "max_width": null,
            "min_height": null,
            "min_width": null,
            "object_fit": null,
            "object_position": null,
            "order": null,
            "overflow": null,
            "overflow_x": null,
            "overflow_y": null,
            "padding": null,
            "right": null,
            "top": null,
            "visibility": null,
            "width": null
          }
        },
        "7216fe691f48484589416d7690925689": {
          "model_module": "@jupyter-widgets/controls",
          "model_name": "DescriptionStyleModel",
          "model_module_version": "1.5.0",
          "state": {
            "_model_module": "@jupyter-widgets/controls",
            "_model_module_version": "1.5.0",
            "_model_name": "DescriptionStyleModel",
            "_view_count": null,
            "_view_module": "@jupyter-widgets/base",
            "_view_module_version": "1.2.0",
            "_view_name": "StyleView",
            "description_width": ""
          }
        },
        "36ca0c510edb4b1597bf494743c53cf4": {
          "model_module": "@jupyter-widgets/base",
          "model_name": "LayoutModel",
          "model_module_version": "1.2.0",
          "state": {
            "_model_module": "@jupyter-widgets/base",
            "_model_module_version": "1.2.0",
            "_model_name": "LayoutModel",
            "_view_count": null,
            "_view_module": "@jupyter-widgets/base",
            "_view_module_version": "1.2.0",
            "_view_name": "LayoutView",
            "align_content": null,
            "align_items": null,
            "align_self": null,
            "border": null,
            "bottom": null,
            "display": null,
            "flex": null,
            "flex_flow": null,
            "grid_area": null,
            "grid_auto_columns": null,
            "grid_auto_flow": null,
            "grid_auto_rows": null,
            "grid_column": null,
            "grid_gap": null,
            "grid_row": null,
            "grid_template_areas": null,
            "grid_template_columns": null,
            "grid_template_rows": null,
            "height": null,
            "justify_content": null,
            "justify_items": null,
            "left": null,
            "margin": null,
            "max_height": null,
            "max_width": null,
            "min_height": null,
            "min_width": null,
            "object_fit": null,
            "object_position": null,
            "order": null,
            "overflow": null,
            "overflow_x": null,
            "overflow_y": null,
            "padding": null,
            "right": null,
            "top": null,
            "visibility": null,
            "width": null
          }
        },
        "cc4365de439848c296fbecb0d34b7c39": {
          "model_module": "@jupyter-widgets/controls",
          "model_name": "ProgressStyleModel",
          "model_module_version": "1.5.0",
          "state": {
            "_model_module": "@jupyter-widgets/controls",
            "_model_module_version": "1.5.0",
            "_model_name": "ProgressStyleModel",
            "_view_count": null,
            "_view_module": "@jupyter-widgets/base",
            "_view_module_version": "1.2.0",
            "_view_name": "StyleView",
            "bar_color": null,
            "description_width": ""
          }
        },
        "9e8205b3ba3349b59ac6da7a7808cace": {
          "model_module": "@jupyter-widgets/base",
          "model_name": "LayoutModel",
          "model_module_version": "1.2.0",
          "state": {
            "_model_module": "@jupyter-widgets/base",
            "_model_module_version": "1.2.0",
            "_model_name": "LayoutModel",
            "_view_count": null,
            "_view_module": "@jupyter-widgets/base",
            "_view_module_version": "1.2.0",
            "_view_name": "LayoutView",
            "align_content": null,
            "align_items": null,
            "align_self": null,
            "border": null,
            "bottom": null,
            "display": null,
            "flex": null,
            "flex_flow": null,
            "grid_area": null,
            "grid_auto_columns": null,
            "grid_auto_flow": null,
            "grid_auto_rows": null,
            "grid_column": null,
            "grid_gap": null,
            "grid_row": null,
            "grid_template_areas": null,
            "grid_template_columns": null,
            "grid_template_rows": null,
            "height": null,
            "justify_content": null,
            "justify_items": null,
            "left": null,
            "margin": null,
            "max_height": null,
            "max_width": null,
            "min_height": null,
            "min_width": null,
            "object_fit": null,
            "object_position": null,
            "order": null,
            "overflow": null,
            "overflow_x": null,
            "overflow_y": null,
            "padding": null,
            "right": null,
            "top": null,
            "visibility": null,
            "width": null
          }
        },
        "efa26b5949ce4ea9ba4cfc918d399f4f": {
          "model_module": "@jupyter-widgets/controls",
          "model_name": "DescriptionStyleModel",
          "model_module_version": "1.5.0",
          "state": {
            "_model_module": "@jupyter-widgets/controls",
            "_model_module_version": "1.5.0",
            "_model_name": "DescriptionStyleModel",
            "_view_count": null,
            "_view_module": "@jupyter-widgets/base",
            "_view_module_version": "1.2.0",
            "_view_name": "StyleView",
            "description_width": ""
          }
        },
        "daa65b61b9744280841e2c3098488121": {
          "model_module": "@jupyter-widgets/controls",
          "model_name": "HBoxModel",
          "model_module_version": "1.5.0",
          "state": {
            "_dom_classes": [],
            "_model_module": "@jupyter-widgets/controls",
            "_model_module_version": "1.5.0",
            "_model_name": "HBoxModel",
            "_view_count": null,
            "_view_module": "@jupyter-widgets/controls",
            "_view_module_version": "1.5.0",
            "_view_name": "HBoxView",
            "box_style": "",
            "children": [
              "IPY_MODEL_80c31430888d4d38aa49eb7180619944",
              "IPY_MODEL_0bdba909c0f243a395d192a40778401c",
              "IPY_MODEL_aa3555a5501f46538a015f156954a3aa"
            ],
            "layout": "IPY_MODEL_24f9b5223d844d0f92bd6e3af90fbb86"
          }
        },
        "80c31430888d4d38aa49eb7180619944": {
          "model_module": "@jupyter-widgets/controls",
          "model_name": "HTMLModel",
          "model_module_version": "1.5.0",
          "state": {
            "_dom_classes": [],
            "_model_module": "@jupyter-widgets/controls",
            "_model_module_version": "1.5.0",
            "_model_name": "HTMLModel",
            "_view_count": null,
            "_view_module": "@jupyter-widgets/controls",
            "_view_module_version": "1.5.0",
            "_view_name": "HTMLView",
            "description": "",
            "description_tooltip": null,
            "layout": "IPY_MODEL_be31d4db9d9e46bbbcb1c3a14b2ca1ec",
            "placeholder": "​",
            "style": "IPY_MODEL_0101b372f36741e0805d8dec236d5f6e",
            "value": "Processing:   0%"
          }
        },
        "0bdba909c0f243a395d192a40778401c": {
          "model_module": "@jupyter-widgets/controls",
          "model_name": "FloatProgressModel",
          "model_module_version": "1.5.0",
          "state": {
            "_dom_classes": [],
            "_model_module": "@jupyter-widgets/controls",
            "_model_module_version": "1.5.0",
            "_model_name": "FloatProgressModel",
            "_view_count": null,
            "_view_module": "@jupyter-widgets/controls",
            "_view_module_version": "1.5.0",
            "_view_name": "ProgressView",
            "bar_style": "",
            "description": "",
            "description_tooltip": null,
            "layout": "IPY_MODEL_2b3a0f21c1164f4fbba5ce21104233a6",
            "max": 3,
            "min": 0,
            "orientation": "horizontal",
            "style": "IPY_MODEL_74b1db9de68d467880a67f340789e49a",
            "value": 3
          }
        },
        "aa3555a5501f46538a015f156954a3aa": {
          "model_module": "@jupyter-widgets/controls",
          "model_name": "HTMLModel",
          "model_module_version": "1.5.0",
          "state": {
            "_dom_classes": [],
            "_model_module": "@jupyter-widgets/controls",
            "_model_module_version": "1.5.0",
            "_model_name": "HTMLModel",
            "_view_count": null,
            "_view_module": "@jupyter-widgets/controls",
            "_view_module_version": "1.5.0",
            "_view_name": "HTMLView",
            "description": "",
            "description_tooltip": null,
            "layout": "IPY_MODEL_538393a39ff54b41a6fcad8c825c69f7",
            "placeholder": "​",
            "style": "IPY_MODEL_1669a87ee69a4454ad802ebd33f69e64",
            "value": " 0/3 [00:00&lt;?, ?it/s]"
          }
        },
        "24f9b5223d844d0f92bd6e3af90fbb86": {
          "model_module": "@jupyter-widgets/base",
          "model_name": "LayoutModel",
          "model_module_version": "1.2.0",
          "state": {
            "_model_module": "@jupyter-widgets/base",
            "_model_module_version": "1.2.0",
            "_model_name": "LayoutModel",
            "_view_count": null,
            "_view_module": "@jupyter-widgets/base",
            "_view_module_version": "1.2.0",
            "_view_name": "LayoutView",
            "align_content": null,
            "align_items": null,
            "align_self": null,
            "border": null,
            "bottom": null,
            "display": null,
            "flex": null,
            "flex_flow": null,
            "grid_area": null,
            "grid_auto_columns": null,
            "grid_auto_flow": null,
            "grid_auto_rows": null,
            "grid_column": null,
            "grid_gap": null,
            "grid_row": null,
            "grid_template_areas": null,
            "grid_template_columns": null,
            "grid_template_rows": null,
            "height": null,
            "justify_content": null,
            "justify_items": null,
            "left": null,
            "margin": null,
            "max_height": null,
            "max_width": null,
            "min_height": null,
            "min_width": null,
            "object_fit": null,
            "object_position": null,
            "order": null,
            "overflow": null,
            "overflow_x": null,
            "overflow_y": null,
            "padding": null,
            "right": null,
            "top": null,
            "visibility": "hidden",
            "width": null
          }
        },
        "be31d4db9d9e46bbbcb1c3a14b2ca1ec": {
          "model_module": "@jupyter-widgets/base",
          "model_name": "LayoutModel",
          "model_module_version": "1.2.0",
          "state": {
            "_model_module": "@jupyter-widgets/base",
            "_model_module_version": "1.2.0",
            "_model_name": "LayoutModel",
            "_view_count": null,
            "_view_module": "@jupyter-widgets/base",
            "_view_module_version": "1.2.0",
            "_view_name": "LayoutView",
            "align_content": null,
            "align_items": null,
            "align_self": null,
            "border": null,
            "bottom": null,
            "display": null,
            "flex": null,
            "flex_flow": null,
            "grid_area": null,
            "grid_auto_columns": null,
            "grid_auto_flow": null,
            "grid_auto_rows": null,
            "grid_column": null,
            "grid_gap": null,
            "grid_row": null,
            "grid_template_areas": null,
            "grid_template_columns": null,
            "grid_template_rows": null,
            "height": null,
            "justify_content": null,
            "justify_items": null,
            "left": null,
            "margin": null,
            "max_height": null,
            "max_width": null,
            "min_height": null,
            "min_width": null,
            "object_fit": null,
            "object_position": null,
            "order": null,
            "overflow": null,
            "overflow_x": null,
            "overflow_y": null,
            "padding": null,
            "right": null,
            "top": null,
            "visibility": null,
            "width": null
          }
        },
        "0101b372f36741e0805d8dec236d5f6e": {
          "model_module": "@jupyter-widgets/controls",
          "model_name": "DescriptionStyleModel",
          "model_module_version": "1.5.0",
          "state": {
            "_model_module": "@jupyter-widgets/controls",
            "_model_module_version": "1.5.0",
            "_model_name": "DescriptionStyleModel",
            "_view_count": null,
            "_view_module": "@jupyter-widgets/base",
            "_view_module_version": "1.2.0",
            "_view_name": "StyleView",
            "description_width": ""
          }
        },
        "2b3a0f21c1164f4fbba5ce21104233a6": {
          "model_module": "@jupyter-widgets/base",
          "model_name": "LayoutModel",
          "model_module_version": "1.2.0",
          "state": {
            "_model_module": "@jupyter-widgets/base",
            "_model_module_version": "1.2.0",
            "_model_name": "LayoutModel",
            "_view_count": null,
            "_view_module": "@jupyter-widgets/base",
            "_view_module_version": "1.2.0",
            "_view_name": "LayoutView",
            "align_content": null,
            "align_items": null,
            "align_self": null,
            "border": null,
            "bottom": null,
            "display": null,
            "flex": null,
            "flex_flow": null,
            "grid_area": null,
            "grid_auto_columns": null,
            "grid_auto_flow": null,
            "grid_auto_rows": null,
            "grid_column": null,
            "grid_gap": null,
            "grid_row": null,
            "grid_template_areas": null,
            "grid_template_columns": null,
            "grid_template_rows": null,
            "height": null,
            "justify_content": null,
            "justify_items": null,
            "left": null,
            "margin": null,
            "max_height": null,
            "max_width": null,
            "min_height": null,
            "min_width": null,
            "object_fit": null,
            "object_position": null,
            "order": null,
            "overflow": null,
            "overflow_x": null,
            "overflow_y": null,
            "padding": null,
            "right": null,
            "top": null,
            "visibility": null,
            "width": null
          }
        },
        "74b1db9de68d467880a67f340789e49a": {
          "model_module": "@jupyter-widgets/controls",
          "model_name": "ProgressStyleModel",
          "model_module_version": "1.5.0",
          "state": {
            "_model_module": "@jupyter-widgets/controls",
            "_model_module_version": "1.5.0",
            "_model_name": "ProgressStyleModel",
            "_view_count": null,
            "_view_module": "@jupyter-widgets/base",
            "_view_module_version": "1.2.0",
            "_view_name": "StyleView",
            "bar_color": null,
            "description_width": ""
          }
        },
        "538393a39ff54b41a6fcad8c825c69f7": {
          "model_module": "@jupyter-widgets/base",
          "model_name": "LayoutModel",
          "model_module_version": "1.2.0",
          "state": {
            "_model_module": "@jupyter-widgets/base",
            "_model_module_version": "1.2.0",
            "_model_name": "LayoutModel",
            "_view_count": null,
            "_view_module": "@jupyter-widgets/base",
            "_view_module_version": "1.2.0",
            "_view_name": "LayoutView",
            "align_content": null,
            "align_items": null,
            "align_self": null,
            "border": null,
            "bottom": null,
            "display": null,
            "flex": null,
            "flex_flow": null,
            "grid_area": null,
            "grid_auto_columns": null,
            "grid_auto_flow": null,
            "grid_auto_rows": null,
            "grid_column": null,
            "grid_gap": null,
            "grid_row": null,
            "grid_template_areas": null,
            "grid_template_columns": null,
            "grid_template_rows": null,
            "height": null,
            "justify_content": null,
            "justify_items": null,
            "left": null,
            "margin": null,
            "max_height": null,
            "max_width": null,
            "min_height": null,
            "min_width": null,
            "object_fit": null,
            "object_position": null,
            "order": null,
            "overflow": null,
            "overflow_x": null,
            "overflow_y": null,
            "padding": null,
            "right": null,
            "top": null,
            "visibility": null,
            "width": null
          }
        },
        "1669a87ee69a4454ad802ebd33f69e64": {
          "model_module": "@jupyter-widgets/controls",
          "model_name": "DescriptionStyleModel",
          "model_module_version": "1.5.0",
          "state": {
            "_model_module": "@jupyter-widgets/controls",
            "_model_module_version": "1.5.0",
            "_model_name": "DescriptionStyleModel",
            "_view_count": null,
            "_view_module": "@jupyter-widgets/base",
            "_view_module_version": "1.2.0",
            "_view_name": "StyleView",
            "description_width": ""
          }
        },
        "a9f3b7fdc5bc4727be950ae3a5c5c9f3": {
          "model_module": "@jupyter-widgets/controls",
          "model_name": "HBoxModel",
          "model_module_version": "1.5.0",
          "state": {
            "_dom_classes": [],
            "_model_module": "@jupyter-widgets/controls",
            "_model_module_version": "1.5.0",
            "_model_name": "HBoxModel",
            "_view_count": null,
            "_view_module": "@jupyter-widgets/controls",
            "_view_module_version": "1.5.0",
            "_view_name": "HBoxView",
            "box_style": "",
            "children": [
              "IPY_MODEL_79d4045627774ca1a5b7cd82b4b29571",
              "IPY_MODEL_cc46e4e2278c4f2eb8b48089b82e97ce",
              "IPY_MODEL_42e8b957a70a401c989427abdce6a34d"
            ],
            "layout": "IPY_MODEL_a8afe543ccd0425ca5156d36e39bcc16"
          }
        },
        "79d4045627774ca1a5b7cd82b4b29571": {
          "model_module": "@jupyter-widgets/controls",
          "model_name": "HTMLModel",
          "model_module_version": "1.5.0",
          "state": {
            "_dom_classes": [],
            "_model_module": "@jupyter-widgets/controls",
            "_model_module_version": "1.5.0",
            "_model_name": "HTMLModel",
            "_view_count": null,
            "_view_module": "@jupyter-widgets/controls",
            "_view_module_version": "1.5.0",
            "_view_name": "HTMLView",
            "description": "",
            "description_tooltip": null,
            "layout": "IPY_MODEL_95fcb00ba6b24170bca77cc249d82b6e",
            "placeholder": "​",
            "style": "IPY_MODEL_0fa9f48524564320be6a172a47c12e1d",
            "value": "Processing:   0%"
          }
        },
        "cc46e4e2278c4f2eb8b48089b82e97ce": {
          "model_module": "@jupyter-widgets/controls",
          "model_name": "FloatProgressModel",
          "model_module_version": "1.5.0",
          "state": {
            "_dom_classes": [],
            "_model_module": "@jupyter-widgets/controls",
            "_model_module_version": "1.5.0",
            "_model_name": "FloatProgressModel",
            "_view_count": null,
            "_view_module": "@jupyter-widgets/controls",
            "_view_module_version": "1.5.0",
            "_view_name": "ProgressView",
            "bar_style": "",
            "description": "",
            "description_tooltip": null,
            "layout": "IPY_MODEL_517a5554c9b0469c8dec7a9af60fa13f",
            "max": 3,
            "min": 0,
            "orientation": "horizontal",
            "style": "IPY_MODEL_b4da4637836746b1a581710aaf6f994a",
            "value": 3
          }
        },
        "42e8b957a70a401c989427abdce6a34d": {
          "model_module": "@jupyter-widgets/controls",
          "model_name": "HTMLModel",
          "model_module_version": "1.5.0",
          "state": {
            "_dom_classes": [],
            "_model_module": "@jupyter-widgets/controls",
            "_model_module_version": "1.5.0",
            "_model_name": "HTMLModel",
            "_view_count": null,
            "_view_module": "@jupyter-widgets/controls",
            "_view_module_version": "1.5.0",
            "_view_name": "HTMLView",
            "description": "",
            "description_tooltip": null,
            "layout": "IPY_MODEL_8b4e2e9ac8654598a785bb0032d8bf91",
            "placeholder": "​",
            "style": "IPY_MODEL_dd361813b97d46ca951977883f560bf6",
            "value": " 0/3 [00:00&lt;?, ?it/s]"
          }
        },
        "a8afe543ccd0425ca5156d36e39bcc16": {
          "model_module": "@jupyter-widgets/base",
          "model_name": "LayoutModel",
          "model_module_version": "1.2.0",
          "state": {
            "_model_module": "@jupyter-widgets/base",
            "_model_module_version": "1.2.0",
            "_model_name": "LayoutModel",
            "_view_count": null,
            "_view_module": "@jupyter-widgets/base",
            "_view_module_version": "1.2.0",
            "_view_name": "LayoutView",
            "align_content": null,
            "align_items": null,
            "align_self": null,
            "border": null,
            "bottom": null,
            "display": null,
            "flex": null,
            "flex_flow": null,
            "grid_area": null,
            "grid_auto_columns": null,
            "grid_auto_flow": null,
            "grid_auto_rows": null,
            "grid_column": null,
            "grid_gap": null,
            "grid_row": null,
            "grid_template_areas": null,
            "grid_template_columns": null,
            "grid_template_rows": null,
            "height": null,
            "justify_content": null,
            "justify_items": null,
            "left": null,
            "margin": null,
            "max_height": null,
            "max_width": null,
            "min_height": null,
            "min_width": null,
            "object_fit": null,
            "object_position": null,
            "order": null,
            "overflow": null,
            "overflow_x": null,
            "overflow_y": null,
            "padding": null,
            "right": null,
            "top": null,
            "visibility": "hidden",
            "width": null
          }
        },
        "95fcb00ba6b24170bca77cc249d82b6e": {
          "model_module": "@jupyter-widgets/base",
          "model_name": "LayoutModel",
          "model_module_version": "1.2.0",
          "state": {
            "_model_module": "@jupyter-widgets/base",
            "_model_module_version": "1.2.0",
            "_model_name": "LayoutModel",
            "_view_count": null,
            "_view_module": "@jupyter-widgets/base",
            "_view_module_version": "1.2.0",
            "_view_name": "LayoutView",
            "align_content": null,
            "align_items": null,
            "align_self": null,
            "border": null,
            "bottom": null,
            "display": null,
            "flex": null,
            "flex_flow": null,
            "grid_area": null,
            "grid_auto_columns": null,
            "grid_auto_flow": null,
            "grid_auto_rows": null,
            "grid_column": null,
            "grid_gap": null,
            "grid_row": null,
            "grid_template_areas": null,
            "grid_template_columns": null,
            "grid_template_rows": null,
            "height": null,
            "justify_content": null,
            "justify_items": null,
            "left": null,
            "margin": null,
            "max_height": null,
            "max_width": null,
            "min_height": null,
            "min_width": null,
            "object_fit": null,
            "object_position": null,
            "order": null,
            "overflow": null,
            "overflow_x": null,
            "overflow_y": null,
            "padding": null,
            "right": null,
            "top": null,
            "visibility": null,
            "width": null
          }
        },
        "0fa9f48524564320be6a172a47c12e1d": {
          "model_module": "@jupyter-widgets/controls",
          "model_name": "DescriptionStyleModel",
          "model_module_version": "1.5.0",
          "state": {
            "_model_module": "@jupyter-widgets/controls",
            "_model_module_version": "1.5.0",
            "_model_name": "DescriptionStyleModel",
            "_view_count": null,
            "_view_module": "@jupyter-widgets/base",
            "_view_module_version": "1.2.0",
            "_view_name": "StyleView",
            "description_width": ""
          }
        },
        "517a5554c9b0469c8dec7a9af60fa13f": {
          "model_module": "@jupyter-widgets/base",
          "model_name": "LayoutModel",
          "model_module_version": "1.2.0",
          "state": {
            "_model_module": "@jupyter-widgets/base",
            "_model_module_version": "1.2.0",
            "_model_name": "LayoutModel",
            "_view_count": null,
            "_view_module": "@jupyter-widgets/base",
            "_view_module_version": "1.2.0",
            "_view_name": "LayoutView",
            "align_content": null,
            "align_items": null,
            "align_self": null,
            "border": null,
            "bottom": null,
            "display": null,
            "flex": null,
            "flex_flow": null,
            "grid_area": null,
            "grid_auto_columns": null,
            "grid_auto_flow": null,
            "grid_auto_rows": null,
            "grid_column": null,
            "grid_gap": null,
            "grid_row": null,
            "grid_template_areas": null,
            "grid_template_columns": null,
            "grid_template_rows": null,
            "height": null,
            "justify_content": null,
            "justify_items": null,
            "left": null,
            "margin": null,
            "max_height": null,
            "max_width": null,
            "min_height": null,
            "min_width": null,
            "object_fit": null,
            "object_position": null,
            "order": null,
            "overflow": null,
            "overflow_x": null,
            "overflow_y": null,
            "padding": null,
            "right": null,
            "top": null,
            "visibility": null,
            "width": null
          }
        },
        "b4da4637836746b1a581710aaf6f994a": {
          "model_module": "@jupyter-widgets/controls",
          "model_name": "ProgressStyleModel",
          "model_module_version": "1.5.0",
          "state": {
            "_model_module": "@jupyter-widgets/controls",
            "_model_module_version": "1.5.0",
            "_model_name": "ProgressStyleModel",
            "_view_count": null,
            "_view_module": "@jupyter-widgets/base",
            "_view_module_version": "1.2.0",
            "_view_name": "StyleView",
            "bar_color": null,
            "description_width": ""
          }
        },
        "8b4e2e9ac8654598a785bb0032d8bf91": {
          "model_module": "@jupyter-widgets/base",
          "model_name": "LayoutModel",
          "model_module_version": "1.2.0",
          "state": {
            "_model_module": "@jupyter-widgets/base",
            "_model_module_version": "1.2.0",
            "_model_name": "LayoutModel",
            "_view_count": null,
            "_view_module": "@jupyter-widgets/base",
            "_view_module_version": "1.2.0",
            "_view_name": "LayoutView",
            "align_content": null,
            "align_items": null,
            "align_self": null,
            "border": null,
            "bottom": null,
            "display": null,
            "flex": null,
            "flex_flow": null,
            "grid_area": null,
            "grid_auto_columns": null,
            "grid_auto_flow": null,
            "grid_auto_rows": null,
            "grid_column": null,
            "grid_gap": null,
            "grid_row": null,
            "grid_template_areas": null,
            "grid_template_columns": null,
            "grid_template_rows": null,
            "height": null,
            "justify_content": null,
            "justify_items": null,
            "left": null,
            "margin": null,
            "max_height": null,
            "max_width": null,
            "min_height": null,
            "min_width": null,
            "object_fit": null,
            "object_position": null,
            "order": null,
            "overflow": null,
            "overflow_x": null,
            "overflow_y": null,
            "padding": null,
            "right": null,
            "top": null,
            "visibility": null,
            "width": null
          }
        },
        "dd361813b97d46ca951977883f560bf6": {
          "model_module": "@jupyter-widgets/controls",
          "model_name": "DescriptionStyleModel",
          "model_module_version": "1.5.0",
          "state": {
            "_model_module": "@jupyter-widgets/controls",
            "_model_module_version": "1.5.0",
            "_model_name": "DescriptionStyleModel",
            "_view_count": null,
            "_view_module": "@jupyter-widgets/base",
            "_view_module_version": "1.2.0",
            "_view_name": "StyleView",
            "description_width": ""
          }
        },
        "fb05762086c74048814d92057250a015": {
          "model_module": "@jupyter-widgets/controls",
          "model_name": "HBoxModel",
          "model_module_version": "1.5.0",
          "state": {
            "_dom_classes": [],
            "_model_module": "@jupyter-widgets/controls",
            "_model_module_version": "1.5.0",
            "_model_name": "HBoxModel",
            "_view_count": null,
            "_view_module": "@jupyter-widgets/controls",
            "_view_module_version": "1.5.0",
            "_view_name": "HBoxView",
            "box_style": "",
            "children": [
              "IPY_MODEL_af4bf724ce614acd8ac4e64f15689d85",
              "IPY_MODEL_fa9161b1d1834797b8136e7321c9079c",
              "IPY_MODEL_8fdda204add148f398ee3c5a4c9287ee"
            ],
            "layout": "IPY_MODEL_2ecb9ca02f09409ba710cfd3eda49f7b"
          }
        },
        "af4bf724ce614acd8ac4e64f15689d85": {
          "model_module": "@jupyter-widgets/controls",
          "model_name": "HTMLModel",
          "model_module_version": "1.5.0",
          "state": {
            "_dom_classes": [],
            "_model_module": "@jupyter-widgets/controls",
            "_model_module_version": "1.5.0",
            "_model_name": "HTMLModel",
            "_view_count": null,
            "_view_module": "@jupyter-widgets/controls",
            "_view_module_version": "1.5.0",
            "_view_name": "HTMLView",
            "description": "",
            "description_tooltip": null,
            "layout": "IPY_MODEL_ff425ac353414477ae12c34fafabfb80",
            "placeholder": "​",
            "style": "IPY_MODEL_ab1b0b78e33c4dbfa9d9e9db9610bd2e",
            "value": "Processing:   0%"
          }
        },
        "fa9161b1d1834797b8136e7321c9079c": {
          "model_module": "@jupyter-widgets/controls",
          "model_name": "FloatProgressModel",
          "model_module_version": "1.5.0",
          "state": {
            "_dom_classes": [],
            "_model_module": "@jupyter-widgets/controls",
            "_model_module_version": "1.5.0",
            "_model_name": "FloatProgressModel",
            "_view_count": null,
            "_view_module": "@jupyter-widgets/controls",
            "_view_module_version": "1.5.0",
            "_view_name": "ProgressView",
            "bar_style": "",
            "description": "",
            "description_tooltip": null,
            "layout": "IPY_MODEL_cae7daef8ac34739a07bbc44bc9a9aba",
            "max": 3,
            "min": 0,
            "orientation": "horizontal",
            "style": "IPY_MODEL_61eb905835fa4632bacf3c99f313715a",
            "value": 3
          }
        },
        "8fdda204add148f398ee3c5a4c9287ee": {
          "model_module": "@jupyter-widgets/controls",
          "model_name": "HTMLModel",
          "model_module_version": "1.5.0",
          "state": {
            "_dom_classes": [],
            "_model_module": "@jupyter-widgets/controls",
            "_model_module_version": "1.5.0",
            "_model_name": "HTMLModel",
            "_view_count": null,
            "_view_module": "@jupyter-widgets/controls",
            "_view_module_version": "1.5.0",
            "_view_name": "HTMLView",
            "description": "",
            "description_tooltip": null,
            "layout": "IPY_MODEL_64b02da12f6b4cfeaba08f7697ac6c47",
            "placeholder": "​",
            "style": "IPY_MODEL_1b2edda9fd4043029f789b1d689cf9b2",
            "value": " 0/3 [00:00&lt;?, ?it/s]"
          }
        },
        "2ecb9ca02f09409ba710cfd3eda49f7b": {
          "model_module": "@jupyter-widgets/base",
          "model_name": "LayoutModel",
          "model_module_version": "1.2.0",
          "state": {
            "_model_module": "@jupyter-widgets/base",
            "_model_module_version": "1.2.0",
            "_model_name": "LayoutModel",
            "_view_count": null,
            "_view_module": "@jupyter-widgets/base",
            "_view_module_version": "1.2.0",
            "_view_name": "LayoutView",
            "align_content": null,
            "align_items": null,
            "align_self": null,
            "border": null,
            "bottom": null,
            "display": null,
            "flex": null,
            "flex_flow": null,
            "grid_area": null,
            "grid_auto_columns": null,
            "grid_auto_flow": null,
            "grid_auto_rows": null,
            "grid_column": null,
            "grid_gap": null,
            "grid_row": null,
            "grid_template_areas": null,
            "grid_template_columns": null,
            "grid_template_rows": null,
            "height": null,
            "justify_content": null,
            "justify_items": null,
            "left": null,
            "margin": null,
            "max_height": null,
            "max_width": null,
            "min_height": null,
            "min_width": null,
            "object_fit": null,
            "object_position": null,
            "order": null,
            "overflow": null,
            "overflow_x": null,
            "overflow_y": null,
            "padding": null,
            "right": null,
            "top": null,
            "visibility": "hidden",
            "width": null
          }
        },
        "ff425ac353414477ae12c34fafabfb80": {
          "model_module": "@jupyter-widgets/base",
          "model_name": "LayoutModel",
          "model_module_version": "1.2.0",
          "state": {
            "_model_module": "@jupyter-widgets/base",
            "_model_module_version": "1.2.0",
            "_model_name": "LayoutModel",
            "_view_count": null,
            "_view_module": "@jupyter-widgets/base",
            "_view_module_version": "1.2.0",
            "_view_name": "LayoutView",
            "align_content": null,
            "align_items": null,
            "align_self": null,
            "border": null,
            "bottom": null,
            "display": null,
            "flex": null,
            "flex_flow": null,
            "grid_area": null,
            "grid_auto_columns": null,
            "grid_auto_flow": null,
            "grid_auto_rows": null,
            "grid_column": null,
            "grid_gap": null,
            "grid_row": null,
            "grid_template_areas": null,
            "grid_template_columns": null,
            "grid_template_rows": null,
            "height": null,
            "justify_content": null,
            "justify_items": null,
            "left": null,
            "margin": null,
            "max_height": null,
            "max_width": null,
            "min_height": null,
            "min_width": null,
            "object_fit": null,
            "object_position": null,
            "order": null,
            "overflow": null,
            "overflow_x": null,
            "overflow_y": null,
            "padding": null,
            "right": null,
            "top": null,
            "visibility": null,
            "width": null
          }
        },
        "ab1b0b78e33c4dbfa9d9e9db9610bd2e": {
          "model_module": "@jupyter-widgets/controls",
          "model_name": "DescriptionStyleModel",
          "model_module_version": "1.5.0",
          "state": {
            "_model_module": "@jupyter-widgets/controls",
            "_model_module_version": "1.5.0",
            "_model_name": "DescriptionStyleModel",
            "_view_count": null,
            "_view_module": "@jupyter-widgets/base",
            "_view_module_version": "1.2.0",
            "_view_name": "StyleView",
            "description_width": ""
          }
        },
        "cae7daef8ac34739a07bbc44bc9a9aba": {
          "model_module": "@jupyter-widgets/base",
          "model_name": "LayoutModel",
          "model_module_version": "1.2.0",
          "state": {
            "_model_module": "@jupyter-widgets/base",
            "_model_module_version": "1.2.0",
            "_model_name": "LayoutModel",
            "_view_count": null,
            "_view_module": "@jupyter-widgets/base",
            "_view_module_version": "1.2.0",
            "_view_name": "LayoutView",
            "align_content": null,
            "align_items": null,
            "align_self": null,
            "border": null,
            "bottom": null,
            "display": null,
            "flex": null,
            "flex_flow": null,
            "grid_area": null,
            "grid_auto_columns": null,
            "grid_auto_flow": null,
            "grid_auto_rows": null,
            "grid_column": null,
            "grid_gap": null,
            "grid_row": null,
            "grid_template_areas": null,
            "grid_template_columns": null,
            "grid_template_rows": null,
            "height": null,
            "justify_content": null,
            "justify_items": null,
            "left": null,
            "margin": null,
            "max_height": null,
            "max_width": null,
            "min_height": null,
            "min_width": null,
            "object_fit": null,
            "object_position": null,
            "order": null,
            "overflow": null,
            "overflow_x": null,
            "overflow_y": null,
            "padding": null,
            "right": null,
            "top": null,
            "visibility": null,
            "width": null
          }
        },
        "61eb905835fa4632bacf3c99f313715a": {
          "model_module": "@jupyter-widgets/controls",
          "model_name": "ProgressStyleModel",
          "model_module_version": "1.5.0",
          "state": {
            "_model_module": "@jupyter-widgets/controls",
            "_model_module_version": "1.5.0",
            "_model_name": "ProgressStyleModel",
            "_view_count": null,
            "_view_module": "@jupyter-widgets/base",
            "_view_module_version": "1.2.0",
            "_view_name": "StyleView",
            "bar_color": null,
            "description_width": ""
          }
        },
        "64b02da12f6b4cfeaba08f7697ac6c47": {
          "model_module": "@jupyter-widgets/base",
          "model_name": "LayoutModel",
          "model_module_version": "1.2.0",
          "state": {
            "_model_module": "@jupyter-widgets/base",
            "_model_module_version": "1.2.0",
            "_model_name": "LayoutModel",
            "_view_count": null,
            "_view_module": "@jupyter-widgets/base",
            "_view_module_version": "1.2.0",
            "_view_name": "LayoutView",
            "align_content": null,
            "align_items": null,
            "align_self": null,
            "border": null,
            "bottom": null,
            "display": null,
            "flex": null,
            "flex_flow": null,
            "grid_area": null,
            "grid_auto_columns": null,
            "grid_auto_flow": null,
            "grid_auto_rows": null,
            "grid_column": null,
            "grid_gap": null,
            "grid_row": null,
            "grid_template_areas": null,
            "grid_template_columns": null,
            "grid_template_rows": null,
            "height": null,
            "justify_content": null,
            "justify_items": null,
            "left": null,
            "margin": null,
            "max_height": null,
            "max_width": null,
            "min_height": null,
            "min_width": null,
            "object_fit": null,
            "object_position": null,
            "order": null,
            "overflow": null,
            "overflow_x": null,
            "overflow_y": null,
            "padding": null,
            "right": null,
            "top": null,
            "visibility": null,
            "width": null
          }
        },
        "1b2edda9fd4043029f789b1d689cf9b2": {
          "model_module": "@jupyter-widgets/controls",
          "model_name": "DescriptionStyleModel",
          "model_module_version": "1.5.0",
          "state": {
            "_model_module": "@jupyter-widgets/controls",
            "_model_module_version": "1.5.0",
            "_model_name": "DescriptionStyleModel",
            "_view_count": null,
            "_view_module": "@jupyter-widgets/base",
            "_view_module_version": "1.2.0",
            "_view_name": "StyleView",
            "description_width": ""
          }
        },
        "f549465e56b94f50a8c3b4f97b2e8e5c": {
          "model_module": "@jupyter-widgets/controls",
          "model_name": "HBoxModel",
          "model_module_version": "1.5.0",
          "state": {
            "_dom_classes": [],
            "_model_module": "@jupyter-widgets/controls",
            "_model_module_version": "1.5.0",
            "_model_name": "HBoxModel",
            "_view_count": null,
            "_view_module": "@jupyter-widgets/controls",
            "_view_module_version": "1.5.0",
            "_view_name": "HBoxView",
            "box_style": "",
            "children": [
              "IPY_MODEL_5dd454291cad43d487561aad6e2a88ca",
              "IPY_MODEL_710de128bb104f4796e82406696e0bda",
              "IPY_MODEL_003dbe3942c34a1f8da7b91b647b148a"
            ],
            "layout": "IPY_MODEL_aa64858730d14121b48a9fe66ced0a38"
          }
        },
        "5dd454291cad43d487561aad6e2a88ca": {
          "model_module": "@jupyter-widgets/controls",
          "model_name": "HTMLModel",
          "model_module_version": "1.5.0",
          "state": {
            "_dom_classes": [],
            "_model_module": "@jupyter-widgets/controls",
            "_model_module_version": "1.5.0",
            "_model_name": "HTMLModel",
            "_view_count": null,
            "_view_module": "@jupyter-widgets/controls",
            "_view_module_version": "1.5.0",
            "_view_name": "HTMLView",
            "description": "",
            "description_tooltip": null,
            "layout": "IPY_MODEL_6a94d2b5459a456ab3fc374c3576303a",
            "placeholder": "​",
            "style": "IPY_MODEL_e965ba3957704feda6c23f7e9be037e3",
            "value": "Processing:   0%"
          }
        },
        "710de128bb104f4796e82406696e0bda": {
          "model_module": "@jupyter-widgets/controls",
          "model_name": "FloatProgressModel",
          "model_module_version": "1.5.0",
          "state": {
            "_dom_classes": [],
            "_model_module": "@jupyter-widgets/controls",
            "_model_module_version": "1.5.0",
            "_model_name": "FloatProgressModel",
            "_view_count": null,
            "_view_module": "@jupyter-widgets/controls",
            "_view_module_version": "1.5.0",
            "_view_name": "ProgressView",
            "bar_style": "",
            "description": "",
            "description_tooltip": null,
            "layout": "IPY_MODEL_7ad583b8202b44d082946ad1b6b6991b",
            "max": 3,
            "min": 0,
            "orientation": "horizontal",
            "style": "IPY_MODEL_5590622e7f324f83af17b8a3e716f823",
            "value": 3
          }
        },
        "003dbe3942c34a1f8da7b91b647b148a": {
          "model_module": "@jupyter-widgets/controls",
          "model_name": "HTMLModel",
          "model_module_version": "1.5.0",
          "state": {
            "_dom_classes": [],
            "_model_module": "@jupyter-widgets/controls",
            "_model_module_version": "1.5.0",
            "_model_name": "HTMLModel",
            "_view_count": null,
            "_view_module": "@jupyter-widgets/controls",
            "_view_module_version": "1.5.0",
            "_view_name": "HTMLView",
            "description": "",
            "description_tooltip": null,
            "layout": "IPY_MODEL_2df7f5cb6a564eff96a61dc0bfced991",
            "placeholder": "​",
            "style": "IPY_MODEL_4f8738687aaf411cb2ecdd9222e64dc6",
            "value": " 0/3 [00:00&lt;?, ?it/s]"
          }
        },
        "aa64858730d14121b48a9fe66ced0a38": {
          "model_module": "@jupyter-widgets/base",
          "model_name": "LayoutModel",
          "model_module_version": "1.2.0",
          "state": {
            "_model_module": "@jupyter-widgets/base",
            "_model_module_version": "1.2.0",
            "_model_name": "LayoutModel",
            "_view_count": null,
            "_view_module": "@jupyter-widgets/base",
            "_view_module_version": "1.2.0",
            "_view_name": "LayoutView",
            "align_content": null,
            "align_items": null,
            "align_self": null,
            "border": null,
            "bottom": null,
            "display": null,
            "flex": null,
            "flex_flow": null,
            "grid_area": null,
            "grid_auto_columns": null,
            "grid_auto_flow": null,
            "grid_auto_rows": null,
            "grid_column": null,
            "grid_gap": null,
            "grid_row": null,
            "grid_template_areas": null,
            "grid_template_columns": null,
            "grid_template_rows": null,
            "height": null,
            "justify_content": null,
            "justify_items": null,
            "left": null,
            "margin": null,
            "max_height": null,
            "max_width": null,
            "min_height": null,
            "min_width": null,
            "object_fit": null,
            "object_position": null,
            "order": null,
            "overflow": null,
            "overflow_x": null,
            "overflow_y": null,
            "padding": null,
            "right": null,
            "top": null,
            "visibility": "hidden",
            "width": null
          }
        },
        "6a94d2b5459a456ab3fc374c3576303a": {
          "model_module": "@jupyter-widgets/base",
          "model_name": "LayoutModel",
          "model_module_version": "1.2.0",
          "state": {
            "_model_module": "@jupyter-widgets/base",
            "_model_module_version": "1.2.0",
            "_model_name": "LayoutModel",
            "_view_count": null,
            "_view_module": "@jupyter-widgets/base",
            "_view_module_version": "1.2.0",
            "_view_name": "LayoutView",
            "align_content": null,
            "align_items": null,
            "align_self": null,
            "border": null,
            "bottom": null,
            "display": null,
            "flex": null,
            "flex_flow": null,
            "grid_area": null,
            "grid_auto_columns": null,
            "grid_auto_flow": null,
            "grid_auto_rows": null,
            "grid_column": null,
            "grid_gap": null,
            "grid_row": null,
            "grid_template_areas": null,
            "grid_template_columns": null,
            "grid_template_rows": null,
            "height": null,
            "justify_content": null,
            "justify_items": null,
            "left": null,
            "margin": null,
            "max_height": null,
            "max_width": null,
            "min_height": null,
            "min_width": null,
            "object_fit": null,
            "object_position": null,
            "order": null,
            "overflow": null,
            "overflow_x": null,
            "overflow_y": null,
            "padding": null,
            "right": null,
            "top": null,
            "visibility": null,
            "width": null
          }
        },
        "e965ba3957704feda6c23f7e9be037e3": {
          "model_module": "@jupyter-widgets/controls",
          "model_name": "DescriptionStyleModel",
          "model_module_version": "1.5.0",
          "state": {
            "_model_module": "@jupyter-widgets/controls",
            "_model_module_version": "1.5.0",
            "_model_name": "DescriptionStyleModel",
            "_view_count": null,
            "_view_module": "@jupyter-widgets/base",
            "_view_module_version": "1.2.0",
            "_view_name": "StyleView",
            "description_width": ""
          }
        },
        "7ad583b8202b44d082946ad1b6b6991b": {
          "model_module": "@jupyter-widgets/base",
          "model_name": "LayoutModel",
          "model_module_version": "1.2.0",
          "state": {
            "_model_module": "@jupyter-widgets/base",
            "_model_module_version": "1.2.0",
            "_model_name": "LayoutModel",
            "_view_count": null,
            "_view_module": "@jupyter-widgets/base",
            "_view_module_version": "1.2.0",
            "_view_name": "LayoutView",
            "align_content": null,
            "align_items": null,
            "align_self": null,
            "border": null,
            "bottom": null,
            "display": null,
            "flex": null,
            "flex_flow": null,
            "grid_area": null,
            "grid_auto_columns": null,
            "grid_auto_flow": null,
            "grid_auto_rows": null,
            "grid_column": null,
            "grid_gap": null,
            "grid_row": null,
            "grid_template_areas": null,
            "grid_template_columns": null,
            "grid_template_rows": null,
            "height": null,
            "justify_content": null,
            "justify_items": null,
            "left": null,
            "margin": null,
            "max_height": null,
            "max_width": null,
            "min_height": null,
            "min_width": null,
            "object_fit": null,
            "object_position": null,
            "order": null,
            "overflow": null,
            "overflow_x": null,
            "overflow_y": null,
            "padding": null,
            "right": null,
            "top": null,
            "visibility": null,
            "width": null
          }
        },
        "5590622e7f324f83af17b8a3e716f823": {
          "model_module": "@jupyter-widgets/controls",
          "model_name": "ProgressStyleModel",
          "model_module_version": "1.5.0",
          "state": {
            "_model_module": "@jupyter-widgets/controls",
            "_model_module_version": "1.5.0",
            "_model_name": "ProgressStyleModel",
            "_view_count": null,
            "_view_module": "@jupyter-widgets/base",
            "_view_module_version": "1.2.0",
            "_view_name": "StyleView",
            "bar_color": null,
            "description_width": ""
          }
        },
        "2df7f5cb6a564eff96a61dc0bfced991": {
          "model_module": "@jupyter-widgets/base",
          "model_name": "LayoutModel",
          "model_module_version": "1.2.0",
          "state": {
            "_model_module": "@jupyter-widgets/base",
            "_model_module_version": "1.2.0",
            "_model_name": "LayoutModel",
            "_view_count": null,
            "_view_module": "@jupyter-widgets/base",
            "_view_module_version": "1.2.0",
            "_view_name": "LayoutView",
            "align_content": null,
            "align_items": null,
            "align_self": null,
            "border": null,
            "bottom": null,
            "display": null,
            "flex": null,
            "flex_flow": null,
            "grid_area": null,
            "grid_auto_columns": null,
            "grid_auto_flow": null,
            "grid_auto_rows": null,
            "grid_column": null,
            "grid_gap": null,
            "grid_row": null,
            "grid_template_areas": null,
            "grid_template_columns": null,
            "grid_template_rows": null,
            "height": null,
            "justify_content": null,
            "justify_items": null,
            "left": null,
            "margin": null,
            "max_height": null,
            "max_width": null,
            "min_height": null,
            "min_width": null,
            "object_fit": null,
            "object_position": null,
            "order": null,
            "overflow": null,
            "overflow_x": null,
            "overflow_y": null,
            "padding": null,
            "right": null,
            "top": null,
            "visibility": null,
            "width": null
          }
        },
        "4f8738687aaf411cb2ecdd9222e64dc6": {
          "model_module": "@jupyter-widgets/controls",
          "model_name": "DescriptionStyleModel",
          "model_module_version": "1.5.0",
          "state": {
            "_model_module": "@jupyter-widgets/controls",
            "_model_module_version": "1.5.0",
            "_model_name": "DescriptionStyleModel",
            "_view_count": null,
            "_view_module": "@jupyter-widgets/base",
            "_view_module_version": "1.2.0",
            "_view_name": "StyleView",
            "description_width": ""
          }
        },
        "09c9ff223d964c60ab8a368b23b1ec02": {
          "model_module": "@jupyter-widgets/controls",
          "model_name": "HBoxModel",
          "model_module_version": "1.5.0",
          "state": {
            "_dom_classes": [],
            "_model_module": "@jupyter-widgets/controls",
            "_model_module_version": "1.5.0",
            "_model_name": "HBoxModel",
            "_view_count": null,
            "_view_module": "@jupyter-widgets/controls",
            "_view_module_version": "1.5.0",
            "_view_name": "HBoxView",
            "box_style": "",
            "children": [
              "IPY_MODEL_2943682454c84e2ca293aa17ddd49aaa",
              "IPY_MODEL_b464e2f1050c42bbb7ddce9b93f39f35",
              "IPY_MODEL_903924b83c2e438ea4dd17fc5ed85495"
            ],
            "layout": "IPY_MODEL_037c57eacea44aecb99a28cd09d07dc6"
          }
        },
        "2943682454c84e2ca293aa17ddd49aaa": {
          "model_module": "@jupyter-widgets/controls",
          "model_name": "HTMLModel",
          "model_module_version": "1.5.0",
          "state": {
            "_dom_classes": [],
            "_model_module": "@jupyter-widgets/controls",
            "_model_module_version": "1.5.0",
            "_model_name": "HTMLModel",
            "_view_count": null,
            "_view_module": "@jupyter-widgets/controls",
            "_view_module_version": "1.5.0",
            "_view_name": "HTMLView",
            "description": "",
            "description_tooltip": null,
            "layout": "IPY_MODEL_30d49b2550174a7d83ef1259173777e4",
            "placeholder": "​",
            "style": "IPY_MODEL_a924adccf3f34386a66425ad5b82b600",
            "value": "Processing:   0%"
          }
        },
        "b464e2f1050c42bbb7ddce9b93f39f35": {
          "model_module": "@jupyter-widgets/controls",
          "model_name": "FloatProgressModel",
          "model_module_version": "1.5.0",
          "state": {
            "_dom_classes": [],
            "_model_module": "@jupyter-widgets/controls",
            "_model_module_version": "1.5.0",
            "_model_name": "FloatProgressModel",
            "_view_count": null,
            "_view_module": "@jupyter-widgets/controls",
            "_view_module_version": "1.5.0",
            "_view_name": "ProgressView",
            "bar_style": "",
            "description": "",
            "description_tooltip": null,
            "layout": "IPY_MODEL_adcff82741e0457182622a45d498b43d",
            "max": 3,
            "min": 0,
            "orientation": "horizontal",
            "style": "IPY_MODEL_9b61f634072b41d79a0a19269a1e2ebf",
            "value": 3
          }
        },
        "903924b83c2e438ea4dd17fc5ed85495": {
          "model_module": "@jupyter-widgets/controls",
          "model_name": "HTMLModel",
          "model_module_version": "1.5.0",
          "state": {
            "_dom_classes": [],
            "_model_module": "@jupyter-widgets/controls",
            "_model_module_version": "1.5.0",
            "_model_name": "HTMLModel",
            "_view_count": null,
            "_view_module": "@jupyter-widgets/controls",
            "_view_module_version": "1.5.0",
            "_view_name": "HTMLView",
            "description": "",
            "description_tooltip": null,
            "layout": "IPY_MODEL_d0a2f2d334e4482383132e1f61fb19b9",
            "placeholder": "​",
            "style": "IPY_MODEL_f9380e3a86794929871f31c577c8898b",
            "value": " 0/3 [00:00&lt;?, ?it/s]"
          }
        },
        "037c57eacea44aecb99a28cd09d07dc6": {
          "model_module": "@jupyter-widgets/base",
          "model_name": "LayoutModel",
          "model_module_version": "1.2.0",
          "state": {
            "_model_module": "@jupyter-widgets/base",
            "_model_module_version": "1.2.0",
            "_model_name": "LayoutModel",
            "_view_count": null,
            "_view_module": "@jupyter-widgets/base",
            "_view_module_version": "1.2.0",
            "_view_name": "LayoutView",
            "align_content": null,
            "align_items": null,
            "align_self": null,
            "border": null,
            "bottom": null,
            "display": null,
            "flex": null,
            "flex_flow": null,
            "grid_area": null,
            "grid_auto_columns": null,
            "grid_auto_flow": null,
            "grid_auto_rows": null,
            "grid_column": null,
            "grid_gap": null,
            "grid_row": null,
            "grid_template_areas": null,
            "grid_template_columns": null,
            "grid_template_rows": null,
            "height": null,
            "justify_content": null,
            "justify_items": null,
            "left": null,
            "margin": null,
            "max_height": null,
            "max_width": null,
            "min_height": null,
            "min_width": null,
            "object_fit": null,
            "object_position": null,
            "order": null,
            "overflow": null,
            "overflow_x": null,
            "overflow_y": null,
            "padding": null,
            "right": null,
            "top": null,
            "visibility": "hidden",
            "width": null
          }
        },
        "30d49b2550174a7d83ef1259173777e4": {
          "model_module": "@jupyter-widgets/base",
          "model_name": "LayoutModel",
          "model_module_version": "1.2.0",
          "state": {
            "_model_module": "@jupyter-widgets/base",
            "_model_module_version": "1.2.0",
            "_model_name": "LayoutModel",
            "_view_count": null,
            "_view_module": "@jupyter-widgets/base",
            "_view_module_version": "1.2.0",
            "_view_name": "LayoutView",
            "align_content": null,
            "align_items": null,
            "align_self": null,
            "border": null,
            "bottom": null,
            "display": null,
            "flex": null,
            "flex_flow": null,
            "grid_area": null,
            "grid_auto_columns": null,
            "grid_auto_flow": null,
            "grid_auto_rows": null,
            "grid_column": null,
            "grid_gap": null,
            "grid_row": null,
            "grid_template_areas": null,
            "grid_template_columns": null,
            "grid_template_rows": null,
            "height": null,
            "justify_content": null,
            "justify_items": null,
            "left": null,
            "margin": null,
            "max_height": null,
            "max_width": null,
            "min_height": null,
            "min_width": null,
            "object_fit": null,
            "object_position": null,
            "order": null,
            "overflow": null,
            "overflow_x": null,
            "overflow_y": null,
            "padding": null,
            "right": null,
            "top": null,
            "visibility": null,
            "width": null
          }
        },
        "a924adccf3f34386a66425ad5b82b600": {
          "model_module": "@jupyter-widgets/controls",
          "model_name": "DescriptionStyleModel",
          "model_module_version": "1.5.0",
          "state": {
            "_model_module": "@jupyter-widgets/controls",
            "_model_module_version": "1.5.0",
            "_model_name": "DescriptionStyleModel",
            "_view_count": null,
            "_view_module": "@jupyter-widgets/base",
            "_view_module_version": "1.2.0",
            "_view_name": "StyleView",
            "description_width": ""
          }
        },
        "adcff82741e0457182622a45d498b43d": {
          "model_module": "@jupyter-widgets/base",
          "model_name": "LayoutModel",
          "model_module_version": "1.2.0",
          "state": {
            "_model_module": "@jupyter-widgets/base",
            "_model_module_version": "1.2.0",
            "_model_name": "LayoutModel",
            "_view_count": null,
            "_view_module": "@jupyter-widgets/base",
            "_view_module_version": "1.2.0",
            "_view_name": "LayoutView",
            "align_content": null,
            "align_items": null,
            "align_self": null,
            "border": null,
            "bottom": null,
            "display": null,
            "flex": null,
            "flex_flow": null,
            "grid_area": null,
            "grid_auto_columns": null,
            "grid_auto_flow": null,
            "grid_auto_rows": null,
            "grid_column": null,
            "grid_gap": null,
            "grid_row": null,
            "grid_template_areas": null,
            "grid_template_columns": null,
            "grid_template_rows": null,
            "height": null,
            "justify_content": null,
            "justify_items": null,
            "left": null,
            "margin": null,
            "max_height": null,
            "max_width": null,
            "min_height": null,
            "min_width": null,
            "object_fit": null,
            "object_position": null,
            "order": null,
            "overflow": null,
            "overflow_x": null,
            "overflow_y": null,
            "padding": null,
            "right": null,
            "top": null,
            "visibility": null,
            "width": null
          }
        },
        "9b61f634072b41d79a0a19269a1e2ebf": {
          "model_module": "@jupyter-widgets/controls",
          "model_name": "ProgressStyleModel",
          "model_module_version": "1.5.0",
          "state": {
            "_model_module": "@jupyter-widgets/controls",
            "_model_module_version": "1.5.0",
            "_model_name": "ProgressStyleModel",
            "_view_count": null,
            "_view_module": "@jupyter-widgets/base",
            "_view_module_version": "1.2.0",
            "_view_name": "StyleView",
            "bar_color": null,
            "description_width": ""
          }
        },
        "d0a2f2d334e4482383132e1f61fb19b9": {
          "model_module": "@jupyter-widgets/base",
          "model_name": "LayoutModel",
          "model_module_version": "1.2.0",
          "state": {
            "_model_module": "@jupyter-widgets/base",
            "_model_module_version": "1.2.0",
            "_model_name": "LayoutModel",
            "_view_count": null,
            "_view_module": "@jupyter-widgets/base",
            "_view_module_version": "1.2.0",
            "_view_name": "LayoutView",
            "align_content": null,
            "align_items": null,
            "align_self": null,
            "border": null,
            "bottom": null,
            "display": null,
            "flex": null,
            "flex_flow": null,
            "grid_area": null,
            "grid_auto_columns": null,
            "grid_auto_flow": null,
            "grid_auto_rows": null,
            "grid_column": null,
            "grid_gap": null,
            "grid_row": null,
            "grid_template_areas": null,
            "grid_template_columns": null,
            "grid_template_rows": null,
            "height": null,
            "justify_content": null,
            "justify_items": null,
            "left": null,
            "margin": null,
            "max_height": null,
            "max_width": null,
            "min_height": null,
            "min_width": null,
            "object_fit": null,
            "object_position": null,
            "order": null,
            "overflow": null,
            "overflow_x": null,
            "overflow_y": null,
            "padding": null,
            "right": null,
            "top": null,
            "visibility": null,
            "width": null
          }
        },
        "f9380e3a86794929871f31c577c8898b": {
          "model_module": "@jupyter-widgets/controls",
          "model_name": "DescriptionStyleModel",
          "model_module_version": "1.5.0",
          "state": {
            "_model_module": "@jupyter-widgets/controls",
            "_model_module_version": "1.5.0",
            "_model_name": "DescriptionStyleModel",
            "_view_count": null,
            "_view_module": "@jupyter-widgets/base",
            "_view_module_version": "1.2.0",
            "_view_name": "StyleView",
            "description_width": ""
          }
        },
        "cef0db0111614f8098843e4404c42ffd": {
          "model_module": "@jupyter-widgets/controls",
          "model_name": "HBoxModel",
          "model_module_version": "1.5.0",
          "state": {
            "_dom_classes": [],
            "_model_module": "@jupyter-widgets/controls",
            "_model_module_version": "1.5.0",
            "_model_name": "HBoxModel",
            "_view_count": null,
            "_view_module": "@jupyter-widgets/controls",
            "_view_module_version": "1.5.0",
            "_view_name": "HBoxView",
            "box_style": "",
            "children": [
              "IPY_MODEL_3d1be55da709499dab9888cf48c2a5f0",
              "IPY_MODEL_83e303c872014f8b96f1c1a6dec7daac",
              "IPY_MODEL_2b685364b7124a919128f034fee57895"
            ],
            "layout": "IPY_MODEL_49aaba3d15584ea2ac8e10a5065bec72"
          }
        },
        "3d1be55da709499dab9888cf48c2a5f0": {
          "model_module": "@jupyter-widgets/controls",
          "model_name": "HTMLModel",
          "model_module_version": "1.5.0",
          "state": {
            "_dom_classes": [],
            "_model_module": "@jupyter-widgets/controls",
            "_model_module_version": "1.5.0",
            "_model_name": "HTMLModel",
            "_view_count": null,
            "_view_module": "@jupyter-widgets/controls",
            "_view_module_version": "1.5.0",
            "_view_name": "HTMLView",
            "description": "",
            "description_tooltip": null,
            "layout": "IPY_MODEL_b1ea2306b1f242cb8b7ff1e8327a2fd6",
            "placeholder": "​",
            "style": "IPY_MODEL_907e0a6c5375456ca41219637c6106b7",
            "value": "Processing:   0%"
          }
        },
        "83e303c872014f8b96f1c1a6dec7daac": {
          "model_module": "@jupyter-widgets/controls",
          "model_name": "FloatProgressModel",
          "model_module_version": "1.5.0",
          "state": {
            "_dom_classes": [],
            "_model_module": "@jupyter-widgets/controls",
            "_model_module_version": "1.5.0",
            "_model_name": "FloatProgressModel",
            "_view_count": null,
            "_view_module": "@jupyter-widgets/controls",
            "_view_module_version": "1.5.0",
            "_view_name": "ProgressView",
            "bar_style": "",
            "description": "",
            "description_tooltip": null,
            "layout": "IPY_MODEL_deb468e91a824fc488e58096c8a8da8b",
            "max": 3,
            "min": 0,
            "orientation": "horizontal",
            "style": "IPY_MODEL_97baed2d63c041d8a60f06bad8ef6eb6",
            "value": 3
          }
        },
        "2b685364b7124a919128f034fee57895": {
          "model_module": "@jupyter-widgets/controls",
          "model_name": "HTMLModel",
          "model_module_version": "1.5.0",
          "state": {
            "_dom_classes": [],
            "_model_module": "@jupyter-widgets/controls",
            "_model_module_version": "1.5.0",
            "_model_name": "HTMLModel",
            "_view_count": null,
            "_view_module": "@jupyter-widgets/controls",
            "_view_module_version": "1.5.0",
            "_view_name": "HTMLView",
            "description": "",
            "description_tooltip": null,
            "layout": "IPY_MODEL_2234146b758f400c82ef878a0ca356b9",
            "placeholder": "​",
            "style": "IPY_MODEL_2bc48f6f122340ef9ffb9a4079a6b049",
            "value": " 0/3 [00:00&lt;?, ?it/s]"
          }
        },
        "49aaba3d15584ea2ac8e10a5065bec72": {
          "model_module": "@jupyter-widgets/base",
          "model_name": "LayoutModel",
          "model_module_version": "1.2.0",
          "state": {
            "_model_module": "@jupyter-widgets/base",
            "_model_module_version": "1.2.0",
            "_model_name": "LayoutModel",
            "_view_count": null,
            "_view_module": "@jupyter-widgets/base",
            "_view_module_version": "1.2.0",
            "_view_name": "LayoutView",
            "align_content": null,
            "align_items": null,
            "align_self": null,
            "border": null,
            "bottom": null,
            "display": null,
            "flex": null,
            "flex_flow": null,
            "grid_area": null,
            "grid_auto_columns": null,
            "grid_auto_flow": null,
            "grid_auto_rows": null,
            "grid_column": null,
            "grid_gap": null,
            "grid_row": null,
            "grid_template_areas": null,
            "grid_template_columns": null,
            "grid_template_rows": null,
            "height": null,
            "justify_content": null,
            "justify_items": null,
            "left": null,
            "margin": null,
            "max_height": null,
            "max_width": null,
            "min_height": null,
            "min_width": null,
            "object_fit": null,
            "object_position": null,
            "order": null,
            "overflow": null,
            "overflow_x": null,
            "overflow_y": null,
            "padding": null,
            "right": null,
            "top": null,
            "visibility": "hidden",
            "width": null
          }
        },
        "b1ea2306b1f242cb8b7ff1e8327a2fd6": {
          "model_module": "@jupyter-widgets/base",
          "model_name": "LayoutModel",
          "model_module_version": "1.2.0",
          "state": {
            "_model_module": "@jupyter-widgets/base",
            "_model_module_version": "1.2.0",
            "_model_name": "LayoutModel",
            "_view_count": null,
            "_view_module": "@jupyter-widgets/base",
            "_view_module_version": "1.2.0",
            "_view_name": "LayoutView",
            "align_content": null,
            "align_items": null,
            "align_self": null,
            "border": null,
            "bottom": null,
            "display": null,
            "flex": null,
            "flex_flow": null,
            "grid_area": null,
            "grid_auto_columns": null,
            "grid_auto_flow": null,
            "grid_auto_rows": null,
            "grid_column": null,
            "grid_gap": null,
            "grid_row": null,
            "grid_template_areas": null,
            "grid_template_columns": null,
            "grid_template_rows": null,
            "height": null,
            "justify_content": null,
            "justify_items": null,
            "left": null,
            "margin": null,
            "max_height": null,
            "max_width": null,
            "min_height": null,
            "min_width": null,
            "object_fit": null,
            "object_position": null,
            "order": null,
            "overflow": null,
            "overflow_x": null,
            "overflow_y": null,
            "padding": null,
            "right": null,
            "top": null,
            "visibility": null,
            "width": null
          }
        },
        "907e0a6c5375456ca41219637c6106b7": {
          "model_module": "@jupyter-widgets/controls",
          "model_name": "DescriptionStyleModel",
          "model_module_version": "1.5.0",
          "state": {
            "_model_module": "@jupyter-widgets/controls",
            "_model_module_version": "1.5.0",
            "_model_name": "DescriptionStyleModel",
            "_view_count": null,
            "_view_module": "@jupyter-widgets/base",
            "_view_module_version": "1.2.0",
            "_view_name": "StyleView",
            "description_width": ""
          }
        },
        "deb468e91a824fc488e58096c8a8da8b": {
          "model_module": "@jupyter-widgets/base",
          "model_name": "LayoutModel",
          "model_module_version": "1.2.0",
          "state": {
            "_model_module": "@jupyter-widgets/base",
            "_model_module_version": "1.2.0",
            "_model_name": "LayoutModel",
            "_view_count": null,
            "_view_module": "@jupyter-widgets/base",
            "_view_module_version": "1.2.0",
            "_view_name": "LayoutView",
            "align_content": null,
            "align_items": null,
            "align_self": null,
            "border": null,
            "bottom": null,
            "display": null,
            "flex": null,
            "flex_flow": null,
            "grid_area": null,
            "grid_auto_columns": null,
            "grid_auto_flow": null,
            "grid_auto_rows": null,
            "grid_column": null,
            "grid_gap": null,
            "grid_row": null,
            "grid_template_areas": null,
            "grid_template_columns": null,
            "grid_template_rows": null,
            "height": null,
            "justify_content": null,
            "justify_items": null,
            "left": null,
            "margin": null,
            "max_height": null,
            "max_width": null,
            "min_height": null,
            "min_width": null,
            "object_fit": null,
            "object_position": null,
            "order": null,
            "overflow": null,
            "overflow_x": null,
            "overflow_y": null,
            "padding": null,
            "right": null,
            "top": null,
            "visibility": null,
            "width": null
          }
        },
        "97baed2d63c041d8a60f06bad8ef6eb6": {
          "model_module": "@jupyter-widgets/controls",
          "model_name": "ProgressStyleModel",
          "model_module_version": "1.5.0",
          "state": {
            "_model_module": "@jupyter-widgets/controls",
            "_model_module_version": "1.5.0",
            "_model_name": "ProgressStyleModel",
            "_view_count": null,
            "_view_module": "@jupyter-widgets/base",
            "_view_module_version": "1.2.0",
            "_view_name": "StyleView",
            "bar_color": null,
            "description_width": ""
          }
        },
        "2234146b758f400c82ef878a0ca356b9": {
          "model_module": "@jupyter-widgets/base",
          "model_name": "LayoutModel",
          "model_module_version": "1.2.0",
          "state": {
            "_model_module": "@jupyter-widgets/base",
            "_model_module_version": "1.2.0",
            "_model_name": "LayoutModel",
            "_view_count": null,
            "_view_module": "@jupyter-widgets/base",
            "_view_module_version": "1.2.0",
            "_view_name": "LayoutView",
            "align_content": null,
            "align_items": null,
            "align_self": null,
            "border": null,
            "bottom": null,
            "display": null,
            "flex": null,
            "flex_flow": null,
            "grid_area": null,
            "grid_auto_columns": null,
            "grid_auto_flow": null,
            "grid_auto_rows": null,
            "grid_column": null,
            "grid_gap": null,
            "grid_row": null,
            "grid_template_areas": null,
            "grid_template_columns": null,
            "grid_template_rows": null,
            "height": null,
            "justify_content": null,
            "justify_items": null,
            "left": null,
            "margin": null,
            "max_height": null,
            "max_width": null,
            "min_height": null,
            "min_width": null,
            "object_fit": null,
            "object_position": null,
            "order": null,
            "overflow": null,
            "overflow_x": null,
            "overflow_y": null,
            "padding": null,
            "right": null,
            "top": null,
            "visibility": null,
            "width": null
          }
        },
        "2bc48f6f122340ef9ffb9a4079a6b049": {
          "model_module": "@jupyter-widgets/controls",
          "model_name": "DescriptionStyleModel",
          "model_module_version": "1.5.0",
          "state": {
            "_model_module": "@jupyter-widgets/controls",
            "_model_module_version": "1.5.0",
            "_model_name": "DescriptionStyleModel",
            "_view_count": null,
            "_view_module": "@jupyter-widgets/base",
            "_view_module_version": "1.2.0",
            "_view_name": "StyleView",
            "description_width": ""
          }
        }
      }
    }
  },
  "cells": [
    {
      "cell_type": "markdown",
      "metadata": {
        "id": "view-in-github",
        "colab_type": "text"
      },
      "source": [
        "<a href=\"https://colab.research.google.com/github/Bhavleenk/Machine-Learning-Notebooks/blob/main/PyCaret_Clustering.ipynb\" target=\"_parent\"><img src=\"https://colab.research.google.com/assets/colab-badge.svg\" alt=\"Open In Colab\"/></a>"
      ]
    },
    {
      "cell_type": "markdown",
      "metadata": {
        "id": "7nQSRI4Dim1Y"
      },
      "source": [
        "---\n",
        "# **PyCaret for Clustering**\n",
        "---\n",
        "- It is a bundle of many Machine Learning algorithms.\n",
        "- Only three lines of code is required to compare 20 ML models.\n",
        "- Pycaret is available for:\n",
        "    - Classification\n",
        "    - Regression\n",
        "    - Clustering\n",
        "\n",
        "---\n",
        "\n",
        "### **Self learning resource**\n",
        "1. Tutorial on Pycaret **<a href=\"https://pycaret.readthedocs.io/en/latest/tutorials.html\"> Click Here</a>**\n",
        "\n",
        "2. Documentation on Pycaret-Clustering: **<a href=\"https://pycaret.readthedocs.io/en/latest/api/clustering.html\"> Click Here </a>**\n",
        "\n",
        "---\n"
      ]
    },
    {
      "cell_type": "markdown",
      "metadata": {
        "id": "A30y-VtNim1h"
      },
      "source": [
        "### **(a) Install Pycaret**"
      ]
    },
    {
      "cell_type": "code",
      "metadata": {
        "id": "cF_mSA9Xim1j",
        "colab": {
          "base_uri": "https://localhost:8080/"
        },
        "outputId": "3f4b6157-31a6-4179-9fdd-15d570d64fbf"
      },
      "source": [
        "!pip install pycaret &> /dev/null\n",
        "print (\"Pycaret installed sucessfully!!\")"
      ],
      "execution_count": 1,
      "outputs": [
        {
          "output_type": "stream",
          "name": "stdout",
          "text": [
            "Pycaret installed sucessfully!!\n"
          ]
        }
      ]
    },
    {
      "cell_type": "markdown",
      "metadata": {
        "id": "UjvBYy0Lim1m"
      },
      "source": [
        "### **(b) Get the version of the pycaret**"
      ]
    },
    {
      "cell_type": "code",
      "metadata": {
        "id": "NHB2KMhZim1o",
        "colab": {
          "base_uri": "https://localhost:8080/",
          "height": 36
        },
        "outputId": "d0f2d7a7-3c4f-4be1-df08-fd419b16a9ea"
      },
      "source": [
        "from pycaret.utils import version\n",
        "version()"
      ],
      "execution_count": 2,
      "outputs": [
        {
          "output_type": "execute_result",
          "data": {
            "text/plain": [
              "'3.0.2'"
            ],
            "application/vnd.google.colaboratory.intrinsic+json": {
              "type": "string"
            }
          },
          "metadata": {},
          "execution_count": 2
        }
      ]
    },
    {
      "cell_type": "markdown",
      "metadata": {
        "id": "BTLd3s--im1c"
      },
      "source": [
        "---\n",
        "# **1. Clustering - Part 1 (Kmean Clustering)**\n",
        "---\n",
        "### **1.1 Get the list of datasets available in pycaret (55)**"
      ]
    },
    {
      "cell_type": "code",
      "metadata": {
        "id": "veBU-f21im1x",
        "colab": {
          "base_uri": "https://localhost:8080/",
          "height": 1000
        },
        "outputId": "6c4ec594-21fb-4c70-95eb-5f9335a1fb46"
      },
      "source": [
        "from pycaret.datasets import get_data\n",
        "dataSets = get_data('index')"
      ],
      "execution_count": 3,
      "outputs": [
        {
          "output_type": "display_data",
          "data": {
            "text/plain": [
              "                             Dataset    Data Types  \\\n",
              "0                            anomaly  Multivariate   \n",
              "1                             france  Multivariate   \n",
              "2                            germany  Multivariate   \n",
              "3                               bank  Multivariate   \n",
              "4                              blood  Multivariate   \n",
              "5                             cancer  Multivariate   \n",
              "6                             credit  Multivariate   \n",
              "7                           diabetes  Multivariate   \n",
              "8                    electrical_grid  Multivariate   \n",
              "9                           employee  Multivariate   \n",
              "10                             heart  Multivariate   \n",
              "11                     heart_disease  Multivariate   \n",
              "12                         hepatitis  Multivariate   \n",
              "13                            income  Multivariate   \n",
              "14                             juice  Multivariate   \n",
              "15                               nba  Multivariate   \n",
              "16                              wine  Multivariate   \n",
              "17                         telescope  Multivariate   \n",
              "18                           titanic  Multivariate   \n",
              "19  us_presidential_election_results  Multivariate   \n",
              "20                             glass  Multivariate   \n",
              "21                              iris  Multivariate   \n",
              "22                             poker  Multivariate   \n",
              "23                         questions  Multivariate   \n",
              "24                         satellite  Multivariate   \n",
              "25                               CTG  Multivariate   \n",
              "26                          asia_gdp  Multivariate   \n",
              "27                         elections  Multivariate   \n",
              "28                          facebook  Multivariate   \n",
              "29                               ipl  Multivariate   \n",
              "30                         jewellery  Multivariate   \n",
              "31                              mice  Multivariate   \n",
              "32                         migration  Multivariate   \n",
              "33                           perfume  Multivariate   \n",
              "34                           pokemon  Multivariate   \n",
              "35                        population  Multivariate   \n",
              "36                     public_health  Multivariate   \n",
              "37                             seeds  Multivariate   \n",
              "38                         wholesale  Multivariate   \n",
              "39                            tweets          Text   \n",
              "40                            amazon          Text   \n",
              "41                              kiva          Text   \n",
              "42                               spx          Text   \n",
              "43                         wikipedia          Text   \n",
              "44                        automobile  Multivariate   \n",
              "45                              bike  Multivariate   \n",
              "46                            boston  Multivariate   \n",
              "47                          concrete  Multivariate   \n",
              "48                           diamond  Multivariate   \n",
              "49                            energy  Multivariate   \n",
              "50                            forest  Multivariate   \n",
              "51                              gold  Multivariate   \n",
              "52                             house  Multivariate   \n",
              "53                         insurance  Multivariate   \n",
              "54                        parkinsons  Multivariate   \n",
              "55                           traffic  Multivariate   \n",
              "\n",
              "                   Default Task Target Variable 1 Target Variable 2  \\\n",
              "0             Anomaly Detection              None              None   \n",
              "1       Association Rule Mining         InvoiceNo       Description   \n",
              "2       Association Rule Mining         InvoiceNo       Description   \n",
              "3       Classification (Binary)           deposit              None   \n",
              "4       Classification (Binary)             Class              None   \n",
              "5       Classification (Binary)             Class              None   \n",
              "6       Classification (Binary)           default              None   \n",
              "7       Classification (Binary)    Class variable              None   \n",
              "8       Classification (Binary)             stabf              None   \n",
              "9       Classification (Binary)              left              None   \n",
              "10      Classification (Binary)             DEATH              None   \n",
              "11      Classification (Binary)           Disease              None   \n",
              "12      Classification (Binary)             Class              None   \n",
              "13      Classification (Binary)       income >50K              None   \n",
              "14      Classification (Binary)          Purchase              None   \n",
              "15      Classification (Binary)       TARGET_5Yrs              None   \n",
              "16      Classification (Binary)              type              None   \n",
              "17      Classification (Binary)             Class              None   \n",
              "18      Classification (Binary)          Survived              None   \n",
              "19      Classification (Binary)      party_winner              None   \n",
              "20  Classification (Multiclass)              Type              None   \n",
              "21  Classification (Multiclass)           species              None   \n",
              "22  Classification (Multiclass)             CLASS              None   \n",
              "23  Classification (Multiclass)     Next_Question              None   \n",
              "24  Classification (Multiclass)             Class              None   \n",
              "25  Classification (Multiclass)               NSP              None   \n",
              "26                   Clustering              None              None   \n",
              "27                   Clustering              None              None   \n",
              "28                   Clustering              None              None   \n",
              "29                   Clustering              None              None   \n",
              "30                   Clustering              None              None   \n",
              "31                   Clustering              None              None   \n",
              "32                   Clustering              None              None   \n",
              "33                   Clustering              None              None   \n",
              "34                   Clustering              None              None   \n",
              "35                   Clustering              None              None   \n",
              "36                   Clustering              None              None   \n",
              "37                   Clustering              None              None   \n",
              "38                   Clustering              None              None   \n",
              "39                          NLP             tweet              None   \n",
              "40         NLP / Classification        reviewText              None   \n",
              "41         NLP / Classification                en              None   \n",
              "42             NLP / Regression              text              None   \n",
              "43         NLP / Classification              Text              None   \n",
              "44                   Regression             price              None   \n",
              "45                   Regression               cnt              None   \n",
              "46                   Regression              medv              None   \n",
              "47                   Regression          strength              None   \n",
              "48                   Regression             Price              None   \n",
              "49                   Regression      Heating Load      Cooling Load   \n",
              "50                   Regression              area              None   \n",
              "51                   Regression         Gold_T+22              None   \n",
              "52                   Regression         SalePrice              None   \n",
              "53                   Regression           charges              None   \n",
              "54                   Regression               PPE              None   \n",
              "55                   Regression    traffic_volume              None   \n",
              "\n",
              "    # Instances  # Attributes Missing Values  \n",
              "0          1000            10              N  \n",
              "1          8557             8              N  \n",
              "2          9495             8              N  \n",
              "3         45211            17              N  \n",
              "4           748             5              N  \n",
              "5           683            10              N  \n",
              "6         24000            24              N  \n",
              "7           768             9              N  \n",
              "8         10000            14              N  \n",
              "9         14999            10              N  \n",
              "10          200            16              N  \n",
              "11          270            14              N  \n",
              "12          154            32              Y  \n",
              "13        32561            14              Y  \n",
              "14         1070            15              N  \n",
              "15         1340            21              N  \n",
              "16         6498            13              N  \n",
              "17        19020            11              N  \n",
              "18          891            11              Y  \n",
              "19          497             7              N  \n",
              "20          214            10              N  \n",
              "21          150             5              N  \n",
              "22       100000            11              N  \n",
              "23          499             4              N  \n",
              "24         6435            37              N  \n",
              "25         2129            40              Y  \n",
              "26           40            11              N  \n",
              "27         3195            54              Y  \n",
              "28         7050            12              N  \n",
              "29          153            25              N  \n",
              "30          505             4              N  \n",
              "31         1080            82              Y  \n",
              "32          233            12              N  \n",
              "33           20            29              N  \n",
              "34          800            13              Y  \n",
              "35          255            56              Y  \n",
              "36          224            21              N  \n",
              "37          210             7              N  \n",
              "38          440             8              N  \n",
              "39         8594             2              N  \n",
              "40        20000             2              N  \n",
              "41         6818             7              N  \n",
              "42          874             4              N  \n",
              "43          500             3              N  \n",
              "44          202            26              Y  \n",
              "45        17379            15              N  \n",
              "46          506            14              N  \n",
              "47         1030             9              N  \n",
              "48         6000             8              N  \n",
              "49          768            10              N  \n",
              "50          517            13              N  \n",
              "51         2558           121              N  \n",
              "52         1461            81              Y  \n",
              "53         1338             7              N  \n",
              "54         5875            22              N  \n",
              "55        48204             8              N  "
            ],
            "text/html": [
              "\n",
              "  <div id=\"df-2d37c9de-3623-497d-b163-876dfc0696ab\">\n",
              "    <div class=\"colab-df-container\">\n",
              "      <div>\n",
              "<style scoped>\n",
              "    .dataframe tbody tr th:only-of-type {\n",
              "        vertical-align: middle;\n",
              "    }\n",
              "\n",
              "    .dataframe tbody tr th {\n",
              "        vertical-align: top;\n",
              "    }\n",
              "\n",
              "    .dataframe thead th {\n",
              "        text-align: right;\n",
              "    }\n",
              "</style>\n",
              "<table border=\"1\" class=\"dataframe\">\n",
              "  <thead>\n",
              "    <tr style=\"text-align: right;\">\n",
              "      <th></th>\n",
              "      <th>Dataset</th>\n",
              "      <th>Data Types</th>\n",
              "      <th>Default Task</th>\n",
              "      <th>Target Variable 1</th>\n",
              "      <th>Target Variable 2</th>\n",
              "      <th># Instances</th>\n",
              "      <th># Attributes</th>\n",
              "      <th>Missing Values</th>\n",
              "    </tr>\n",
              "  </thead>\n",
              "  <tbody>\n",
              "    <tr>\n",
              "      <th>0</th>\n",
              "      <td>anomaly</td>\n",
              "      <td>Multivariate</td>\n",
              "      <td>Anomaly Detection</td>\n",
              "      <td>None</td>\n",
              "      <td>None</td>\n",
              "      <td>1000</td>\n",
              "      <td>10</td>\n",
              "      <td>N</td>\n",
              "    </tr>\n",
              "    <tr>\n",
              "      <th>1</th>\n",
              "      <td>france</td>\n",
              "      <td>Multivariate</td>\n",
              "      <td>Association Rule Mining</td>\n",
              "      <td>InvoiceNo</td>\n",
              "      <td>Description</td>\n",
              "      <td>8557</td>\n",
              "      <td>8</td>\n",
              "      <td>N</td>\n",
              "    </tr>\n",
              "    <tr>\n",
              "      <th>2</th>\n",
              "      <td>germany</td>\n",
              "      <td>Multivariate</td>\n",
              "      <td>Association Rule Mining</td>\n",
              "      <td>InvoiceNo</td>\n",
              "      <td>Description</td>\n",
              "      <td>9495</td>\n",
              "      <td>8</td>\n",
              "      <td>N</td>\n",
              "    </tr>\n",
              "    <tr>\n",
              "      <th>3</th>\n",
              "      <td>bank</td>\n",
              "      <td>Multivariate</td>\n",
              "      <td>Classification (Binary)</td>\n",
              "      <td>deposit</td>\n",
              "      <td>None</td>\n",
              "      <td>45211</td>\n",
              "      <td>17</td>\n",
              "      <td>N</td>\n",
              "    </tr>\n",
              "    <tr>\n",
              "      <th>4</th>\n",
              "      <td>blood</td>\n",
              "      <td>Multivariate</td>\n",
              "      <td>Classification (Binary)</td>\n",
              "      <td>Class</td>\n",
              "      <td>None</td>\n",
              "      <td>748</td>\n",
              "      <td>5</td>\n",
              "      <td>N</td>\n",
              "    </tr>\n",
              "    <tr>\n",
              "      <th>5</th>\n",
              "      <td>cancer</td>\n",
              "      <td>Multivariate</td>\n",
              "      <td>Classification (Binary)</td>\n",
              "      <td>Class</td>\n",
              "      <td>None</td>\n",
              "      <td>683</td>\n",
              "      <td>10</td>\n",
              "      <td>N</td>\n",
              "    </tr>\n",
              "    <tr>\n",
              "      <th>6</th>\n",
              "      <td>credit</td>\n",
              "      <td>Multivariate</td>\n",
              "      <td>Classification (Binary)</td>\n",
              "      <td>default</td>\n",
              "      <td>None</td>\n",
              "      <td>24000</td>\n",
              "      <td>24</td>\n",
              "      <td>N</td>\n",
              "    </tr>\n",
              "    <tr>\n",
              "      <th>7</th>\n",
              "      <td>diabetes</td>\n",
              "      <td>Multivariate</td>\n",
              "      <td>Classification (Binary)</td>\n",
              "      <td>Class variable</td>\n",
              "      <td>None</td>\n",
              "      <td>768</td>\n",
              "      <td>9</td>\n",
              "      <td>N</td>\n",
              "    </tr>\n",
              "    <tr>\n",
              "      <th>8</th>\n",
              "      <td>electrical_grid</td>\n",
              "      <td>Multivariate</td>\n",
              "      <td>Classification (Binary)</td>\n",
              "      <td>stabf</td>\n",
              "      <td>None</td>\n",
              "      <td>10000</td>\n",
              "      <td>14</td>\n",
              "      <td>N</td>\n",
              "    </tr>\n",
              "    <tr>\n",
              "      <th>9</th>\n",
              "      <td>employee</td>\n",
              "      <td>Multivariate</td>\n",
              "      <td>Classification (Binary)</td>\n",
              "      <td>left</td>\n",
              "      <td>None</td>\n",
              "      <td>14999</td>\n",
              "      <td>10</td>\n",
              "      <td>N</td>\n",
              "    </tr>\n",
              "    <tr>\n",
              "      <th>10</th>\n",
              "      <td>heart</td>\n",
              "      <td>Multivariate</td>\n",
              "      <td>Classification (Binary)</td>\n",
              "      <td>DEATH</td>\n",
              "      <td>None</td>\n",
              "      <td>200</td>\n",
              "      <td>16</td>\n",
              "      <td>N</td>\n",
              "    </tr>\n",
              "    <tr>\n",
              "      <th>11</th>\n",
              "      <td>heart_disease</td>\n",
              "      <td>Multivariate</td>\n",
              "      <td>Classification (Binary)</td>\n",
              "      <td>Disease</td>\n",
              "      <td>None</td>\n",
              "      <td>270</td>\n",
              "      <td>14</td>\n",
              "      <td>N</td>\n",
              "    </tr>\n",
              "    <tr>\n",
              "      <th>12</th>\n",
              "      <td>hepatitis</td>\n",
              "      <td>Multivariate</td>\n",
              "      <td>Classification (Binary)</td>\n",
              "      <td>Class</td>\n",
              "      <td>None</td>\n",
              "      <td>154</td>\n",
              "      <td>32</td>\n",
              "      <td>Y</td>\n",
              "    </tr>\n",
              "    <tr>\n",
              "      <th>13</th>\n",
              "      <td>income</td>\n",
              "      <td>Multivariate</td>\n",
              "      <td>Classification (Binary)</td>\n",
              "      <td>income &gt;50K</td>\n",
              "      <td>None</td>\n",
              "      <td>32561</td>\n",
              "      <td>14</td>\n",
              "      <td>Y</td>\n",
              "    </tr>\n",
              "    <tr>\n",
              "      <th>14</th>\n",
              "      <td>juice</td>\n",
              "      <td>Multivariate</td>\n",
              "      <td>Classification (Binary)</td>\n",
              "      <td>Purchase</td>\n",
              "      <td>None</td>\n",
              "      <td>1070</td>\n",
              "      <td>15</td>\n",
              "      <td>N</td>\n",
              "    </tr>\n",
              "    <tr>\n",
              "      <th>15</th>\n",
              "      <td>nba</td>\n",
              "      <td>Multivariate</td>\n",
              "      <td>Classification (Binary)</td>\n",
              "      <td>TARGET_5Yrs</td>\n",
              "      <td>None</td>\n",
              "      <td>1340</td>\n",
              "      <td>21</td>\n",
              "      <td>N</td>\n",
              "    </tr>\n",
              "    <tr>\n",
              "      <th>16</th>\n",
              "      <td>wine</td>\n",
              "      <td>Multivariate</td>\n",
              "      <td>Classification (Binary)</td>\n",
              "      <td>type</td>\n",
              "      <td>None</td>\n",
              "      <td>6498</td>\n",
              "      <td>13</td>\n",
              "      <td>N</td>\n",
              "    </tr>\n",
              "    <tr>\n",
              "      <th>17</th>\n",
              "      <td>telescope</td>\n",
              "      <td>Multivariate</td>\n",
              "      <td>Classification (Binary)</td>\n",
              "      <td>Class</td>\n",
              "      <td>None</td>\n",
              "      <td>19020</td>\n",
              "      <td>11</td>\n",
              "      <td>N</td>\n",
              "    </tr>\n",
              "    <tr>\n",
              "      <th>18</th>\n",
              "      <td>titanic</td>\n",
              "      <td>Multivariate</td>\n",
              "      <td>Classification (Binary)</td>\n",
              "      <td>Survived</td>\n",
              "      <td>None</td>\n",
              "      <td>891</td>\n",
              "      <td>11</td>\n",
              "      <td>Y</td>\n",
              "    </tr>\n",
              "    <tr>\n",
              "      <th>19</th>\n",
              "      <td>us_presidential_election_results</td>\n",
              "      <td>Multivariate</td>\n",
              "      <td>Classification (Binary)</td>\n",
              "      <td>party_winner</td>\n",
              "      <td>None</td>\n",
              "      <td>497</td>\n",
              "      <td>7</td>\n",
              "      <td>N</td>\n",
              "    </tr>\n",
              "    <tr>\n",
              "      <th>20</th>\n",
              "      <td>glass</td>\n",
              "      <td>Multivariate</td>\n",
              "      <td>Classification (Multiclass)</td>\n",
              "      <td>Type</td>\n",
              "      <td>None</td>\n",
              "      <td>214</td>\n",
              "      <td>10</td>\n",
              "      <td>N</td>\n",
              "    </tr>\n",
              "    <tr>\n",
              "      <th>21</th>\n",
              "      <td>iris</td>\n",
              "      <td>Multivariate</td>\n",
              "      <td>Classification (Multiclass)</td>\n",
              "      <td>species</td>\n",
              "      <td>None</td>\n",
              "      <td>150</td>\n",
              "      <td>5</td>\n",
              "      <td>N</td>\n",
              "    </tr>\n",
              "    <tr>\n",
              "      <th>22</th>\n",
              "      <td>poker</td>\n",
              "      <td>Multivariate</td>\n",
              "      <td>Classification (Multiclass)</td>\n",
              "      <td>CLASS</td>\n",
              "      <td>None</td>\n",
              "      <td>100000</td>\n",
              "      <td>11</td>\n",
              "      <td>N</td>\n",
              "    </tr>\n",
              "    <tr>\n",
              "      <th>23</th>\n",
              "      <td>questions</td>\n",
              "      <td>Multivariate</td>\n",
              "      <td>Classification (Multiclass)</td>\n",
              "      <td>Next_Question</td>\n",
              "      <td>None</td>\n",
              "      <td>499</td>\n",
              "      <td>4</td>\n",
              "      <td>N</td>\n",
              "    </tr>\n",
              "    <tr>\n",
              "      <th>24</th>\n",
              "      <td>satellite</td>\n",
              "      <td>Multivariate</td>\n",
              "      <td>Classification (Multiclass)</td>\n",
              "      <td>Class</td>\n",
              "      <td>None</td>\n",
              "      <td>6435</td>\n",
              "      <td>37</td>\n",
              "      <td>N</td>\n",
              "    </tr>\n",
              "    <tr>\n",
              "      <th>25</th>\n",
              "      <td>CTG</td>\n",
              "      <td>Multivariate</td>\n",
              "      <td>Classification (Multiclass)</td>\n",
              "      <td>NSP</td>\n",
              "      <td>None</td>\n",
              "      <td>2129</td>\n",
              "      <td>40</td>\n",
              "      <td>Y</td>\n",
              "    </tr>\n",
              "    <tr>\n",
              "      <th>26</th>\n",
              "      <td>asia_gdp</td>\n",
              "      <td>Multivariate</td>\n",
              "      <td>Clustering</td>\n",
              "      <td>None</td>\n",
              "      <td>None</td>\n",
              "      <td>40</td>\n",
              "      <td>11</td>\n",
              "      <td>N</td>\n",
              "    </tr>\n",
              "    <tr>\n",
              "      <th>27</th>\n",
              "      <td>elections</td>\n",
              "      <td>Multivariate</td>\n",
              "      <td>Clustering</td>\n",
              "      <td>None</td>\n",
              "      <td>None</td>\n",
              "      <td>3195</td>\n",
              "      <td>54</td>\n",
              "      <td>Y</td>\n",
              "    </tr>\n",
              "    <tr>\n",
              "      <th>28</th>\n",
              "      <td>facebook</td>\n",
              "      <td>Multivariate</td>\n",
              "      <td>Clustering</td>\n",
              "      <td>None</td>\n",
              "      <td>None</td>\n",
              "      <td>7050</td>\n",
              "      <td>12</td>\n",
              "      <td>N</td>\n",
              "    </tr>\n",
              "    <tr>\n",
              "      <th>29</th>\n",
              "      <td>ipl</td>\n",
              "      <td>Multivariate</td>\n",
              "      <td>Clustering</td>\n",
              "      <td>None</td>\n",
              "      <td>None</td>\n",
              "      <td>153</td>\n",
              "      <td>25</td>\n",
              "      <td>N</td>\n",
              "    </tr>\n",
              "    <tr>\n",
              "      <th>30</th>\n",
              "      <td>jewellery</td>\n",
              "      <td>Multivariate</td>\n",
              "      <td>Clustering</td>\n",
              "      <td>None</td>\n",
              "      <td>None</td>\n",
              "      <td>505</td>\n",
              "      <td>4</td>\n",
              "      <td>N</td>\n",
              "    </tr>\n",
              "    <tr>\n",
              "      <th>31</th>\n",
              "      <td>mice</td>\n",
              "      <td>Multivariate</td>\n",
              "      <td>Clustering</td>\n",
              "      <td>None</td>\n",
              "      <td>None</td>\n",
              "      <td>1080</td>\n",
              "      <td>82</td>\n",
              "      <td>Y</td>\n",
              "    </tr>\n",
              "    <tr>\n",
              "      <th>32</th>\n",
              "      <td>migration</td>\n",
              "      <td>Multivariate</td>\n",
              "      <td>Clustering</td>\n",
              "      <td>None</td>\n",
              "      <td>None</td>\n",
              "      <td>233</td>\n",
              "      <td>12</td>\n",
              "      <td>N</td>\n",
              "    </tr>\n",
              "    <tr>\n",
              "      <th>33</th>\n",
              "      <td>perfume</td>\n",
              "      <td>Multivariate</td>\n",
              "      <td>Clustering</td>\n",
              "      <td>None</td>\n",
              "      <td>None</td>\n",
              "      <td>20</td>\n",
              "      <td>29</td>\n",
              "      <td>N</td>\n",
              "    </tr>\n",
              "    <tr>\n",
              "      <th>34</th>\n",
              "      <td>pokemon</td>\n",
              "      <td>Multivariate</td>\n",
              "      <td>Clustering</td>\n",
              "      <td>None</td>\n",
              "      <td>None</td>\n",
              "      <td>800</td>\n",
              "      <td>13</td>\n",
              "      <td>Y</td>\n",
              "    </tr>\n",
              "    <tr>\n",
              "      <th>35</th>\n",
              "      <td>population</td>\n",
              "      <td>Multivariate</td>\n",
              "      <td>Clustering</td>\n",
              "      <td>None</td>\n",
              "      <td>None</td>\n",
              "      <td>255</td>\n",
              "      <td>56</td>\n",
              "      <td>Y</td>\n",
              "    </tr>\n",
              "    <tr>\n",
              "      <th>36</th>\n",
              "      <td>public_health</td>\n",
              "      <td>Multivariate</td>\n",
              "      <td>Clustering</td>\n",
              "      <td>None</td>\n",
              "      <td>None</td>\n",
              "      <td>224</td>\n",
              "      <td>21</td>\n",
              "      <td>N</td>\n",
              "    </tr>\n",
              "    <tr>\n",
              "      <th>37</th>\n",
              "      <td>seeds</td>\n",
              "      <td>Multivariate</td>\n",
              "      <td>Clustering</td>\n",
              "      <td>None</td>\n",
              "      <td>None</td>\n",
              "      <td>210</td>\n",
              "      <td>7</td>\n",
              "      <td>N</td>\n",
              "    </tr>\n",
              "    <tr>\n",
              "      <th>38</th>\n",
              "      <td>wholesale</td>\n",
              "      <td>Multivariate</td>\n",
              "      <td>Clustering</td>\n",
              "      <td>None</td>\n",
              "      <td>None</td>\n",
              "      <td>440</td>\n",
              "      <td>8</td>\n",
              "      <td>N</td>\n",
              "    </tr>\n",
              "    <tr>\n",
              "      <th>39</th>\n",
              "      <td>tweets</td>\n",
              "      <td>Text</td>\n",
              "      <td>NLP</td>\n",
              "      <td>tweet</td>\n",
              "      <td>None</td>\n",
              "      <td>8594</td>\n",
              "      <td>2</td>\n",
              "      <td>N</td>\n",
              "    </tr>\n",
              "    <tr>\n",
              "      <th>40</th>\n",
              "      <td>amazon</td>\n",
              "      <td>Text</td>\n",
              "      <td>NLP / Classification</td>\n",
              "      <td>reviewText</td>\n",
              "      <td>None</td>\n",
              "      <td>20000</td>\n",
              "      <td>2</td>\n",
              "      <td>N</td>\n",
              "    </tr>\n",
              "    <tr>\n",
              "      <th>41</th>\n",
              "      <td>kiva</td>\n",
              "      <td>Text</td>\n",
              "      <td>NLP / Classification</td>\n",
              "      <td>en</td>\n",
              "      <td>None</td>\n",
              "      <td>6818</td>\n",
              "      <td>7</td>\n",
              "      <td>N</td>\n",
              "    </tr>\n",
              "    <tr>\n",
              "      <th>42</th>\n",
              "      <td>spx</td>\n",
              "      <td>Text</td>\n",
              "      <td>NLP / Regression</td>\n",
              "      <td>text</td>\n",
              "      <td>None</td>\n",
              "      <td>874</td>\n",
              "      <td>4</td>\n",
              "      <td>N</td>\n",
              "    </tr>\n",
              "    <tr>\n",
              "      <th>43</th>\n",
              "      <td>wikipedia</td>\n",
              "      <td>Text</td>\n",
              "      <td>NLP / Classification</td>\n",
              "      <td>Text</td>\n",
              "      <td>None</td>\n",
              "      <td>500</td>\n",
              "      <td>3</td>\n",
              "      <td>N</td>\n",
              "    </tr>\n",
              "    <tr>\n",
              "      <th>44</th>\n",
              "      <td>automobile</td>\n",
              "      <td>Multivariate</td>\n",
              "      <td>Regression</td>\n",
              "      <td>price</td>\n",
              "      <td>None</td>\n",
              "      <td>202</td>\n",
              "      <td>26</td>\n",
              "      <td>Y</td>\n",
              "    </tr>\n",
              "    <tr>\n",
              "      <th>45</th>\n",
              "      <td>bike</td>\n",
              "      <td>Multivariate</td>\n",
              "      <td>Regression</td>\n",
              "      <td>cnt</td>\n",
              "      <td>None</td>\n",
              "      <td>17379</td>\n",
              "      <td>15</td>\n",
              "      <td>N</td>\n",
              "    </tr>\n",
              "    <tr>\n",
              "      <th>46</th>\n",
              "      <td>boston</td>\n",
              "      <td>Multivariate</td>\n",
              "      <td>Regression</td>\n",
              "      <td>medv</td>\n",
              "      <td>None</td>\n",
              "      <td>506</td>\n",
              "      <td>14</td>\n",
              "      <td>N</td>\n",
              "    </tr>\n",
              "    <tr>\n",
              "      <th>47</th>\n",
              "      <td>concrete</td>\n",
              "      <td>Multivariate</td>\n",
              "      <td>Regression</td>\n",
              "      <td>strength</td>\n",
              "      <td>None</td>\n",
              "      <td>1030</td>\n",
              "      <td>9</td>\n",
              "      <td>N</td>\n",
              "    </tr>\n",
              "    <tr>\n",
              "      <th>48</th>\n",
              "      <td>diamond</td>\n",
              "      <td>Multivariate</td>\n",
              "      <td>Regression</td>\n",
              "      <td>Price</td>\n",
              "      <td>None</td>\n",
              "      <td>6000</td>\n",
              "      <td>8</td>\n",
              "      <td>N</td>\n",
              "    </tr>\n",
              "    <tr>\n",
              "      <th>49</th>\n",
              "      <td>energy</td>\n",
              "      <td>Multivariate</td>\n",
              "      <td>Regression</td>\n",
              "      <td>Heating Load</td>\n",
              "      <td>Cooling Load</td>\n",
              "      <td>768</td>\n",
              "      <td>10</td>\n",
              "      <td>N</td>\n",
              "    </tr>\n",
              "    <tr>\n",
              "      <th>50</th>\n",
              "      <td>forest</td>\n",
              "      <td>Multivariate</td>\n",
              "      <td>Regression</td>\n",
              "      <td>area</td>\n",
              "      <td>None</td>\n",
              "      <td>517</td>\n",
              "      <td>13</td>\n",
              "      <td>N</td>\n",
              "    </tr>\n",
              "    <tr>\n",
              "      <th>51</th>\n",
              "      <td>gold</td>\n",
              "      <td>Multivariate</td>\n",
              "      <td>Regression</td>\n",
              "      <td>Gold_T+22</td>\n",
              "      <td>None</td>\n",
              "      <td>2558</td>\n",
              "      <td>121</td>\n",
              "      <td>N</td>\n",
              "    </tr>\n",
              "    <tr>\n",
              "      <th>52</th>\n",
              "      <td>house</td>\n",
              "      <td>Multivariate</td>\n",
              "      <td>Regression</td>\n",
              "      <td>SalePrice</td>\n",
              "      <td>None</td>\n",
              "      <td>1461</td>\n",
              "      <td>81</td>\n",
              "      <td>Y</td>\n",
              "    </tr>\n",
              "    <tr>\n",
              "      <th>53</th>\n",
              "      <td>insurance</td>\n",
              "      <td>Multivariate</td>\n",
              "      <td>Regression</td>\n",
              "      <td>charges</td>\n",
              "      <td>None</td>\n",
              "      <td>1338</td>\n",
              "      <td>7</td>\n",
              "      <td>N</td>\n",
              "    </tr>\n",
              "    <tr>\n",
              "      <th>54</th>\n",
              "      <td>parkinsons</td>\n",
              "      <td>Multivariate</td>\n",
              "      <td>Regression</td>\n",
              "      <td>PPE</td>\n",
              "      <td>None</td>\n",
              "      <td>5875</td>\n",
              "      <td>22</td>\n",
              "      <td>N</td>\n",
              "    </tr>\n",
              "    <tr>\n",
              "      <th>55</th>\n",
              "      <td>traffic</td>\n",
              "      <td>Multivariate</td>\n",
              "      <td>Regression</td>\n",
              "      <td>traffic_volume</td>\n",
              "      <td>None</td>\n",
              "      <td>48204</td>\n",
              "      <td>8</td>\n",
              "      <td>N</td>\n",
              "    </tr>\n",
              "  </tbody>\n",
              "</table>\n",
              "</div>\n",
              "      <button class=\"colab-df-convert\" onclick=\"convertToInteractive('df-2d37c9de-3623-497d-b163-876dfc0696ab')\"\n",
              "              title=\"Convert this dataframe to an interactive table.\"\n",
              "              style=\"display:none;\">\n",
              "        \n",
              "  <svg xmlns=\"http://www.w3.org/2000/svg\" height=\"24px\"viewBox=\"0 0 24 24\"\n",
              "       width=\"24px\">\n",
              "    <path d=\"M0 0h24v24H0V0z\" fill=\"none\"/>\n",
              "    <path d=\"M18.56 5.44l.94 2.06.94-2.06 2.06-.94-2.06-.94-.94-2.06-.94 2.06-2.06.94zm-11 1L8.5 8.5l.94-2.06 2.06-.94-2.06-.94L8.5 2.5l-.94 2.06-2.06.94zm10 10l.94 2.06.94-2.06 2.06-.94-2.06-.94-.94-2.06-.94 2.06-2.06.94z\"/><path d=\"M17.41 7.96l-1.37-1.37c-.4-.4-.92-.59-1.43-.59-.52 0-1.04.2-1.43.59L10.3 9.45l-7.72 7.72c-.78.78-.78 2.05 0 2.83L4 21.41c.39.39.9.59 1.41.59.51 0 1.02-.2 1.41-.59l7.78-7.78 2.81-2.81c.8-.78.8-2.07 0-2.86zM5.41 20L4 18.59l7.72-7.72 1.47 1.35L5.41 20z\"/>\n",
              "  </svg>\n",
              "      </button>\n",
              "      \n",
              "  <style>\n",
              "    .colab-df-container {\n",
              "      display:flex;\n",
              "      flex-wrap:wrap;\n",
              "      gap: 12px;\n",
              "    }\n",
              "\n",
              "    .colab-df-convert {\n",
              "      background-color: #E8F0FE;\n",
              "      border: none;\n",
              "      border-radius: 50%;\n",
              "      cursor: pointer;\n",
              "      display: none;\n",
              "      fill: #1967D2;\n",
              "      height: 32px;\n",
              "      padding: 0 0 0 0;\n",
              "      width: 32px;\n",
              "    }\n",
              "\n",
              "    .colab-df-convert:hover {\n",
              "      background-color: #E2EBFA;\n",
              "      box-shadow: 0px 1px 2px rgba(60, 64, 67, 0.3), 0px 1px 3px 1px rgba(60, 64, 67, 0.15);\n",
              "      fill: #174EA6;\n",
              "    }\n",
              "\n",
              "    [theme=dark] .colab-df-convert {\n",
              "      background-color: #3B4455;\n",
              "      fill: #D2E3FC;\n",
              "    }\n",
              "\n",
              "    [theme=dark] .colab-df-convert:hover {\n",
              "      background-color: #434B5C;\n",
              "      box-shadow: 0px 1px 3px 1px rgba(0, 0, 0, 0.15);\n",
              "      filter: drop-shadow(0px 1px 2px rgba(0, 0, 0, 0.3));\n",
              "      fill: #FFFFFF;\n",
              "    }\n",
              "  </style>\n",
              "\n",
              "      <script>\n",
              "        const buttonEl =\n",
              "          document.querySelector('#df-2d37c9de-3623-497d-b163-876dfc0696ab button.colab-df-convert');\n",
              "        buttonEl.style.display =\n",
              "          google.colab.kernel.accessAllowed ? 'block' : 'none';\n",
              "\n",
              "        async function convertToInteractive(key) {\n",
              "          const element = document.querySelector('#df-2d37c9de-3623-497d-b163-876dfc0696ab');\n",
              "          const dataTable =\n",
              "            await google.colab.kernel.invokeFunction('convertToInteractive',\n",
              "                                                     [key], {});\n",
              "          if (!dataTable) return;\n",
              "\n",
              "          const docLinkHtml = 'Like what you see? Visit the ' +\n",
              "            '<a target=\"_blank\" href=https://colab.research.google.com/notebooks/data_table.ipynb>data table notebook</a>'\n",
              "            + ' to learn more about interactive tables.';\n",
              "          element.innerHTML = '';\n",
              "          dataTable['output_type'] = 'display_data';\n",
              "          await google.colab.output.renderOutput(dataTable, element);\n",
              "          const docLink = document.createElement('div');\n",
              "          docLink.innerHTML = docLinkHtml;\n",
              "          element.appendChild(docLink);\n",
              "        }\n",
              "      </script>\n",
              "    </div>\n",
              "  </div>\n",
              "  "
            ]
          },
          "metadata": {}
        }
      ]
    },
    {
      "cell_type": "markdown",
      "metadata": {
        "id": "YqoQ7k1FQ1TV"
      },
      "source": [
        "---\n",
        "### **1.2 Get the \"jewellery\" dataset**\n",
        "---"
      ]
    },
    {
      "cell_type": "code",
      "metadata": {
        "id": "41abL1k-im10",
        "scrolled": true,
        "colab": {
          "base_uri": "https://localhost:8080/",
          "height": 206
        },
        "outputId": "b10a60ae-efb7-40a6-8837-dbd50c158d70"
      },
      "source": [
        "jewelleryDataSet = get_data(\"jewellery\")    # SN is 30\n",
        "# This is unsupervised dataset.\n",
        "# No target is defined."
      ],
      "execution_count": 4,
      "outputs": [
        {
          "output_type": "display_data",
          "data": {
            "text/plain": [
              "   Age  Income  SpendingScore       Savings\n",
              "0   58   77769       0.791329   6559.829923\n",
              "1   59   81799       0.791082   5417.661426\n",
              "2   62   74751       0.702657   9258.992965\n",
              "3   59   74373       0.765680   7346.334504\n",
              "4   87   17760       0.348778  16869.507130"
            ],
            "text/html": [
              "\n",
              "  <div id=\"df-bd53b034-2fa8-4e00-95a7-e165338001b1\">\n",
              "    <div class=\"colab-df-container\">\n",
              "      <div>\n",
              "<style scoped>\n",
              "    .dataframe tbody tr th:only-of-type {\n",
              "        vertical-align: middle;\n",
              "    }\n",
              "\n",
              "    .dataframe tbody tr th {\n",
              "        vertical-align: top;\n",
              "    }\n",
              "\n",
              "    .dataframe thead th {\n",
              "        text-align: right;\n",
              "    }\n",
              "</style>\n",
              "<table border=\"1\" class=\"dataframe\">\n",
              "  <thead>\n",
              "    <tr style=\"text-align: right;\">\n",
              "      <th></th>\n",
              "      <th>Age</th>\n",
              "      <th>Income</th>\n",
              "      <th>SpendingScore</th>\n",
              "      <th>Savings</th>\n",
              "    </tr>\n",
              "  </thead>\n",
              "  <tbody>\n",
              "    <tr>\n",
              "      <th>0</th>\n",
              "      <td>58</td>\n",
              "      <td>77769</td>\n",
              "      <td>0.791329</td>\n",
              "      <td>6559.829923</td>\n",
              "    </tr>\n",
              "    <tr>\n",
              "      <th>1</th>\n",
              "      <td>59</td>\n",
              "      <td>81799</td>\n",
              "      <td>0.791082</td>\n",
              "      <td>5417.661426</td>\n",
              "    </tr>\n",
              "    <tr>\n",
              "      <th>2</th>\n",
              "      <td>62</td>\n",
              "      <td>74751</td>\n",
              "      <td>0.702657</td>\n",
              "      <td>9258.992965</td>\n",
              "    </tr>\n",
              "    <tr>\n",
              "      <th>3</th>\n",
              "      <td>59</td>\n",
              "      <td>74373</td>\n",
              "      <td>0.765680</td>\n",
              "      <td>7346.334504</td>\n",
              "    </tr>\n",
              "    <tr>\n",
              "      <th>4</th>\n",
              "      <td>87</td>\n",
              "      <td>17760</td>\n",
              "      <td>0.348778</td>\n",
              "      <td>16869.507130</td>\n",
              "    </tr>\n",
              "  </tbody>\n",
              "</table>\n",
              "</div>\n",
              "      <button class=\"colab-df-convert\" onclick=\"convertToInteractive('df-bd53b034-2fa8-4e00-95a7-e165338001b1')\"\n",
              "              title=\"Convert this dataframe to an interactive table.\"\n",
              "              style=\"display:none;\">\n",
              "        \n",
              "  <svg xmlns=\"http://www.w3.org/2000/svg\" height=\"24px\"viewBox=\"0 0 24 24\"\n",
              "       width=\"24px\">\n",
              "    <path d=\"M0 0h24v24H0V0z\" fill=\"none\"/>\n",
              "    <path d=\"M18.56 5.44l.94 2.06.94-2.06 2.06-.94-2.06-.94-.94-2.06-.94 2.06-2.06.94zm-11 1L8.5 8.5l.94-2.06 2.06-.94-2.06-.94L8.5 2.5l-.94 2.06-2.06.94zm10 10l.94 2.06.94-2.06 2.06-.94-2.06-.94-.94-2.06-.94 2.06-2.06.94z\"/><path d=\"M17.41 7.96l-1.37-1.37c-.4-.4-.92-.59-1.43-.59-.52 0-1.04.2-1.43.59L10.3 9.45l-7.72 7.72c-.78.78-.78 2.05 0 2.83L4 21.41c.39.39.9.59 1.41.59.51 0 1.02-.2 1.41-.59l7.78-7.78 2.81-2.81c.8-.78.8-2.07 0-2.86zM5.41 20L4 18.59l7.72-7.72 1.47 1.35L5.41 20z\"/>\n",
              "  </svg>\n",
              "      </button>\n",
              "      \n",
              "  <style>\n",
              "    .colab-df-container {\n",
              "      display:flex;\n",
              "      flex-wrap:wrap;\n",
              "      gap: 12px;\n",
              "    }\n",
              "\n",
              "    .colab-df-convert {\n",
              "      background-color: #E8F0FE;\n",
              "      border: none;\n",
              "      border-radius: 50%;\n",
              "      cursor: pointer;\n",
              "      display: none;\n",
              "      fill: #1967D2;\n",
              "      height: 32px;\n",
              "      padding: 0 0 0 0;\n",
              "      width: 32px;\n",
              "    }\n",
              "\n",
              "    .colab-df-convert:hover {\n",
              "      background-color: #E2EBFA;\n",
              "      box-shadow: 0px 1px 2px rgba(60, 64, 67, 0.3), 0px 1px 3px 1px rgba(60, 64, 67, 0.15);\n",
              "      fill: #174EA6;\n",
              "    }\n",
              "\n",
              "    [theme=dark] .colab-df-convert {\n",
              "      background-color: #3B4455;\n",
              "      fill: #D2E3FC;\n",
              "    }\n",
              "\n",
              "    [theme=dark] .colab-df-convert:hover {\n",
              "      background-color: #434B5C;\n",
              "      box-shadow: 0px 1px 3px 1px rgba(0, 0, 0, 0.15);\n",
              "      filter: drop-shadow(0px 1px 2px rgba(0, 0, 0, 0.3));\n",
              "      fill: #FFFFFF;\n",
              "    }\n",
              "  </style>\n",
              "\n",
              "      <script>\n",
              "        const buttonEl =\n",
              "          document.querySelector('#df-bd53b034-2fa8-4e00-95a7-e165338001b1 button.colab-df-convert');\n",
              "        buttonEl.style.display =\n",
              "          google.colab.kernel.accessAllowed ? 'block' : 'none';\n",
              "\n",
              "        async function convertToInteractive(key) {\n",
              "          const element = document.querySelector('#df-bd53b034-2fa8-4e00-95a7-e165338001b1');\n",
              "          const dataTable =\n",
              "            await google.colab.kernel.invokeFunction('convertToInteractive',\n",
              "                                                     [key], {});\n",
              "          if (!dataTable) return;\n",
              "\n",
              "          const docLinkHtml = 'Like what you see? Visit the ' +\n",
              "            '<a target=\"_blank\" href=https://colab.research.google.com/notebooks/data_table.ipynb>data table notebook</a>'\n",
              "            + ' to learn more about interactive tables.';\n",
              "          element.innerHTML = '';\n",
              "          dataTable['output_type'] = 'display_data';\n",
              "          await google.colab.output.renderOutput(dataTable, element);\n",
              "          const docLink = document.createElement('div');\n",
              "          docLink.innerHTML = docLinkHtml;\n",
              "          element.appendChild(docLink);\n",
              "        }\n",
              "      </script>\n",
              "    </div>\n",
              "  </div>\n",
              "  "
            ]
          },
          "metadata": {}
        }
      ]
    },
    {
      "cell_type": "markdown",
      "metadata": {
        "id": "nRWYsJNVim1z"
      },
      "source": [
        "---\n",
        "### **1.3 Download the \"jewellery\" dataset to local system**\n",
        "---"
      ]
    },
    {
      "cell_type": "code",
      "metadata": {
        "id": "tN1O3vEZi963"
      },
      "source": [
        "jewelleryDataSet.to_csv(\"jewelleryDataSet.csv\")\n",
        "from google.colab import files\n",
        "#files.download('jewelleryDataSet.csv')"
      ],
      "execution_count": 5,
      "outputs": []
    },
    {
      "cell_type": "markdown",
      "metadata": {
        "id": "E3BNV7YLim12"
      },
      "source": [
        "  ---\n",
        "### **1.4 \"Parameter setting\"  for clustering model**\n",
        "##### **Train/Test division, applying data pre-processing** {Sampling, Normalization, Transformation, PCA, Handaling of Outliers, Feature Selection}\n",
        "---"
      ]
    },
    {
      "cell_type": "code",
      "metadata": {
        "colab": {
          "base_uri": "https://localhost:8080/",
          "height": 457
        },
        "id": "c6KthRB9im14",
        "outputId": "b58179fb-60d7-4d29-89b6-74fc6ed16098"
      },
      "source": [
        "from pycaret.clustering import *\n",
        "kMeanClusteringParameters = setup(jewelleryDataSet)\n",
        "# Re-run the code if any error occur"
      ],
      "execution_count": 6,
      "outputs": [
        {
          "output_type": "display_data",
          "data": {
            "text/plain": [
              "<pandas.io.formats.style.Styler at 0x7fcc17839b70>"
            ],
            "text/html": [
              "<style type=\"text/css\">\n",
              "#T_6a806_row4_col1 {\n",
              "  background-color: lightgreen;\n",
              "}\n",
              "</style>\n",
              "<table id=\"T_6a806\" class=\"dataframe\">\n",
              "  <thead>\n",
              "    <tr>\n",
              "      <th class=\"blank level0\" >&nbsp;</th>\n",
              "      <th id=\"T_6a806_level0_col0\" class=\"col_heading level0 col0\" >Description</th>\n",
              "      <th id=\"T_6a806_level0_col1\" class=\"col_heading level0 col1\" >Value</th>\n",
              "    </tr>\n",
              "  </thead>\n",
              "  <tbody>\n",
              "    <tr>\n",
              "      <th id=\"T_6a806_level0_row0\" class=\"row_heading level0 row0\" >0</th>\n",
              "      <td id=\"T_6a806_row0_col0\" class=\"data row0 col0\" >Session id</td>\n",
              "      <td id=\"T_6a806_row0_col1\" class=\"data row0 col1\" >4390</td>\n",
              "    </tr>\n",
              "    <tr>\n",
              "      <th id=\"T_6a806_level0_row1\" class=\"row_heading level0 row1\" >1</th>\n",
              "      <td id=\"T_6a806_row1_col0\" class=\"data row1 col0\" >Original data shape</td>\n",
              "      <td id=\"T_6a806_row1_col1\" class=\"data row1 col1\" >(505, 4)</td>\n",
              "    </tr>\n",
              "    <tr>\n",
              "      <th id=\"T_6a806_level0_row2\" class=\"row_heading level0 row2\" >2</th>\n",
              "      <td id=\"T_6a806_row2_col0\" class=\"data row2 col0\" >Transformed data shape</td>\n",
              "      <td id=\"T_6a806_row2_col1\" class=\"data row2 col1\" >(505, 4)</td>\n",
              "    </tr>\n",
              "    <tr>\n",
              "      <th id=\"T_6a806_level0_row3\" class=\"row_heading level0 row3\" >3</th>\n",
              "      <td id=\"T_6a806_row3_col0\" class=\"data row3 col0\" >Numeric features</td>\n",
              "      <td id=\"T_6a806_row3_col1\" class=\"data row3 col1\" >4</td>\n",
              "    </tr>\n",
              "    <tr>\n",
              "      <th id=\"T_6a806_level0_row4\" class=\"row_heading level0 row4\" >4</th>\n",
              "      <td id=\"T_6a806_row4_col0\" class=\"data row4 col0\" >Preprocess</td>\n",
              "      <td id=\"T_6a806_row4_col1\" class=\"data row4 col1\" >True</td>\n",
              "    </tr>\n",
              "    <tr>\n",
              "      <th id=\"T_6a806_level0_row5\" class=\"row_heading level0 row5\" >5</th>\n",
              "      <td id=\"T_6a806_row5_col0\" class=\"data row5 col0\" >Imputation type</td>\n",
              "      <td id=\"T_6a806_row5_col1\" class=\"data row5 col1\" >simple</td>\n",
              "    </tr>\n",
              "    <tr>\n",
              "      <th id=\"T_6a806_level0_row6\" class=\"row_heading level0 row6\" >6</th>\n",
              "      <td id=\"T_6a806_row6_col0\" class=\"data row6 col0\" >Numeric imputation</td>\n",
              "      <td id=\"T_6a806_row6_col1\" class=\"data row6 col1\" >mean</td>\n",
              "    </tr>\n",
              "    <tr>\n",
              "      <th id=\"T_6a806_level0_row7\" class=\"row_heading level0 row7\" >7</th>\n",
              "      <td id=\"T_6a806_row7_col0\" class=\"data row7 col0\" >Categorical imputation</td>\n",
              "      <td id=\"T_6a806_row7_col1\" class=\"data row7 col1\" >mode</td>\n",
              "    </tr>\n",
              "    <tr>\n",
              "      <th id=\"T_6a806_level0_row8\" class=\"row_heading level0 row8\" >8</th>\n",
              "      <td id=\"T_6a806_row8_col0\" class=\"data row8 col0\" >CPU Jobs</td>\n",
              "      <td id=\"T_6a806_row8_col1\" class=\"data row8 col1\" >-1</td>\n",
              "    </tr>\n",
              "    <tr>\n",
              "      <th id=\"T_6a806_level0_row9\" class=\"row_heading level0 row9\" >9</th>\n",
              "      <td id=\"T_6a806_row9_col0\" class=\"data row9 col0\" >Use GPU</td>\n",
              "      <td id=\"T_6a806_row9_col1\" class=\"data row9 col1\" >False</td>\n",
              "    </tr>\n",
              "    <tr>\n",
              "      <th id=\"T_6a806_level0_row10\" class=\"row_heading level0 row10\" >10</th>\n",
              "      <td id=\"T_6a806_row10_col0\" class=\"data row10 col0\" >Log Experiment</td>\n",
              "      <td id=\"T_6a806_row10_col1\" class=\"data row10 col1\" >False</td>\n",
              "    </tr>\n",
              "    <tr>\n",
              "      <th id=\"T_6a806_level0_row11\" class=\"row_heading level0 row11\" >11</th>\n",
              "      <td id=\"T_6a806_row11_col0\" class=\"data row11 col0\" >Experiment Name</td>\n",
              "      <td id=\"T_6a806_row11_col1\" class=\"data row11 col1\" >cluster-default-name</td>\n",
              "    </tr>\n",
              "    <tr>\n",
              "      <th id=\"T_6a806_level0_row12\" class=\"row_heading level0 row12\" >12</th>\n",
              "      <td id=\"T_6a806_row12_col0\" class=\"data row12 col0\" >USI</td>\n",
              "      <td id=\"T_6a806_row12_col1\" class=\"data row12 col1\" >7358</td>\n",
              "    </tr>\n",
              "  </tbody>\n",
              "</table>\n"
            ]
          },
          "metadata": {}
        }
      ]
    },
    {
      "cell_type": "markdown",
      "metadata": {
        "id": "Kaevs6ROim18"
      },
      "source": [
        "---\n",
        "### **1.5 Building \"KMean\" clustering model**\n",
        "---"
      ]
    },
    {
      "cell_type": "code",
      "metadata": {
        "colab": {
          "base_uri": "https://localhost:8080/",
          "height": 81,
          "referenced_widgets": [
            "3da13b409180446c9e6d14c89fc5c7fb",
            "56d79dcacc0149c782b1f88d51f7b38d",
            "c78c9026e101445da4b2dcae12a96a30",
            "4894c47134a249b3a48ec307cb94b8fa",
            "360082509be842e79426265cea258990",
            "e6212fb91bf14e86b40607e17517c935",
            "6e246863d1f2449297d3924ce0aacf60",
            "d0cd29c3eff54f8b963c6d691b83a04e",
            "4037c20bb2e343869e8a0a1359104ccf",
            "47e7cd91ab754382baadaab7e0875d3c",
            "b1822eba78774cf3afafb94cb80c0650"
          ]
        },
        "id": "XmPJbrOXim19",
        "outputId": "021bed5a-6791-453b-c90f-8fbc7cd02164"
      },
      "source": [
        "KMeanClusteringModel = create_model('kmeans', num_clusters=4)"
      ],
      "execution_count": 7,
      "outputs": [
        {
          "output_type": "display_data",
          "data": {
            "text/plain": [
              "<IPython.core.display.HTML object>"
            ],
            "text/html": []
          },
          "metadata": {}
        },
        {
          "output_type": "display_data",
          "data": {
            "text/plain": [
              "<pandas.io.formats.style.Styler at 0x7fcc57c22da0>"
            ],
            "text/html": [
              "<style type=\"text/css\">\n",
              "</style>\n",
              "<table id=\"T_4f023\" class=\"dataframe\">\n",
              "  <thead>\n",
              "    <tr>\n",
              "      <th class=\"blank level0\" >&nbsp;</th>\n",
              "      <th id=\"T_4f023_level0_col0\" class=\"col_heading level0 col0\" >Silhouette</th>\n",
              "      <th id=\"T_4f023_level0_col1\" class=\"col_heading level0 col1\" >Calinski-Harabasz</th>\n",
              "      <th id=\"T_4f023_level0_col2\" class=\"col_heading level0 col2\" >Davies-Bouldin</th>\n",
              "      <th id=\"T_4f023_level0_col3\" class=\"col_heading level0 col3\" >Homogeneity</th>\n",
              "      <th id=\"T_4f023_level0_col4\" class=\"col_heading level0 col4\" >Rand Index</th>\n",
              "      <th id=\"T_4f023_level0_col5\" class=\"col_heading level0 col5\" >Completeness</th>\n",
              "    </tr>\n",
              "  </thead>\n",
              "  <tbody>\n",
              "    <tr>\n",
              "      <th id=\"T_4f023_level0_row0\" class=\"row_heading level0 row0\" >0</th>\n",
              "      <td id=\"T_4f023_row0_col0\" class=\"data row0 col0\" >0.7207</td>\n",
              "      <td id=\"T_4f023_row0_col1\" class=\"data row0 col1\" >5011.8115</td>\n",
              "      <td id=\"T_4f023_row0_col2\" class=\"data row0 col2\" >0.4114</td>\n",
              "      <td id=\"T_4f023_row0_col3\" class=\"data row0 col3\" >0</td>\n",
              "      <td id=\"T_4f023_row0_col4\" class=\"data row0 col4\" >0</td>\n",
              "      <td id=\"T_4f023_row0_col5\" class=\"data row0 col5\" >0</td>\n",
              "    </tr>\n",
              "  </tbody>\n",
              "</table>\n"
            ]
          },
          "metadata": {}
        },
        {
          "output_type": "display_data",
          "data": {
            "text/plain": [
              "Processing:   0%|          | 0/3 [00:00<?, ?it/s]"
            ],
            "application/vnd.jupyter.widget-view+json": {
              "version_major": 2,
              "version_minor": 0,
              "model_id": "3da13b409180446c9e6d14c89fc5c7fb"
            }
          },
          "metadata": {
            "application/vnd.jupyter.widget-view+json": {
              "colab": {
                "custom_widget_manager": {
                  "url": "https://ssl.gstatic.com/colaboratory-static/widgets/colab-cdn-widget-manager/b3e629b1971e1542/manager.min.js"
                }
              }
            }
          }
        },
        {
          "output_type": "display_data",
          "data": {
            "text/plain": [
              "<IPython.core.display.HTML object>"
            ],
            "text/html": []
          },
          "metadata": {}
        }
      ]
    },
    {
      "cell_type": "markdown",
      "metadata": {
        "id": "w8BLSpegim1_"
      },
      "source": [
        "---\n",
        "### **1.6 Assign Model - \"Assign the labels\" to the dataset**\n",
        "---\n",
        "\n"
      ]
    },
    {
      "cell_type": "code",
      "metadata": {
        "colab": {
          "base_uri": "https://localhost:8080/",
          "height": 423
        },
        "id": "QPY6bvTsim1_",
        "outputId": "5e79539e-a834-4654-facb-8e27ea251004"
      },
      "source": [
        "kMeanPrediction = assign_model(KMeanClusteringModel)\n",
        "kMeanPrediction"
      ],
      "execution_count": 8,
      "outputs": [
        {
          "output_type": "execute_result",
          "data": {
            "text/plain": [
              "     Age  Income  SpendingScore       Savings    Cluster\n",
              "0     58   77769       0.791329   6559.830078  Cluster 0\n",
              "1     59   81799       0.791082   5417.661621  Cluster 0\n",
              "2     62   74751       0.702657   9258.993164  Cluster 0\n",
              "3     59   74373       0.765680   7346.334473  Cluster 0\n",
              "4     87   17760       0.348778  16869.507812  Cluster 2\n",
              "..   ...     ...            ...           ...        ...\n",
              "500   28  101206       0.387441  14936.775391  Cluster 1\n",
              "501   93   19934       0.203140  17969.693359  Cluster 2\n",
              "502   90   35297       0.355149  16091.402344  Cluster 2\n",
              "503   91   20681       0.354679  18401.087891  Cluster 2\n",
              "504   89   30267       0.289310  14386.351562  Cluster 2\n",
              "\n",
              "[505 rows x 5 columns]"
            ],
            "text/html": [
              "\n",
              "  <div id=\"df-f03e3c31-199d-4989-ad3d-2962b41893f2\">\n",
              "    <div class=\"colab-df-container\">\n",
              "      <div>\n",
              "<style scoped>\n",
              "    .dataframe tbody tr th:only-of-type {\n",
              "        vertical-align: middle;\n",
              "    }\n",
              "\n",
              "    .dataframe tbody tr th {\n",
              "        vertical-align: top;\n",
              "    }\n",
              "\n",
              "    .dataframe thead th {\n",
              "        text-align: right;\n",
              "    }\n",
              "</style>\n",
              "<table border=\"1\" class=\"dataframe\">\n",
              "  <thead>\n",
              "    <tr style=\"text-align: right;\">\n",
              "      <th></th>\n",
              "      <th>Age</th>\n",
              "      <th>Income</th>\n",
              "      <th>SpendingScore</th>\n",
              "      <th>Savings</th>\n",
              "      <th>Cluster</th>\n",
              "    </tr>\n",
              "  </thead>\n",
              "  <tbody>\n",
              "    <tr>\n",
              "      <th>0</th>\n",
              "      <td>58</td>\n",
              "      <td>77769</td>\n",
              "      <td>0.791329</td>\n",
              "      <td>6559.830078</td>\n",
              "      <td>Cluster 0</td>\n",
              "    </tr>\n",
              "    <tr>\n",
              "      <th>1</th>\n",
              "      <td>59</td>\n",
              "      <td>81799</td>\n",
              "      <td>0.791082</td>\n",
              "      <td>5417.661621</td>\n",
              "      <td>Cluster 0</td>\n",
              "    </tr>\n",
              "    <tr>\n",
              "      <th>2</th>\n",
              "      <td>62</td>\n",
              "      <td>74751</td>\n",
              "      <td>0.702657</td>\n",
              "      <td>9258.993164</td>\n",
              "      <td>Cluster 0</td>\n",
              "    </tr>\n",
              "    <tr>\n",
              "      <th>3</th>\n",
              "      <td>59</td>\n",
              "      <td>74373</td>\n",
              "      <td>0.765680</td>\n",
              "      <td>7346.334473</td>\n",
              "      <td>Cluster 0</td>\n",
              "    </tr>\n",
              "    <tr>\n",
              "      <th>4</th>\n",
              "      <td>87</td>\n",
              "      <td>17760</td>\n",
              "      <td>0.348778</td>\n",
              "      <td>16869.507812</td>\n",
              "      <td>Cluster 2</td>\n",
              "    </tr>\n",
              "    <tr>\n",
              "      <th>...</th>\n",
              "      <td>...</td>\n",
              "      <td>...</td>\n",
              "      <td>...</td>\n",
              "      <td>...</td>\n",
              "      <td>...</td>\n",
              "    </tr>\n",
              "    <tr>\n",
              "      <th>500</th>\n",
              "      <td>28</td>\n",
              "      <td>101206</td>\n",
              "      <td>0.387441</td>\n",
              "      <td>14936.775391</td>\n",
              "      <td>Cluster 1</td>\n",
              "    </tr>\n",
              "    <tr>\n",
              "      <th>501</th>\n",
              "      <td>93</td>\n",
              "      <td>19934</td>\n",
              "      <td>0.203140</td>\n",
              "      <td>17969.693359</td>\n",
              "      <td>Cluster 2</td>\n",
              "    </tr>\n",
              "    <tr>\n",
              "      <th>502</th>\n",
              "      <td>90</td>\n",
              "      <td>35297</td>\n",
              "      <td>0.355149</td>\n",
              "      <td>16091.402344</td>\n",
              "      <td>Cluster 2</td>\n",
              "    </tr>\n",
              "    <tr>\n",
              "      <th>503</th>\n",
              "      <td>91</td>\n",
              "      <td>20681</td>\n",
              "      <td>0.354679</td>\n",
              "      <td>18401.087891</td>\n",
              "      <td>Cluster 2</td>\n",
              "    </tr>\n",
              "    <tr>\n",
              "      <th>504</th>\n",
              "      <td>89</td>\n",
              "      <td>30267</td>\n",
              "      <td>0.289310</td>\n",
              "      <td>14386.351562</td>\n",
              "      <td>Cluster 2</td>\n",
              "    </tr>\n",
              "  </tbody>\n",
              "</table>\n",
              "<p>505 rows × 5 columns</p>\n",
              "</div>\n",
              "      <button class=\"colab-df-convert\" onclick=\"convertToInteractive('df-f03e3c31-199d-4989-ad3d-2962b41893f2')\"\n",
              "              title=\"Convert this dataframe to an interactive table.\"\n",
              "              style=\"display:none;\">\n",
              "        \n",
              "  <svg xmlns=\"http://www.w3.org/2000/svg\" height=\"24px\"viewBox=\"0 0 24 24\"\n",
              "       width=\"24px\">\n",
              "    <path d=\"M0 0h24v24H0V0z\" fill=\"none\"/>\n",
              "    <path d=\"M18.56 5.44l.94 2.06.94-2.06 2.06-.94-2.06-.94-.94-2.06-.94 2.06-2.06.94zm-11 1L8.5 8.5l.94-2.06 2.06-.94-2.06-.94L8.5 2.5l-.94 2.06-2.06.94zm10 10l.94 2.06.94-2.06 2.06-.94-2.06-.94-.94-2.06-.94 2.06-2.06.94z\"/><path d=\"M17.41 7.96l-1.37-1.37c-.4-.4-.92-.59-1.43-.59-.52 0-1.04.2-1.43.59L10.3 9.45l-7.72 7.72c-.78.78-.78 2.05 0 2.83L4 21.41c.39.39.9.59 1.41.59.51 0 1.02-.2 1.41-.59l7.78-7.78 2.81-2.81c.8-.78.8-2.07 0-2.86zM5.41 20L4 18.59l7.72-7.72 1.47 1.35L5.41 20z\"/>\n",
              "  </svg>\n",
              "      </button>\n",
              "      \n",
              "  <style>\n",
              "    .colab-df-container {\n",
              "      display:flex;\n",
              "      flex-wrap:wrap;\n",
              "      gap: 12px;\n",
              "    }\n",
              "\n",
              "    .colab-df-convert {\n",
              "      background-color: #E8F0FE;\n",
              "      border: none;\n",
              "      border-radius: 50%;\n",
              "      cursor: pointer;\n",
              "      display: none;\n",
              "      fill: #1967D2;\n",
              "      height: 32px;\n",
              "      padding: 0 0 0 0;\n",
              "      width: 32px;\n",
              "    }\n",
              "\n",
              "    .colab-df-convert:hover {\n",
              "      background-color: #E2EBFA;\n",
              "      box-shadow: 0px 1px 2px rgba(60, 64, 67, 0.3), 0px 1px 3px 1px rgba(60, 64, 67, 0.15);\n",
              "      fill: #174EA6;\n",
              "    }\n",
              "\n",
              "    [theme=dark] .colab-df-convert {\n",
              "      background-color: #3B4455;\n",
              "      fill: #D2E3FC;\n",
              "    }\n",
              "\n",
              "    [theme=dark] .colab-df-convert:hover {\n",
              "      background-color: #434B5C;\n",
              "      box-shadow: 0px 1px 3px 1px rgba(0, 0, 0, 0.15);\n",
              "      filter: drop-shadow(0px 1px 2px rgba(0, 0, 0, 0.3));\n",
              "      fill: #FFFFFF;\n",
              "    }\n",
              "  </style>\n",
              "\n",
              "      <script>\n",
              "        const buttonEl =\n",
              "          document.querySelector('#df-f03e3c31-199d-4989-ad3d-2962b41893f2 button.colab-df-convert');\n",
              "        buttonEl.style.display =\n",
              "          google.colab.kernel.accessAllowed ? 'block' : 'none';\n",
              "\n",
              "        async function convertToInteractive(key) {\n",
              "          const element = document.querySelector('#df-f03e3c31-199d-4989-ad3d-2962b41893f2');\n",
              "          const dataTable =\n",
              "            await google.colab.kernel.invokeFunction('convertToInteractive',\n",
              "                                                     [key], {});\n",
              "          if (!dataTable) return;\n",
              "\n",
              "          const docLinkHtml = 'Like what you see? Visit the ' +\n",
              "            '<a target=\"_blank\" href=https://colab.research.google.com/notebooks/data_table.ipynb>data table notebook</a>'\n",
              "            + ' to learn more about interactive tables.';\n",
              "          element.innerHTML = '';\n",
              "          dataTable['output_type'] = 'display_data';\n",
              "          await google.colab.output.renderOutput(dataTable, element);\n",
              "          const docLink = document.createElement('div');\n",
              "          docLink.innerHTML = docLinkHtml;\n",
              "          element.appendChild(docLink);\n",
              "        }\n",
              "      </script>\n",
              "    </div>\n",
              "  </div>\n",
              "  "
            ]
          },
          "metadata": {},
          "execution_count": 8
        }
      ]
    },
    {
      "cell_type": "markdown",
      "metadata": {
        "id": "B2r61OBMs1N6"
      },
      "source": [
        "---\n",
        "### **1.7 \"Saving\" the result**\n",
        "---\n",
        "\n"
      ]
    },
    {
      "cell_type": "code",
      "metadata": {
        "colab": {
          "base_uri": "https://localhost:8080/"
        },
        "id": "fLFB8lIEw7tO",
        "outputId": "fb37dfdd-57bf-4830-e3ad-22f022efda82"
      },
      "source": [
        "kMeanPrediction.to_csv(\"KMeanResult.csv\")\n",
        "print(\"Result file save sucessfully!!\")"
      ],
      "execution_count": 9,
      "outputs": [
        {
          "output_type": "stream",
          "name": "stdout",
          "text": [
            "Result file save sucessfully!!\n"
          ]
        }
      ]
    },
    {
      "cell_type": "markdown",
      "metadata": {
        "id": "JpYOsl02fKdz"
      },
      "source": [
        "---\n",
        "### **1.8 Download the \"result file\" to user local system**\n",
        "---"
      ]
    },
    {
      "cell_type": "code",
      "metadata": {
        "id": "egid_WXNfKd5"
      },
      "source": [
        "from google.colab import files\n",
        "#files.download('KMeanResult.csv')      # Uncomment this line\n",
        "# Open and Explore result file (KMeanResult.csv)."
      ],
      "execution_count": 10,
      "outputs": []
    },
    {
      "cell_type": "markdown",
      "metadata": {
        "id": "lNOYI6lAb3Iy"
      },
      "source": [
        "---\n",
        "# **2. Clustering: Saving and Loading the Model**\n",
        "---\n",
        "### **2.1 Save the \"trained model\"**\n",
        "---"
      ]
    },
    {
      "cell_type": "code",
      "metadata": {
        "id": "BTQqMaq_b3Iy",
        "colab": {
          "base_uri": "https://localhost:8080/"
        },
        "outputId": "866ca5dd-2716-4320-9c03-4a4a49310913"
      },
      "source": [
        "x = save_model(KMeanClusteringModel, 'kMeanClusteringModelFile')"
      ],
      "execution_count": 11,
      "outputs": [
        {
          "output_type": "stream",
          "name": "stdout",
          "text": [
            "Transformation Pipeline and Model Successfully Saved\n"
          ]
        }
      ]
    },
    {
      "cell_type": "markdown",
      "metadata": {
        "id": "S7OBvt9yTY1s"
      },
      "source": [
        "---\n",
        "### **2.2 Download the \"trained model**\n",
        "---"
      ]
    },
    {
      "cell_type": "code",
      "metadata": {
        "id": "N2zEkJ1cTY1t"
      },
      "source": [
        "from google.colab import files\n",
        "#files.download('kMeanClusteringModelFile.pkl')      # Uncomment this line"
      ],
      "execution_count": 12,
      "outputs": []
    },
    {
      "cell_type": "markdown",
      "metadata": {
        "id": "16b9zwS3b3Iz"
      },
      "source": [
        "---\n",
        "### **2.3 Load the model**\n",
        "---\n",
        "##### Use it, while working on **\"Anaconda/Jupyter notebook\"** on local machine"
      ]
    },
    {
      "cell_type": "code",
      "metadata": {
        "id": "z5KcVsi_b3Iz",
        "colab": {
          "base_uri": "https://localhost:8080/"
        },
        "outputId": "c54ad11c-9343-41cb-9dd7-ec9c812d6990"
      },
      "source": [
        "KMeanClusteringModel1 = load_model('kMeanClusteringModelFile')"
      ],
      "execution_count": 13,
      "outputs": [
        {
          "output_type": "stream",
          "name": "stdout",
          "text": [
            "Transformation Pipeline and Model Successfully Loaded\n"
          ]
        }
      ]
    },
    {
      "cell_type": "markdown",
      "metadata": {
        "id": "EWwfAKm9VtbW"
      },
      "source": [
        "---\n",
        "### **2.4 Upload and Load the trained model to \"Colab Environment\"**\n",
        "---\n",
        "##### **Upload the trained model**"
      ]
    },
    {
      "cell_type": "code",
      "metadata": {
        "id": "me-SdPgUVtbX"
      },
      "source": [
        "from google.colab import files\n",
        "#files.upload()                     # Uncomment this line"
      ],
      "execution_count": 14,
      "outputs": []
    },
    {
      "cell_type": "markdown",
      "metadata": {
        "id": "1Ut_UVcUXw3L"
      },
      "source": [
        "##### **Load the trained model**"
      ]
    },
    {
      "cell_type": "code",
      "metadata": {
        "id": "tjTW7xtHXw3O"
      },
      "source": [
        "#KMeanClusteringModel1 = load_model('kMeanClusteringModelFile (1)')"
      ],
      "execution_count": 15,
      "outputs": []
    },
    {
      "cell_type": "markdown",
      "metadata": {
        "id": "9GWuAHd7xQ8i"
      },
      "source": [
        "---\n",
        "# **3. Clustering: Cluster the new dataset (Unseen Data)**\n",
        "---\n",
        "### **3.1 Select some data or upload user dataset file**"
      ]
    },
    {
      "cell_type": "code",
      "metadata": {
        "id": "PDSIpXdjvy-8",
        "colab": {
          "base_uri": "https://localhost:8080/",
          "height": 206
        },
        "outputId": "156c2ab0-d67d-40be-930a-00ff6265715a"
      },
      "source": [
        "# Select top 10 rows\n",
        "newData = get_data(\"jewellery\").iloc[:10]"
      ],
      "execution_count": 16,
      "outputs": [
        {
          "output_type": "display_data",
          "data": {
            "text/plain": [
              "   Age  Income  SpendingScore       Savings\n",
              "0   58   77769       0.791329   6559.829923\n",
              "1   59   81799       0.791082   5417.661426\n",
              "2   62   74751       0.702657   9258.992965\n",
              "3   59   74373       0.765680   7346.334504\n",
              "4   87   17760       0.348778  16869.507130"
            ],
            "text/html": [
              "\n",
              "  <div id=\"df-9cb1117d-dc69-4270-b631-e4f65040980d\">\n",
              "    <div class=\"colab-df-container\">\n",
              "      <div>\n",
              "<style scoped>\n",
              "    .dataframe tbody tr th:only-of-type {\n",
              "        vertical-align: middle;\n",
              "    }\n",
              "\n",
              "    .dataframe tbody tr th {\n",
              "        vertical-align: top;\n",
              "    }\n",
              "\n",
              "    .dataframe thead th {\n",
              "        text-align: right;\n",
              "    }\n",
              "</style>\n",
              "<table border=\"1\" class=\"dataframe\">\n",
              "  <thead>\n",
              "    <tr style=\"text-align: right;\">\n",
              "      <th></th>\n",
              "      <th>Age</th>\n",
              "      <th>Income</th>\n",
              "      <th>SpendingScore</th>\n",
              "      <th>Savings</th>\n",
              "    </tr>\n",
              "  </thead>\n",
              "  <tbody>\n",
              "    <tr>\n",
              "      <th>0</th>\n",
              "      <td>58</td>\n",
              "      <td>77769</td>\n",
              "      <td>0.791329</td>\n",
              "      <td>6559.829923</td>\n",
              "    </tr>\n",
              "    <tr>\n",
              "      <th>1</th>\n",
              "      <td>59</td>\n",
              "      <td>81799</td>\n",
              "      <td>0.791082</td>\n",
              "      <td>5417.661426</td>\n",
              "    </tr>\n",
              "    <tr>\n",
              "      <th>2</th>\n",
              "      <td>62</td>\n",
              "      <td>74751</td>\n",
              "      <td>0.702657</td>\n",
              "      <td>9258.992965</td>\n",
              "    </tr>\n",
              "    <tr>\n",
              "      <th>3</th>\n",
              "      <td>59</td>\n",
              "      <td>74373</td>\n",
              "      <td>0.765680</td>\n",
              "      <td>7346.334504</td>\n",
              "    </tr>\n",
              "    <tr>\n",
              "      <th>4</th>\n",
              "      <td>87</td>\n",
              "      <td>17760</td>\n",
              "      <td>0.348778</td>\n",
              "      <td>16869.507130</td>\n",
              "    </tr>\n",
              "  </tbody>\n",
              "</table>\n",
              "</div>\n",
              "      <button class=\"colab-df-convert\" onclick=\"convertToInteractive('df-9cb1117d-dc69-4270-b631-e4f65040980d')\"\n",
              "              title=\"Convert this dataframe to an interactive table.\"\n",
              "              style=\"display:none;\">\n",
              "        \n",
              "  <svg xmlns=\"http://www.w3.org/2000/svg\" height=\"24px\"viewBox=\"0 0 24 24\"\n",
              "       width=\"24px\">\n",
              "    <path d=\"M0 0h24v24H0V0z\" fill=\"none\"/>\n",
              "    <path d=\"M18.56 5.44l.94 2.06.94-2.06 2.06-.94-2.06-.94-.94-2.06-.94 2.06-2.06.94zm-11 1L8.5 8.5l.94-2.06 2.06-.94-2.06-.94L8.5 2.5l-.94 2.06-2.06.94zm10 10l.94 2.06.94-2.06 2.06-.94-2.06-.94-.94-2.06-.94 2.06-2.06.94z\"/><path d=\"M17.41 7.96l-1.37-1.37c-.4-.4-.92-.59-1.43-.59-.52 0-1.04.2-1.43.59L10.3 9.45l-7.72 7.72c-.78.78-.78 2.05 0 2.83L4 21.41c.39.39.9.59 1.41.59.51 0 1.02-.2 1.41-.59l7.78-7.78 2.81-2.81c.8-.78.8-2.07 0-2.86zM5.41 20L4 18.59l7.72-7.72 1.47 1.35L5.41 20z\"/>\n",
              "  </svg>\n",
              "      </button>\n",
              "      \n",
              "  <style>\n",
              "    .colab-df-container {\n",
              "      display:flex;\n",
              "      flex-wrap:wrap;\n",
              "      gap: 12px;\n",
              "    }\n",
              "\n",
              "    .colab-df-convert {\n",
              "      background-color: #E8F0FE;\n",
              "      border: none;\n",
              "      border-radius: 50%;\n",
              "      cursor: pointer;\n",
              "      display: none;\n",
              "      fill: #1967D2;\n",
              "      height: 32px;\n",
              "      padding: 0 0 0 0;\n",
              "      width: 32px;\n",
              "    }\n",
              "\n",
              "    .colab-df-convert:hover {\n",
              "      background-color: #E2EBFA;\n",
              "      box-shadow: 0px 1px 2px rgba(60, 64, 67, 0.3), 0px 1px 3px 1px rgba(60, 64, 67, 0.15);\n",
              "      fill: #174EA6;\n",
              "    }\n",
              "\n",
              "    [theme=dark] .colab-df-convert {\n",
              "      background-color: #3B4455;\n",
              "      fill: #D2E3FC;\n",
              "    }\n",
              "\n",
              "    [theme=dark] .colab-df-convert:hover {\n",
              "      background-color: #434B5C;\n",
              "      box-shadow: 0px 1px 3px 1px rgba(0, 0, 0, 0.15);\n",
              "      filter: drop-shadow(0px 1px 2px rgba(0, 0, 0, 0.3));\n",
              "      fill: #FFFFFF;\n",
              "    }\n",
              "  </style>\n",
              "\n",
              "      <script>\n",
              "        const buttonEl =\n",
              "          document.querySelector('#df-9cb1117d-dc69-4270-b631-e4f65040980d button.colab-df-convert');\n",
              "        buttonEl.style.display =\n",
              "          google.colab.kernel.accessAllowed ? 'block' : 'none';\n",
              "\n",
              "        async function convertToInteractive(key) {\n",
              "          const element = document.querySelector('#df-9cb1117d-dc69-4270-b631-e4f65040980d');\n",
              "          const dataTable =\n",
              "            await google.colab.kernel.invokeFunction('convertToInteractive',\n",
              "                                                     [key], {});\n",
              "          if (!dataTable) return;\n",
              "\n",
              "          const docLinkHtml = 'Like what you see? Visit the ' +\n",
              "            '<a target=\"_blank\" href=https://colab.research.google.com/notebooks/data_table.ipynb>data table notebook</a>'\n",
              "            + ' to learn more about interactive tables.';\n",
              "          element.innerHTML = '';\n",
              "          dataTable['output_type'] = 'display_data';\n",
              "          await google.colab.output.renderOutput(dataTable, element);\n",
              "          const docLink = document.createElement('div');\n",
              "          docLink.innerHTML = docLinkHtml;\n",
              "          element.appendChild(docLink);\n",
              "        }\n",
              "      </script>\n",
              "    </div>\n",
              "  </div>\n",
              "  "
            ]
          },
          "metadata": {}
        }
      ]
    },
    {
      "cell_type": "markdown",
      "metadata": {
        "id": "PSV8aKNnb3I3"
      },
      "source": [
        "---\n",
        "### **3.2 Make prediction on the new dataset (Unseen Data)**\n",
        "---"
      ]
    },
    {
      "cell_type": "code",
      "metadata": {
        "id": "jeWv6y4Xb3I3",
        "colab": {
          "base_uri": "https://localhost:8080/",
          "height": 363
        },
        "outputId": "94fd4c48-0751-426b-a1c8-219616aec3be"
      },
      "source": [
        "newPredictions = predict_model(KMeanClusteringModel, data = newData)\n",
        "newPredictions"
      ],
      "execution_count": 17,
      "outputs": [
        {
          "output_type": "execute_result",
          "data": {
            "text/plain": [
              "    Age    Income  SpendingScore       Savings    Cluster\n",
              "0  58.0   77769.0       0.791329   6559.829923  Cluster 0\n",
              "1  59.0   81799.0       0.791082   5417.661426  Cluster 0\n",
              "2  62.0   74751.0       0.702657   9258.992965  Cluster 0\n",
              "3  59.0   74373.0       0.765680   7346.334504  Cluster 0\n",
              "4  87.0   17760.0       0.348778  16869.507130  Cluster 2\n",
              "5  29.0  131578.0       0.847034   3535.514352  Cluster 3\n",
              "6  54.0   76500.0       0.785198   6878.884249  Cluster 0\n",
              "7  87.0   42592.0       0.355290  18086.287158  Cluster 2\n",
              "8  83.0   34384.0       0.324719  14783.379086  Cluster 2\n",
              "9  84.0   27693.0       0.367063  17879.558906  Cluster 2"
            ],
            "text/html": [
              "\n",
              "  <div id=\"df-708829cb-c403-4ba3-8bea-ada85551e0a8\">\n",
              "    <div class=\"colab-df-container\">\n",
              "      <div>\n",
              "<style scoped>\n",
              "    .dataframe tbody tr th:only-of-type {\n",
              "        vertical-align: middle;\n",
              "    }\n",
              "\n",
              "    .dataframe tbody tr th {\n",
              "        vertical-align: top;\n",
              "    }\n",
              "\n",
              "    .dataframe thead th {\n",
              "        text-align: right;\n",
              "    }\n",
              "</style>\n",
              "<table border=\"1\" class=\"dataframe\">\n",
              "  <thead>\n",
              "    <tr style=\"text-align: right;\">\n",
              "      <th></th>\n",
              "      <th>Age</th>\n",
              "      <th>Income</th>\n",
              "      <th>SpendingScore</th>\n",
              "      <th>Savings</th>\n",
              "      <th>Cluster</th>\n",
              "    </tr>\n",
              "  </thead>\n",
              "  <tbody>\n",
              "    <tr>\n",
              "      <th>0</th>\n",
              "      <td>58.0</td>\n",
              "      <td>77769.0</td>\n",
              "      <td>0.791329</td>\n",
              "      <td>6559.829923</td>\n",
              "      <td>Cluster 0</td>\n",
              "    </tr>\n",
              "    <tr>\n",
              "      <th>1</th>\n",
              "      <td>59.0</td>\n",
              "      <td>81799.0</td>\n",
              "      <td>0.791082</td>\n",
              "      <td>5417.661426</td>\n",
              "      <td>Cluster 0</td>\n",
              "    </tr>\n",
              "    <tr>\n",
              "      <th>2</th>\n",
              "      <td>62.0</td>\n",
              "      <td>74751.0</td>\n",
              "      <td>0.702657</td>\n",
              "      <td>9258.992965</td>\n",
              "      <td>Cluster 0</td>\n",
              "    </tr>\n",
              "    <tr>\n",
              "      <th>3</th>\n",
              "      <td>59.0</td>\n",
              "      <td>74373.0</td>\n",
              "      <td>0.765680</td>\n",
              "      <td>7346.334504</td>\n",
              "      <td>Cluster 0</td>\n",
              "    </tr>\n",
              "    <tr>\n",
              "      <th>4</th>\n",
              "      <td>87.0</td>\n",
              "      <td>17760.0</td>\n",
              "      <td>0.348778</td>\n",
              "      <td>16869.507130</td>\n",
              "      <td>Cluster 2</td>\n",
              "    </tr>\n",
              "    <tr>\n",
              "      <th>5</th>\n",
              "      <td>29.0</td>\n",
              "      <td>131578.0</td>\n",
              "      <td>0.847034</td>\n",
              "      <td>3535.514352</td>\n",
              "      <td>Cluster 3</td>\n",
              "    </tr>\n",
              "    <tr>\n",
              "      <th>6</th>\n",
              "      <td>54.0</td>\n",
              "      <td>76500.0</td>\n",
              "      <td>0.785198</td>\n",
              "      <td>6878.884249</td>\n",
              "      <td>Cluster 0</td>\n",
              "    </tr>\n",
              "    <tr>\n",
              "      <th>7</th>\n",
              "      <td>87.0</td>\n",
              "      <td>42592.0</td>\n",
              "      <td>0.355290</td>\n",
              "      <td>18086.287158</td>\n",
              "      <td>Cluster 2</td>\n",
              "    </tr>\n",
              "    <tr>\n",
              "      <th>8</th>\n",
              "      <td>83.0</td>\n",
              "      <td>34384.0</td>\n",
              "      <td>0.324719</td>\n",
              "      <td>14783.379086</td>\n",
              "      <td>Cluster 2</td>\n",
              "    </tr>\n",
              "    <tr>\n",
              "      <th>9</th>\n",
              "      <td>84.0</td>\n",
              "      <td>27693.0</td>\n",
              "      <td>0.367063</td>\n",
              "      <td>17879.558906</td>\n",
              "      <td>Cluster 2</td>\n",
              "    </tr>\n",
              "  </tbody>\n",
              "</table>\n",
              "</div>\n",
              "      <button class=\"colab-df-convert\" onclick=\"convertToInteractive('df-708829cb-c403-4ba3-8bea-ada85551e0a8')\"\n",
              "              title=\"Convert this dataframe to an interactive table.\"\n",
              "              style=\"display:none;\">\n",
              "        \n",
              "  <svg xmlns=\"http://www.w3.org/2000/svg\" height=\"24px\"viewBox=\"0 0 24 24\"\n",
              "       width=\"24px\">\n",
              "    <path d=\"M0 0h24v24H0V0z\" fill=\"none\"/>\n",
              "    <path d=\"M18.56 5.44l.94 2.06.94-2.06 2.06-.94-2.06-.94-.94-2.06-.94 2.06-2.06.94zm-11 1L8.5 8.5l.94-2.06 2.06-.94-2.06-.94L8.5 2.5l-.94 2.06-2.06.94zm10 10l.94 2.06.94-2.06 2.06-.94-2.06-.94-.94-2.06-.94 2.06-2.06.94z\"/><path d=\"M17.41 7.96l-1.37-1.37c-.4-.4-.92-.59-1.43-.59-.52 0-1.04.2-1.43.59L10.3 9.45l-7.72 7.72c-.78.78-.78 2.05 0 2.83L4 21.41c.39.39.9.59 1.41.59.51 0 1.02-.2 1.41-.59l7.78-7.78 2.81-2.81c.8-.78.8-2.07 0-2.86zM5.41 20L4 18.59l7.72-7.72 1.47 1.35L5.41 20z\"/>\n",
              "  </svg>\n",
              "      </button>\n",
              "      \n",
              "  <style>\n",
              "    .colab-df-container {\n",
              "      display:flex;\n",
              "      flex-wrap:wrap;\n",
              "      gap: 12px;\n",
              "    }\n",
              "\n",
              "    .colab-df-convert {\n",
              "      background-color: #E8F0FE;\n",
              "      border: none;\n",
              "      border-radius: 50%;\n",
              "      cursor: pointer;\n",
              "      display: none;\n",
              "      fill: #1967D2;\n",
              "      height: 32px;\n",
              "      padding: 0 0 0 0;\n",
              "      width: 32px;\n",
              "    }\n",
              "\n",
              "    .colab-df-convert:hover {\n",
              "      background-color: #E2EBFA;\n",
              "      box-shadow: 0px 1px 2px rgba(60, 64, 67, 0.3), 0px 1px 3px 1px rgba(60, 64, 67, 0.15);\n",
              "      fill: #174EA6;\n",
              "    }\n",
              "\n",
              "    [theme=dark] .colab-df-convert {\n",
              "      background-color: #3B4455;\n",
              "      fill: #D2E3FC;\n",
              "    }\n",
              "\n",
              "    [theme=dark] .colab-df-convert:hover {\n",
              "      background-color: #434B5C;\n",
              "      box-shadow: 0px 1px 3px 1px rgba(0, 0, 0, 0.15);\n",
              "      filter: drop-shadow(0px 1px 2px rgba(0, 0, 0, 0.3));\n",
              "      fill: #FFFFFF;\n",
              "    }\n",
              "  </style>\n",
              "\n",
              "      <script>\n",
              "        const buttonEl =\n",
              "          document.querySelector('#df-708829cb-c403-4ba3-8bea-ada85551e0a8 button.colab-df-convert');\n",
              "        buttonEl.style.display =\n",
              "          google.colab.kernel.accessAllowed ? 'block' : 'none';\n",
              "\n",
              "        async function convertToInteractive(key) {\n",
              "          const element = document.querySelector('#df-708829cb-c403-4ba3-8bea-ada85551e0a8');\n",
              "          const dataTable =\n",
              "            await google.colab.kernel.invokeFunction('convertToInteractive',\n",
              "                                                     [key], {});\n",
              "          if (!dataTable) return;\n",
              "\n",
              "          const docLinkHtml = 'Like what you see? Visit the ' +\n",
              "            '<a target=\"_blank\" href=https://colab.research.google.com/notebooks/data_table.ipynb>data table notebook</a>'\n",
              "            + ' to learn more about interactive tables.';\n",
              "          element.innerHTML = '';\n",
              "          dataTable['output_type'] = 'display_data';\n",
              "          await google.colab.output.renderOutput(dataTable, element);\n",
              "          const docLink = document.createElement('div');\n",
              "          docLink.innerHTML = docLinkHtml;\n",
              "          element.appendChild(docLink);\n",
              "        }\n",
              "      </script>\n",
              "    </div>\n",
              "  </div>\n",
              "  "
            ]
          },
          "metadata": {},
          "execution_count": 17
        }
      ]
    },
    {
      "cell_type": "markdown",
      "metadata": {
        "id": "2HZaEiiwb3I3"
      },
      "source": [
        "---\n",
        "### **3.3 Save the prediction result to csv**\n",
        "---"
      ]
    },
    {
      "cell_type": "code",
      "metadata": {
        "id": "MmCsLouDb3I4",
        "colab": {
          "base_uri": "https://localhost:8080/"
        },
        "outputId": "296faa17-d522-4448-b355-c3f485db3ea7"
      },
      "source": [
        "newPredictions.to_csv(\"NewPredictions.csv\")\n",
        "print(\"Result file save sucessfully!!\")"
      ],
      "execution_count": 18,
      "outputs": [
        {
          "output_type": "stream",
          "name": "stdout",
          "text": [
            "Result file save sucessfully!!\n"
          ]
        }
      ]
    },
    {
      "cell_type": "markdown",
      "metadata": {
        "id": "D9Y1VxIsFuqn"
      },
      "source": [
        "---\n",
        "# **4. Clustering: Ploting the Cluster**\n",
        "---\n",
        "```\n",
        "- Cluster PCA Plot (2d)          'cluster'\n",
        "- Cluster TSnE (3d)              'tsne'\n",
        "- Elbow Plot                     'elbow'\n",
        "- Silhouette Plot                'silhouette'\n",
        "- Distance Plot                  'distance'\n",
        "- Distribution Plot              'distribution'\n",
        "```"
      ]
    },
    {
      "cell_type": "markdown",
      "metadata": {
        "id": "yuCOkjBs0ZXw"
      },
      "source": [
        "---\n",
        "### **4.1 Evaluate Cluster Model**\n",
        "---"
      ]
    },
    {
      "cell_type": "code",
      "metadata": {
        "id": "FPiBWwaAFuqp",
        "colab": {
          "base_uri": "https://localhost:8080/",
          "height": 204,
          "referenced_widgets": [
            "e81bea958ecf4a4aa39e357c4ed124b1",
            "1b024f023b834b69a55cdb27c39bc843",
            "a295f24c9a164c51a8a863393c288c4f",
            "ec7691318a194e04900fb9b8c09ee061",
            "7d096d5ca2694a0db26001385dce2fd7",
            "48fd1ccc494449c490e333d474e42fa9",
            "2de82cfbcbba44f09b9234f6ea9334d4"
          ]
        },
        "outputId": "1ceb6370-df07-43c4-9445-714a7b697831"
      },
      "source": [
        "evaluate_model(KMeanClusteringModel)"
      ],
      "execution_count": 19,
      "outputs": [
        {
          "output_type": "display_data",
          "data": {
            "text/plain": [
              "interactive(children=(ToggleButtons(description='Plot Type:', icons=('',), options=(('Pipeline Plot', 'pipelin…"
            ],
            "application/vnd.jupyter.widget-view+json": {
              "version_major": 2,
              "version_minor": 0,
              "model_id": "e81bea958ecf4a4aa39e357c4ed124b1"
            }
          },
          "metadata": {
            "application/vnd.jupyter.widget-view+json": {
              "colab": {
                "custom_widget_manager": {
                  "url": "https://ssl.gstatic.com/colaboratory-static/widgets/colab-cdn-widget-manager/b3e629b1971e1542/manager.min.js"
                }
              }
            }
          }
        }
      ]
    },
    {
      "cell_type": "markdown",
      "metadata": {
        "id": "6A52f46Jb3I5"
      },
      "source": [
        "---\n",
        "### **4.2 2D-plot for Cluster**\n",
        "---"
      ]
    },
    {
      "cell_type": "code",
      "metadata": {
        "id": "YMxxIMBRb3I5",
        "colab": {
          "base_uri": "https://localhost:8080/",
          "height": 617
        },
        "outputId": "48c975fa-aec9-474d-8fd1-6f3004741fa9"
      },
      "source": [
        "plot_model(KMeanClusteringModel, plot='cluster')"
      ],
      "execution_count": 20,
      "outputs": [
        {
          "output_type": "display_data",
          "data": {
            "text/plain": [
              "<IPython.core.display.HTML object>"
            ],
            "text/html": []
          },
          "metadata": {}
        },
        {
          "output_type": "display_data",
          "data": {
            "text/html": [
              "<html>\n",
              "<head><meta charset=\"utf-8\" /></head>\n",
              "<body>\n",
              "    <div>            <script src=\"https://cdnjs.cloudflare.com/ajax/libs/mathjax/2.7.5/MathJax.js?config=TeX-AMS-MML_SVG\"></script><script type=\"text/javascript\">if (window.MathJax && window.MathJax.Hub && window.MathJax.Hub.Config) {window.MathJax.Hub.Config({SVG: {font: \"STIX-Web\"}});}</script>                <script type=\"text/javascript\">window.PlotlyConfig = {MathJaxConfig: 'local'};</script>\n",
              "        <script src=\"https://cdn.plot.ly/plotly-2.18.2.min.js\"></script>                <div id=\"091a4e1c-32c6-4045-82fd-59666f6b60dd\" class=\"plotly-graph-div\" style=\"height:600px; width:100%;\"></div>            <script type=\"text/javascript\">                                    window.PLOTLYENV=window.PLOTLYENV || {};                                    if (document.getElementById(\"091a4e1c-32c6-4045-82fd-59666f6b60dd\")) {                    Plotly.newPlot(                        \"091a4e1c-32c6-4045-82fd-59666f6b60dd\",                        [{\"customdata\":[[58],[58],[55],[60],[56],[60],[58],[56],[64],[63],[62],[59],[67],[58],[58],[57],[66],[64],[59],[68],[61],[64],[63],[55],[57],[57],[53],[61],[61],[62],[62],[62],[60],[65],[60],[63],[56],[58],[62],[56],[59],[65],[62],[59],[66],[64],[62],[61],[56],[62],[60],[62],[64],[63],[58],[59],[59],[59],[59],[55],[51],[57],[61],[60],[64],[65],[59],[58],[63],[61],[59],[56],[61],[63],[58],[62],[60],[62],[65],[59],[65],[58],[61],[66],[58],[68],[58],[67],[58],[56],[61],[56],[61],[59],[62],[59],[59],[59],[57],[59],[64],[61],[63],[56],[59],[58],[61],[55],[59],[60],[60],[67],[57],[56],[67],[63],[57],[57],[64],[61],[55],[66],[59],[61],[61],[57],[58],[61],[61],[63],[54],[56],[64],[53],[55],[58],[55],[59],[58],[58],[59],[57],[61],[53],[56],[59],[62],[60],[60],[66],[58],[55],[59],[62],[59],[62]],\"hovertemplate\":\"Cluster=Cluster 0<br>PCA1=%{x}<br>PCA2=%{y}<br>Feature=%{customdata[0]}<extra></extra>\",\"legendgroup\":\"Cluster 0\",\"marker\":{\"color\":\"#636efa\",\"opacity\":0.5,\"symbol\":\"circle\"},\"mode\":\"markers\",\"name\":\"Cluster 0\",\"orientation\":\"v\",\"showlegend\":true,\"x\":[2555.7842237303494,8122.080380431857,871.0561288830002,-7740.90488614821,-15159.90190703026,-9955.59899029223,5073.48734275496,-7927.2794017390015,-10817.514887710635,-182.87509914870554,-12401.01261323433,384.4886441749414,-15876.014206199568,2392.9514015408063,-4856.1602730505965,-9604.976111586084,-3578.641169860195,3594.0424319377644,-5713.304473394479,2456.1149302637205,-4025.5345829792095,1223.3332868105247,-18377.08090902117,-1254.7960958097485,1380.9095889215478,-5506.504771609419,-284.9346156042497,-1867.5011781843552,-4335.121225148141,-8175.944783875937,-11570.013634605879,-12594.175257191951,-3881.279238659188,-9447.566961580671,-4595.725464525731,5567.478118222899,9121.208333274746,499.49662400636174,-4176.7226283581695,-6529.597903259437,-7423.928781748684,-9153.992112275346,4864.6836517626425,-7249.028144112702,7325.256189942479,1198.215521605773,-6945.490210959251,-5628.983755072118,-6874.4472797958015,3175.7301036364274,-10072.875122355039,-5806.0770680668375,11039.026949927058,-5414.849621040675,3385.8220344187544,-3902.650766405365,277.3194394523495,-18832.32309725966,-7793.454361394593,-10419.65073732167,-3127.7464850155197,-3147.971701777522,3607.6218458178523,-805.5182754639169,-12402.614021503567,-811.273295024659,-7981.746785180182,2868.6753241163087,7034.567000940575,-7827.504394122578,-7225.6566572804895,-9823.292972914787,-3197.7706738433208,-4661.643211273583,-4588.84567820552,-1424.2968597298832,-11770.096233982846,-7431.169948635809,-4794.730197271379,-5787.584451174634,-4114.66583925316,-4883.720557377948,-967.1345392121397,1855.0479746174085,3333.0370068762772,-6270.1300471369705,-6075.723954598627,3574.86763074982,834.6063397987235,375.61201032836675,-3222.028498023299,3735.2222847238327,-9600.009518947494,2663.8141164030017,-5898.744482221797,-6051.798043076613,5619.125533378011,-2220.635444393814,-10371.487065175941,-1864.594073104942,-3536.624902612316,-9270.983238674971,-7793.21151849757,5122.2825499326755,7017.407221041001,4968.764656493561,-6214.354922912844,1547.9124272171957,-1709.0067144922587,-5149.414552703785,-9176.939927564548,5679.935019062449,4615.604597857517,-1755.3663671079712,-6586.3750253164735,-2329.616773935969,-1148.5927303150036,106.44731571900085,13091.374146760902,-11385.807306619196,-847.3002323292333,-2630.7941444101675,-9514.742116918947,1691.1470012917073,-6112.701963031481,1381.2925353027401,-4972.9221323189,-3354.4093952257344,-1006.7942920597799,10499.407287118544,1270.592614494425,11129.424152003643,-14757.626867529667,-13124.391619355421,3442.0678892712544,-4333.3531655613715,-4197.995988224729,-879.6961238367898,1797.869290930971,-5327.512632351789,-5495.93003391773,4241.775879690275,-2009.7086269484503,1535.320025725936,-11393.264273317018,6644.597598902887,-1710.0091114415056,-5228.773563698112,4848.442756486665,-10238.837919558975,-907.6690954314638,-3652.0516255628027,-2601.8696305967837,-611.8920901109276,-860.4354508721344,-5414.451735591042],\"xaxis\":\"x\",\"y\":[5164.690207216513,4731.012077645316,5689.000195132611,5133.639365463526,5573.24377019706,4085.3124409459483,5244.436589238658,5673.527612414183,6677.482013672127,4411.324333177544,6731.622413481737,6845.141671584179,7337.46241100527,5992.684142669527,6861.841813756606,5517.456836124638,4687.331267871378,5244.223965614588,6098.407220683632,5539.978054207798,5644.552286645013,5666.368020665907,5086.374515846038,6380.915678462934,5567.112753962651,6298.430264198259,4064.0083597599196,2685.662991289801,2658.297501724,5599.274846074158,6393.584858504247,5058.593260676152,3532.750550096708,6026.370077872555,4575.315312500274,6399.679501338901,4076.188940417804,4450.572584113243,5121.948253777,5174.060198642414,5595.425013755245,6237.454829267944,4834.954016262217,5030.101276940079,5245.750184774917,6031.597702947422,5240.283887422062,3413.4612857981797,3266.4705558116,4727.079878527438,7033.832267439068,5686.132099777836,4384.687445082084,4509.378968992939,4513.159188235656,5499.339242197253,5152.07747458481,6823.2532219947025,5788.853750291176,5982.858062463158,5318.281844571089,5506.9964385163385,4852.444506942653,4348.095844750876,4277.4201759966945,4771.515278723627,3467.566430123224,5223.642144465042,3374.2873062887643,5701.6975673885445,4564.6175359122535,6862.247568550064,5127.949297943517,4875.411844599681,4468.268199202186,7267.328447090964,5001.4205881955195,6342.036887449036,5174.470366607369,5711.628519863215,3078.8959824923886,4688.370839749896,4638.724083111239,5468.743079867757,4012.215485337337,5401.821899173071,3500.5963142113815,6638.189555586533,5141.101353125812,5049.606055105601,4129.181187750037,4370.467576915717,4923.2817369729555,3399.1199087466716,5205.840127358383,6221.683197407635,4314.8038317272985,4177.140252105046,6211.274367328166,5267.352326944865,5070.413063690276,5996.549301848858,6334.243106042937,3424.073401707505,5588.800471678808,3943.1172738218743,8154.200471910164,3973.9067969409944,3684.6952600892087,5556.66616253832,7146.662700635199,4711.285755352459,5713.442204003192,4273.205130157197,4795.659468727198,6502.207658399983,6154.518340801141,5019.545227332756,3878.0739044405027,5239.834348120346,5435.293660917679,5512.809747300329,5484.06232146994,4305.605568968247,7150.265776891152,5207.220968280953,5053.974565097899,4039.0497266262223,6827.73658190339,4092.5866735586205,4918.86104539669,2451.395705037183,5008.011891703146,5122.298324176327,3293.926138303469,6791.121854812112,4646.423182047716,4574.029857294049,3616.9067455458758,5507.6743386176695,5033.927141363296,4854.3733603157025,4571.311395238496,6617.143268176033,4760.726839204428,6074.108602891865,5692.091535965755,4906.8211145298455,6716.389157420831,7423.315553060327,4662.571681544214,4298.147977719964,5720.063891344354,2642.8562382095624,1366.2174572861718,6401.496667099204],\"yaxis\":\"y\",\"type\":\"scatter\",\"textposition\":\"top center\"},{\"customdata\":[[33],[37],[31],[36],[33],[35],[31],[38],[31],[36],[36],[31],[39],[38],[29],[36],[37],[44],[37],[34],[35],[37],[33],[37],[84],[33],[31],[33],[29],[26],[24],[39],[36],[33],[31],[29],[40],[42],[35],[36],[34],[28],[84],[34],[31],[88],[35],[43],[25],[37],[33],[31],[29],[59],[35],[38],[31],[33],[30],[39],[34],[30],[30],[36],[37],[35],[33],[34],[30],[30],[28],[33],[34],[28],[31],[28],[33],[32],[30],[36],[85],[29],[36],[31],[33],[31],[30],[31],[34],[32],[33],[86],[30],[35],[33],[30],[32],[37],[31],[38],[28],[27],[32],[29],[30],[28],[28],[84],[34],[22],[32],[25],[31],[36],[29],[37],[29],[29],[29],[35],[34],[35],[31],[34],[32],[31],[31],[30],[35],[37]],\"hovertemplate\":\"Cluster=Cluster 1<br>PCA1=%{x}<br>PCA2=%{y}<br>Feature=%{customdata[0]}<extra></extra>\",\"legendgroup\":\"Cluster 1\",\"marker\":{\"color\":\"#EF553B\",\"opacity\":0.5,\"symbol\":\"circle\"},\"mode\":\"markers\",\"name\":\"Cluster 1\",\"orientation\":\"v\",\"showlegend\":true,\"x\":[16918.676225923748,32912.892054458214,29210.556892903765,24491.388924465646,22258.608678229917,32691.869561885072,35187.910560505516,18943.37281532903,39135.37624685958,20592.34660124051,34060.87751097297,37228.73474929928,24819.360933982738,28960.634987007834,36813.76713471411,33203.842614913294,35023.21628615081,38938.11811665464,32289.54019339468,27456.91325898941,30806.776365699694,30949.636906806874,30046.489099008388,32853.06228404299,34834.901797228136,19295.267700776098,25732.344964588872,24613.751994747243,35036.715862905876,21973.307957772966,34815.254907582974,24706.12836543107,32210.979752849817,38869.649470438875,35758.2754611211,40673.85966572636,23032.68011842761,31253.468503847285,37194.90227154462,29861.54669189974,14006.000973765169,33379.420597243996,39513.27355052194,35572.715402147136,29240.509736461743,38847.16975192886,26003.522420593898,25938.05051554674,25765.790066438323,22105.03460663264,25328.069975138656,30148.682682831157,15764.491422930685,15177.319702791365,30155.334179480982,37939.717010227345,32416.93985636817,30584.12459685679,32797.64364946063,23470.847054512193,22393.417704629723,31911.001222896022,26298.14840302524,22350.769806170967,21900.78529345972,41298.63128492268,32561.025384279317,27758.38755378164,33217.92658728099,31614.442557749982,24827.978797692216,40849.48060118112,31502.360315169375,36260.39987248514,32307.936747625557,19017.16949030117,23896.36879719903,26343.678683823553,24294.80848197436,23967.006141706428,35579.20584184768,26312.372969945663,26071.981192203388,25363.919193669713,36008.725342276,31330.343959587713,20486.140681685327,40419.57667419345,23022.218288328797,32572.750284951715,31361.08525850117,39941.23737200699,30614.165788924784,26578.15321715033,31045.22028118459,32149.92130246569,34753.148471170556,34830.866045261144,23748.677826025523,39399.40138079225,23858.598234856054,31016.952780284268,19785.99437370534,35711.080006299984,22224.556150677487,22236.16946566787,25474.402763132613,38543.62513846531,23196.213321683532,33345.1562744626,26023.56639270154,30950.10184584328,26983.046355085906,28639.38501225214,30268.705481027417,31202.41265845165,23392.942038336707,26228.37627379759,27412.691418946484,34360.48181343946,28627.259856345176,28912.89514356204,32345.708411108066,26507.042897939555,30836.978320912778,32322.908535523802,28681.549871210183,25376.69328333062,31317.298082396974,31960.754470883083],\"xaxis\":\"x\",\"y\":[-2877.194182102228,-4588.664848267576,-6286.357858424546,-3378.543647632872,-5195.925254869426,-6066.4571344577525,-4164.857943447228,-6099.9265729041745,-4339.706610389615,-4611.587865702772,-5075.678179352541,-4575.537585729335,-6443.1168558178615,-5439.902010858864,-4615.4621299379405,-6552.8923839436575,-4416.577014358729,-4443.170207612073,-3634.341607017827,-4868.312310128515,-5560.204279339272,-4397.19724786116,-2733.1091736642998,-5910.595732886542,-5079.540897002677,-3266.649864615701,-4846.280154278842,-3288.4640447513416,-6415.699422707939,-5227.97219263389,-5108.28190746946,-6304.286669733977,-5806.3626560387565,-4117.835744147898,-4122.4716590410335,-5771.827355976945,-5461.179167794454,-4792.820646769855,-4030.4862142381503,-4210.491363493583,-1775.6048970799577,-4139.052833212811,-4805.682615179916,-4807.664945608784,-5240.710105021423,-8209.639605398552,-3786.1338481571665,-4054.2525236210518,-4647.514683014748,-4346.187481501863,-4507.818639633958,-3727.6410744728214,-2149.152364399404,4253.670080185395,-6491.845587524799,-4683.440267913215,-3316.874095179474,-5198.652074260109,-5654.5472085852425,-4720.248568308454,-5150.747387385607,-2672.911587003682,-5023.038893615685,-5405.192571717657,-5234.914564220791,-6422.065158701381,-5658.52873889131,-3524.6022728079956,-4387.40505781872,-3948.4132949879495,-5088.608026609535,-5591.430813146155,-5081.205828124807,-3890.3445341678917,-3401.08120517755,-4587.0561705581185,-4653.572749186027,-3863.0067104561285,-3156.174810819154,-5918.695473496266,-6195.256076450424,-4286.405352481011,-4687.764441938942,-6518.878337708814,-6111.705479451007,-5635.163992926344,-4804.203961851945,-6642.234020142049,-4439.122431386045,-6711.0056127748185,-4837.589777514416,-5237.495096676829,-4762.434742638739,-4542.181119259879,-4354.8802382614,-5508.945012028886,-4008.5892737017966,-5377.228895403817,-4085.3877140573522,-5202.09037245289,-4857.997405051624,-4865.0042507751195,-4699.39188125626,-4543.480905662904,-5737.014106158462,-4400.042493871471,-4541.161734519424,-7198.0635000968405,-5613.714696123645,-6080.299784647307,-7172.334086297046,-6274.399316410816,-2897.4182757985122,-3130.9503738580556,-4917.675610318428,-4006.88120900566,-5117.926531788417,-4266.484394821194,-5970.659385853915,-5038.8163456088905,-3324.816428758569,-5224.554320132964,-2201.720744033924,-5484.674224534327,-4248.410776130164,-3681.2906989074854,-4194.112749071155,-3922.3289154774984,-6141.762968151076,-7950.138456796389],\"yaxis\":\"y\",\"type\":\"scatter\",\"textposition\":\"top center\"},{\"customdata\":[[84],[84],[86],[94],[90],[82],[90],[87],[91],[87],[92],[86],[97],[91],[84],[91],[92],[83],[83],[83],[93],[87],[89],[88],[94],[90],[89],[85],[87],[79],[82],[87],[92],[88],[87],[91],[86],[82],[90],[87],[84],[86],[88],[91],[91],[84],[87],[90],[87],[89],[83],[94],[84],[79],[86],[85],[92],[89],[92],[86],[85],[92],[84],[87],[88],[87],[88],[95],[89],[86],[85],[87],[89],[89],[85],[92],[83],[91],[84],[81],[91],[91],[82],[83],[89],[82],[93],[87],[84],[88],[84],[88],[91],[90],[88],[85],[89],[88],[91],[85],[94],[85],[83],[88],[85],[89],[92],[94],[85],[88],[94],[86],[83],[91],[88],[90],[91],[84],[87],[91],[85],[87],[91],[94],[88],[84],[90],[91],[87],[88],[91],[86],[87],[89],[93],[90],[88],[83],[89],[87],[83],[84],[91],[90],[90],[88],[88]],\"hovertemplate\":\"Cluster=Cluster 2<br>PCA1=%{x}<br>PCA2=%{y}<br>Feature=%{customdata[0]}<extra></extra>\",\"legendgroup\":\"Cluster 2\",\"marker\":{\"color\":\"#00cc96\",\"opacity\":0.5,\"symbol\":\"circle\"},\"mode\":\"markers\",\"name\":\"Cluster 2\",\"orientation\":\"v\",\"showlegend\":true,\"x\":[-45243.33594590511,-51590.97204811316,-52219.78891088443,-56820.08751400128,-52877.38162330977,-42172.09137421164,-40392.52356154923,-45889.161227404526,-47591.225131434614,-52745.27195482759,-56895.336013197324,-56854.244929278204,-48338.704688000944,-44891.72695125935,-39255.47389259956,-46108.56437415352,-39730.75490897845,-45148.06214368702,-57495.82749294876,-48890.162063403404,-55837.89619000485,-57945.294049611366,-53680.72060591251,-53103.84792851191,-51858.95285548028,-38257.012480306774,-47490.053360102735,-53905.33081243268,-49083.989006407006,-43219.57063844721,-51335.69631678477,-59885.18347781835,-40276.44812098459,-44316.39099715633,-44207.369220407236,-52957.616277303394,-60035.355695188846,-42152.50284228481,-51240.794671401585,-45592.66270794386,-55003.114748713146,-48031.60030337845,-57888.986939968,-48496.84791008091,-47000.171674283905,-48329.37517055245,-50055.787556764524,-46621.675172876654,-33223.78792540311,-50446.687207783805,-41229.08531754963,-36822.88273567961,-48086.47159801662,-37510.58805740357,-39708.646986385116,-47211.309228383616,-42194.798750822614,-41047.37638673447,-53120.54075530759,-46897.287218804486,-54413.15852823439,-53329.088922118586,-48469.758247375066,-51191.183141214584,-42334.04764915755,-49618.56426624691,-42594.24303541743,-48754.553262303794,-49610.67501721532,-28705.21282526336,-47927.75616068905,-49952.56387007487,-55368.98425714011,-56491.72617965688,-46522.91946866403,-39882.023288280216,-41183.652086269234,-49855.360193773915,-48254.00620956811,-41272.89535426133,-55116.83598721047,-58771.33010005761,-51459.51352500547,-45053.50114082118,-42432.645121021924,-43231.477857798054,-55300.43836861995,-57176.86780758158,-46294.69656360339,-49640.516280076605,-33685.82301953529,-41654.28539711413,-46752.17189818298,-42382.69882279962,-47339.947344929154,-41090.432743024736,-51006.62594962384,-46888.405885769855,-45489.12000858338,-47271.41327800884,-54957.49097653025,-44945.69896471382,-47148.04952513188,-58306.893745623194,-40907.25151543578,-44680.893553642505,-42805.17470565499,-47366.64942872538,-49427.52412175888,-47129.8441611647,-47975.62988585302,-39916.5906118059,-52508.30352712904,-38870.672592895105,-56178.67329217834,-45508.35391168647,-50504.823104629126,-37730.76929457193,-28723.991918569307,-48867.334253339606,-46206.76075642489,-44821.27196488108,-51304.420783637244,-48448.18983149921,-49206.073004638194,-57516.27314156979,-53514.366110009534,-39063.286664840605,-63656.34761270807,-40724.15684584518,-63634.72202883469,-43811.472609145436,-45504.92819267483,-48762.364713996016,-58127.50383446991,-42253.87288275522,-43012.76980619299,-47072.83269048477,-45316.5813894274,-52350.136878173274,-42546.30924747514,-53484.99043374054,-49274.44239573867,-50029.04864430801,-42485.19893881768,-57750.75775521803,-48459.578865747375],\"xaxis\":\"x\",\"y\":[-2386.7438202843027,-1709.6808347140905,-361.82290007414366,-2626.4940910385003,-1034.0459046785436,-3482.950082631113,-1918.0710771595086,-3656.8597514538733,-2876.0171941981075,-3270.2493332029294,-219.83546115271312,-1039.8872367476192,-296.9483635317878,-1059.510176680648,-2456.0629583842892,-4704.89997906912,-3215.3115156639415,-918.4435120938813,-874.593406531655,-3117.0439521319936,-2913.150955038963,-1690.2242432392889,-1523.1535588510803,-1838.6649351564,-1998.3145888103275,-3209.704980791502,-1025.6554152768006,776.7212819595683,-2706.953602076429,-982.6375502407429,-2253.324181988865,968.181704507569,-3159.402908770563,-1681.1081908254473,-1788.5954480508226,-512.167922076334,-2067.7845249042275,-3595.4269201600127,-337.5830610287052,-1858.7414429497283,-1806.3718853762605,-2520.879074299023,-2297.4104831044383,-1255.022876646798,-3258.592151182356,-2106.9557066643088,-458.73281868832504,-1061.3925460477685,-4327.599784659086,-1789.8301942200424,-559.8885893852708,-3004.1360440515828,-3267.664257900953,-2385.9314929128655,-2812.640793364647,-497.02890750722577,-2831.245268015838,163.0082475778455,-2373.9076829435635,-1500.6000118770842,-1055.9964673992313,-3704.1154622013455,-975.0114136119719,-2999.048697401423,-946.4423236598789,-1200.4989785914938,-4573.136558318874,-3476.7582415328598,-2494.3461579278824,-2125.516560546754,1139.06759138312,-1016.3629330534928,-990.6072888551722,-1529.9498518651965,-2395.1514908507825,-3145.8380799741626,-2299.1778477879416,-2551.640176025432,-3586.392580330956,-2039.05221180359,-3386.630871370057,-1946.425647320716,-1443.6315773519377,-3267.8529257017844,-2804.3179897641226,-2464.365635646984,-2379.4456307220726,-500.3822652767309,-3445.1414430350633,-2403.451736700601,-2359.9807573111734,-1284.2768049213953,-4260.66808420652,-1026.2176795347023,-2756.210664925764,-2507.4686024831626,1229.6345018341221,-1747.284305140702,-857.2362973575506,-1422.2632977402088,-1273.0338864987425,-2663.435455555625,-948.1703671149722,-1498.3071568123496,-2247.72376711028,-3320.2389025799566,-2383.923812810525,-2226.5245221788296,-3282.496539528997,-2166.9455046342396,-2697.480521875642,-5860.407004947621,-2003.3794666631113,-4966.632164446519,-1450.7322712124183,-1716.096216771758,-2541.1034297579604,-3447.5220835212776,-1283.2493348069172,-3330.095620391109,-3972.4381382736656,-809.2480282398334,-1341.6420338652335,-424.49463918423965,646.5434219075408,-2662.23720566557,-3511.6510358173896,-2178.9510788997595,-672.1307761420624,-3403.354334610767,-958.5370357661106,-3844.050469725098,-1656.4246533860953,-1902.30456623323,-3329.4235557220836,-2813.4089680993475,-2388.397928565651,-3652.142734722461,72.34217763365172,-1271.8366522528793,-2323.9543527396136,-2964.870935052016,-1819.1411226436487,-2907.7976923646925,-1573.1294931068778,-1546.786198676911,-623.0250548560495],\"yaxis\":\"y\",\"type\":\"scatter\",\"textposition\":\"top center\"},{\"customdata\":[[83],[86],[18],[23],[29],[20],[28],[24],[25],[25],[32],[28],[83],[25],[26],[28],[22],[20],[25],[24],[91],[22],[82],[34],[77],[24],[17],[82],[26],[20],[26],[21],[18],[30],[85],[89],[83],[87],[90],[23],[28],[88],[29],[90],[84],[29],[23],[23],[86],[25],[17],[24],[22],[24],[24],[27],[31],[21],[28],[25],[17],[17],[93],[28],[29],[27],[92],[88],[26],[24],[27],[26]],\"hovertemplate\":\"Cluster=Cluster 3<br>PCA1=%{x}<br>PCA2=%{y}<br>Feature=%{customdata[0]}<extra></extra>\",\"legendgroup\":\"Cluster 3\",\"marker\":{\"color\":\"#ab63fa\",\"opacity\":0.5,\"symbol\":\"circle\"},\"mode\":\"markers\",\"name\":\"Cluster 3\",\"orientation\":\"v\",\"showlegend\":true,\"x\":[42157.805430948756,52679.13743936506,55587.35172793506,45049.71302323947,56449.67813276753,53899.23405406334,41933.87633764401,55795.99791010047,45728.401139272224,55783.428854090234,41328.25268046832,53924.5970418673,43629.0127400591,62912.45710039265,52086.380659501905,46000.80248340849,45302.57091364992,47415.38915596519,53422.552479964805,53976.78999307675,43084.43131856259,57857.289053149805,45920.30382555986,44074.74433395842,52844.21452066905,52263.49411048377,59803.04557597499,50433.85140507416,51532.470054685786,54230.31142876455,47842.883669132316,48602.57110350955,48551.897789887546,47549.762553160814,42414.1398352513,43861.74707161999,41580.271741364086,41859.15436607785,42045.79572232816,54778.91990697274,48029.23597884719,44952.902047180105,47210.61128826446,48410.00928895812,46993.64107086381,43600.21620721049,63317.066530294185,51395.2243558633,48577.245951971614,55809.608247543416,61085.161818166234,59239.8535212259,58984.55028389008,45280.29646688088,61617.25601853893,49923.23240059172,47836.44838887485,54542.56027032767,52465.03358530211,55168.45153662267,48697.32854572941,59798.17481891,50874.593719639146,48281.96476028117,66750.62107639125,47518.881323479785,47182.06860121163,47964.55228506111,50397.08388459138,59196.59307835407,46271.74997443962,56651.455486319515],\"xaxis\":\"x\",\"y\":[-5954.454575332929,-4749.056737128193,3427.135170171348,4590.872356292774,5101.39863112898,3176.746804746796,4717.997031231379,4252.89748263188,3658.3064353496734,4732.087674705494,-4823.645609095862,5765.842917677419,-6254.840940318058,5261.355290099565,3388.427067520485,3884.452852169689,3778.1816093851326,4709.388721993279,3894.2354040686005,5488.389848804966,-4660.855325409057,5717.50110377,-4953.921494062021,-6307.668957592924,-5677.667836398254,5916.358116348498,8450.307548937868,-6854.205790290359,6006.733800938246,3238.4289374841283,4758.188583448419,6249.537248101819,4668.214701347183,3437.8966252972846,-5432.281984340314,-6877.036237163742,-5615.5608410251525,-4543.3263426568365,-3106.1031340528007,4629.791345722703,5422.323715263649,-4985.514604349081,6674.234783135655,-5693.6654779806495,-4647.129392602873,-5657.478374018926,4946.177503380894,5657.241523409539,-6305.307643166641,3879.1495425780918,4243.721803980183,4745.144493284462,3350.7117975359856,4437.356755042897,6726.313729421175,6048.724076369269,6059.983303443479,4193.883189681696,3371.5330641923247,4016.9815008394617,5282.497861655181,4315.751653167789,-5178.053057007964,8499.966919747447,2693.0080673252032,4941.999476017808,-4557.716265875758,-4397.185708241023,2890.5507602719613,3903.974813791069,4207.414538362318,4271.292256835259],\"yaxis\":\"y\",\"type\":\"scatter\",\"textposition\":\"top center\"}],                        {\"template\":{\"data\":{\"histogram2dcontour\":[{\"type\":\"histogram2dcontour\",\"colorbar\":{\"outlinewidth\":0,\"ticks\":\"\"},\"colorscale\":[[0.0,\"#0d0887\"],[0.1111111111111111,\"#46039f\"],[0.2222222222222222,\"#7201a8\"],[0.3333333333333333,\"#9c179e\"],[0.4444444444444444,\"#bd3786\"],[0.5555555555555556,\"#d8576b\"],[0.6666666666666666,\"#ed7953\"],[0.7777777777777778,\"#fb9f3a\"],[0.8888888888888888,\"#fdca26\"],[1.0,\"#f0f921\"]]}],\"choropleth\":[{\"type\":\"choropleth\",\"colorbar\":{\"outlinewidth\":0,\"ticks\":\"\"}}],\"histogram2d\":[{\"type\":\"histogram2d\",\"colorbar\":{\"outlinewidth\":0,\"ticks\":\"\"},\"colorscale\":[[0.0,\"#0d0887\"],[0.1111111111111111,\"#46039f\"],[0.2222222222222222,\"#7201a8\"],[0.3333333333333333,\"#9c179e\"],[0.4444444444444444,\"#bd3786\"],[0.5555555555555556,\"#d8576b\"],[0.6666666666666666,\"#ed7953\"],[0.7777777777777778,\"#fb9f3a\"],[0.8888888888888888,\"#fdca26\"],[1.0,\"#f0f921\"]]}],\"heatmap\":[{\"type\":\"heatmap\",\"colorbar\":{\"outlinewidth\":0,\"ticks\":\"\"},\"colorscale\":[[0.0,\"#0d0887\"],[0.1111111111111111,\"#46039f\"],[0.2222222222222222,\"#7201a8\"],[0.3333333333333333,\"#9c179e\"],[0.4444444444444444,\"#bd3786\"],[0.5555555555555556,\"#d8576b\"],[0.6666666666666666,\"#ed7953\"],[0.7777777777777778,\"#fb9f3a\"],[0.8888888888888888,\"#fdca26\"],[1.0,\"#f0f921\"]]}],\"heatmapgl\":[{\"type\":\"heatmapgl\",\"colorbar\":{\"outlinewidth\":0,\"ticks\":\"\"},\"colorscale\":[[0.0,\"#0d0887\"],[0.1111111111111111,\"#46039f\"],[0.2222222222222222,\"#7201a8\"],[0.3333333333333333,\"#9c179e\"],[0.4444444444444444,\"#bd3786\"],[0.5555555555555556,\"#d8576b\"],[0.6666666666666666,\"#ed7953\"],[0.7777777777777778,\"#fb9f3a\"],[0.8888888888888888,\"#fdca26\"],[1.0,\"#f0f921\"]]}],\"contourcarpet\":[{\"type\":\"contourcarpet\",\"colorbar\":{\"outlinewidth\":0,\"ticks\":\"\"}}],\"contour\":[{\"type\":\"contour\",\"colorbar\":{\"outlinewidth\":0,\"ticks\":\"\"},\"colorscale\":[[0.0,\"#0d0887\"],[0.1111111111111111,\"#46039f\"],[0.2222222222222222,\"#7201a8\"],[0.3333333333333333,\"#9c179e\"],[0.4444444444444444,\"#bd3786\"],[0.5555555555555556,\"#d8576b\"],[0.6666666666666666,\"#ed7953\"],[0.7777777777777778,\"#fb9f3a\"],[0.8888888888888888,\"#fdca26\"],[1.0,\"#f0f921\"]]}],\"surface\":[{\"type\":\"surface\",\"colorbar\":{\"outlinewidth\":0,\"ticks\":\"\"},\"colorscale\":[[0.0,\"#0d0887\"],[0.1111111111111111,\"#46039f\"],[0.2222222222222222,\"#7201a8\"],[0.3333333333333333,\"#9c179e\"],[0.4444444444444444,\"#bd3786\"],[0.5555555555555556,\"#d8576b\"],[0.6666666666666666,\"#ed7953\"],[0.7777777777777778,\"#fb9f3a\"],[0.8888888888888888,\"#fdca26\"],[1.0,\"#f0f921\"]]}],\"mesh3d\":[{\"type\":\"mesh3d\",\"colorbar\":{\"outlinewidth\":0,\"ticks\":\"\"}}],\"scatter\":[{\"fillpattern\":{\"fillmode\":\"overlay\",\"size\":10,\"solidity\":0.2},\"type\":\"scatter\"}],\"parcoords\":[{\"type\":\"parcoords\",\"line\":{\"colorbar\":{\"outlinewidth\":0,\"ticks\":\"\"}}}],\"scatterpolargl\":[{\"type\":\"scatterpolargl\",\"marker\":{\"colorbar\":{\"outlinewidth\":0,\"ticks\":\"\"}}}],\"bar\":[{\"error_x\":{\"color\":\"#2a3f5f\"},\"error_y\":{\"color\":\"#2a3f5f\"},\"marker\":{\"line\":{\"color\":\"#E5ECF6\",\"width\":0.5},\"pattern\":{\"fillmode\":\"overlay\",\"size\":10,\"solidity\":0.2}},\"type\":\"bar\"}],\"scattergeo\":[{\"type\":\"scattergeo\",\"marker\":{\"colorbar\":{\"outlinewidth\":0,\"ticks\":\"\"}}}],\"scatterpolar\":[{\"type\":\"scatterpolar\",\"marker\":{\"colorbar\":{\"outlinewidth\":0,\"ticks\":\"\"}}}],\"histogram\":[{\"marker\":{\"pattern\":{\"fillmode\":\"overlay\",\"size\":10,\"solidity\":0.2}},\"type\":\"histogram\"}],\"scattergl\":[{\"type\":\"scattergl\",\"marker\":{\"colorbar\":{\"outlinewidth\":0,\"ticks\":\"\"}}}],\"scatter3d\":[{\"type\":\"scatter3d\",\"line\":{\"colorbar\":{\"outlinewidth\":0,\"ticks\":\"\"}},\"marker\":{\"colorbar\":{\"outlinewidth\":0,\"ticks\":\"\"}}}],\"scattermapbox\":[{\"type\":\"scattermapbox\",\"marker\":{\"colorbar\":{\"outlinewidth\":0,\"ticks\":\"\"}}}],\"scatterternary\":[{\"type\":\"scatterternary\",\"marker\":{\"colorbar\":{\"outlinewidth\":0,\"ticks\":\"\"}}}],\"scattercarpet\":[{\"type\":\"scattercarpet\",\"marker\":{\"colorbar\":{\"outlinewidth\":0,\"ticks\":\"\"}}}],\"carpet\":[{\"aaxis\":{\"endlinecolor\":\"#2a3f5f\",\"gridcolor\":\"white\",\"linecolor\":\"white\",\"minorgridcolor\":\"white\",\"startlinecolor\":\"#2a3f5f\"},\"baxis\":{\"endlinecolor\":\"#2a3f5f\",\"gridcolor\":\"white\",\"linecolor\":\"white\",\"minorgridcolor\":\"white\",\"startlinecolor\":\"#2a3f5f\"},\"type\":\"carpet\"}],\"table\":[{\"cells\":{\"fill\":{\"color\":\"#EBF0F8\"},\"line\":{\"color\":\"white\"}},\"header\":{\"fill\":{\"color\":\"#C8D4E3\"},\"line\":{\"color\":\"white\"}},\"type\":\"table\"}],\"barpolar\":[{\"marker\":{\"line\":{\"color\":\"#E5ECF6\",\"width\":0.5},\"pattern\":{\"fillmode\":\"overlay\",\"size\":10,\"solidity\":0.2}},\"type\":\"barpolar\"}],\"pie\":[{\"automargin\":true,\"type\":\"pie\"}]},\"layout\":{\"autotypenumbers\":\"strict\",\"colorway\":[\"#636efa\",\"#EF553B\",\"#00cc96\",\"#ab63fa\",\"#FFA15A\",\"#19d3f3\",\"#FF6692\",\"#B6E880\",\"#FF97FF\",\"#FECB52\"],\"font\":{\"color\":\"#2a3f5f\"},\"hovermode\":\"closest\",\"hoverlabel\":{\"align\":\"left\"},\"paper_bgcolor\":\"white\",\"plot_bgcolor\":\"#E5ECF6\",\"polar\":{\"bgcolor\":\"#E5ECF6\",\"angularaxis\":{\"gridcolor\":\"white\",\"linecolor\":\"white\",\"ticks\":\"\"},\"radialaxis\":{\"gridcolor\":\"white\",\"linecolor\":\"white\",\"ticks\":\"\"}},\"ternary\":{\"bgcolor\":\"#E5ECF6\",\"aaxis\":{\"gridcolor\":\"white\",\"linecolor\":\"white\",\"ticks\":\"\"},\"baxis\":{\"gridcolor\":\"white\",\"linecolor\":\"white\",\"ticks\":\"\"},\"caxis\":{\"gridcolor\":\"white\",\"linecolor\":\"white\",\"ticks\":\"\"}},\"coloraxis\":{\"colorbar\":{\"outlinewidth\":0,\"ticks\":\"\"}},\"colorscale\":{\"sequential\":[[0.0,\"#0d0887\"],[0.1111111111111111,\"#46039f\"],[0.2222222222222222,\"#7201a8\"],[0.3333333333333333,\"#9c179e\"],[0.4444444444444444,\"#bd3786\"],[0.5555555555555556,\"#d8576b\"],[0.6666666666666666,\"#ed7953\"],[0.7777777777777778,\"#fb9f3a\"],[0.8888888888888888,\"#fdca26\"],[1.0,\"#f0f921\"]],\"sequentialminus\":[[0.0,\"#0d0887\"],[0.1111111111111111,\"#46039f\"],[0.2222222222222222,\"#7201a8\"],[0.3333333333333333,\"#9c179e\"],[0.4444444444444444,\"#bd3786\"],[0.5555555555555556,\"#d8576b\"],[0.6666666666666666,\"#ed7953\"],[0.7777777777777778,\"#fb9f3a\"],[0.8888888888888888,\"#fdca26\"],[1.0,\"#f0f921\"]],\"diverging\":[[0,\"#8e0152\"],[0.1,\"#c51b7d\"],[0.2,\"#de77ae\"],[0.3,\"#f1b6da\"],[0.4,\"#fde0ef\"],[0.5,\"#f7f7f7\"],[0.6,\"#e6f5d0\"],[0.7,\"#b8e186\"],[0.8,\"#7fbc41\"],[0.9,\"#4d9221\"],[1,\"#276419\"]]},\"xaxis\":{\"gridcolor\":\"white\",\"linecolor\":\"white\",\"ticks\":\"\",\"title\":{\"standoff\":15},\"zerolinecolor\":\"white\",\"automargin\":true,\"zerolinewidth\":2},\"yaxis\":{\"gridcolor\":\"white\",\"linecolor\":\"white\",\"ticks\":\"\",\"title\":{\"standoff\":15},\"zerolinecolor\":\"white\",\"automargin\":true,\"zerolinewidth\":2},\"scene\":{\"xaxis\":{\"backgroundcolor\":\"#E5ECF6\",\"gridcolor\":\"white\",\"linecolor\":\"white\",\"showbackground\":true,\"ticks\":\"\",\"zerolinecolor\":\"white\",\"gridwidth\":2},\"yaxis\":{\"backgroundcolor\":\"#E5ECF6\",\"gridcolor\":\"white\",\"linecolor\":\"white\",\"showbackground\":true,\"ticks\":\"\",\"zerolinecolor\":\"white\",\"gridwidth\":2},\"zaxis\":{\"backgroundcolor\":\"#E5ECF6\",\"gridcolor\":\"white\",\"linecolor\":\"white\",\"showbackground\":true,\"ticks\":\"\",\"zerolinecolor\":\"white\",\"gridwidth\":2}},\"shapedefaults\":{\"line\":{\"color\":\"#2a3f5f\"}},\"annotationdefaults\":{\"arrowcolor\":\"#2a3f5f\",\"arrowhead\":0,\"arrowwidth\":1},\"geo\":{\"bgcolor\":\"white\",\"landcolor\":\"#E5ECF6\",\"subunitcolor\":\"white\",\"showland\":true,\"showlakes\":true,\"lakecolor\":\"white\"},\"title\":{\"x\":0.05},\"mapbox\":{\"style\":\"light\"}}},\"xaxis\":{\"anchor\":\"y\",\"domain\":[0.0,1.0],\"title\":{\"text\":\"PCA1\"}},\"yaxis\":{\"anchor\":\"x\",\"domain\":[0.0,1.0],\"title\":{\"text\":\"PCA2\"}},\"legend\":{\"title\":{\"text\":\"Cluster\"},\"tracegroupgap\":0},\"margin\":{\"t\":60},\"plot_bgcolor\":\"rgb(240,240,240)\",\"title\":{\"text\":\"2D Cluster PCA Plot\"},\"height\":600},                        {\"responsive\": true}                    ).then(function(){\n",
              "                            \n",
              "var gd = document.getElementById('091a4e1c-32c6-4045-82fd-59666f6b60dd');\n",
              "var x = new MutationObserver(function (mutations, observer) {{\n",
              "        var display = window.getComputedStyle(gd).display;\n",
              "        if (!display || display === 'none') {{\n",
              "            console.log([gd, 'removed!']);\n",
              "            Plotly.purge(gd);\n",
              "            observer.disconnect();\n",
              "        }}\n",
              "}});\n",
              "\n",
              "// Listen for the removal of the full notebook cells\n",
              "var notebookContainer = gd.closest('#notebook-container');\n",
              "if (notebookContainer) {{\n",
              "    x.observe(notebookContainer, {childList: true});\n",
              "}}\n",
              "\n",
              "// Listen for the clearing of the current output cell\n",
              "var outputEl = gd.closest('.output');\n",
              "if (outputEl) {{\n",
              "    x.observe(outputEl, {childList: true});\n",
              "}}\n",
              "\n",
              "                        })                };                            </script>        </div>\n",
              "</body>\n",
              "</html>"
            ]
          },
          "metadata": {}
        }
      ]
    },
    {
      "cell_type": "markdown",
      "metadata": {
        "id": "edPeXVneb3I6"
      },
      "source": [
        "---\n",
        "### **4.3 3D-plot for Cluster**\n",
        "---"
      ]
    },
    {
      "cell_type": "code",
      "metadata": {
        "scrolled": true,
        "id": "mQiKiGlPb3I6",
        "colab": {
          "base_uri": "https://localhost:8080/",
          "height": 817
        },
        "outputId": "597381ed-3bf5-4db2-804c-5a34b0cacab1"
      },
      "source": [
        "plot_model(KMeanClusteringModel, plot = 'tsne')"
      ],
      "execution_count": 21,
      "outputs": [
        {
          "output_type": "display_data",
          "data": {
            "text/plain": [
              "<IPython.core.display.HTML object>"
            ],
            "text/html": []
          },
          "metadata": {}
        },
        {
          "output_type": "display_data",
          "data": {
            "text/html": [
              "<html>\n",
              "<head><meta charset=\"utf-8\" /></head>\n",
              "<body>\n",
              "    <div>            <script src=\"https://cdnjs.cloudflare.com/ajax/libs/mathjax/2.7.5/MathJax.js?config=TeX-AMS-MML_SVG\"></script><script type=\"text/javascript\">if (window.MathJax && window.MathJax.Hub && window.MathJax.Hub.Config) {window.MathJax.Hub.Config({SVG: {font: \"STIX-Web\"}});}</script>                <script type=\"text/javascript\">window.PlotlyConfig = {MathJaxConfig: 'local'};</script>\n",
              "        <script src=\"https://cdn.plot.ly/plotly-2.18.2.min.js\"></script>                <div id=\"2dfcb90e-6211-43df-8d59-1b57a60a67d9\" class=\"plotly-graph-div\" style=\"height:800px; width:900px;\"></div>            <script type=\"text/javascript\">                                    window.PLOTLYENV=window.PLOTLYENV || {};                                    if (document.getElementById(\"2dfcb90e-6211-43df-8d59-1b57a60a67d9\")) {                    Plotly.newPlot(                        \"2dfcb90e-6211-43df-8d59-1b57a60a67d9\",                        [{\"customdata\":[[58],[58],[55],[60],[56],[60],[58],[56],[64],[63],[62],[59],[67],[58],[58],[57],[66],[64],[59],[68],[61],[64],[63],[55],[57],[57],[53],[61],[61],[62],[62],[62],[60],[65],[60],[63],[56],[58],[62],[56],[59],[65],[62],[59],[66],[64],[62],[61],[56],[62],[60],[62],[64],[63],[58],[59],[59],[59],[59],[55],[51],[57],[61],[60],[64],[65],[59],[58],[63],[61],[59],[56],[61],[63],[58],[62],[60],[62],[65],[59],[65],[58],[61],[66],[58],[68],[58],[67],[58],[56],[61],[56],[61],[59],[62],[59],[59],[59],[57],[59],[64],[61],[63],[56],[59],[58],[61],[55],[59],[60],[60],[67],[57],[56],[67],[63],[57],[57],[64],[61],[55],[66],[59],[61],[61],[57],[58],[61],[61],[63],[54],[56],[64],[53],[55],[58],[55],[59],[58],[58],[59],[57],[61],[53],[56],[59],[62],[60],[60],[66],[58],[55],[59],[62],[59],[62]],\"hovertemplate\":\"Cluster=Cluster 0<br>0=%{x}<br>1=%{y}<br>2=%{z}<br>Feature=%{customdata[0]}<extra></extra>\",\"legendgroup\":\"Cluster 0\",\"marker\":{\"color\":\"#636efa\",\"opacity\":0.7,\"symbol\":\"circle\"},\"mode\":\"markers\",\"name\":\"Cluster 0\",\"scene\":\"scene\",\"showlegend\":true,\"x\":[-0.39400342,-0.36694485,-0.5089872,-1.7744948,-3.2983801,-2.093384,-0.4573474,-1.970752,-2.6199422,-0.22433536,-2.8129854,-0.77615154,-3.5210721,-0.5701459,-1.8277174,-2.2273765,-0.7112406,-0.4329134,-1.7041097,-0.48142213,-1.1298087,-0.5003808,-3.665884,-0.8486478,-0.4749613,-1.7469144,-0.15086882,0.026787736,-0.37017652,-1.9976368,-2.6360426,-2.6501408,-0.43006542,-2.3140125,-0.84866744,-0.6236487,-0.30200434,-0.20735651,-0.9772177,-1.5514691,-1.8610244,-2.318662,-0.36497366,-1.652057,-0.4401234,-0.5902045,-1.6659555,-0.8003736,-1.0685399,-0.3006852,-2.5997036,-1.5563526,-0.24706736,-1.0064414,-0.25381416,-1.0478734,-0.379458,-3.709517,-1.9816872,-2.4103537,-0.8386203,-0.88949645,-0.33900592,-0.23671786,-2.5682395,-0.35381234,-1.3273361,-0.41601464,-0.25019985,-1.9605659,-1.4994495,-2.5441866,-0.7954038,-0.97673124,-0.8098457,-0.9706896,-2.4770446,-2.077248,-1.1302874,-1.5622185,-0.3867104,-0.943435,-0.32824552,-0.45819056,-0.14897494,-1.5634731,-0.9153645,-0.67823166,-0.35667098,-0.34812978,-0.48507524,-0.22941113,-2.1268573,-0.039290875,-1.3883445,-1.8081816,-0.30075037,-0.341967,-2.4487786,-0.6181541,-0.8390809,-2.2794175,-2.1256697,-0.15453893,-0.4867111,-0.2103697,-2.2183948,-0.10161884,-0.16488032,-1.3693731,-2.5107338,-0.37292784,-0.5367697,-0.30892324,-1.4372504,-0.948428,-0.7910324,-0.35324198,-0.18637657,-2.4293964,-0.5520352,-0.8041323,-2.2051888,-0.1670226,-2.0743706,-0.37542906,-1.1096051,-0.47899956,-0.9050417,-0.25872254,-0.2993054,-0.21140689,-3.1752033,-2.784254,-0.048980087,-1.7289892,-0.80041313,-0.30236226,-0.048957653,-1.3789439,-1.2159286,-0.34898537,-0.42039952,-0.6871363,-2.4020252,-0.5528406,-0.72525406,-1.103076,-0.67579675,-2.670245,-0.33005705,-0.59313905,-0.8449815,0.09791881,0.17028409,-1.7703258],\"y\":[1.1434648,-2.1514678,2.766787,12.57491,16.214159,14.362972,-0.8062122,12.902643,15.122957,4.039972,15.741707,3.2403154,16.323912,1.3342777,9.909805,14.215567,7.7955384,0.2296936,10.579723,1.2531914,8.314366,2.4228344,16.431562,5.0737677,2.270306,10.38909,4.2228823,5.6515255,8.590691,13.104594,15.438054,15.708998,8.182038,14.186847,8.992537,-1.1264228,-2.487463,3.2797766,8.49916,11.421521,12.418829,14.012488,-0.6550559,12.116647,-1.8614068,2.4342227,11.878001,10.185144,11.250064,0.5858889,14.77717,10.640398,-2.9320862,9.957679,0.407093,8.133136,3.4258857,16.449865,12.81067,14.810814,7.2021537,7.1917877,0.22395717,4.6877785,15.603036,4.6338787,12.093518,0.85111487,-1.7695634,12.818677,11.966941,14.604404,7.3130813,9.096701,8.976387,5.1103754,15.384913,12.591699,9.2991295,10.622688,8.419847,9.3598795,4.824237,1.8141172,0.447298,11.144513,10.616041,0.1473782,2.8463745,3.3328588,7.4487786,0.1218192,14.157615,0.99295,10.675384,10.940349,-1.0983655,6.1577525,14.822717,5.736345,7.7146244,14.0464,12.941086,-0.800452,-1.7424083,-0.70265627,11.089252,2.0398743,5.6107764,9.840985,14.269724,-1.1376097,-0.54166,5.631304,11.425084,5.9379725,4.9902844,3.6381712,-3.3111937,15.221156,4.6593375,6.594067,14.144881,1.9433391,10.974275,2.2882514,9.512041,7.610224,4.8710904,-2.8329747,2.4137597,-3.08147,16.150286,15.847754,0.36448964,9.428976,8.514262,4.735675,1.7389514,10.045634,10.154675,-0.24451526,5.9090242,2.1471992,15.182104,-1.5924382,5.5441356,9.809826,-0.74860936,14.915361,4.7547164,7.9015956,6.511063,5.042294,5.239643,10.316858],\"z\":[-0.14023383,-0.5890609,0.29576248,-0.46063077,-1.4307522,-1.4614167,-0.253402,-0.17856564,-0.36460358,-0.596676,-0.7627314,1.0058706,-1.3409026,0.39282817,1.6385884,-0.7405892,-0.15303823,-0.13927369,0.98932624,0.12554929,0.7024934,0.26892483,-1.4379427,1.0239323,0.19058535,1.2046175,-0.8317544,-1.5817302,-1.555044,-0.2918426,-0.66363734,-1.3774737,-1.1471168,-0.37870657,-0.3126926,0.18356735,-0.72408897,-0.6230453,0.26019406,-0.05623734,-0.050955556,-0.17597763,-0.48957473,-0.37990564,-0.4079759,0.5228834,-0.12615398,-1.351041,-1.4114888,-0.47936034,-0.022020541,0.5815837,-0.7961948,-0.47986054,-0.6445616,0.57811266,-0.105804585,-1.409659,-0.061207827,-0.6403711,0.39412725,0.5300135,-0.40630817,-0.6320085,-1.5910276,-0.2857132,-1.3972238,-0.10630047,-0.9328713,-0.12773298,-0.7067498,-0.027309267,0.24275525,-0.0070340275,-0.41714725,1.3570896,-1.3300712,0.39373383,0.28229547,0.61085594,-1.4086593,-0.24489303,-0.38730782,0.10946822,-0.9610873,0.20628233,-1.3369079,0.5467278,-0.15103023,-0.19387278,-0.6673429,-0.75592875,-1.0557392,-1.2378105,0.09823409,0.9880133,-0.75507975,-0.6626072,-0.49313998,0.23178177,0.21595852,-0.35060513,0.23743248,-1.1271573,-0.2712452,-0.948268,1.8597704,-0.96654403,-1.0167296,0.599233,0.23603517,-0.56276673,0.031923745,-0.6099788,-0.39069346,1.0864633,0.8801866,-0.19600762,-0.8772645,-1.1842697,0.26971498,0.49997157,-0.73630947,-0.76794726,1.5940261,-0.10288849,0.12617864,-0.7444867,1.213703,-0.7823046,-0.33364555,-0.85543066,-1.4816152,-1.407418,-1.280596,1.638443,-0.20727935,-0.44842982,-1.1455399,0.51502776,0.00909835,-0.45543844,-0.36815402,0.793947,-1.3930337,-0.074025474,0.57920474,-0.075477555,0.39305174,0.06888976,-0.37145492,-0.5270795,0.63607234,-1.6541601,-1.8953627,1.3003309],\"type\":\"scatter3d\"},{\"customdata\":[[33],[37],[31],[36],[33],[35],[31],[38],[31],[36],[36],[31],[39],[38],[29],[36],[37],[44],[37],[34],[35],[37],[33],[37],[84],[33],[31],[33],[29],[26],[24],[39],[36],[33],[31],[29],[40],[42],[35],[36],[34],[28],[84],[34],[31],[88],[35],[43],[25],[37],[33],[31],[29],[59],[35],[38],[31],[33],[30],[39],[34],[30],[30],[36],[37],[35],[33],[34],[30],[30],[28],[33],[34],[28],[31],[28],[33],[32],[30],[36],[85],[29],[36],[31],[33],[31],[30],[31],[34],[32],[33],[86],[30],[35],[33],[30],[32],[37],[31],[38],[28],[27],[32],[29],[30],[28],[28],[84],[34],[22],[32],[25],[31],[36],[29],[37],[29],[29],[29],[35],[34],[35],[31],[34],[32],[31],[31],[30],[35],[37]],\"hovertemplate\":\"Cluster=Cluster 1<br>0=%{x}<br>1=%{y}<br>2=%{z}<br>Feature=%{customdata[0]}<extra></extra>\",\"legendgroup\":\"Cluster 1\",\"marker\":{\"color\":\"#EF553B\",\"opacity\":0.7,\"symbol\":\"circle\"},\"mode\":\"markers\",\"name\":\"Cluster 1\",\"scene\":\"scene\",\"showlegend\":true,\"x\":[0.26199844,10.1133995,7.300244,2.6015086,0.9257754,10.269316,11.54112,0.27742258,12.819181,0.51699793,11.021348,12.3543825,2.9434752,6.9101605,12.219449,10.617773,11.481362,12.802125,9.351801,5.161293,8.576192,8.386538,7.219809,10.355509,11.474504,0.4034559,3.684276,2.6972842,11.721848,0.8314388,11.467578,2.8449724,9.860929,12.726483,11.791403,13.420411,1.4804847,8.787526,12.288483,7.4086924,0.11868782,10.30251,12.99249,11.800703,7.0982165,13.611252,3.8875897,3.8259287,3.6856344,0.96000403,3.3066764,7.538424,0.19852485,-0.14479911,8.138247,12.593422,9.35847,8.277357,10.280247,1.7306362,0.9965912,8.966394,4.1975203,1.1932718,0.83604306,13.699741,10.109015,5.4764476,10.264593,8.856786,2.8942544,13.467477,9.082228,11.963682,9.308566,0.36456883,2.0567114,4.2247357,2.4675486,2.2054944,11.943441,4.208795,3.9840336,3.3207948,12.095283,9.074108,0.49462494,13.612978,1.4454961,10.257998,8.891769,13.184615,8.191625,4.4425263,8.461414,9.746585,11.292262,11.516257,1.9707676,13.081976,2.0302489,8.595649,0.42339724,11.822944,1.0479825,1.0272661,3.4291627,13.431995,1.6112999,10.67651,3.687473,8.863066,4.8481965,6.169045,7.9251885,8.516535,1.6977917,4.120196,5.1395326,11.193809,6.178853,6.824742,9.102869,4.3493533,8.244813,9.390526,6.3744917,3.3383772,9.181031,9.970808],\"y\":[-5.616481,-6.994451,-8.540367,-8.463792,-7.7017913,-7.184033,-5.4352303,-6.4101286,-3.2372818,-6.832755,-6.23289,-4.289531,-8.445405,-8.625874,-4.543924,-6.9126844,-5.5686584,-3.345925,-7.42848,-8.817602,-8.200977,-8.208196,-8.3948345,-7.0870404,-5.752715,-6.193809,-8.781196,-8.499338,-5.7114296,-7.4923134,-5.7668996,-8.419596,-7.469902,-3.3906398,-5.0950775,-2.5052936,-7.9174933,-8.107353,-4.298826,-8.497817,-4.950719,-6.720532,-3.0301502,-5.2764263,-8.596321,-3.3201125,-8.792916,-8.824192,-8.87275,-7.470188,-8.713403,-8.403127,-5.3196354,-3.5722756,-8.301182,-3.8716862,-7.3812656,-8.320957,-7.1157646,-8.089858,-7.782508,-7.5790205,-8.82726,-7.504545,-7.4167004,-2.2413154,-7.26656,-8.798742,-6.8075304,-7.8339787,-8.546451,-2.4525902,-7.9541316,-4.808155,-7.4291058,-6.2855244,-8.240052,-8.835404,-8.413534,-8.197197,-5.4015527,-8.874591,-8.889616,-8.550873,-5.1558576,-7.968943,-6.807372,-2.6591344,-7.907225,-7.2440553,-8.0442295,-2.8327262,-8.346668,-8.8702345,-8.16201,-7.5280414,-5.6906185,-5.7743244,-8.187145,-3.0979729,-8.224274,-8.221755,-6.5328817,-5.1661468,-7.53901,-7.5334034,-8.760053,-3.42382,-7.9455676,-6.7980494,-8.6064415,-8.040897,-8.835604,-8.709589,-8.414591,-8.037036,-8.061815,-8.911346,-8.764923,-6.0388165,-8.71196,-8.642218,-7.4622655,-8.793317,-8.228727,-7.410421,-8.701017,-8.702619,-7.8938613,-7.4892516],\"z\":[-1.3025945,0.17929403,-1.6969965,-0.4452795,-1.7052922,-1.1821232,0.54102534,-1.7547368,0.59746325,-1.4776825,-0.08022556,0.38006204,-2.4170628,-1.3397108,0.33117712,-1.3211979,0.41481578,0.54882896,0.8063204,-1.2068763,-1.1979556,-0.075534895,0.50559115,-1.0346022,-0.0038193895,-1.3291634,-1.3655552,-0.38653952,-0.7014449,-1.7469056,-0.02431206,-2.362338,-1.113621,0.6119733,0.52957445,0.23855788,-1.9239854,-0.38668573,0.5177075,-0.30851543,-1.1838709,0.52230185,0.51999897,0.18181355,-1.1956284,-0.45098087,-0.47719827,-0.6515348,-1.19489,-1.2153195,-1.0685111,0.11274335,-1.2477521,-0.9231687,-1.8064797,0.41885775,1.0065727,-0.93656665,-0.8505848,-1.3578321,-1.6695325,1.250379,-1.4661963,-1.8919241,-1.763175,0.06815158,-0.91071165,-0.397919,0.36623517,0.47093397,-1.5600355,0.40143955,-0.62596124,0.58563554,0.95002985,-1.4711937,-1.2965003,-0.5466388,-0.37251678,-2.1689517,-0.5143865,-0.8628393,-1.2297629,-2.4390326,-0.4081493,-1.1559691,-1.5383357,-0.021551318,-1.185695,-1.5760586,-0.40875134,0.42518482,-0.52286345,-1.0687299,-0.006169863,-0.8929424,0.6029176,-0.20253971,-0.9174118,0.37600416,-1.4599087,-0.5227147,-1.5055346,0.32814512,-2.0672934,-1.2202266,-1.0925075,-0.30716428,-2.0151036,-1.0032998,-2.6184878,-1.6578277,-0.18611042,-0.12781551,-0.7527909,0.33298066,-1.6773418,-0.8425172,-1.8057731,-0.011457615,-0.19409294,-1.2330693,1.435802,-1.7425324,0.019668182,0.78010994,-0.6138056,-0.607964,-1.5150084,-2.147034],\"type\":\"scatter3d\"},{\"customdata\":[[84],[84],[86],[94],[90],[82],[90],[87],[91],[87],[92],[86],[97],[91],[84],[91],[92],[83],[83],[83],[93],[87],[89],[88],[94],[90],[89],[85],[87],[79],[82],[87],[92],[88],[87],[91],[86],[82],[90],[87],[84],[86],[88],[91],[91],[84],[87],[90],[87],[89],[83],[94],[84],[79],[86],[85],[92],[89],[92],[86],[85],[92],[84],[87],[88],[87],[88],[95],[89],[86],[85],[87],[89],[89],[85],[92],[83],[91],[84],[81],[91],[91],[82],[83],[89],[82],[93],[87],[84],[88],[84],[88],[91],[90],[88],[85],[89],[88],[91],[85],[94],[85],[83],[88],[85],[89],[92],[94],[85],[88],[94],[86],[83],[91],[88],[90],[91],[84],[87],[91],[85],[87],[91],[94],[88],[84],[90],[91],[87],[88],[91],[86],[87],[89],[93],[90],[88],[83],[89],[87],[83],[84],[91],[90],[90],[88],[88]],\"hovertemplate\":\"Cluster=Cluster 2<br>0=%{x}<br>1=%{y}<br>2=%{z}<br>Feature=%{customdata[0]}<extra></extra>\",\"legendgroup\":\"Cluster 2\",\"marker\":{\"color\":\"#00cc96\",\"opacity\":0.7,\"symbol\":\"circle\"},\"mode\":\"markers\",\"name\":\"Cluster 2\",\"scene\":\"scene\",\"showlegend\":true,\"x\":[-14.537881,-14.643973,-14.375169,-14.568573,-14.458311,-14.446441,-13.990905,-14.9155445,-14.92359,-14.826736,-14.248182,-14.480794,-14.249891,-14.211973,-13.991653,-15.06618,-14.189645,-14.199512,-14.414003,-15.037896,-14.61413,-14.267326,-14.500602,-14.586547,-14.688795,-13.913977,-14.345015,-14.229251,-14.949703,-14.05844,-14.762742,-14.643278,-14.250388,-14.286161,-14.2979355,-14.376329,-14.780685,-14.459314,-14.383141,-14.428524,-14.4742,-14.860441,-14.7537365,-14.47803,-14.9603615,-14.751307,-14.382179,-14.303798,-12.830098,-14.702799,-13.828923,-13.545241,-15.046138,-13.690229,-14.140965,-14.231835,-14.342538,-13.7445135,-14.6803465,-14.430083,-14.400925,-14.833944,-14.399043,-14.887922,-13.961731,-14.531719,-14.601225,-15.101197,-14.898502,-12.516395,-14.065173,-14.498268,-14.356427,-14.295566,-14.666646,-14.204479,-14.150756,-14.904739,-15.106385,-14.083209,-14.693047,-14.572691,-14.591174,-14.732616,-14.358094,-14.351681,-14.557386,-14.269356,-14.925851,-14.874442,-12.868075,-13.971819,-15.078407,-13.979443,-14.866529,-14.2110405,-14.19591,-14.503026,-14.205325,-14.436669,-14.401209,-14.581085,-14.309523,-14.367652,-14.1247015,-14.692022,-14.298705,-14.705933,-15.061598,-14.661236,-14.907376,-14.272353,-14.655382,-14.089783,-14.37303,-14.38755,-14.865856,-13.789768,-12.506972,-15.077792,-15.000037,-14.167847,-14.574639,-14.2786875,-14.164473,-14.562439,-14.806152,-13.91368,-15.130248,-14.299493,-15.132847,-14.637562,-14.37268,-14.704578,-14.682958,-14.343801,-14.317324,-15.03553,-14.077987,-14.522909,-14.262938,-14.745905,-14.701715,-14.965811,-14.093868,-14.211455,-14.318444],\"y\":[-5.4565616,1.0517668,1.5608629,4.6572347,2.0539894,-8.469394,-9.4088545,-5.0119424,-3.2123535,2.0867682,4.769181,4.6966543,-1.7973145,-5.470786,-10.136082,-4.890052,-10.023594,-5.233348,5.0389733,-1.8723629,4.128175,5.244548,2.6842835,2.2420611,1.26805,-10.621654,-2.7906601,2.758546,-1.5607919,-7.13903,0.78036946,5.838946,-9.69468,-6.099518,-6.2358975,2.1153939,5.837127,-8.501965,0.8194835,-5.0220556,3.6223962,-2.669118,5.1408195,-1.8313673,-3.9066403,-2.222911,-0.27409917,-3.716406,-11.169614,-0.017865624,-8.567733,-10.906507,-2.7813048,-10.764774,-9.967745,-2.8670516,-8.325155,-8.550707,2.2745361,-3.5340636,3.2167459,2.5073087,-1.8099005,0.5545167,-7.8836555,-0.73955345,-8.279578,-2.1042435,-0.98211485,-11.282465,-1.7031596,-0.40668395,3.8747144,4.496326,-4.1186395,-9.926673,-8.945845,-0.74488443,-2.6574543,-8.827616,3.6486487,5.5394473,0.9563901,-5.704957,-8.125747,-7.398811,3.8064883,4.911947,-4.641133,-0.9288945,-11.147582,-8.412607,-4.4563923,-7.8536215,-3.425199,-9.055955,0.54488593,-3.6049664,-4.9264727,-3.1474977,3.6008878,-5.7433677,-3.1117132,5.404115,-9.135528,-6.0432205,-7.7338095,-3.2722151,-1.3774108,-3.4799252,-2.7731352,-10.272419,1.7763622,-10.52907,4.3261213,-5.071742,-0.09215635,-10.761998,-11.285932,-1.950518,-4.789115,-5.468984,0.8298952,-1.7300256,-0.9895367,4.9976573,2.6154604,-10.186313,6.2332335,-9.457366,6.232066,-7.0871315,-5.060874,-1.6932055,5.2718463,-8.273679,-7.5650396,-3.9847581,-4.9322615,1.6529964,-7.932323,2.579463,-1.16596,-0.65814966,-7.838885,5.1537986,-1.75862],\"z\":[0.5562958,-0.2967452,0.47540316,-0.79918724,0.09371677,0.5431312,1.8182102,-0.6201482,-0.6209972,-1.1650829,0.2684796,-0.0057510384,1.4141424,1.5661739,1.6150897,-1.0916342,1.1795479,1.6171571,0.043009076,-1.1001749,-0.88711137,-0.42708433,-0.19819923,-0.3806165,-0.49797493,1.2706114,1.18781,0.7201692,-0.8374086,1.8763838,-0.6372481,0.30823937,1.1236386,1.2875085,1.2402102,0.35425937,-0.36316034,0.49197766,0.59784204,0.9226044,-0.36338106,-0.4355369,-0.5802933,0.71266717,-0.7342147,-0.11402583,0.79882646,1.3273613,1.360294,-0.27393407,2.3581722,1.3469678,-1.0533347,1.512113,1.4312383,1.5299448,0.92424136,2.580333,-0.70647067,0.949802,0.013395491,-1.2934773,0.95105135,-1.0095966,2.085809,0.40330285,0.03717798,-1.2870489,-0.74857444,1.4082017,1.968771,0.45547178,0.023435183,-0.30922174,0.20986964,1.2001005,1.4625926,-0.8136195,-1.2631015,1.6213641,-1.0708708,-0.45926213,-0.1028719,-0.08174466,0.88924366,0.9744774,-0.65901476,0.16046612,-0.63683,-0.6765454,1.3904735,2.001935,-1.1272621,2.0392137,-0.4243306,1.335546,1.2419506,0.7279871,1.6119145,0.9232194,-0.09573674,0.39546084,1.3052205,-0.2916015,1.5657402,0.01742743,1.1099421,0.09005406,-1.2391465,0.23446092,-0.58384,0.27443174,-0.503092,0.6345245,-0.21368866,1.0485648,-0.8055694,1.2106664,1.4112817,-1.224273,-0.8812039,1.701188,-0.024921149,1.3197994,1.5812076,-0.8143099,-1.218675,1.7146612,0.07182705,0.88786405,0.057792842,0.088694125,1.0945116,-0.01407404,-0.9402906,0.92375386,1.0660325,-0.9866359,2.002804,-0.03150326,1.2099401,-1.0033644,-0.07442702,-1.0384957,1.7152312,-0.36802748,1.1997381],\"type\":\"scatter3d\"},{\"customdata\":[[83],[86],[18],[23],[29],[20],[28],[24],[25],[25],[32],[28],[83],[25],[26],[28],[22],[20],[25],[24],[91],[22],[82],[34],[77],[24],[17],[82],[26],[20],[26],[21],[18],[30],[85],[89],[83],[87],[90],[23],[28],[88],[29],[90],[84],[29],[23],[23],[86],[25],[17],[24],[22],[24],[24],[27],[31],[21],[28],[25],[17],[17],[93],[28],[29],[27],[92],[88],[26],[24],[27],[26]],\"hovertemplate\":\"Cluster=Cluster 3<br>0=%{x}<br>1=%{y}<br>2=%{z}<br>Feature=%{customdata[0]}<extra></extra>\",\"legendgroup\":\"Cluster 3\",\"marker\":{\"color\":\"#ab63fa\",\"opacity\":0.7,\"symbol\":\"circle\"},\"mode\":\"markers\",\"name\":\"Cluster 3\",\"scene\":\"scene\",\"showlegend\":true,\"x\":[13.6106825,14.133344,13.73544,11.376651,13.257252,13.463973,11.240742,13.409153,11.725508,13.285317,13.241883,12.723752,13.887057,14.15981,13.03615,11.763101,11.588157,11.778075,13.155256,12.783388,13.462292,13.403184,13.868721,13.90841,14.136984,12.434447,13.429982,14.101054,12.279336,13.496753,12.021859,11.6439495,12.162854,12.183155,13.720545,14.001896,13.6735935,13.255312,13.071139,13.08023,11.689892,13.761763,11.262633,14.027149,13.930659,13.699804,14.227528,12.3320675,14.048168,13.709766,14.161237,13.79393,14.149929,11.422826,13.832054,11.955297,11.570225,13.292801,13.115062,13.505469,11.945492,13.988415,14.096394,11.175152,14.517883,11.859931,13.937856,13.974432,12.777092,14.082506,11.636033,13.609322],\"y\":[-1.8216754,1.0116466,7.181377,4.304643,7.7904954,6.663926,3.8296943,7.3800273,4.2307987,7.5998554,-2.1672966,7.0900726,-1.2795858,8.914068,6.1582603,4.3466034,4.1894016,4.736707,6.620349,7.075768,-1.3880875,8.188552,-0.42507675,-1.1028072,0.990935,6.5247736,8.835609,0.6722817,6.274185,6.7558002,4.97109,5.46055,5.0969486,4.580591,-1.7608635,-1.2155492,-2.1418438,-1.901959,-1.7655544,7.1682825,5.0594416,-0.72655773,5.0863953,0.26214987,-0.10437415,-1.2398207,8.92726,6.193319,0.3018872,7.374105,8.60397,8.3074665,8.0492,4.3246026,8.907452,5.7789674,5.231659,7.105036,6.273308,7.2571025,5.260381,8.360841,0.7592978,5.5968165,9.056516,4.947027,-0.048591513,0.16818023,5.5197225,8.173382,4.405162,7.600712],\"z\":[0.16599439,0.37259483,-0.78135353,0.4968697,-0.7390803,-0.5265761,0.62177616,-0.96555305,0.4317663,-0.46417087,0.61733377,-0.4442386,0.2949126,-0.74766093,-0.30605873,0.51108927,0.46412647,-0.02551191,-0.47327015,-0.46687707,0.6535741,-0.8074925,0.47367343,0.32459208,0.37270033,-0.24249361,-0.8508423,0.3868643,-0.1632766,-0.64674443,0.45131388,0.18591462,0.12306965,0.21347986,0.56096476,0.18329762,0.47191477,0.6691343,0.9594776,-0.80333155,-0.0753019,0.529866,0.28016758,0.41235936,0.45838156,0.43792585,-0.73255104,-0.15780437,0.39953446,-0.5044022,-0.9493377,-1.0814776,-0.911272,0.4867159,-0.7987182,0.008572547,0.4549864,-0.28865257,-0.34592766,-0.34476098,-0.011021205,-1.0703849,0.39091927,0.22885782,-0.5926389,0.5539339,0.457664,0.4455864,-0.12064109,-0.73881847,0.1681366,-0.9910862],\"type\":\"scatter3d\"}],                        {\"template\":{\"data\":{\"histogram2dcontour\":[{\"type\":\"histogram2dcontour\",\"colorbar\":{\"outlinewidth\":0,\"ticks\":\"\"},\"colorscale\":[[0.0,\"#0d0887\"],[0.1111111111111111,\"#46039f\"],[0.2222222222222222,\"#7201a8\"],[0.3333333333333333,\"#9c179e\"],[0.4444444444444444,\"#bd3786\"],[0.5555555555555556,\"#d8576b\"],[0.6666666666666666,\"#ed7953\"],[0.7777777777777778,\"#fb9f3a\"],[0.8888888888888888,\"#fdca26\"],[1.0,\"#f0f921\"]]}],\"choropleth\":[{\"type\":\"choropleth\",\"colorbar\":{\"outlinewidth\":0,\"ticks\":\"\"}}],\"histogram2d\":[{\"type\":\"histogram2d\",\"colorbar\":{\"outlinewidth\":0,\"ticks\":\"\"},\"colorscale\":[[0.0,\"#0d0887\"],[0.1111111111111111,\"#46039f\"],[0.2222222222222222,\"#7201a8\"],[0.3333333333333333,\"#9c179e\"],[0.4444444444444444,\"#bd3786\"],[0.5555555555555556,\"#d8576b\"],[0.6666666666666666,\"#ed7953\"],[0.7777777777777778,\"#fb9f3a\"],[0.8888888888888888,\"#fdca26\"],[1.0,\"#f0f921\"]]}],\"heatmap\":[{\"type\":\"heatmap\",\"colorbar\":{\"outlinewidth\":0,\"ticks\":\"\"},\"colorscale\":[[0.0,\"#0d0887\"],[0.1111111111111111,\"#46039f\"],[0.2222222222222222,\"#7201a8\"],[0.3333333333333333,\"#9c179e\"],[0.4444444444444444,\"#bd3786\"],[0.5555555555555556,\"#d8576b\"],[0.6666666666666666,\"#ed7953\"],[0.7777777777777778,\"#fb9f3a\"],[0.8888888888888888,\"#fdca26\"],[1.0,\"#f0f921\"]]}],\"heatmapgl\":[{\"type\":\"heatmapgl\",\"colorbar\":{\"outlinewidth\":0,\"ticks\":\"\"},\"colorscale\":[[0.0,\"#0d0887\"],[0.1111111111111111,\"#46039f\"],[0.2222222222222222,\"#7201a8\"],[0.3333333333333333,\"#9c179e\"],[0.4444444444444444,\"#bd3786\"],[0.5555555555555556,\"#d8576b\"],[0.6666666666666666,\"#ed7953\"],[0.7777777777777778,\"#fb9f3a\"],[0.8888888888888888,\"#fdca26\"],[1.0,\"#f0f921\"]]}],\"contourcarpet\":[{\"type\":\"contourcarpet\",\"colorbar\":{\"outlinewidth\":0,\"ticks\":\"\"}}],\"contour\":[{\"type\":\"contour\",\"colorbar\":{\"outlinewidth\":0,\"ticks\":\"\"},\"colorscale\":[[0.0,\"#0d0887\"],[0.1111111111111111,\"#46039f\"],[0.2222222222222222,\"#7201a8\"],[0.3333333333333333,\"#9c179e\"],[0.4444444444444444,\"#bd3786\"],[0.5555555555555556,\"#d8576b\"],[0.6666666666666666,\"#ed7953\"],[0.7777777777777778,\"#fb9f3a\"],[0.8888888888888888,\"#fdca26\"],[1.0,\"#f0f921\"]]}],\"surface\":[{\"type\":\"surface\",\"colorbar\":{\"outlinewidth\":0,\"ticks\":\"\"},\"colorscale\":[[0.0,\"#0d0887\"],[0.1111111111111111,\"#46039f\"],[0.2222222222222222,\"#7201a8\"],[0.3333333333333333,\"#9c179e\"],[0.4444444444444444,\"#bd3786\"],[0.5555555555555556,\"#d8576b\"],[0.6666666666666666,\"#ed7953\"],[0.7777777777777778,\"#fb9f3a\"],[0.8888888888888888,\"#fdca26\"],[1.0,\"#f0f921\"]]}],\"mesh3d\":[{\"type\":\"mesh3d\",\"colorbar\":{\"outlinewidth\":0,\"ticks\":\"\"}}],\"scatter\":[{\"fillpattern\":{\"fillmode\":\"overlay\",\"size\":10,\"solidity\":0.2},\"type\":\"scatter\"}],\"parcoords\":[{\"type\":\"parcoords\",\"line\":{\"colorbar\":{\"outlinewidth\":0,\"ticks\":\"\"}}}],\"scatterpolargl\":[{\"type\":\"scatterpolargl\",\"marker\":{\"colorbar\":{\"outlinewidth\":0,\"ticks\":\"\"}}}],\"bar\":[{\"error_x\":{\"color\":\"#2a3f5f\"},\"error_y\":{\"color\":\"#2a3f5f\"},\"marker\":{\"line\":{\"color\":\"#E5ECF6\",\"width\":0.5},\"pattern\":{\"fillmode\":\"overlay\",\"size\":10,\"solidity\":0.2}},\"type\":\"bar\"}],\"scattergeo\":[{\"type\":\"scattergeo\",\"marker\":{\"colorbar\":{\"outlinewidth\":0,\"ticks\":\"\"}}}],\"scatterpolar\":[{\"type\":\"scatterpolar\",\"marker\":{\"colorbar\":{\"outlinewidth\":0,\"ticks\":\"\"}}}],\"histogram\":[{\"marker\":{\"pattern\":{\"fillmode\":\"overlay\",\"size\":10,\"solidity\":0.2}},\"type\":\"histogram\"}],\"scattergl\":[{\"type\":\"scattergl\",\"marker\":{\"colorbar\":{\"outlinewidth\":0,\"ticks\":\"\"}}}],\"scatter3d\":[{\"type\":\"scatter3d\",\"line\":{\"colorbar\":{\"outlinewidth\":0,\"ticks\":\"\"}},\"marker\":{\"colorbar\":{\"outlinewidth\":0,\"ticks\":\"\"}}}],\"scattermapbox\":[{\"type\":\"scattermapbox\",\"marker\":{\"colorbar\":{\"outlinewidth\":0,\"ticks\":\"\"}}}],\"scatterternary\":[{\"type\":\"scatterternary\",\"marker\":{\"colorbar\":{\"outlinewidth\":0,\"ticks\":\"\"}}}],\"scattercarpet\":[{\"type\":\"scattercarpet\",\"marker\":{\"colorbar\":{\"outlinewidth\":0,\"ticks\":\"\"}}}],\"carpet\":[{\"aaxis\":{\"endlinecolor\":\"#2a3f5f\",\"gridcolor\":\"white\",\"linecolor\":\"white\",\"minorgridcolor\":\"white\",\"startlinecolor\":\"#2a3f5f\"},\"baxis\":{\"endlinecolor\":\"#2a3f5f\",\"gridcolor\":\"white\",\"linecolor\":\"white\",\"minorgridcolor\":\"white\",\"startlinecolor\":\"#2a3f5f\"},\"type\":\"carpet\"}],\"table\":[{\"cells\":{\"fill\":{\"color\":\"#EBF0F8\"},\"line\":{\"color\":\"white\"}},\"header\":{\"fill\":{\"color\":\"#C8D4E3\"},\"line\":{\"color\":\"white\"}},\"type\":\"table\"}],\"barpolar\":[{\"marker\":{\"line\":{\"color\":\"#E5ECF6\",\"width\":0.5},\"pattern\":{\"fillmode\":\"overlay\",\"size\":10,\"solidity\":0.2}},\"type\":\"barpolar\"}],\"pie\":[{\"automargin\":true,\"type\":\"pie\"}]},\"layout\":{\"autotypenumbers\":\"strict\",\"colorway\":[\"#636efa\",\"#EF553B\",\"#00cc96\",\"#ab63fa\",\"#FFA15A\",\"#19d3f3\",\"#FF6692\",\"#B6E880\",\"#FF97FF\",\"#FECB52\"],\"font\":{\"color\":\"#2a3f5f\"},\"hovermode\":\"closest\",\"hoverlabel\":{\"align\":\"left\"},\"paper_bgcolor\":\"white\",\"plot_bgcolor\":\"#E5ECF6\",\"polar\":{\"bgcolor\":\"#E5ECF6\",\"angularaxis\":{\"gridcolor\":\"white\",\"linecolor\":\"white\",\"ticks\":\"\"},\"radialaxis\":{\"gridcolor\":\"white\",\"linecolor\":\"white\",\"ticks\":\"\"}},\"ternary\":{\"bgcolor\":\"#E5ECF6\",\"aaxis\":{\"gridcolor\":\"white\",\"linecolor\":\"white\",\"ticks\":\"\"},\"baxis\":{\"gridcolor\":\"white\",\"linecolor\":\"white\",\"ticks\":\"\"},\"caxis\":{\"gridcolor\":\"white\",\"linecolor\":\"white\",\"ticks\":\"\"}},\"coloraxis\":{\"colorbar\":{\"outlinewidth\":0,\"ticks\":\"\"}},\"colorscale\":{\"sequential\":[[0.0,\"#0d0887\"],[0.1111111111111111,\"#46039f\"],[0.2222222222222222,\"#7201a8\"],[0.3333333333333333,\"#9c179e\"],[0.4444444444444444,\"#bd3786\"],[0.5555555555555556,\"#d8576b\"],[0.6666666666666666,\"#ed7953\"],[0.7777777777777778,\"#fb9f3a\"],[0.8888888888888888,\"#fdca26\"],[1.0,\"#f0f921\"]],\"sequentialminus\":[[0.0,\"#0d0887\"],[0.1111111111111111,\"#46039f\"],[0.2222222222222222,\"#7201a8\"],[0.3333333333333333,\"#9c179e\"],[0.4444444444444444,\"#bd3786\"],[0.5555555555555556,\"#d8576b\"],[0.6666666666666666,\"#ed7953\"],[0.7777777777777778,\"#fb9f3a\"],[0.8888888888888888,\"#fdca26\"],[1.0,\"#f0f921\"]],\"diverging\":[[0,\"#8e0152\"],[0.1,\"#c51b7d\"],[0.2,\"#de77ae\"],[0.3,\"#f1b6da\"],[0.4,\"#fde0ef\"],[0.5,\"#f7f7f7\"],[0.6,\"#e6f5d0\"],[0.7,\"#b8e186\"],[0.8,\"#7fbc41\"],[0.9,\"#4d9221\"],[1,\"#276419\"]]},\"xaxis\":{\"gridcolor\":\"white\",\"linecolor\":\"white\",\"ticks\":\"\",\"title\":{\"standoff\":15},\"zerolinecolor\":\"white\",\"automargin\":true,\"zerolinewidth\":2},\"yaxis\":{\"gridcolor\":\"white\",\"linecolor\":\"white\",\"ticks\":\"\",\"title\":{\"standoff\":15},\"zerolinecolor\":\"white\",\"automargin\":true,\"zerolinewidth\":2},\"scene\":{\"xaxis\":{\"backgroundcolor\":\"#E5ECF6\",\"gridcolor\":\"white\",\"linecolor\":\"white\",\"showbackground\":true,\"ticks\":\"\",\"zerolinecolor\":\"white\",\"gridwidth\":2},\"yaxis\":{\"backgroundcolor\":\"#E5ECF6\",\"gridcolor\":\"white\",\"linecolor\":\"white\",\"showbackground\":true,\"ticks\":\"\",\"zerolinecolor\":\"white\",\"gridwidth\":2},\"zaxis\":{\"backgroundcolor\":\"#E5ECF6\",\"gridcolor\":\"white\",\"linecolor\":\"white\",\"showbackground\":true,\"ticks\":\"\",\"zerolinecolor\":\"white\",\"gridwidth\":2}},\"shapedefaults\":{\"line\":{\"color\":\"#2a3f5f\"}},\"annotationdefaults\":{\"arrowcolor\":\"#2a3f5f\",\"arrowhead\":0,\"arrowwidth\":1},\"geo\":{\"bgcolor\":\"white\",\"landcolor\":\"#E5ECF6\",\"subunitcolor\":\"white\",\"showland\":true,\"showlakes\":true,\"lakecolor\":\"white\"},\"title\":{\"x\":0.05},\"mapbox\":{\"style\":\"light\"}}},\"scene\":{\"domain\":{\"x\":[0.0,1.0],\"y\":[0.0,1.0]},\"xaxis\":{\"title\":{\"text\":\"0\"}},\"yaxis\":{\"title\":{\"text\":\"1\"}},\"zaxis\":{\"title\":{\"text\":\"2\"}}},\"legend\":{\"title\":{\"text\":\"Cluster\"},\"tracegroupgap\":0},\"title\":{\"text\":\"3d TSNE Plot for Clusters\"},\"height\":800,\"width\":900},                        {\"responsive\": true}                    ).then(function(){\n",
              "                            \n",
              "var gd = document.getElementById('2dfcb90e-6211-43df-8d59-1b57a60a67d9');\n",
              "var x = new MutationObserver(function (mutations, observer) {{\n",
              "        var display = window.getComputedStyle(gd).display;\n",
              "        if (!display || display === 'none') {{\n",
              "            console.log([gd, 'removed!']);\n",
              "            Plotly.purge(gd);\n",
              "            observer.disconnect();\n",
              "        }}\n",
              "}});\n",
              "\n",
              "// Listen for the removal of the full notebook cells\n",
              "var notebookContainer = gd.closest('#notebook-container');\n",
              "if (notebookContainer) {{\n",
              "    x.observe(notebookContainer, {childList: true});\n",
              "}}\n",
              "\n",
              "// Listen for the clearing of the current output cell\n",
              "var outputEl = gd.closest('.output');\n",
              "if (outputEl) {{\n",
              "    x.observe(outputEl, {childList: true});\n",
              "}}\n",
              "\n",
              "                        })                };                            </script>        </div>\n",
              "</body>\n",
              "</html>"
            ]
          },
          "metadata": {}
        }
      ]
    },
    {
      "cell_type": "markdown",
      "metadata": {
        "id": "g5qRklVXb3I6"
      },
      "source": [
        "---\n",
        "### **4.4 Elbow Plot**\n",
        "---"
      ]
    },
    {
      "cell_type": "code",
      "metadata": {
        "id": "31C9zkmPb3I7",
        "colab": {
          "base_uri": "https://localhost:8080/",
          "height": 524
        },
        "outputId": "ba7ce0c7-abd4-47dc-e52a-07b30ff9d218"
      },
      "source": [
        "plot_model(KMeanClusteringModel, plot = 'elbow')"
      ],
      "execution_count": 22,
      "outputs": [
        {
          "output_type": "display_data",
          "data": {
            "text/plain": [
              "<IPython.core.display.HTML object>"
            ],
            "text/html": []
          },
          "metadata": {}
        },
        {
          "output_type": "display_data",
          "data": {
            "text/plain": [
              "<Figure size 800x550 with 1 Axes>"
            ],
            "image/png": "[encoded data removed]"
          },
          "metadata": {}
        }
      ]
    },
    {
      "cell_type": "markdown",
      "metadata": {
        "id": "wSuwq3Q3b3I7"
      },
      "source": [
        "---\n",
        "### **4.5 Silhouette Plot**\n",
        "---"
      ]
    },
    {
      "cell_type": "code",
      "metadata": {
        "id": "VczW8SRob3I7",
        "colab": {
          "base_uri": "https://localhost:8080/",
          "height": 524
        },
        "outputId": "160d6e2d-37ef-4e3b-9237-cd8c0a5c9c74"
      },
      "source": [
        "plot_model(KMeanClusteringModel, plot = 'silhouette')"
      ],
      "execution_count": 23,
      "outputs": [
        {
          "output_type": "display_data",
          "data": {
            "text/plain": [
              "<IPython.core.display.HTML object>"
            ],
            "text/html": []
          },
          "metadata": {}
        },
        {
          "output_type": "display_data",
          "data": {
            "text/plain": [
              "<Figure size 800x550 with 1 Axes>"
            ],
            "image/png": "[encoded data removed]"
          },
          "metadata": {}
        }
      ]
    },
    {
      "cell_type": "markdown",
      "metadata": {
        "id": "8CP8xTeYb3I8"
      },
      "source": [
        "---\n",
        "### **4.6 Distribution Plot**\n",
        "---"
      ]
    },
    {
      "cell_type": "code",
      "metadata": {
        "id": "EANDd4yib3I8",
        "colab": {
          "base_uri": "https://localhost:8080/",
          "height": 617
        },
        "outputId": "20dfee6f-a746-43d6-ba41-effbe16fcbf6"
      },
      "source": [
        "plot_model(KMeanClusteringModel, plot = 'distribution')"
      ],
      "execution_count": 24,
      "outputs": [
        {
          "output_type": "display_data",
          "data": {
            "text/plain": [
              "<IPython.core.display.HTML object>"
            ],
            "text/html": []
          },
          "metadata": {}
        },
        {
          "output_type": "display_data",
          "data": {
            "text/html": [
              "<html>\n",
              "<head><meta charset=\"utf-8\" /></head>\n",
              "<body>\n",
              "    <div>            <script src=\"https://cdnjs.cloudflare.com/ajax/libs/mathjax/2.7.5/MathJax.js?config=TeX-AMS-MML_SVG\"></script><script type=\"text/javascript\">if (window.MathJax && window.MathJax.Hub && window.MathJax.Hub.Config) {window.MathJax.Hub.Config({SVG: {font: \"STIX-Web\"}});}</script>                <script type=\"text/javascript\">window.PlotlyConfig = {MathJaxConfig: 'local'};</script>\n",
              "        <script src=\"https://cdn.plot.ly/plotly-2.18.2.min.js\"></script>                <div id=\"53088995-62bf-4e66-b6f2-86a48af39abe\" class=\"plotly-graph-div\" style=\"height:600px; width:100%;\"></div>            <script type=\"text/javascript\">                                    window.PLOTLYENV=window.PLOTLYENV || {};                                    if (document.getElementById(\"53088995-62bf-4e66-b6f2-86a48af39abe\")) {                    Plotly.newPlot(                        \"53088995-62bf-4e66-b6f2-86a48af39abe\",                        [{\"alignmentgroup\":\"True\",\"bingroup\":\"x\",\"hovertemplate\":\"Cluster=%{x}<br>count=%{y}<extra></extra>\",\"legendgroup\":\"Cluster 0\",\"marker\":{\"color\":\"#636efa\",\"opacity\":0.7,\"pattern\":{\"shape\":\"\"}},\"name\":\"Cluster 0\",\"offsetgroup\":\"Cluster 0\",\"orientation\":\"v\",\"showlegend\":true,\"x\":[\"Cluster 0\",\"Cluster 0\",\"Cluster 0\",\"Cluster 0\",\"Cluster 0\",\"Cluster 0\",\"Cluster 0\",\"Cluster 0\",\"Cluster 0\",\"Cluster 0\",\"Cluster 0\",\"Cluster 0\",\"Cluster 0\",\"Cluster 0\",\"Cluster 0\",\"Cluster 0\",\"Cluster 0\",\"Cluster 0\",\"Cluster 0\",\"Cluster 0\",\"Cluster 0\",\"Cluster 0\",\"Cluster 0\",\"Cluster 0\",\"Cluster 0\",\"Cluster 0\",\"Cluster 0\",\"Cluster 0\",\"Cluster 0\",\"Cluster 0\",\"Cluster 0\",\"Cluster 0\",\"Cluster 0\",\"Cluster 0\",\"Cluster 0\",\"Cluster 0\",\"Cluster 0\",\"Cluster 0\",\"Cluster 0\",\"Cluster 0\",\"Cluster 0\",\"Cluster 0\",\"Cluster 0\",\"Cluster 0\",\"Cluster 0\",\"Cluster 0\",\"Cluster 0\",\"Cluster 0\",\"Cluster 0\",\"Cluster 0\",\"Cluster 0\",\"Cluster 0\",\"Cluster 0\",\"Cluster 0\",\"Cluster 0\",\"Cluster 0\",\"Cluster 0\",\"Cluster 0\",\"Cluster 0\",\"Cluster 0\",\"Cluster 0\",\"Cluster 0\",\"Cluster 0\",\"Cluster 0\",\"Cluster 0\",\"Cluster 0\",\"Cluster 0\",\"Cluster 0\",\"Cluster 0\",\"Cluster 0\",\"Cluster 0\",\"Cluster 0\",\"Cluster 0\",\"Cluster 0\",\"Cluster 0\",\"Cluster 0\",\"Cluster 0\",\"Cluster 0\",\"Cluster 0\",\"Cluster 0\",\"Cluster 0\",\"Cluster 0\",\"Cluster 0\",\"Cluster 0\",\"Cluster 0\",\"Cluster 0\",\"Cluster 0\",\"Cluster 0\",\"Cluster 0\",\"Cluster 0\",\"Cluster 0\",\"Cluster 0\",\"Cluster 0\",\"Cluster 0\",\"Cluster 0\",\"Cluster 0\",\"Cluster 0\",\"Cluster 0\",\"Cluster 0\",\"Cluster 0\",\"Cluster 0\",\"Cluster 0\",\"Cluster 0\",\"Cluster 0\",\"Cluster 0\",\"Cluster 0\",\"Cluster 0\",\"Cluster 0\",\"Cluster 0\",\"Cluster 0\",\"Cluster 0\",\"Cluster 0\",\"Cluster 0\",\"Cluster 0\",\"Cluster 0\",\"Cluster 0\",\"Cluster 0\",\"Cluster 0\",\"Cluster 0\",\"Cluster 0\",\"Cluster 0\",\"Cluster 0\",\"Cluster 0\",\"Cluster 0\",\"Cluster 0\",\"Cluster 0\",\"Cluster 0\",\"Cluster 0\",\"Cluster 0\",\"Cluster 0\",\"Cluster 0\",\"Cluster 0\",\"Cluster 0\",\"Cluster 0\",\"Cluster 0\",\"Cluster 0\",\"Cluster 0\",\"Cluster 0\",\"Cluster 0\",\"Cluster 0\",\"Cluster 0\",\"Cluster 0\",\"Cluster 0\",\"Cluster 0\",\"Cluster 0\",\"Cluster 0\",\"Cluster 0\",\"Cluster 0\",\"Cluster 0\",\"Cluster 0\",\"Cluster 0\",\"Cluster 0\",\"Cluster 0\",\"Cluster 0\",\"Cluster 0\",\"Cluster 0\"],\"xaxis\":\"x\",\"yaxis\":\"y\",\"type\":\"histogram\"},{\"alignmentgroup\":\"True\",\"customdata\":[[58.0,77769.0,0.7913287878036499,6559.830078125],[58.0,83351.0,0.8406978249549866,6673.90966796875],[55.0,76057.0,0.8778280019760132,6132.8984375],[60.0,67491.0,0.8466184735298157,7180.7138671875],[56.0,60059.0,0.7275840044021606,7166.8583984375],[60.0,65340.0,0.7316485047340393,8354.1962890625],[58.0,80278.0,0.8233590126037598,6335.978515625],[56.0,67274.0,0.7798516750335693,6652.39111328125],[64.0,64331.0,0.7571277618408203,5815.66015625],[63.0,75078.0,0.7831591367721558,7468.85107421875],[62.0,62747.0,0.7705945372581482,5852.326171875],[59.0,75505.0,0.7682786583900452,5006.52880859375],[67.0,59243.0,0.7436599731445312,5446.5576171875],[58.0,77559.0,0.7122963666915894,5742.5244140625],[58.0,70272.0,0.8229596018791199,5290.0869140625],[57.0,65608.0,0.7662312984466553,6904.318359375],[66.0,71672.0,0.7538892030715942,7387.83544921875],[64.0,78801.0,0.7403674721717834,6420.94384765625],[59.0,69460.0,0.7527238130569458,6101.3720703125],[68.0,77648.0,0.7965446710586548,6190.8642578125],[61.0,71171.0,0.721080482006073,6457.79052734375],[64.0,76410.0,0.7756041884422302,6135.30810546875],[63.0,56875.0,0.7622805833816528,7837.2333984375],[55.0,73895.0,0.7471254467964172,5563.90673828125],[57.0,76573.0,0.8405990600585938,6225.3759765625],[57.0,69655.0,0.6748906970024109,5889.8310546875],[53.0,74996.0,0.7387310862541199,7821.44775390625],[61.0,73495.0,0.7727562785148621,9288.189453125],[61.0,71033.0,0.8380950689315796,9456.876953125],[62.0,67030.0,0.7467384338378906,6740.76513671875],[62.0,63596.0,0.7453271746635437,6142.20166015625],[62.0,62650.0,0.7665723562240601,7533.673828125],[60.0,71436.0,0.8320590853691101,8557.8603515625],[65.0,65736.0,0.7785687446594238,6387.2197265625],[60.0,70663.0,0.715339720249176,7557.9375],[63.0,80705.0,0.7626699805259705,5154.33056640625],[56.0,84386.0,0.7849450707435608,7270.41943359375],[58.0,75757.0,0.8097944259643555,7390.5771484375],[62.0,71050.0,0.735356867313385,6988.197265625],[56.0,68698.0,0.7162678241729736,7070.966796875],[59.0,67781.0,0.7225483655929565,6701.52783203125],[65.0,66017.0,0.7861892580986023,6159.6630859375],[62.0,80093.0,0.6909167766571045,6756.7490234375],[59.0,67988.0,0.8114706873893738,7255.9033203125],[66.0,82526.0,0.7696800827980042,6205.66259765625],[64.0,76364.0,0.6993887424468994,5772.1171875],[62.0,68279.0,0.7196850776672363,7028.67529296875],[61.0,69698.0,0.7416839599609375,8777.0771484375],[56.0,68463.0,0.8157116770744324,8995.1796875],[62.0,78413.0,0.7907090783119202,6961.2041015625],[60.0,65054.0,0.7086131572723389,5417.2373046875],[62.0,69391.0,0.7921059727668762,6518.28369140625],[64.0,86283.0,0.7568019032478333,6852.5546875],[63.0,69849.0,0.7403870820999146,7670.69091796875],[58.0,78635.0,0.7864400744438171,7162.7392578125],[59.0,71302.0,0.7020090222358704,6595.72607421875],[59.0,75495.0,0.7945029139518738,6702.9521484375],[59.0,56321.0,0.8065659403800964,6129.2890625],[59.0,67401.0,0.7114339470863342,6529.58642578125],[55.0,64768.0,0.7332568764686584,6486.35400390625],[51.0,72086.0,0.7911147475242615,6732.09619140625],[57.0,72055.0,0.7549723386764526,6544.84765625],[61.0,78837.0,0.7459489703178406,6811.30322265625],[60.0,74460.0,0.7545393109321594,7567.6474609375],[64.0,62886.0,0.7480162978172302,8302.5888671875],[65.0,74430.0,0.7517741322517395,7145.2509765625],[59.0,67346.0,0.7251569032669067,8857.8486328125],[58.0,78078.0,0.7837795615196228,6483.0498046875],[63.0,82343.0,0.732318639755249,8090.70654296875],[61.0,67372.0,0.7340673208236694,6618.54931640625],[59.0,68038.0,0.8014869689941406,7719.28369140625],[56.0,65313.0,0.7546030282974243,5574.24365234375],[61.0,72027.0,0.7623249292373657,6926.12353515625],[63.0,70580.0,0.7665090560913086,7262.10888671875],[58.0,70676.0,0.7640283703804016,7664.41552734375],[62.0,73675.0,0.796619176864624,4688.6572265625],[60.0,63476.0,0.7519000172615051,7543.54296875],[62.0,67731.0,0.8191699385643005,5956.5556640625],[65.0,70430.0,0.6969942450523376,6971.1650390625],[59.0,69408.0,0.8799059987068176,6491.77099609375],[65.0,71229.0,0.7878897786140442,9024.337890625],[58.0,70369.0,0.9045205116271973,7461.5673828125],[61.0,74282.0,0.6922364830970764,7286.7548828125],[66.0,77052.0,0.7072624564170837,6296.41748046875],[58.0,78611.0,0.9104166626930237,7665.88427734375],[68.0,68944.0,0.7455674409866333,6828.70947265625],[58.0,69247.0,0.7237212061882019,8715.6796875],[67.0,78702.0,0.7632736563682556,5030.36474609375],[58.0,76052.0,0.7215881943702698,6681.984375],[56.0,75599.0,0.7737370729446411,6799.62548828125],[61.0,72060.0,0.8334590196609497,7924.64111328125],[56.0,78992.0,0.8122757077217102,7285.1806640625],[61.0,65647.0,0.7174899578094482,7497.2314453125],[59.0,77978.0,0.7188951969146729,8316.3115234375],[62.0,69326.0,0.7980123162269592,7003.095703125],[59.0,69115.0,0.759883463382721,5997.6904296875],[59.0,80876.0,0.6573140621185303,7232.8251953125],[59.0,73057.0,0.8302949070930481,7819.39306640625],[57.0,64803.0,0.7285849452018738,6255.552734375],[59.0,73350.0,0.6797735691070557,6710.57421875],[64.0,71692.0,0.8426521420478821,7002.9765625],[61.0,65914.0,0.7781022191047668,6406.876953125],[63.0,67370.0,0.899940550327301,5985.0771484375],[56.0,80431.0,0.7594316005706787,8150.5576171875],[59.0,82199.0,0.8035144805908203,5880.81494140625],[58.0,80248.0,0.724955677986145,7641.16015625],[61.0,68842.0,0.7544065713882446,4077.65869140625],[55.0,76831.0,0.7421137094497681,7806.39892578125],[59.0,73596.0,0.8567042350769043,8281.71875],[60.0,70054.0,0.7143393754959106,6609.91845703125],[60.0,65942.0,0.8005783557891846,5253.26513671875],[67.0,80914.0,0.8196642398834229,6833.50732421875],[57.0,79794.0,0.8224083781242371,5893.97509765625],[56.0,73516.0,0.806499183177948,7696.83251953125],[67.0,68663.0,0.7738336324691772,7451.994140625],[63.0,72815.0,0.820035994052887,5504.3857421875],[57.0,74014.0,0.7873780727386475,5783.84716796875],[57.0,75332.0,0.721502423286438,6845.056640625],[64.0,88361.0,0.7745562195777893,7240.759765625],[61.0,63846.0,0.8278622627258301,7283.5048828125],[55.0,74356.0,0.799826979637146,6484.630859375],[66.0,72571.0,0.8115483522415161,6509.41162109375],[59.0,65700.0,0.811471164226532,6932.48779296875],[61.0,76955.0,0.7771175503730774,7467.03662109375],[61.0,69001.0,0.821668803691864,5074.12109375],[57.0,76594.0,0.7906578779220581,6584.65478515625],[58.0,70259.0,0.7697129249572754,7101.67431640625],[61.0,71933.0,0.8441067934036255,8022.20849609375],[61.0,74117.0,0.7702140808105469,5103.609375],[63.0,85761.0,0.8005979061126709,7175.09033203125],[54.0,76500.0,0.7851978540420532,6878.88427734375],[56.0,86484.0,0.7321233749389648,8777.49609375],[64.0,60493.0,0.768056333065033,7708.11279296875],[53.0,62117.0,0.7331388592720032,7500.45263671875],[55.0,78761.0,0.827174186706543,8376.7490234375],[58.0,70798.0,0.7535284161567688,5330.73974609375],[55.0,71056.0,0.7565897107124329,7464.1630859375],[59.0,74373.0,0.7656795382499695,7346.33447265625],[58.0,77101.0,0.7667195796966553,8148.49169921875],[58.0,69879.0,0.7209987044334412,6669.03369140625],[59.0,69738.0,0.7421121001243591,7151.65087890625],[57.0,79470.0,0.7734352946281433,6773.04931640625],[61.0,73245.0,0.8111603856086731,7413.78466796875],[53.0,76667.0,0.7600576281547546,5168.2255859375],[56.0,63866.0,0.7618879675865173,7762.2548828125],[59.0,81799.0,0.7910820245742798,5417.66162109375],[62.0,73480.0,0.7391949892044067,6277.67529296875],[60.0,70012.0,0.7944610714912415,7263.24267578125],[60.0,79969.0,0.8121049404144287,4879.3349609375],[66.0,64866.0,0.7665941715240479,5037.89892578125],[58.0,74340.0,0.7351650595664978,7259.541015625],[55.0,71621.0,0.7533426880836487,7780.58984375],[59.0,72588.0,0.8017156720161438,6300.84375],[62.0,74751.0,0.7026569247245789,9258.9931640625],[59.0,74576.0,0.7812961339950562,10547.775390625],[62.0,69741.0,0.8462195992469788,5781.658203125]],\"hovertemplate\":\"Cluster=%{x}<br>Age=%{customdata[0]}<br>Income=%{customdata[1]}<br>SpendingScore=%{customdata[2]}<br>Savings=%{customdata[3]}<extra></extra>\",\"legendgroup\":\"Cluster 0\",\"marker\":{\"color\":\"#636efa\"},\"name\":\"Cluster 0\",\"notched\":true,\"offsetgroup\":\"Cluster 0\",\"showlegend\":false,\"x\":[\"Cluster 0\",\"Cluster 0\",\"Cluster 0\",\"Cluster 0\",\"Cluster 0\",\"Cluster 0\",\"Cluster 0\",\"Cluster 0\",\"Cluster 0\",\"Cluster 0\",\"Cluster 0\",\"Cluster 0\",\"Cluster 0\",\"Cluster 0\",\"Cluster 0\",\"Cluster 0\",\"Cluster 0\",\"Cluster 0\",\"Cluster 0\",\"Cluster 0\",\"Cluster 0\",\"Cluster 0\",\"Cluster 0\",\"Cluster 0\",\"Cluster 0\",\"Cluster 0\",\"Cluster 0\",\"Cluster 0\",\"Cluster 0\",\"Cluster 0\",\"Cluster 0\",\"Cluster 0\",\"Cluster 0\",\"Cluster 0\",\"Cluster 0\",\"Cluster 0\",\"Cluster 0\",\"Cluster 0\",\"Cluster 0\",\"Cluster 0\",\"Cluster 0\",\"Cluster 0\",\"Cluster 0\",\"Cluster 0\",\"Cluster 0\",\"Cluster 0\",\"Cluster 0\",\"Cluster 0\",\"Cluster 0\",\"Cluster 0\",\"Cluster 0\",\"Cluster 0\",\"Cluster 0\",\"Cluster 0\",\"Cluster 0\",\"Cluster 0\",\"Cluster 0\",\"Cluster 0\",\"Cluster 0\",\"Cluster 0\",\"Cluster 0\",\"Cluster 0\",\"Cluster 0\",\"Cluster 0\",\"Cluster 0\",\"Cluster 0\",\"Cluster 0\",\"Cluster 0\",\"Cluster 0\",\"Cluster 0\",\"Cluster 0\",\"Cluster 0\",\"Cluster 0\",\"Cluster 0\",\"Cluster 0\",\"Cluster 0\",\"Cluster 0\",\"Cluster 0\",\"Cluster 0\",\"Cluster 0\",\"Cluster 0\",\"Cluster 0\",\"Cluster 0\",\"Cluster 0\",\"Cluster 0\",\"Cluster 0\",\"Cluster 0\",\"Cluster 0\",\"Cluster 0\",\"Cluster 0\",\"Cluster 0\",\"Cluster 0\",\"Cluster 0\",\"Cluster 0\",\"Cluster 0\",\"Cluster 0\",\"Cluster 0\",\"Cluster 0\",\"Cluster 0\",\"Cluster 0\",\"Cluster 0\",\"Cluster 0\",\"Cluster 0\",\"Cluster 0\",\"Cluster 0\",\"Cluster 0\",\"Cluster 0\",\"Cluster 0\",\"Cluster 0\",\"Cluster 0\",\"Cluster 0\",\"Cluster 0\",\"Cluster 0\",\"Cluster 0\",\"Cluster 0\",\"Cluster 0\",\"Cluster 0\",\"Cluster 0\",\"Cluster 0\",\"Cluster 0\",\"Cluster 0\",\"Cluster 0\",\"Cluster 0\",\"Cluster 0\",\"Cluster 0\",\"Cluster 0\",\"Cluster 0\",\"Cluster 0\",\"Cluster 0\",\"Cluster 0\",\"Cluster 0\",\"Cluster 0\",\"Cluster 0\",\"Cluster 0\",\"Cluster 0\",\"Cluster 0\",\"Cluster 0\",\"Cluster 0\",\"Cluster 0\",\"Cluster 0\",\"Cluster 0\",\"Cluster 0\",\"Cluster 0\",\"Cluster 0\",\"Cluster 0\",\"Cluster 0\",\"Cluster 0\",\"Cluster 0\",\"Cluster 0\",\"Cluster 0\",\"Cluster 0\",\"Cluster 0\",\"Cluster 0\",\"Cluster 0\",\"Cluster 0\",\"Cluster 0\"],\"xaxis\":\"x2\",\"yaxis\":\"y2\",\"type\":\"box\"},{\"alignmentgroup\":\"True\",\"bingroup\":\"x\",\"hovertemplate\":\"Cluster=%{x}<br>count=%{y}<extra></extra>\",\"legendgroup\":\"Cluster 1\",\"marker\":{\"color\":\"#EF553B\",\"opacity\":0.7,\"pattern\":{\"shape\":\"\"}},\"name\":\"Cluster 1\",\"offsetgroup\":\"Cluster 1\",\"orientation\":\"v\",\"showlegend\":true,\"x\":[\"Cluster 1\",\"Cluster 1\",\"Cluster 1\",\"Cluster 1\",\"Cluster 1\",\"Cluster 1\",\"Cluster 1\",\"Cluster 1\",\"Cluster 1\",\"Cluster 1\",\"Cluster 1\",\"Cluster 1\",\"Cluster 1\",\"Cluster 1\",\"Cluster 1\",\"Cluster 1\",\"Cluster 1\",\"Cluster 1\",\"Cluster 1\",\"Cluster 1\",\"Cluster 1\",\"Cluster 1\",\"Cluster 1\",\"Cluster 1\",\"Cluster 1\",\"Cluster 1\",\"Cluster 1\",\"Cluster 1\",\"Cluster 1\",\"Cluster 1\",\"Cluster 1\",\"Cluster 1\",\"Cluster 1\",\"Cluster 1\",\"Cluster 1\",\"Cluster 1\",\"Cluster 1\",\"Cluster 1\",\"Cluster 1\",\"Cluster 1\",\"Cluster 1\",\"Cluster 1\",\"Cluster 1\",\"Cluster 1\",\"Cluster 1\",\"Cluster 1\",\"Cluster 1\",\"Cluster 1\",\"Cluster 1\",\"Cluster 1\",\"Cluster 1\",\"Cluster 1\",\"Cluster 1\",\"Cluster 1\",\"Cluster 1\",\"Cluster 1\",\"Cluster 1\",\"Cluster 1\",\"Cluster 1\",\"Cluster 1\",\"Cluster 1\",\"Cluster 1\",\"Cluster 1\",\"Cluster 1\",\"Cluster 1\",\"Cluster 1\",\"Cluster 1\",\"Cluster 1\",\"Cluster 1\",\"Cluster 1\",\"Cluster 1\",\"Cluster 1\",\"Cluster 1\",\"Cluster 1\",\"Cluster 1\",\"Cluster 1\",\"Cluster 1\",\"Cluster 1\",\"Cluster 1\",\"Cluster 1\",\"Cluster 1\",\"Cluster 1\",\"Cluster 1\",\"Cluster 1\",\"Cluster 1\",\"Cluster 1\",\"Cluster 1\",\"Cluster 1\",\"Cluster 1\",\"Cluster 1\",\"Cluster 1\",\"Cluster 1\",\"Cluster 1\",\"Cluster 1\",\"Cluster 1\",\"Cluster 1\",\"Cluster 1\",\"Cluster 1\",\"Cluster 1\",\"Cluster 1\",\"Cluster 1\",\"Cluster 1\",\"Cluster 1\",\"Cluster 1\",\"Cluster 1\",\"Cluster 1\",\"Cluster 1\",\"Cluster 1\",\"Cluster 1\",\"Cluster 1\",\"Cluster 1\",\"Cluster 1\",\"Cluster 1\",\"Cluster 1\",\"Cluster 1\",\"Cluster 1\",\"Cluster 1\",\"Cluster 1\",\"Cluster 1\",\"Cluster 1\",\"Cluster 1\",\"Cluster 1\",\"Cluster 1\",\"Cluster 1\",\"Cluster 1\",\"Cluster 1\",\"Cluster 1\",\"Cluster 1\",\"Cluster 1\",\"Cluster 1\"],\"xaxis\":\"x\",\"yaxis\":\"y\",\"type\":\"histogram\"},{\"alignmentgroup\":\"True\",\"customdata\":[[33.0,92569.0,0.33607980608940125,13765.685546875],[37.0,108635.0,0.28649571537971497,14558.0546875],[31.0,105036.0,0.2722280025482178,16465.064453125],[36.0,100158.0,0.3160604238510132,13832.37890625],[33.0,98033.0,0.30951112508773804,15774.6904296875],[35.0,108499.0,0.2612719237804413,16046.0830078125],[31.0,110882.0,0.3252806067466736,14004.61328125],[38.0,94775.0,0.3803901970386505,16867.130859375],[31.0,114833.0,0.3050696849822998,13953.029296875],[36.0,96336.0,0.2880975604057312,15286.76953125],[36.0,109809.0,0.35566020011901855,14978.501953125],[31.0,112943.0,0.3412395119667053,14297.7021484375],[39.0,100661.0,0.37664124369621277,16873.12890625],[38.0,104738.0,0.4059588611125946,15634.3134765625],[29.0,112531.0,0.3427661657333374,14361.3349609375],[36.0,109038.0,0.3242132067680359,16502.388671875],[37.0,110732.0,0.32267624139785767,14265.3515625],[44.0,114642.0,0.30920490622520447,14067.6181640625],[37.0,107958.0,0.34666907787323,13641.009765625],[34.0,103204.0,0.301087349653244,15149.810546875],[35.0,106588.0,0.3422141969203949,15648.65625],[37.0,106664.0,0.27758675813674927,14479.3740234375],[33.0,105667.0,0.2507508099079132,12869.7607421875],[37.0,108651.0,0.19234362244606018,15881.2421875],[84.0,110582.0,0.07904903590679169,14937.9951171875],[33.0,94964.0,0.33023250102996826,14018.349609375],[31.0,101481.0,0.2702350616455078,15226.6142578125],[33.0,100275.0,0.36308568716049194,13735.4384765625],[29.0,110860.0,0.3194403052330017,16260.4208984375],[26.0,97750.0,0.29340875148773193,15823.0322265625],[24.0,110564.0,0.3049429953098297,14967.83984375],[39.0,100540.0,0.38492298126220703,16741.013671875],[36.0,108004.0,0.30892300605773926,15813.96484375],[33.0,114555.0,0.2792568504810333,13746.7451171875],[31.0,111449.0,0.29410621523857117,13929.62109375],[29.0,116451.0,0.34065961837768555,15294.6611328125],[40.0,98821.0,0.2790808379650116,15995.16015625],[42.0,106990.0,0.33006542921066284,14856.939453125],[35.0,112878.0,0.30091357231140137,13755.482421875],[36.0,105567.0,0.3126388490200043,14355.310546875],[34.0,89598.0,0.340152382850647,12832.7685546875],[28.0,109075.0,0.3627619743347168,14082.4580078125],[84.0,115237.0,0.06877820938825607,14396.568359375],[34.0,111303.0,0.34531256556510925,14624.318359375],[31.0,105006.0,0.3741658926010132,15419.41796875],[88.0,114767.0,0.03220754116773605,17833.09375],[35.0,101691.0,0.34911102056503296,14152.671875],[43.0,101641.0,0.38198381662368774,14424.09765625],[25.0,101503.0,0.2884688675403595,15026.26171875],[37.0,97831.0,0.37446582317352295,14935.14453125],[33.0,101058.0,0.31508153676986694,14911.8681640625],[31.0,105826.0,0.2862743139266968,13856.8056640625],[29.0,91375.0,0.23545043170452118,13104.962890625],[59.0,90422.0,0.8062102198600769,6746.28125],[35.0,105991.0,0.3433779776096344,16616.087890625],[38.0,113659.0,0.33348599076271057,14364.693359375],[31.0,108067.0,0.26867425441741943,13316.767578125],[33.0,106345.0,0.33923542499542236,15300.4541015625],[30.0,108581.0,0.309446781873703,15628.7919921875],[39.0,99216.0,0.21660614013671875,15230.3447265625],[34.0,98165.0,0.17412050068378448,15721.86328125],[30.0,107525.0,0.29481643438339233,12702.84765625],[30.0,102056.0,0.26070061326026917,15370.6689453125],[36.0,98137.0,0.2974012792110443,15978.3330078125],[37.0,97678.0,0.2574704587459564,15834.11328125],[35.0,117112.0,0.3047918677330017,15908.0361328125],[33.0,108345.0,0.3254132866859436,15646.3212890625],[34.0,103428.0,0.2474244087934494,13791.0361328125],[30.0,108928.0,0.30386361479759216,14339.6533203125],[30.0,107302.0,0.23967717587947845,13993.244140625],[28.0,100592.0,0.25959834456443787,15520.35546875],[33.0,116616.0,0.32093003392219543,15104.498046875],[34.0,107255.0,0.3283430337905884,15130.595703125],[28.0,111937.0,0.2537347376346588,13669.1103515625],[31.0,107963.0,0.2905086278915405,13407.0810546875],[28.0,94762.0,0.3035961985588074,15352.521484375],[33.0,99637.0,0.22821708023548126,15139.4033203125],[32.0,102035.0,0.26207035779953003,14209.9326171875],[30.0,99949.0,0.34467923641204834,13621.6396484375],[36.0,99780.0,0.26543259620666504,16398.400390625],[85.0,111389.0,0.03679536283016205,16009.2373046875],[29.0,102028.0,0.2889604866504669,14634.4306640625],[36.0,101811.0,0.340666800737381,15048.8994140625],[31.0,101209.0,0.3043229877948761,16917.572265625],[33.0,111813.0,0.23824378848075867,15901.2392578125],[31.0,107115.0,0.32804208993911743,15693.5],[30.0,96241.0,0.3773384988307953,15485.15625],[31.0,116247.0,0.2943151295185089,16178.205078125],[34.0,98752.0,0.3720337152481079,14975.3837890625],[32.0,108417.0,0.28737086057662964,16696.3984375],[33.0,107100.0,0.34243547916412354,14895.4736328125],[86.0,115689.0,0.057842954993247986,14803.1533203125],[30.0,106350.0,0.3694162964820862,14863.2333984375],[35.0,102308.0,0.2751372158527374,14874.5576171875],[33.0,106757.0,0.25839611887931824,14431.65234375],[30.0,107926.0,0.23016072809696198,15520.5361328125],[32.0,110439.0,0.3069901466369629,13873.5078125],[37.0,110595.0,0.2866485118865967,15235.4453125],[31.0,99457.0,0.3658064901828766,14580.61328125],[38.0,115146.0,0.31449007987976074,14798.8681640625],[28.0,99611.0,0.27955785393714905,15345.658203125],[27.0,106758.0,0.2662947177886963,14942.560546875],[32.0,95536.0,0.2662460505962372,15420.6259765625],[29.0,111426.0,0.40028116106987,14352.6435546875],[30.0,98030.0,0.4111117124557495,16316.8427734375],[28.0,97965.0,0.313491553068161,14981.40234375],[28.0,101206.0,0.3874407112598419,14936.775390625],[84.0,114406.0,0.12383837252855301,16840.5703125],[34.0,98993.0,0.32299309968948364,16138.0791015625],[22.0,109152.0,0.3234464228153229,16022.482421875],[32.0,101905.0,0.30747631192207336,17532.1640625],[25.0,106772.0,0.3909047245979309,16353.4716796875],[31.0,102618.0,0.27637791633605957,13209.3017578125],[36.0,104285.0,0.21236005425453186,13347.55859375],[29.0,106014.0,0.34794512391090393,15038.0107421875],[37.0,106894.0,0.3432357609272003,14075.2177734375],[29.0,99161.0,0.30792000889778137,15631.8369140625],[29.0,101943.0,0.3256230652332306,14619.3544921875],[29.0,103223.0,0.3388162851333618,16252.8828125],[35.0,110106.0,0.2867692708969116,14924.537109375],[34.0,104284.0,0.3445454239845276,13541.8017578125],[35.0,104678.0,0.32799285650253296,15422.0556640625],[31.0,107932.0,0.3742421865463257,12207.5263671875],[34.0,102291.0,0.24786227941513062,15819.5771484375],[32.0,106543.0,0.3107432425022125,14337.2880859375],[31.0,107994.0,0.2944689393043518,13685.97265625],[31.0,104388.0,0.28647324442863464,14406.5615234375],[30.0,101073.0,0.31438711285591125,14324.5556640625],[35.0,107131.0,0.24247315526008606,16200.0126953125],[37.0,107877.0,0.3346179723739624,17968.5546875]],\"hovertemplate\":\"Cluster=%{x}<br>Age=%{customdata[0]}<br>Income=%{customdata[1]}<br>SpendingScore=%{customdata[2]}<br>Savings=%{customdata[3]}<extra></extra>\",\"legendgroup\":\"Cluster 1\",\"marker\":{\"color\":\"#EF553B\"},\"name\":\"Cluster 1\",\"notched\":true,\"offsetgroup\":\"Cluster 1\",\"showlegend\":false,\"x\":[\"Cluster 1\",\"Cluster 1\",\"Cluster 1\",\"Cluster 1\",\"Cluster 1\",\"Cluster 1\",\"Cluster 1\",\"Cluster 1\",\"Cluster 1\",\"Cluster 1\",\"Cluster 1\",\"Cluster 1\",\"Cluster 1\",\"Cluster 1\",\"Cluster 1\",\"Cluster 1\",\"Cluster 1\",\"Cluster 1\",\"Cluster 1\",\"Cluster 1\",\"Cluster 1\",\"Cluster 1\",\"Cluster 1\",\"Cluster 1\",\"Cluster 1\",\"Cluster 1\",\"Cluster 1\",\"Cluster 1\",\"Cluster 1\",\"Cluster 1\",\"Cluster 1\",\"Cluster 1\",\"Cluster 1\",\"Cluster 1\",\"Cluster 1\",\"Cluster 1\",\"Cluster 1\",\"Cluster 1\",\"Cluster 1\",\"Cluster 1\",\"Cluster 1\",\"Cluster 1\",\"Cluster 1\",\"Cluster 1\",\"Cluster 1\",\"Cluster 1\",\"Cluster 1\",\"Cluster 1\",\"Cluster 1\",\"Cluster 1\",\"Cluster 1\",\"Cluster 1\",\"Cluster 1\",\"Cluster 1\",\"Cluster 1\",\"Cluster 1\",\"Cluster 1\",\"Cluster 1\",\"Cluster 1\",\"Cluster 1\",\"Cluster 1\",\"Cluster 1\",\"Cluster 1\",\"Cluster 1\",\"Cluster 1\",\"Cluster 1\",\"Cluster 1\",\"Cluster 1\",\"Cluster 1\",\"Cluster 1\",\"Cluster 1\",\"Cluster 1\",\"Cluster 1\",\"Cluster 1\",\"Cluster 1\",\"Cluster 1\",\"Cluster 1\",\"Cluster 1\",\"Cluster 1\",\"Cluster 1\",\"Cluster 1\",\"Cluster 1\",\"Cluster 1\",\"Cluster 1\",\"Cluster 1\",\"Cluster 1\",\"Cluster 1\",\"Cluster 1\",\"Cluster 1\",\"Cluster 1\",\"Cluster 1\",\"Cluster 1\",\"Cluster 1\",\"Cluster 1\",\"Cluster 1\",\"Cluster 1\",\"Cluster 1\",\"Cluster 1\",\"Cluster 1\",\"Cluster 1\",\"Cluster 1\",\"Cluster 1\",\"Cluster 1\",\"Cluster 1\",\"Cluster 1\",\"Cluster 1\",\"Cluster 1\",\"Cluster 1\",\"Cluster 1\",\"Cluster 1\",\"Cluster 1\",\"Cluster 1\",\"Cluster 1\",\"Cluster 1\",\"Cluster 1\",\"Cluster 1\",\"Cluster 1\",\"Cluster 1\",\"Cluster 1\",\"Cluster 1\",\"Cluster 1\",\"Cluster 1\",\"Cluster 1\",\"Cluster 1\",\"Cluster 1\",\"Cluster 1\",\"Cluster 1\",\"Cluster 1\",\"Cluster 1\",\"Cluster 1\"],\"xaxis\":\"x2\",\"yaxis\":\"y2\",\"type\":\"box\"},{\"alignmentgroup\":\"True\",\"bingroup\":\"x\",\"hovertemplate\":\"Cluster=%{x}<br>count=%{y}<extra></extra>\",\"legendgroup\":\"Cluster 2\",\"marker\":{\"color\":\"#00cc96\",\"opacity\":0.7,\"pattern\":{\"shape\":\"\"}},\"name\":\"Cluster 2\",\"offsetgroup\":\"Cluster 2\",\"orientation\":\"v\",\"showlegend\":true,\"x\":[\"Cluster 2\",\"Cluster 2\",\"Cluster 2\",\"Cluster 2\",\"Cluster 2\",\"Cluster 2\",\"Cluster 2\",\"Cluster 2\",\"Cluster 2\",\"Cluster 2\",\"Cluster 2\",\"Cluster 2\",\"Cluster 2\",\"Cluster 2\",\"Cluster 2\",\"Cluster 2\",\"Cluster 2\",\"Cluster 2\",\"Cluster 2\",\"Cluster 2\",\"Cluster 2\",\"Cluster 2\",\"Cluster 2\",\"Cluster 2\",\"Cluster 2\",\"Cluster 2\",\"Cluster 2\",\"Cluster 2\",\"Cluster 2\",\"Cluster 2\",\"Cluster 2\",\"Cluster 2\",\"Cluster 2\",\"Cluster 2\",\"Cluster 2\",\"Cluster 2\",\"Cluster 2\",\"Cluster 2\",\"Cluster 2\",\"Cluster 2\",\"Cluster 2\",\"Cluster 2\",\"Cluster 2\",\"Cluster 2\",\"Cluster 2\",\"Cluster 2\",\"Cluster 2\",\"Cluster 2\",\"Cluster 2\",\"Cluster 2\",\"Cluster 2\",\"Cluster 2\",\"Cluster 2\",\"Cluster 2\",\"Cluster 2\",\"Cluster 2\",\"Cluster 2\",\"Cluster 2\",\"Cluster 2\",\"Cluster 2\",\"Cluster 2\",\"Cluster 2\",\"Cluster 2\",\"Cluster 2\",\"Cluster 2\",\"Cluster 2\",\"Cluster 2\",\"Cluster 2\",\"Cluster 2\",\"Cluster 2\",\"Cluster 2\",\"Cluster 2\",\"Cluster 2\",\"Cluster 2\",\"Cluster 2\",\"Cluster 2\",\"Cluster 2\",\"Cluster 2\",\"Cluster 2\",\"Cluster 2\",\"Cluster 2\",\"Cluster 2\",\"Cluster 2\",\"Cluster 2\",\"Cluster 2\",\"Cluster 2\",\"Cluster 2\",\"Cluster 2\",\"Cluster 2\",\"Cluster 2\",\"Cluster 2\",\"Cluster 2\",\"Cluster 2\",\"Cluster 2\",\"Cluster 2\",\"Cluster 2\",\"Cluster 2\",\"Cluster 2\",\"Cluster 2\",\"Cluster 2\",\"Cluster 2\",\"Cluster 2\",\"Cluster 2\",\"Cluster 2\",\"Cluster 2\",\"Cluster 2\",\"Cluster 2\",\"Cluster 2\",\"Cluster 2\",\"Cluster 2\",\"Cluster 2\",\"Cluster 2\",\"Cluster 2\",\"Cluster 2\",\"Cluster 2\",\"Cluster 2\",\"Cluster 2\",\"Cluster 2\",\"Cluster 2\",\"Cluster 2\",\"Cluster 2\",\"Cluster 2\",\"Cluster 2\",\"Cluster 2\",\"Cluster 2\",\"Cluster 2\",\"Cluster 2\",\"Cluster 2\",\"Cluster 2\",\"Cluster 2\",\"Cluster 2\",\"Cluster 2\",\"Cluster 2\",\"Cluster 2\",\"Cluster 2\",\"Cluster 2\",\"Cluster 2\",\"Cluster 2\",\"Cluster 2\",\"Cluster 2\",\"Cluster 2\",\"Cluster 2\",\"Cluster 2\",\"Cluster 2\",\"Cluster 2\",\"Cluster 2\",\"Cluster 2\"],\"xaxis\":\"x\",\"yaxis\":\"y\",\"type\":\"histogram\"},{\"alignmentgroup\":\"True\",\"customdata\":[[84.0,30481.0,0.39702290296554565,16837.205078125],[84.0,24105.0,0.27180901169776917,16524.90234375],[86.0,23400.0,0.27803555130958557,15215.28125],[94.0,18937.0,0.3470950722694397,17739.775390625],[90.0,22782.0,0.35630688071250916,15924.0712890625],[82.0,33610.0,0.30125322937965393,17755.6640625],[90.0,35297.0,0.3551490306854248,16091.40234375],[87.0,29909.0,0.3421516418457031,18142.232421875],[91.0,28165.0,0.30369293689727783,17460.1796875],[87.0,23042.0,0.3663119971752167,18149.03515625],[92.0,18724.0,0.32786232233047485,15341.380859375],[86.0,18812.0,0.3415457606315613,16157.734375],[97.0,27271.0,0.28392288088798523,14928.166015625],[91.0,30756.0,0.30369803309440613,15492.0048828125],[84.0,36463.0,0.3536209464073181,16563.373046875],[91.0,29750.0,0.2884703278541565,19201.119140625],[92.0,36032.0,0.3369683027267456,17348.599609375],[83.0,30492.0,0.30163148045539856,15365.8583984375],[83.0,18162.0,0.3013734519481659,16029.46875],[83.0,26882.0,0.3479796350002289,17775.228515625],[93.0,19934.0,0.2031402438879013,17969.693359375],[87.0,17760.0,0.34877756237983704,16869.5078125],[89.0,22008.0,0.38190606236457825,16458.3984375],[88.0,22602.0,0.35674482583999634,16740.34375],[94.0,23854.0,0.31444668769836426,16828.41015625],[90.0,37503.0,0.3577883243560791,17258.57421875],[89.0,28160.0,0.33884885907173157,15607.0615234375],[85.0,21652.0,0.31845614314079285,14175.169921875],[87.0,26665.0,0.402145653963089,17376.9140625],[79.0,32421.0,0.3032762110233307,15319.4677734375],[82.0,24391.0,0.27610135078430176,17053.029296875],[87.0,15671.0,0.35072508454322815,14326.6015625],[92.0,35484.0,0.39706361293792725,17324.044921875],[88.0,31366.0,0.37962085008621216,16079.623046875],[87.0,31481.0,0.3174239695072174,16180.6884765625],[91.0,22672.0,0.27106451988220215,15407.646484375],[86.0,15695.0,0.2571749687194824,17366.185546875],[82.0,33636.0,0.37178298830986023,17866.833984375],[90.0,24376.0,0.28127944469451904,15134.994140625],[87.0,30102.0,0.3903906047344208,16330.0810546875],[84.0,20704.0,0.379496306180954,16816.912109375],[86.0,27705.0,0.3293769657611847,17130.85546875],[88.0,17851.0,0.28986597061157227,17472.470703125],[91.0,27168.0,0.3322388231754303,15893.7294921875],[91.0,28777.0,0.3241935670375824,17808.265625],[84.0,27384.0,0.31364670395851135,16734.671875],[87.0,25566.0,0.3167603611946106,15188.05859375],[90.0,29029.0,0.30375897884368896,15592.9912109375],[87.0,42592.0,0.35528966784477234,18086.287109375],[89.0,25252.0,0.3217652142047882,16539.36328125],[83.0,34384.0,0.3247186839580536,14783.37890625],[94.0,38923.0,0.33022600412368774,16971.181640625],[84.0,27693.0,0.3670629858970642,17879.55859375],[79.0,38201.0,0.3697828948497772,16393.396484375],[86.0,36031.0,0.24017663300037384,16945.326171875],[85.0,28408.0,0.3580738604068756,15063.3359375],[92.0,33550.0,0.36851564049720764,17106.326171875],[89.0,34524.0,0.34811827540397644,14051.2568359375],[92.0,22616.0,0.32285067439079285,17275.662109375],[86.0,28779.0,0.3365233242511749,16047.2685546875],[85.0,21250.0,0.31041011214256287,16033.970703125],[92.0,22484.0,0.3317732512950897,18615.6328125],[84.0,27179.0,0.34742340445518494,15612.62890625],[87.0,24578.0,0.3761654496192932,17789.248046875],[88.0,33303.0,0.39971569180488586,15232.59765625],[87.0,26045.0,0.3752921223640442,15903.55859375],[88.0,33251.0,0.30439135432243347,18868.2421875],[95.0,27038.0,0.33135199546813965,18126.578125],[89.0,26127.0,0.3044743835926056,17194.828125],[86.0,46977.0,0.2827284038066864,15628.95703125],[85.0,27599.0,0.2819950580596924,13470.970703125],[87.0,25701.0,0.31522056460380554,15738.859375],[89.0,20292.0,0.31214818358421326,16023.4453125],[89.0,19202.0,0.3819877505302429,16626.22265625],[85.0,29204.0,0.32549145817756653,16918.904296875],[92.0,35877.0,0.3668917119503021,17287.90625],[83.0,34529.0,0.3172075152397156,16517.208984375],[91.0,25886.0,0.3017537593841553,17266.044921875],[84.0,27544.0,0.2309337705373764,18207.361328125],[81.0,34425.0,0.27260977029800415,16262.6240234375],[91.0,20681.0,0.3546791672706604,18401.087890625],[91.0,16950.0,0.3230040371417999,17172.609375],[82.0,24221.0,0.47354966402053833,16251.759765625],[83.0,30721.0,0.33114179968833923,17705.9921875],[89.0,33311.0,0.37614697217941284,17093.0703125],[82.0,32494.0,0.32731539011001587,16799.443359375],[93.0,20440.0,0.2975730299949646,17406.07421875],[87.0,18459.0,0.2645499110221863,15637.59765625],[84.0,29492.0,0.3336031436920166,17954.095703125],[88.0,26092.0,0.3128732144832611,17105.79296875],[84.0,42018.0,0.29799360036849976,16148.3701171875],[88.0,34001.0,0.33756932616233826,15530.9345703125],[91.0,29082.0,0.28248852491378784,18794.48828125],[90.0,33259.0,0.3775710463523865,15315.0283203125],[88.0,28409.0,0.30565354228019714,17326.17578125],[85.0,34634.0,0.3690001666545868,16719.81640625],[89.0,24520.0,0.4438326954841614,13556.935546875],[88.0,28802.0,0.40838783979415894,16293.0380859375],[91.0,30148.0,0.27738896012306213,15324.287109375],[85.0,28401.0,0.3694371283054352,15990.494140625],[94.0,20719.0,0.3364022672176361,16281.83203125],[85.0,30794.0,0.28622928261756897,17096.390625],[83.0,28497.0,0.3938024044036865,15510.11328125],[88.0,17388.0,0.466189444065094,16698.62109375],[85.0,34802.0,0.2987969219684601,16450.00390625],[89.0,31096.0,0.27858784794807434,17736.943359375],[92.0,32915.0,0.3885749280452728,16694.70703125],[94.0,28352.0,0.37687572836875916,16798.88671875],[85.0,26355.0,0.3423406779766083,17971.193359375],[88.0,28585.0,0.3977396786212921,16725.841796875],[94.0,27771.0,0.30250322818756104,17303.95703125],[86.0,35998.0,0.3216356337070465,20000.0],[83.0,23206.0,0.3212403655052185,16870.671875],[91.0,36991.0,0.26859790086746216,19047.771484375],[88.0,19510.0,0.31675103306770325,16529.201171875],[90.0,30178.0,0.2823512852191925,16182.8388671875],[91.0,25237.0,0.3535018265247345,17292.732421875],[84.0,38042.0,0.36608585715293884,17465.85546875],[87.0,46910.0,0.3085617125034332,14789.1484375],[91.0,26917.0,0.3767135441303253,17986.619140625],[85.0,29610.0,0.31813523173332214,18475.48828125],[87.0,30812.0,0.31446313858032227,15238.119140625],[91.0,24370.0,0.2963285744190216,16141.048828125],[94.0,27169.0,0.31417304277420044,15061.7763671875],[88.0,26351.0,0.3041681945323944,14035.91796875],[84.0,18244.0,0.2926633656024933,17815.34765625],[90.0,22288.0,0.27132683992385864,18434.099609375],[91.0,36639.0,0.32619887590408325,16275.703125],[87.0,12000.0,0.3429909944534302,16180.265625],[88.0,35051.0,0.3860515058040619,17593.24609375],[91.0,12038.0,0.34980326890945435,16464.9609375],[86.0,31994.0,0.24947693943977356,18210.087890625],[87.0,30178.0,0.2793159782886505,16123.0703125],[89.0,26940.0,0.32600513100624084,16555.16015625],[93.0,17672.0,0.3032923638820648,18516.451171875],[90.0,33490.0,0.4199085235595703,17091.904296875],[88.0,32708.0,0.36821532249450684,16711.068359375],[83.0,28727.0,0.30826303362846375,18205.3359375],[89.0,30267.0,0.2893100678920746,14386.3515625],[87.0,23322.0,0.30682119727134705,16131.267578125],[83.0,33170.0,0.2410777509212494,16620.009765625],[84.0,22286.0,0.39550623297691345,17886.537109375],[91.0,26424.0,0.31938865780830383,16501.46875],[90.0,25733.0,0.3385629653930664,17631.568359375],[90.0,33188.0,0.2488100677728653,15866.9140625],[88.0,17946.0,0.269643634557724,16715.16015625],[88.0,27169.0,0.2800595164299011,15260.6357421875]],\"hovertemplate\":\"Cluster=%{x}<br>Age=%{customdata[0]}<br>Income=%{customdata[1]}<br>SpendingScore=%{customdata[2]}<br>Savings=%{customdata[3]}<extra></extra>\",\"legendgroup\":\"Cluster 2\",\"marker\":{\"color\":\"#00cc96\"},\"name\":\"Cluster 2\",\"notched\":true,\"offsetgroup\":\"Cluster 2\",\"showlegend\":false,\"x\":[\"Cluster 2\",\"Cluster 2\",\"Cluster 2\",\"Cluster 2\",\"Cluster 2\",\"Cluster 2\",\"Cluster 2\",\"Cluster 2\",\"Cluster 2\",\"Cluster 2\",\"Cluster 2\",\"Cluster 2\",\"Cluster 2\",\"Cluster 2\",\"Cluster 2\",\"Cluster 2\",\"Cluster 2\",\"Cluster 2\",\"Cluster 2\",\"Cluster 2\",\"Cluster 2\",\"Cluster 2\",\"Cluster 2\",\"Cluster 2\",\"Cluster 2\",\"Cluster 2\",\"Cluster 2\",\"Cluster 2\",\"Cluster 2\",\"Cluster 2\",\"Cluster 2\",\"Cluster 2\",\"Cluster 2\",\"Cluster 2\",\"Cluster 2\",\"Cluster 2\",\"Cluster 2\",\"Cluster 2\",\"Cluster 2\",\"Cluster 2\",\"Cluster 2\",\"Cluster 2\",\"Cluster 2\",\"Cluster 2\",\"Cluster 2\",\"Cluster 2\",\"Cluster 2\",\"Cluster 2\",\"Cluster 2\",\"Cluster 2\",\"Cluster 2\",\"Cluster 2\",\"Cluster 2\",\"Cluster 2\",\"Cluster 2\",\"Cluster 2\",\"Cluster 2\",\"Cluster 2\",\"Cluster 2\",\"Cluster 2\",\"Cluster 2\",\"Cluster 2\",\"Cluster 2\",\"Cluster 2\",\"Cluster 2\",\"Cluster 2\",\"Cluster 2\",\"Cluster 2\",\"Cluster 2\",\"Cluster 2\",\"Cluster 2\",\"Cluster 2\",\"Cluster 2\",\"Cluster 2\",\"Cluster 2\",\"Cluster 2\",\"Cluster 2\",\"Cluster 2\",\"Cluster 2\",\"Cluster 2\",\"Cluster 2\",\"Cluster 2\",\"Cluster 2\",\"Cluster 2\",\"Cluster 2\",\"Cluster 2\",\"Cluster 2\",\"Cluster 2\",\"Cluster 2\",\"Cluster 2\",\"Cluster 2\",\"Cluster 2\",\"Cluster 2\",\"Cluster 2\",\"Cluster 2\",\"Cluster 2\",\"Cluster 2\",\"Cluster 2\",\"Cluster 2\",\"Cluster 2\",\"Cluster 2\",\"Cluster 2\",\"Cluster 2\",\"Cluster 2\",\"Cluster 2\",\"Cluster 2\",\"Cluster 2\",\"Cluster 2\",\"Cluster 2\",\"Cluster 2\",\"Cluster 2\",\"Cluster 2\",\"Cluster 2\",\"Cluster 2\",\"Cluster 2\",\"Cluster 2\",\"Cluster 2\",\"Cluster 2\",\"Cluster 2\",\"Cluster 2\",\"Cluster 2\",\"Cluster 2\",\"Cluster 2\",\"Cluster 2\",\"Cluster 2\",\"Cluster 2\",\"Cluster 2\",\"Cluster 2\",\"Cluster 2\",\"Cluster 2\",\"Cluster 2\",\"Cluster 2\",\"Cluster 2\",\"Cluster 2\",\"Cluster 2\",\"Cluster 2\",\"Cluster 2\",\"Cluster 2\",\"Cluster 2\",\"Cluster 2\",\"Cluster 2\",\"Cluster 2\",\"Cluster 2\",\"Cluster 2\",\"Cluster 2\",\"Cluster 2\",\"Cluster 2\"],\"xaxis\":\"x2\",\"yaxis\":\"y2\",\"type\":\"box\"},{\"alignmentgroup\":\"True\",\"bingroup\":\"x\",\"hovertemplate\":\"Cluster=%{x}<br>count=%{y}<extra></extra>\",\"legendgroup\":\"Cluster 3\",\"marker\":{\"color\":\"#ab63fa\",\"opacity\":0.7,\"pattern\":{\"shape\":\"\"}},\"name\":\"Cluster 3\",\"offsetgroup\":\"Cluster 3\",\"orientation\":\"v\",\"showlegend\":true,\"x\":[\"Cluster 3\",\"Cluster 3\",\"Cluster 3\",\"Cluster 3\",\"Cluster 3\",\"Cluster 3\",\"Cluster 3\",\"Cluster 3\",\"Cluster 3\",\"Cluster 3\",\"Cluster 3\",\"Cluster 3\",\"Cluster 3\",\"Cluster 3\",\"Cluster 3\",\"Cluster 3\",\"Cluster 3\",\"Cluster 3\",\"Cluster 3\",\"Cluster 3\",\"Cluster 3\",\"Cluster 3\",\"Cluster 3\",\"Cluster 3\",\"Cluster 3\",\"Cluster 3\",\"Cluster 3\",\"Cluster 3\",\"Cluster 3\",\"Cluster 3\",\"Cluster 3\",\"Cluster 3\",\"Cluster 3\",\"Cluster 3\",\"Cluster 3\",\"Cluster 3\",\"Cluster 3\",\"Cluster 3\",\"Cluster 3\",\"Cluster 3\",\"Cluster 3\",\"Cluster 3\",\"Cluster 3\",\"Cluster 3\",\"Cluster 3\",\"Cluster 3\",\"Cluster 3\",\"Cluster 3\",\"Cluster 3\",\"Cluster 3\",\"Cluster 3\",\"Cluster 3\",\"Cluster 3\",\"Cluster 3\",\"Cluster 3\",\"Cluster 3\",\"Cluster 3\",\"Cluster 3\",\"Cluster 3\",\"Cluster 3\",\"Cluster 3\",\"Cluster 3\",\"Cluster 3\",\"Cluster 3\",\"Cluster 3\",\"Cluster 3\",\"Cluster 3\",\"Cluster 3\",\"Cluster 3\",\"Cluster 3\",\"Cluster 3\",\"Cluster 3\"],\"xaxis\":\"x\",\"yaxis\":\"y\",\"type\":\"histogram\"},{\"alignmentgroup\":\"True\",\"customdata\":[[83.0,117943.0,0.07721324265003204,15391.9521484375],[86.0,128378.0,0.1260834038257599,13585.7783203125],[18.0,130813.0,0.8908912539482117,5256.4345703125],[23.0,120226.0,0.8819129467010498,4698.294921875],[29.0,131578.0,0.8470340967178345,3535.514404296875],[20.0,129142.0,0.8870519995689392,5603.12109375],[28.0,117108.0,0.857078492641449,4749.87939453125],[24.0,130974.0,0.9118385910987854,4420.07275390625],[25.0,120957.0,0.8776734471321106,5590.447265625],[25.0,130934.0,0.9137660264968872,3942.38916015625],[32.0,117050.0,0.3113555312156677,14310.5458984375],[28.0,129019.0,0.9308319687843323,3016.820556640625],[83.0,119429.0,0.04215480014681816,15607.5615234375],[25.0,138021.0,0.9440171718597412,3005.577392578125],[26.0,127320.0,0.8250297904014587,5495.64208984375],[28.0,121216.0,0.8569692969322205,5349.0654296875],[22.0,120525.0,1.0,5495.16552734375],[20.0,122581.0,0.894080638885498,4444.44775390625],[25.0,128625.0,0.8167389631271362,4914.1171875],[24.0,129087.0,0.827117919921875,3290.82958984375],[91.0,118794.0,0.019212065264582634,14047.388671875],[22.0,132948.0,0.8898001909255981,2839.786376953125],[82.0,121642.0,0.054653190076351166,14177.513671875],[34.0,119877.0,0.30543699860572815,15634.7880859375],[77.0,128596.0,0.04082407057285309,14503.4111328125],[24.0,127352.0,0.9054521322250366,2961.716796875],[17.0,134734.0,0.8579216599464417,0.0],[82.0,126257.0,0.07809619605541229,15816.1015625],[26.0,126617.0,0.8770521283149719,2913.3681640625],[20.0,129469.0,0.9399954080581665,5522.5732421875],[26.0,123005.0,0.9845262169837952,4371.23486328125],[21.0,123678.0,0.8320252895355225,2838.81591796875],[18.0,123718.0,0.8065528869628906,4420.44580078125],[30.0,122788.0,0.8728724122047424,5706.1494140625],[85.0,118169.0,0.1231960579752922,14855.951171875],[89.0,119697.0,0.09167920053005219,16215.3994140625],[83.0,117347.0,0.15569409728050232,15086.701171875],[87.0,117564.0,0.12827959656715393,14000.2490234375],[90.0,117668.0,0.0827227458357811,12554.6923828125],[23.0,129937.0,0.8727356791496277,4102.0654296875],[28.0,123153.0,0.9842407703399658,3697.513671875],[88.0,120678.0,0.06327284872531891,14264.4736328125],[29.0,122264.0,0.8985788226127625,2494.55615234375],[90.0,124170.0,0.030751314014196396,14773.4072265625],[84.0,122696.0,0.08218683302402496,13809.734375],[29.0,119366.0,0.3587713837623596,15012.8525390625],[23.0,138443.0,0.9226565361022949,3297.058837890625],[23.0,126500.0,0.8650328516960144,3270.150390625],[86.0,124372.0,0.0,15374.4658203125],[25.0,131009.0,0.8640568852424622,4792.4267578125],[17.0,136255.0,0.9358761310577393,4126.2265625],[24.0,134384.0,0.8747208118438721,3731.33984375],[22.0,134209.0,0.8706979751586914,5138.109375],[24.0,120465.0,0.9074853658676147,4838.34814453125],[24.0,136644.0,0.8716976642608643,1617.2257080078125],[27.0,125008.0,0.9596453905105591,2963.6376953125],[31.0,122924.0,0.8904602527618408,3071.944580078125],[21.0,129726.0,0.951792299747467,4550.79931640625],[28.0,127699.0,0.8814245462417603,5490.81494140625],[25.0,130361.0,0.9254385828971863,4691.55224609375],[17.0,123828.0,0.9420129060745239,3798.84033203125],[17.0,134966.0,0.9072421789169312,4128.044921875],[93.0,126601.0,0.02517016977071762,14117.447265625],[28.0,123229.0,0.8733219504356384,610.4462280273438],[29.0,142000.0,0.9400873184204102,5349.8212890625],[27.0,122671.0,0.9101071357727051,4206.287109375],[92.0,122879.0,0.060724034905433655,13709.669921875],[88.0,123651.0,0.029027139768004417,13504.5771484375],[26.0,125662.0,0.9268183708190918,6089.478515625],[24.0,134389.0,0.9388521313667297,4573.6064453125],[27.0,121468.0,0.920648992061615,5011.1123046875],[26.0,131827.0,0.8807194828987122,4352.69921875]],\"hovertemplate\":\"Cluster=%{x}<br>Age=%{customdata[0]}<br>Income=%{customdata[1]}<br>SpendingScore=%{customdata[2]}<br>Savings=%{customdata[3]}<extra></extra>\",\"legendgroup\":\"Cluster 3\",\"marker\":{\"color\":\"#ab63fa\"},\"name\":\"Cluster 3\",\"notched\":true,\"offsetgroup\":\"Cluster 3\",\"showlegend\":false,\"x\":[\"Cluster 3\",\"Cluster 3\",\"Cluster 3\",\"Cluster 3\",\"Cluster 3\",\"Cluster 3\",\"Cluster 3\",\"Cluster 3\",\"Cluster 3\",\"Cluster 3\",\"Cluster 3\",\"Cluster 3\",\"Cluster 3\",\"Cluster 3\",\"Cluster 3\",\"Cluster 3\",\"Cluster 3\",\"Cluster 3\",\"Cluster 3\",\"Cluster 3\",\"Cluster 3\",\"Cluster 3\",\"Cluster 3\",\"Cluster 3\",\"Cluster 3\",\"Cluster 3\",\"Cluster 3\",\"Cluster 3\",\"Cluster 3\",\"Cluster 3\",\"Cluster 3\",\"Cluster 3\",\"Cluster 3\",\"Cluster 3\",\"Cluster 3\",\"Cluster 3\",\"Cluster 3\",\"Cluster 3\",\"Cluster 3\",\"Cluster 3\",\"Cluster 3\",\"Cluster 3\",\"Cluster 3\",\"Cluster 3\",\"Cluster 3\",\"Cluster 3\",\"Cluster 3\",\"Cluster 3\",\"Cluster 3\",\"Cluster 3\",\"Cluster 3\",\"Cluster 3\",\"Cluster 3\",\"Cluster 3\",\"Cluster 3\",\"Cluster 3\",\"Cluster 3\",\"Cluster 3\",\"Cluster 3\",\"Cluster 3\",\"Cluster 3\",\"Cluster 3\",\"Cluster 3\",\"Cluster 3\",\"Cluster 3\",\"Cluster 3\",\"Cluster 3\",\"Cluster 3\",\"Cluster 3\",\"Cluster 3\",\"Cluster 3\",\"Cluster 3\"],\"xaxis\":\"x2\",\"yaxis\":\"y2\",\"type\":\"box\"}],                        {\"template\":{\"data\":{\"histogram2dcontour\":[{\"type\":\"histogram2dcontour\",\"colorbar\":{\"outlinewidth\":0,\"ticks\":\"\"},\"colorscale\":[[0.0,\"#0d0887\"],[0.1111111111111111,\"#46039f\"],[0.2222222222222222,\"#7201a8\"],[0.3333333333333333,\"#9c179e\"],[0.4444444444444444,\"#bd3786\"],[0.5555555555555556,\"#d8576b\"],[0.6666666666666666,\"#ed7953\"],[0.7777777777777778,\"#fb9f3a\"],[0.8888888888888888,\"#fdca26\"],[1.0,\"#f0f921\"]]}],\"choropleth\":[{\"type\":\"choropleth\",\"colorbar\":{\"outlinewidth\":0,\"ticks\":\"\"}}],\"histogram2d\":[{\"type\":\"histogram2d\",\"colorbar\":{\"outlinewidth\":0,\"ticks\":\"\"},\"colorscale\":[[0.0,\"#0d0887\"],[0.1111111111111111,\"#46039f\"],[0.2222222222222222,\"#7201a8\"],[0.3333333333333333,\"#9c179e\"],[0.4444444444444444,\"#bd3786\"],[0.5555555555555556,\"#d8576b\"],[0.6666666666666666,\"#ed7953\"],[0.7777777777777778,\"#fb9f3a\"],[0.8888888888888888,\"#fdca26\"],[1.0,\"#f0f921\"]]}],\"heatmap\":[{\"type\":\"heatmap\",\"colorbar\":{\"outlinewidth\":0,\"ticks\":\"\"},\"colorscale\":[[0.0,\"#0d0887\"],[0.1111111111111111,\"#46039f\"],[0.2222222222222222,\"#7201a8\"],[0.3333333333333333,\"#9c179e\"],[0.4444444444444444,\"#bd3786\"],[0.5555555555555556,\"#d8576b\"],[0.6666666666666666,\"#ed7953\"],[0.7777777777777778,\"#fb9f3a\"],[0.8888888888888888,\"#fdca26\"],[1.0,\"#f0f921\"]]}],\"heatmapgl\":[{\"type\":\"heatmapgl\",\"colorbar\":{\"outlinewidth\":0,\"ticks\":\"\"},\"colorscale\":[[0.0,\"#0d0887\"],[0.1111111111111111,\"#46039f\"],[0.2222222222222222,\"#7201a8\"],[0.3333333333333333,\"#9c179e\"],[0.4444444444444444,\"#bd3786\"],[0.5555555555555556,\"#d8576b\"],[0.6666666666666666,\"#ed7953\"],[0.7777777777777778,\"#fb9f3a\"],[0.8888888888888888,\"#fdca26\"],[1.0,\"#f0f921\"]]}],\"contourcarpet\":[{\"type\":\"contourcarpet\",\"colorbar\":{\"outlinewidth\":0,\"ticks\":\"\"}}],\"contour\":[{\"type\":\"contour\",\"colorbar\":{\"outlinewidth\":0,\"ticks\":\"\"},\"colorscale\":[[0.0,\"#0d0887\"],[0.1111111111111111,\"#46039f\"],[0.2222222222222222,\"#7201a8\"],[0.3333333333333333,\"#9c179e\"],[0.4444444444444444,\"#bd3786\"],[0.5555555555555556,\"#d8576b\"],[0.6666666666666666,\"#ed7953\"],[0.7777777777777778,\"#fb9f3a\"],[0.8888888888888888,\"#fdca26\"],[1.0,\"#f0f921\"]]}],\"surface\":[{\"type\":\"surface\",\"colorbar\":{\"outlinewidth\":0,\"ticks\":\"\"},\"colorscale\":[[0.0,\"#0d0887\"],[0.1111111111111111,\"#46039f\"],[0.2222222222222222,\"#7201a8\"],[0.3333333333333333,\"#9c179e\"],[0.4444444444444444,\"#bd3786\"],[0.5555555555555556,\"#d8576b\"],[0.6666666666666666,\"#ed7953\"],[0.7777777777777778,\"#fb9f3a\"],[0.8888888888888888,\"#fdca26\"],[1.0,\"#f0f921\"]]}],\"mesh3d\":[{\"type\":\"mesh3d\",\"colorbar\":{\"outlinewidth\":0,\"ticks\":\"\"}}],\"scatter\":[{\"fillpattern\":{\"fillmode\":\"overlay\",\"size\":10,\"solidity\":0.2},\"type\":\"scatter\"}],\"parcoords\":[{\"type\":\"parcoords\",\"line\":{\"colorbar\":{\"outlinewidth\":0,\"ticks\":\"\"}}}],\"scatterpolargl\":[{\"type\":\"scatterpolargl\",\"marker\":{\"colorbar\":{\"outlinewidth\":0,\"ticks\":\"\"}}}],\"bar\":[{\"error_x\":{\"color\":\"#2a3f5f\"},\"error_y\":{\"color\":\"#2a3f5f\"},\"marker\":{\"line\":{\"color\":\"#E5ECF6\",\"width\":0.5},\"pattern\":{\"fillmode\":\"overlay\",\"size\":10,\"solidity\":0.2}},\"type\":\"bar\"}],\"scattergeo\":[{\"type\":\"scattergeo\",\"marker\":{\"colorbar\":{\"outlinewidth\":0,\"ticks\":\"\"}}}],\"scatterpolar\":[{\"type\":\"scatterpolar\",\"marker\":{\"colorbar\":{\"outlinewidth\":0,\"ticks\":\"\"}}}],\"histogram\":[{\"marker\":{\"pattern\":{\"fillmode\":\"overlay\",\"size\":10,\"solidity\":0.2}},\"type\":\"histogram\"}],\"scattergl\":[{\"type\":\"scattergl\",\"marker\":{\"colorbar\":{\"outlinewidth\":0,\"ticks\":\"\"}}}],\"scatter3d\":[{\"type\":\"scatter3d\",\"line\":{\"colorbar\":{\"outlinewidth\":0,\"ticks\":\"\"}},\"marker\":{\"colorbar\":{\"outlinewidth\":0,\"ticks\":\"\"}}}],\"scattermapbox\":[{\"type\":\"scattermapbox\",\"marker\":{\"colorbar\":{\"outlinewidth\":0,\"ticks\":\"\"}}}],\"scatterternary\":[{\"type\":\"scatterternary\",\"marker\":{\"colorbar\":{\"outlinewidth\":0,\"ticks\":\"\"}}}],\"scattercarpet\":[{\"type\":\"scattercarpet\",\"marker\":{\"colorbar\":{\"outlinewidth\":0,\"ticks\":\"\"}}}],\"carpet\":[{\"aaxis\":{\"endlinecolor\":\"#2a3f5f\",\"gridcolor\":\"white\",\"linecolor\":\"white\",\"minorgridcolor\":\"white\",\"startlinecolor\":\"#2a3f5f\"},\"baxis\":{\"endlinecolor\":\"#2a3f5f\",\"gridcolor\":\"white\",\"linecolor\":\"white\",\"minorgridcolor\":\"white\",\"startlinecolor\":\"#2a3f5f\"},\"type\":\"carpet\"}],\"table\":[{\"cells\":{\"fill\":{\"color\":\"#EBF0F8\"},\"line\":{\"color\":\"white\"}},\"header\":{\"fill\":{\"color\":\"#C8D4E3\"},\"line\":{\"color\":\"white\"}},\"type\":\"table\"}],\"barpolar\":[{\"marker\":{\"line\":{\"color\":\"#E5ECF6\",\"width\":0.5},\"pattern\":{\"fillmode\":\"overlay\",\"size\":10,\"solidity\":0.2}},\"type\":\"barpolar\"}],\"pie\":[{\"automargin\":true,\"type\":\"pie\"}]},\"layout\":{\"autotypenumbers\":\"strict\",\"colorway\":[\"#636efa\",\"#EF553B\",\"#00cc96\",\"#ab63fa\",\"#FFA15A\",\"#19d3f3\",\"#FF6692\",\"#B6E880\",\"#FF97FF\",\"#FECB52\"],\"font\":{\"color\":\"#2a3f5f\"},\"hovermode\":\"closest\",\"hoverlabel\":{\"align\":\"left\"},\"paper_bgcolor\":\"white\",\"plot_bgcolor\":\"#E5ECF6\",\"polar\":{\"bgcolor\":\"#E5ECF6\",\"angularaxis\":{\"gridcolor\":\"white\",\"linecolor\":\"white\",\"ticks\":\"\"},\"radialaxis\":{\"gridcolor\":\"white\",\"linecolor\":\"white\",\"ticks\":\"\"}},\"ternary\":{\"bgcolor\":\"#E5ECF6\",\"aaxis\":{\"gridcolor\":\"white\",\"linecolor\":\"white\",\"ticks\":\"\"},\"baxis\":{\"gridcolor\":\"white\",\"linecolor\":\"white\",\"ticks\":\"\"},\"caxis\":{\"gridcolor\":\"white\",\"linecolor\":\"white\",\"ticks\":\"\"}},\"coloraxis\":{\"colorbar\":{\"outlinewidth\":0,\"ticks\":\"\"}},\"colorscale\":{\"sequential\":[[0.0,\"#0d0887\"],[0.1111111111111111,\"#46039f\"],[0.2222222222222222,\"#7201a8\"],[0.3333333333333333,\"#9c179e\"],[0.4444444444444444,\"#bd3786\"],[0.5555555555555556,\"#d8576b\"],[0.6666666666666666,\"#ed7953\"],[0.7777777777777778,\"#fb9f3a\"],[0.8888888888888888,\"#fdca26\"],[1.0,\"#f0f921\"]],\"sequentialminus\":[[0.0,\"#0d0887\"],[0.1111111111111111,\"#46039f\"],[0.2222222222222222,\"#7201a8\"],[0.3333333333333333,\"#9c179e\"],[0.4444444444444444,\"#bd3786\"],[0.5555555555555556,\"#d8576b\"],[0.6666666666666666,\"#ed7953\"],[0.7777777777777778,\"#fb9f3a\"],[0.8888888888888888,\"#fdca26\"],[1.0,\"#f0f921\"]],\"diverging\":[[0,\"#8e0152\"],[0.1,\"#c51b7d\"],[0.2,\"#de77ae\"],[0.3,\"#f1b6da\"],[0.4,\"#fde0ef\"],[0.5,\"#f7f7f7\"],[0.6,\"#e6f5d0\"],[0.7,\"#b8e186\"],[0.8,\"#7fbc41\"],[0.9,\"#4d9221\"],[1,\"#276419\"]]},\"xaxis\":{\"gridcolor\":\"white\",\"linecolor\":\"white\",\"ticks\":\"\",\"title\":{\"standoff\":15},\"zerolinecolor\":\"white\",\"automargin\":true,\"zerolinewidth\":2},\"yaxis\":{\"gridcolor\":\"white\",\"linecolor\":\"white\",\"ticks\":\"\",\"title\":{\"standoff\":15},\"zerolinecolor\":\"white\",\"automargin\":true,\"zerolinewidth\":2},\"scene\":{\"xaxis\":{\"backgroundcolor\":\"#E5ECF6\",\"gridcolor\":\"white\",\"linecolor\":\"white\",\"showbackground\":true,\"ticks\":\"\",\"zerolinecolor\":\"white\",\"gridwidth\":2},\"yaxis\":{\"backgroundcolor\":\"#E5ECF6\",\"gridcolor\":\"white\",\"linecolor\":\"white\",\"showbackground\":true,\"ticks\":\"\",\"zerolinecolor\":\"white\",\"gridwidth\":2},\"zaxis\":{\"backgroundcolor\":\"#E5ECF6\",\"gridcolor\":\"white\",\"linecolor\":\"white\",\"showbackground\":true,\"ticks\":\"\",\"zerolinecolor\":\"white\",\"gridwidth\":2}},\"shapedefaults\":{\"line\":{\"color\":\"#2a3f5f\"}},\"annotationdefaults\":{\"arrowcolor\":\"#2a3f5f\",\"arrowhead\":0,\"arrowwidth\":1},\"geo\":{\"bgcolor\":\"white\",\"landcolor\":\"#E5ECF6\",\"subunitcolor\":\"white\",\"showland\":true,\"showlakes\":true,\"lakecolor\":\"white\"},\"title\":{\"x\":0.05},\"mapbox\":{\"style\":\"light\"}}},\"xaxis\":{\"anchor\":\"y\",\"domain\":[0.0,1.0],\"categoryorder\":\"array\",\"categoryarray\":[\"Cluster 0\",\"Cluster 1\",\"Cluster 2\",\"Cluster 3\"],\"title\":{\"text\":\"Cluster\"}},\"yaxis\":{\"anchor\":\"x\",\"domain\":[0.0,0.7326],\"title\":{\"text\":\"count\"}},\"xaxis2\":{\"anchor\":\"y2\",\"domain\":[0.0,1.0],\"matches\":\"x\",\"showticklabels\":false,\"showgrid\":true},\"yaxis2\":{\"anchor\":\"x2\",\"domain\":[0.7426,1.0],\"matches\":\"y2\",\"showticklabels\":false,\"showline\":false,\"ticks\":\"\",\"showgrid\":false},\"legend\":{\"title\":{\"text\":\"Cluster\"},\"tracegroupgap\":0},\"margin\":{\"t\":60},\"barmode\":\"relative\",\"height\":600},                        {\"responsive\": true}                    ).then(function(){\n",
              "                            \n",
              "var gd = document.getElementById('53088995-62bf-4e66-b6f2-86a48af39abe');\n",
              "var x = new MutationObserver(function (mutations, observer) {{\n",
              "        var display = window.getComputedStyle(gd).display;\n",
              "        if (!display || display === 'none') {{\n",
              "            console.log([gd, 'removed!']);\n",
              "            Plotly.purge(gd);\n",
              "            observer.disconnect();\n",
              "        }}\n",
              "}});\n",
              "\n",
              "// Listen for the removal of the full notebook cells\n",
              "var notebookContainer = gd.closest('#notebook-container');\n",
              "if (notebookContainer) {{\n",
              "    x.observe(notebookContainer, {childList: true});\n",
              "}}\n",
              "\n",
              "// Listen for the clearing of the current output cell\n",
              "var outputEl = gd.closest('.output');\n",
              "if (outputEl) {{\n",
              "    x.observe(outputEl, {childList: true});\n",
              "}}\n",
              "\n",
              "                        })                };                            </script>        </div>\n",
              "</body>\n",
              "</html>"
            ]
          },
          "metadata": {}
        }
      ]
    },
    {
      "cell_type": "markdown",
      "metadata": {
        "id": "bMkeiv7pb3I9"
      },
      "source": [
        "---\n",
        "### **4.7 Distance Plot**\n",
        "---"
      ]
    },
    {
      "cell_type": "code",
      "metadata": {
        "id": "IvDzqdvMb3I9",
        "colab": {
          "base_uri": "https://localhost:8080/",
          "height": 510
        },
        "outputId": "e7dbd500-ec93-49ee-9a09-37d247858c79"
      },
      "source": [
        "plot_model(KMeanClusteringModel, plot = 'distance')"
      ],
      "execution_count": 25,
      "outputs": [
        {
          "output_type": "display_data",
          "data": {
            "text/plain": [
              "<IPython.core.display.HTML object>"
            ],
            "text/html": []
          },
          "metadata": {}
        },
        {
          "output_type": "display_data",
          "data": {
            "text/plain": [
              "<Figure size 800x550 with 2 Axes>"
            ],
            "image/png": "[encoded data removed]"
          },
          "metadata": {}
        }
      ]
    },
    {
      "cell_type": "markdown",
      "metadata": {
        "id": "NWwZUES8b3I9"
      },
      "source": [
        "---\n",
        "# **5. Compelete Code for Clustering (KMean)**\n",
        "---\n",
        "### **5.1 For Cluster = 3**"
      ]
    },
    {
      "cell_type": "code",
      "metadata": {
        "id": "P6_gGI4mb3I-",
        "colab": {
          "base_uri": "https://localhost:8080/",
          "height": 709,
          "referenced_widgets": [
            "9b2af193cce34aebb03d96ac658a9913",
            "5d8d6d6ba5a54e7eaed20bb6b569d1e1",
            "6cc202dec47b47e086bd61ef100ee2a9",
            "32164e445237412faaad9cad6875f3fb",
            "caa5ae1896014f39977eb7c9ccfbef40",
            "67ad328cc4a641fab2922824340610d9",
            "7216fe691f48484589416d7690925689",
            "36ca0c510edb4b1597bf494743c53cf4",
            "cc4365de439848c296fbecb0d34b7c39",
            "9e8205b3ba3349b59ac6da7a7808cace",
            "efa26b5949ce4ea9ba4cfc918d399f4f"
          ]
        },
        "outputId": "3580623e-6439-49b8-992b-e5b508c6cfe3"
      },
      "source": [
        "from pycaret.datasets import get_data\n",
        "from pycaret.clustering import *\n",
        "\n",
        "jewelleryDataSet = get_data('jewellery')\n",
        "setup(data = jewelleryDataSet)\n",
        "x = create_model('kmeans', num_clusters = 3)"
      ],
      "execution_count": 26,
      "outputs": [
        {
          "output_type": "display_data",
          "data": {
            "text/plain": [
              "   Age  Income  SpendingScore       Savings\n",
              "0   58   77769       0.791329   6559.829923\n",
              "1   59   81799       0.791082   5417.661426\n",
              "2   62   74751       0.702657   9258.992965\n",
              "3   59   74373       0.765680   7346.334504\n",
              "4   87   17760       0.348778  16869.507130"
            ],
            "text/html": [
              "\n",
              "  <div id=\"df-99f128f9-4851-4f0c-9f62-7da7c3df3c30\">\n",
              "    <div class=\"colab-df-container\">\n",
              "      <div>\n",
              "<style scoped>\n",
              "    .dataframe tbody tr th:only-of-type {\n",
              "        vertical-align: middle;\n",
              "    }\n",
              "\n",
              "    .dataframe tbody tr th {\n",
              "        vertical-align: top;\n",
              "    }\n",
              "\n",
              "    .dataframe thead th {\n",
              "        text-align: right;\n",
              "    }\n",
              "</style>\n",
              "<table border=\"1\" class=\"dataframe\">\n",
              "  <thead>\n",
              "    <tr style=\"text-align: right;\">\n",
              "      <th></th>\n",
              "      <th>Age</th>\n",
              "      <th>Income</th>\n",
              "      <th>SpendingScore</th>\n",
              "      <th>Savings</th>\n",
              "    </tr>\n",
              "  </thead>\n",
              "  <tbody>\n",
              "    <tr>\n",
              "      <th>0</th>\n",
              "      <td>58</td>\n",
              "      <td>77769</td>\n",
              "      <td>0.791329</td>\n",
              "      <td>6559.829923</td>\n",
              "    </tr>\n",
              "    <tr>\n",
              "      <th>1</th>\n",
              "      <td>59</td>\n",
              "      <td>81799</td>\n",
              "      <td>0.791082</td>\n",
              "      <td>5417.661426</td>\n",
              "    </tr>\n",
              "    <tr>\n",
              "      <th>2</th>\n",
              "      <td>62</td>\n",
              "      <td>74751</td>\n",
              "      <td>0.702657</td>\n",
              "      <td>9258.992965</td>\n",
              "    </tr>\n",
              "    <tr>\n",
              "      <th>3</th>\n",
              "      <td>59</td>\n",
              "      <td>74373</td>\n",
              "      <td>0.765680</td>\n",
              "      <td>7346.334504</td>\n",
              "    </tr>\n",
              "    <tr>\n",
              "      <th>4</th>\n",
              "      <td>87</td>\n",
              "      <td>17760</td>\n",
              "      <td>0.348778</td>\n",
              "      <td>16869.507130</td>\n",
              "    </tr>\n",
              "  </tbody>\n",
              "</table>\n",
              "</div>\n",
              "      <button class=\"colab-df-convert\" onclick=\"convertToInteractive('df-99f128f9-4851-4f0c-9f62-7da7c3df3c30')\"\n",
              "              title=\"Convert this dataframe to an interactive table.\"\n",
              "              style=\"display:none;\">\n",
              "        \n",
              "  <svg xmlns=\"http://www.w3.org/2000/svg\" height=\"24px\"viewBox=\"0 0 24 24\"\n",
              "       width=\"24px\">\n",
              "    <path d=\"M0 0h24v24H0V0z\" fill=\"none\"/>\n",
              "    <path d=\"M18.56 5.44l.94 2.06.94-2.06 2.06-.94-2.06-.94-.94-2.06-.94 2.06-2.06.94zm-11 1L8.5 8.5l.94-2.06 2.06-.94-2.06-.94L8.5 2.5l-.94 2.06-2.06.94zm10 10l.94 2.06.94-2.06 2.06-.94-2.06-.94-.94-2.06-.94 2.06-2.06.94z\"/><path d=\"M17.41 7.96l-1.37-1.37c-.4-.4-.92-.59-1.43-.59-.52 0-1.04.2-1.43.59L10.3 9.45l-7.72 7.72c-.78.78-.78 2.05 0 2.83L4 21.41c.39.39.9.59 1.41.59.51 0 1.02-.2 1.41-.59l7.78-7.78 2.81-2.81c.8-.78.8-2.07 0-2.86zM5.41 20L4 18.59l7.72-7.72 1.47 1.35L5.41 20z\"/>\n",
              "  </svg>\n",
              "      </button>\n",
              "      \n",
              "  <style>\n",
              "    .colab-df-container {\n",
              "      display:flex;\n",
              "      flex-wrap:wrap;\n",
              "      gap: 12px;\n",
              "    }\n",
              "\n",
              "    .colab-df-convert {\n",
              "      background-color: #E8F0FE;\n",
              "      border: none;\n",
              "      border-radius: 50%;\n",
              "      cursor: pointer;\n",
              "      display: none;\n",
              "      fill: #1967D2;\n",
              "      height: 32px;\n",
              "      padding: 0 0 0 0;\n",
              "      width: 32px;\n",
              "    }\n",
              "\n",
              "    .colab-df-convert:hover {\n",
              "      background-color: #E2EBFA;\n",
              "      box-shadow: 0px 1px 2px rgba(60, 64, 67, 0.3), 0px 1px 3px 1px rgba(60, 64, 67, 0.15);\n",
              "      fill: #174EA6;\n",
              "    }\n",
              "\n",
              "    [theme=dark] .colab-df-convert {\n",
              "      background-color: #3B4455;\n",
              "      fill: #D2E3FC;\n",
              "    }\n",
              "\n",
              "    [theme=dark] .colab-df-convert:hover {\n",
              "      background-color: #434B5C;\n",
              "      box-shadow: 0px 1px 3px 1px rgba(0, 0, 0, 0.15);\n",
              "      filter: drop-shadow(0px 1px 2px rgba(0, 0, 0, 0.3));\n",
              "      fill: #FFFFFF;\n",
              "    }\n",
              "  </style>\n",
              "\n",
              "      <script>\n",
              "        const buttonEl =\n",
              "          document.querySelector('#df-99f128f9-4851-4f0c-9f62-7da7c3df3c30 button.colab-df-convert');\n",
              "        buttonEl.style.display =\n",
              "          google.colab.kernel.accessAllowed ? 'block' : 'none';\n",
              "\n",
              "        async function convertToInteractive(key) {\n",
              "          const element = document.querySelector('#df-99f128f9-4851-4f0c-9f62-7da7c3df3c30');\n",
              "          const dataTable =\n",
              "            await google.colab.kernel.invokeFunction('convertToInteractive',\n",
              "                                                     [key], {});\n",
              "          if (!dataTable) return;\n",
              "\n",
              "          const docLinkHtml = 'Like what you see? Visit the ' +\n",
              "            '<a target=\"_blank\" href=https://colab.research.google.com/notebooks/data_table.ipynb>data table notebook</a>'\n",
              "            + ' to learn more about interactive tables.';\n",
              "          element.innerHTML = '';\n",
              "          dataTable['output_type'] = 'display_data';\n",
              "          await google.colab.output.renderOutput(dataTable, element);\n",
              "          const docLink = document.createElement('div');\n",
              "          docLink.innerHTML = docLinkHtml;\n",
              "          element.appendChild(docLink);\n",
              "        }\n",
              "      </script>\n",
              "    </div>\n",
              "  </div>\n",
              "  "
            ]
          },
          "metadata": {}
        },
        {
          "output_type": "display_data",
          "data": {
            "text/plain": [
              "<pandas.io.formats.style.Styler at 0x7fcc039ef9a0>"
            ],
            "text/html": [
              "<style type=\"text/css\">\n",
              "#T_ba083_row4_col1 {\n",
              "  background-color: lightgreen;\n",
              "}\n",
              "</style>\n",
              "<table id=\"T_ba083\" class=\"dataframe\">\n",
              "  <thead>\n",
              "    <tr>\n",
              "      <th class=\"blank level0\" >&nbsp;</th>\n",
              "      <th id=\"T_ba083_level0_col0\" class=\"col_heading level0 col0\" >Description</th>\n",
              "      <th id=\"T_ba083_level0_col1\" class=\"col_heading level0 col1\" >Value</th>\n",
              "    </tr>\n",
              "  </thead>\n",
              "  <tbody>\n",
              "    <tr>\n",
              "      <th id=\"T_ba083_level0_row0\" class=\"row_heading level0 row0\" >0</th>\n",
              "      <td id=\"T_ba083_row0_col0\" class=\"data row0 col0\" >Session id</td>\n",
              "      <td id=\"T_ba083_row0_col1\" class=\"data row0 col1\" >3717</td>\n",
              "    </tr>\n",
              "    <tr>\n",
              "      <th id=\"T_ba083_level0_row1\" class=\"row_heading level0 row1\" >1</th>\n",
              "      <td id=\"T_ba083_row1_col0\" class=\"data row1 col0\" >Original data shape</td>\n",
              "      <td id=\"T_ba083_row1_col1\" class=\"data row1 col1\" >(505, 4)</td>\n",
              "    </tr>\n",
              "    <tr>\n",
              "      <th id=\"T_ba083_level0_row2\" class=\"row_heading level0 row2\" >2</th>\n",
              "      <td id=\"T_ba083_row2_col0\" class=\"data row2 col0\" >Transformed data shape</td>\n",
              "      <td id=\"T_ba083_row2_col1\" class=\"data row2 col1\" >(505, 4)</td>\n",
              "    </tr>\n",
              "    <tr>\n",
              "      <th id=\"T_ba083_level0_row3\" class=\"row_heading level0 row3\" >3</th>\n",
              "      <td id=\"T_ba083_row3_col0\" class=\"data row3 col0\" >Numeric features</td>\n",
              "      <td id=\"T_ba083_row3_col1\" class=\"data row3 col1\" >4</td>\n",
              "    </tr>\n",
              "    <tr>\n",
              "      <th id=\"T_ba083_level0_row4\" class=\"row_heading level0 row4\" >4</th>\n",
              "      <td id=\"T_ba083_row4_col0\" class=\"data row4 col0\" >Preprocess</td>\n",
              "      <td id=\"T_ba083_row4_col1\" class=\"data row4 col1\" >True</td>\n",
              "    </tr>\n",
              "    <tr>\n",
              "      <th id=\"T_ba083_level0_row5\" class=\"row_heading level0 row5\" >5</th>\n",
              "      <td id=\"T_ba083_row5_col0\" class=\"data row5 col0\" >Imputation type</td>\n",
              "      <td id=\"T_ba083_row5_col1\" class=\"data row5 col1\" >simple</td>\n",
              "    </tr>\n",
              "    <tr>\n",
              "      <th id=\"T_ba083_level0_row6\" class=\"row_heading level0 row6\" >6</th>\n",
              "      <td id=\"T_ba083_row6_col0\" class=\"data row6 col0\" >Numeric imputation</td>\n",
              "      <td id=\"T_ba083_row6_col1\" class=\"data row6 col1\" >mean</td>\n",
              "    </tr>\n",
              "    <tr>\n",
              "      <th id=\"T_ba083_level0_row7\" class=\"row_heading level0 row7\" >7</th>\n",
              "      <td id=\"T_ba083_row7_col0\" class=\"data row7 col0\" >Categorical imputation</td>\n",
              "      <td id=\"T_ba083_row7_col1\" class=\"data row7 col1\" >mode</td>\n",
              "    </tr>\n",
              "    <tr>\n",
              "      <th id=\"T_ba083_level0_row8\" class=\"row_heading level0 row8\" >8</th>\n",
              "      <td id=\"T_ba083_row8_col0\" class=\"data row8 col0\" >CPU Jobs</td>\n",
              "      <td id=\"T_ba083_row8_col1\" class=\"data row8 col1\" >-1</td>\n",
              "    </tr>\n",
              "    <tr>\n",
              "      <th id=\"T_ba083_level0_row9\" class=\"row_heading level0 row9\" >9</th>\n",
              "      <td id=\"T_ba083_row9_col0\" class=\"data row9 col0\" >Use GPU</td>\n",
              "      <td id=\"T_ba083_row9_col1\" class=\"data row9 col1\" >False</td>\n",
              "    </tr>\n",
              "    <tr>\n",
              "      <th id=\"T_ba083_level0_row10\" class=\"row_heading level0 row10\" >10</th>\n",
              "      <td id=\"T_ba083_row10_col0\" class=\"data row10 col0\" >Log Experiment</td>\n",
              "      <td id=\"T_ba083_row10_col1\" class=\"data row10 col1\" >False</td>\n",
              "    </tr>\n",
              "    <tr>\n",
              "      <th id=\"T_ba083_level0_row11\" class=\"row_heading level0 row11\" >11</th>\n",
              "      <td id=\"T_ba083_row11_col0\" class=\"data row11 col0\" >Experiment Name</td>\n",
              "      <td id=\"T_ba083_row11_col1\" class=\"data row11 col1\" >cluster-default-name</td>\n",
              "    </tr>\n",
              "    <tr>\n",
              "      <th id=\"T_ba083_level0_row12\" class=\"row_heading level0 row12\" >12</th>\n",
              "      <td id=\"T_ba083_row12_col0\" class=\"data row12 col0\" >USI</td>\n",
              "      <td id=\"T_ba083_row12_col1\" class=\"data row12 col1\" >adbc</td>\n",
              "    </tr>\n",
              "  </tbody>\n",
              "</table>\n"
            ]
          },
          "metadata": {}
        },
        {
          "output_type": "display_data",
          "data": {
            "text/plain": [
              "<IPython.core.display.HTML object>"
            ],
            "text/html": []
          },
          "metadata": {}
        },
        {
          "output_type": "display_data",
          "data": {
            "text/plain": [
              "<pandas.io.formats.style.Styler at 0x7fcc03e094e0>"
            ],
            "text/html": [
              "<style type=\"text/css\">\n",
              "</style>\n",
              "<table id=\"T_f979f\" class=\"dataframe\">\n",
              "  <thead>\n",
              "    <tr>\n",
              "      <th class=\"blank level0\" >&nbsp;</th>\n",
              "      <th id=\"T_f979f_level0_col0\" class=\"col_heading level0 col0\" >Silhouette</th>\n",
              "      <th id=\"T_f979f_level0_col1\" class=\"col_heading level0 col1\" >Calinski-Harabasz</th>\n",
              "      <th id=\"T_f979f_level0_col2\" class=\"col_heading level0 col2\" >Davies-Bouldin</th>\n",
              "      <th id=\"T_f979f_level0_col3\" class=\"col_heading level0 col3\" >Homogeneity</th>\n",
              "      <th id=\"T_f979f_level0_col4\" class=\"col_heading level0 col4\" >Rand Index</th>\n",
              "      <th id=\"T_f979f_level0_col5\" class=\"col_heading level0 col5\" >Completeness</th>\n",
              "    </tr>\n",
              "  </thead>\n",
              "  <tbody>\n",
              "    <tr>\n",
              "      <th id=\"T_f979f_level0_row0\" class=\"row_heading level0 row0\" >0</th>\n",
              "      <td id=\"T_f979f_row0_col0\" class=\"data row0 col0\" >0.7393</td>\n",
              "      <td id=\"T_f979f_row0_col1\" class=\"data row0 col1\" >3567.5370</td>\n",
              "      <td id=\"T_f979f_row0_col2\" class=\"data row0 col2\" >0.3435</td>\n",
              "      <td id=\"T_f979f_row0_col3\" class=\"data row0 col3\" >0</td>\n",
              "      <td id=\"T_f979f_row0_col4\" class=\"data row0 col4\" >0</td>\n",
              "      <td id=\"T_f979f_row0_col5\" class=\"data row0 col5\" >0</td>\n",
              "    </tr>\n",
              "  </tbody>\n",
              "</table>\n"
            ]
          },
          "metadata": {}
        },
        {
          "output_type": "display_data",
          "data": {
            "text/plain": [
              "Processing:   0%|          | 0/3 [00:00<?, ?it/s]"
            ],
            "application/vnd.jupyter.widget-view+json": {
              "version_major": 2,
              "version_minor": 0,
              "model_id": "9b2af193cce34aebb03d96ac658a9913"
            }
          },
          "metadata": {
            "application/vnd.jupyter.widget-view+json": {
              "colab": {
                "custom_widget_manager": {
                  "url": "https://ssl.gstatic.com/colaboratory-static/widgets/colab-cdn-widget-manager/b3e629b1971e1542/manager.min.js"
                }
              }
            }
          }
        },
        {
          "output_type": "display_data",
          "data": {
            "text/plain": [
              "<IPython.core.display.HTML object>"
            ],
            "text/html": []
          },
          "metadata": {}
        }
      ]
    },
    {
      "cell_type": "markdown",
      "metadata": {
        "id": "Lc-CBrxvb3I-"
      },
      "source": [
        "---\n",
        "### **5.2 For Cluster = 4**\n",
        "---"
      ]
    },
    {
      "cell_type": "code",
      "metadata": {
        "id": "rNS_YT9kb3I_",
        "colab": {
          "base_uri": "https://localhost:8080/",
          "height": 709,
          "referenced_widgets": [
            "daa65b61b9744280841e2c3098488121",
            "80c31430888d4d38aa49eb7180619944",
            "0bdba909c0f243a395d192a40778401c",
            "aa3555a5501f46538a015f156954a3aa",
            "24f9b5223d844d0f92bd6e3af90fbb86",
            "be31d4db9d9e46bbbcb1c3a14b2ca1ec",
            "0101b372f36741e0805d8dec236d5f6e",
            "2b3a0f21c1164f4fbba5ce21104233a6",
            "74b1db9de68d467880a67f340789e49a",
            "538393a39ff54b41a6fcad8c825c69f7",
            "1669a87ee69a4454ad802ebd33f69e64"
          ]
        },
        "outputId": "f1b833e1-8ec7-4aba-bd09-a7b2d28482a5"
      },
      "source": [
        "from pycaret.datasets import get_data\n",
        "from pycaret.clustering import *\n",
        "\n",
        "jewelleryDataSet = get_data('jewellery')\n",
        "setup(data = jewelleryDataSet)\n",
        "x = create_model('kmeans', num_clusters = 4)"
      ],
      "execution_count": 27,
      "outputs": [
        {
          "output_type": "display_data",
          "data": {
            "text/plain": [
              "   Age  Income  SpendingScore       Savings\n",
              "0   58   77769       0.791329   6559.829923\n",
              "1   59   81799       0.791082   5417.661426\n",
              "2   62   74751       0.702657   9258.992965\n",
              "3   59   74373       0.765680   7346.334504\n",
              "4   87   17760       0.348778  16869.507130"
            ],
            "text/html": [
              "\n",
              "  <div id=\"df-3fca9e0f-cb82-41ce-99c0-60c2855b8e30\">\n",
              "    <div class=\"colab-df-container\">\n",
              "      <div>\n",
              "<style scoped>\n",
              "    .dataframe tbody tr th:only-of-type {\n",
              "        vertical-align: middle;\n",
              "    }\n",
              "\n",
              "    .dataframe tbody tr th {\n",
              "        vertical-align: top;\n",
              "    }\n",
              "\n",
              "    .dataframe thead th {\n",
              "        text-align: right;\n",
              "    }\n",
              "</style>\n",
              "<table border=\"1\" class=\"dataframe\">\n",
              "  <thead>\n",
              "    <tr style=\"text-align: right;\">\n",
              "      <th></th>\n",
              "      <th>Age</th>\n",
              "      <th>Income</th>\n",
              "      <th>SpendingScore</th>\n",
              "      <th>Savings</th>\n",
              "    </tr>\n",
              "  </thead>\n",
              "  <tbody>\n",
              "    <tr>\n",
              "      <th>0</th>\n",
              "      <td>58</td>\n",
              "      <td>77769</td>\n",
              "      <td>0.791329</td>\n",
              "      <td>6559.829923</td>\n",
              "    </tr>\n",
              "    <tr>\n",
              "      <th>1</th>\n",
              "      <td>59</td>\n",
              "      <td>81799</td>\n",
              "      <td>0.791082</td>\n",
              "      <td>5417.661426</td>\n",
              "    </tr>\n",
              "    <tr>\n",
              "      <th>2</th>\n",
              "      <td>62</td>\n",
              "      <td>74751</td>\n",
              "      <td>0.702657</td>\n",
              "      <td>9258.992965</td>\n",
              "    </tr>\n",
              "    <tr>\n",
              "      <th>3</th>\n",
              "      <td>59</td>\n",
              "      <td>74373</td>\n",
              "      <td>0.765680</td>\n",
              "      <td>7346.334504</td>\n",
              "    </tr>\n",
              "    <tr>\n",
              "      <th>4</th>\n",
              "      <td>87</td>\n",
              "      <td>17760</td>\n",
              "      <td>0.348778</td>\n",
              "      <td>16869.507130</td>\n",
              "    </tr>\n",
              "  </tbody>\n",
              "</table>\n",
              "</div>\n",
              "      <button class=\"colab-df-convert\" onclick=\"convertToInteractive('df-3fca9e0f-cb82-41ce-99c0-60c2855b8e30')\"\n",
              "              title=\"Convert this dataframe to an interactive table.\"\n",
              "              style=\"display:none;\">\n",
              "        \n",
              "  <svg xmlns=\"http://www.w3.org/2000/svg\" height=\"24px\"viewBox=\"0 0 24 24\"\n",
              "       width=\"24px\">\n",
              "    <path d=\"M0 0h24v24H0V0z\" fill=\"none\"/>\n",
              "    <path d=\"M18.56 5.44l.94 2.06.94-2.06 2.06-.94-2.06-.94-.94-2.06-.94 2.06-2.06.94zm-11 1L8.5 8.5l.94-2.06 2.06-.94-2.06-.94L8.5 2.5l-.94 2.06-2.06.94zm10 10l.94 2.06.94-2.06 2.06-.94-2.06-.94-.94-2.06-.94 2.06-2.06.94z\"/><path d=\"M17.41 7.96l-1.37-1.37c-.4-.4-.92-.59-1.43-.59-.52 0-1.04.2-1.43.59L10.3 9.45l-7.72 7.72c-.78.78-.78 2.05 0 2.83L4 21.41c.39.39.9.59 1.41.59.51 0 1.02-.2 1.41-.59l7.78-7.78 2.81-2.81c.8-.78.8-2.07 0-2.86zM5.41 20L4 18.59l7.72-7.72 1.47 1.35L5.41 20z\"/>\n",
              "  </svg>\n",
              "      </button>\n",
              "      \n",
              "  <style>\n",
              "    .colab-df-container {\n",
              "      display:flex;\n",
              "      flex-wrap:wrap;\n",
              "      gap: 12px;\n",
              "    }\n",
              "\n",
              "    .colab-df-convert {\n",
              "      background-color: #E8F0FE;\n",
              "      border: none;\n",
              "      border-radius: 50%;\n",
              "      cursor: pointer;\n",
              "      display: none;\n",
              "      fill: #1967D2;\n",
              "      height: 32px;\n",
              "      padding: 0 0 0 0;\n",
              "      width: 32px;\n",
              "    }\n",
              "\n",
              "    .colab-df-convert:hover {\n",
              "      background-color: #E2EBFA;\n",
              "      box-shadow: 0px 1px 2px rgba(60, 64, 67, 0.3), 0px 1px 3px 1px rgba(60, 64, 67, 0.15);\n",
              "      fill: #174EA6;\n",
              "    }\n",
              "\n",
              "    [theme=dark] .colab-df-convert {\n",
              "      background-color: #3B4455;\n",
              "      fill: #D2E3FC;\n",
              "    }\n",
              "\n",
              "    [theme=dark] .colab-df-convert:hover {\n",
              "      background-color: #434B5C;\n",
              "      box-shadow: 0px 1px 3px 1px rgba(0, 0, 0, 0.15);\n",
              "      filter: drop-shadow(0px 1px 2px rgba(0, 0, 0, 0.3));\n",
              "      fill: #FFFFFF;\n",
              "    }\n",
              "  </style>\n",
              "\n",
              "      <script>\n",
              "        const buttonEl =\n",
              "          document.querySelector('#df-3fca9e0f-cb82-41ce-99c0-60c2855b8e30 button.colab-df-convert');\n",
              "        buttonEl.style.display =\n",
              "          google.colab.kernel.accessAllowed ? 'block' : 'none';\n",
              "\n",
              "        async function convertToInteractive(key) {\n",
              "          const element = document.querySelector('#df-3fca9e0f-cb82-41ce-99c0-60c2855b8e30');\n",
              "          const dataTable =\n",
              "            await google.colab.kernel.invokeFunction('convertToInteractive',\n",
              "                                                     [key], {});\n",
              "          if (!dataTable) return;\n",
              "\n",
              "          const docLinkHtml = 'Like what you see? Visit the ' +\n",
              "            '<a target=\"_blank\" href=https://colab.research.google.com/notebooks/data_table.ipynb>data table notebook</a>'\n",
              "            + ' to learn more about interactive tables.';\n",
              "          element.innerHTML = '';\n",
              "          dataTable['output_type'] = 'display_data';\n",
              "          await google.colab.output.renderOutput(dataTable, element);\n",
              "          const docLink = document.createElement('div');\n",
              "          docLink.innerHTML = docLinkHtml;\n",
              "          element.appendChild(docLink);\n",
              "        }\n",
              "      </script>\n",
              "    </div>\n",
              "  </div>\n",
              "  "
            ]
          },
          "metadata": {}
        },
        {
          "output_type": "display_data",
          "data": {
            "text/plain": [
              "<pandas.io.formats.style.Styler at 0x7fcc03a67820>"
            ],
            "text/html": [
              "<style type=\"text/css\">\n",
              "#T_6ceb8_row4_col1 {\n",
              "  background-color: lightgreen;\n",
              "}\n",
              "</style>\n",
              "<table id=\"T_6ceb8\" class=\"dataframe\">\n",
              "  <thead>\n",
              "    <tr>\n",
              "      <th class=\"blank level0\" >&nbsp;</th>\n",
              "      <th id=\"T_6ceb8_level0_col0\" class=\"col_heading level0 col0\" >Description</th>\n",
              "      <th id=\"T_6ceb8_level0_col1\" class=\"col_heading level0 col1\" >Value</th>\n",
              "    </tr>\n",
              "  </thead>\n",
              "  <tbody>\n",
              "    <tr>\n",
              "      <th id=\"T_6ceb8_level0_row0\" class=\"row_heading level0 row0\" >0</th>\n",
              "      <td id=\"T_6ceb8_row0_col0\" class=\"data row0 col0\" >Session id</td>\n",
              "      <td id=\"T_6ceb8_row0_col1\" class=\"data row0 col1\" >5575</td>\n",
              "    </tr>\n",
              "    <tr>\n",
              "      <th id=\"T_6ceb8_level0_row1\" class=\"row_heading level0 row1\" >1</th>\n",
              "      <td id=\"T_6ceb8_row1_col0\" class=\"data row1 col0\" >Original data shape</td>\n",
              "      <td id=\"T_6ceb8_row1_col1\" class=\"data row1 col1\" >(505, 4)</td>\n",
              "    </tr>\n",
              "    <tr>\n",
              "      <th id=\"T_6ceb8_level0_row2\" class=\"row_heading level0 row2\" >2</th>\n",
              "      <td id=\"T_6ceb8_row2_col0\" class=\"data row2 col0\" >Transformed data shape</td>\n",
              "      <td id=\"T_6ceb8_row2_col1\" class=\"data row2 col1\" >(505, 4)</td>\n",
              "    </tr>\n",
              "    <tr>\n",
              "      <th id=\"T_6ceb8_level0_row3\" class=\"row_heading level0 row3\" >3</th>\n",
              "      <td id=\"T_6ceb8_row3_col0\" class=\"data row3 col0\" >Numeric features</td>\n",
              "      <td id=\"T_6ceb8_row3_col1\" class=\"data row3 col1\" >4</td>\n",
              "    </tr>\n",
              "    <tr>\n",
              "      <th id=\"T_6ceb8_level0_row4\" class=\"row_heading level0 row4\" >4</th>\n",
              "      <td id=\"T_6ceb8_row4_col0\" class=\"data row4 col0\" >Preprocess</td>\n",
              "      <td id=\"T_6ceb8_row4_col1\" class=\"data row4 col1\" >True</td>\n",
              "    </tr>\n",
              "    <tr>\n",
              "      <th id=\"T_6ceb8_level0_row5\" class=\"row_heading level0 row5\" >5</th>\n",
              "      <td id=\"T_6ceb8_row5_col0\" class=\"data row5 col0\" >Imputation type</td>\n",
              "      <td id=\"T_6ceb8_row5_col1\" class=\"data row5 col1\" >simple</td>\n",
              "    </tr>\n",
              "    <tr>\n",
              "      <th id=\"T_6ceb8_level0_row6\" class=\"row_heading level0 row6\" >6</th>\n",
              "      <td id=\"T_6ceb8_row6_col0\" class=\"data row6 col0\" >Numeric imputation</td>\n",
              "      <td id=\"T_6ceb8_row6_col1\" class=\"data row6 col1\" >mean</td>\n",
              "    </tr>\n",
              "    <tr>\n",
              "      <th id=\"T_6ceb8_level0_row7\" class=\"row_heading level0 row7\" >7</th>\n",
              "      <td id=\"T_6ceb8_row7_col0\" class=\"data row7 col0\" >Categorical imputation</td>\n",
              "      <td id=\"T_6ceb8_row7_col1\" class=\"data row7 col1\" >mode</td>\n",
              "    </tr>\n",
              "    <tr>\n",
              "      <th id=\"T_6ceb8_level0_row8\" class=\"row_heading level0 row8\" >8</th>\n",
              "      <td id=\"T_6ceb8_row8_col0\" class=\"data row8 col0\" >CPU Jobs</td>\n",
              "      <td id=\"T_6ceb8_row8_col1\" class=\"data row8 col1\" >-1</td>\n",
              "    </tr>\n",
              "    <tr>\n",
              "      <th id=\"T_6ceb8_level0_row9\" class=\"row_heading level0 row9\" >9</th>\n",
              "      <td id=\"T_6ceb8_row9_col0\" class=\"data row9 col0\" >Use GPU</td>\n",
              "      <td id=\"T_6ceb8_row9_col1\" class=\"data row9 col1\" >False</td>\n",
              "    </tr>\n",
              "    <tr>\n",
              "      <th id=\"T_6ceb8_level0_row10\" class=\"row_heading level0 row10\" >10</th>\n",
              "      <td id=\"T_6ceb8_row10_col0\" class=\"data row10 col0\" >Log Experiment</td>\n",
              "      <td id=\"T_6ceb8_row10_col1\" class=\"data row10 col1\" >False</td>\n",
              "    </tr>\n",
              "    <tr>\n",
              "      <th id=\"T_6ceb8_level0_row11\" class=\"row_heading level0 row11\" >11</th>\n",
              "      <td id=\"T_6ceb8_row11_col0\" class=\"data row11 col0\" >Experiment Name</td>\n",
              "      <td id=\"T_6ceb8_row11_col1\" class=\"data row11 col1\" >cluster-default-name</td>\n",
              "    </tr>\n",
              "    <tr>\n",
              "      <th id=\"T_6ceb8_level0_row12\" class=\"row_heading level0 row12\" >12</th>\n",
              "      <td id=\"T_6ceb8_row12_col0\" class=\"data row12 col0\" >USI</td>\n",
              "      <td id=\"T_6ceb8_row12_col1\" class=\"data row12 col1\" >697c</td>\n",
              "    </tr>\n",
              "  </tbody>\n",
              "</table>\n"
            ]
          },
          "metadata": {}
        },
        {
          "output_type": "display_data",
          "data": {
            "text/plain": [
              "<IPython.core.display.HTML object>"
            ],
            "text/html": []
          },
          "metadata": {}
        },
        {
          "output_type": "display_data",
          "data": {
            "text/plain": [
              "<pandas.io.formats.style.Styler at 0x7fcc03f43820>"
            ],
            "text/html": [
              "<style type=\"text/css\">\n",
              "</style>\n",
              "<table id=\"T_bd9d9\" class=\"dataframe\">\n",
              "  <thead>\n",
              "    <tr>\n",
              "      <th class=\"blank level0\" >&nbsp;</th>\n",
              "      <th id=\"T_bd9d9_level0_col0\" class=\"col_heading level0 col0\" >Silhouette</th>\n",
              "      <th id=\"T_bd9d9_level0_col1\" class=\"col_heading level0 col1\" >Calinski-Harabasz</th>\n",
              "      <th id=\"T_bd9d9_level0_col2\" class=\"col_heading level0 col2\" >Davies-Bouldin</th>\n",
              "      <th id=\"T_bd9d9_level0_col3\" class=\"col_heading level0 col3\" >Homogeneity</th>\n",
              "      <th id=\"T_bd9d9_level0_col4\" class=\"col_heading level0 col4\" >Rand Index</th>\n",
              "      <th id=\"T_bd9d9_level0_col5\" class=\"col_heading level0 col5\" >Completeness</th>\n",
              "    </tr>\n",
              "  </thead>\n",
              "  <tbody>\n",
              "    <tr>\n",
              "      <th id=\"T_bd9d9_level0_row0\" class=\"row_heading level0 row0\" >0</th>\n",
              "      <td id=\"T_bd9d9_row0_col0\" class=\"data row0 col0\" >0.7207</td>\n",
              "      <td id=\"T_bd9d9_row0_col1\" class=\"data row0 col1\" >5011.8115</td>\n",
              "      <td id=\"T_bd9d9_row0_col2\" class=\"data row0 col2\" >0.4114</td>\n",
              "      <td id=\"T_bd9d9_row0_col3\" class=\"data row0 col3\" >0</td>\n",
              "      <td id=\"T_bd9d9_row0_col4\" class=\"data row0 col4\" >0</td>\n",
              "      <td id=\"T_bd9d9_row0_col5\" class=\"data row0 col5\" >0</td>\n",
              "    </tr>\n",
              "  </tbody>\n",
              "</table>\n"
            ]
          },
          "metadata": {}
        },
        {
          "output_type": "display_data",
          "data": {
            "text/plain": [
              "Processing:   0%|          | 0/3 [00:00<?, ?it/s]"
            ],
            "application/vnd.jupyter.widget-view+json": {
              "version_major": 2,
              "version_minor": 0,
              "model_id": "daa65b61b9744280841e2c3098488121"
            }
          },
          "metadata": {
            "application/vnd.jupyter.widget-view+json": {
              "colab": {
                "custom_widget_manager": {
                  "url": "https://ssl.gstatic.com/colaboratory-static/widgets/colab-cdn-widget-manager/b3e629b1971e1542/manager.min.js"
                }
              }
            }
          }
        },
        {
          "output_type": "display_data",
          "data": {
            "text/plain": [
              "<IPython.core.display.HTML object>"
            ],
            "text/html": []
          },
          "metadata": {}
        }
      ]
    },
    {
      "cell_type": "markdown",
      "metadata": {
        "id": "XZyx5JF_too4"
      },
      "source": [
        "---\n",
        "### **5.3 Other Clustering Algorithms**\n",
        "---\n",
        "```\n",
        "- K-Means clustering                 'kmeans'\n",
        "- Affinity Propagation               'ap'\n",
        "- Mean shift clustering              'meanshift'\n",
        "- Spectral Clustering                'sc'\n",
        "- Agglomerative Clustering           'hclust'\n",
        "- Density-Based Spatial Clustering   'dbscan'\n",
        "- OPTICS Clustering                  'optics'\n",
        "- Birch Clustering                   'birch'\n",
        "- K-Modes clustering                 'kmodes'\n",
        "```"
      ]
    },
    {
      "cell_type": "markdown",
      "metadata": {
        "id": "zUfHO4wKim1_"
      },
      "source": [
        "---\n",
        "# **6. Clustering: Apply \"Data Preprocessing\"**\n",
        "---\n",
        "### **Read the Dataset**"
      ]
    },
    {
      "cell_type": "code",
      "metadata": {
        "id": "PlbzvU-Ib3I_",
        "colab": {
          "base_uri": "https://localhost:8080/",
          "height": 206
        },
        "outputId": "ff580ec6-efc4-49b8-d6be-3eb664785cb4"
      },
      "source": [
        "from pycaret.clustering import *\n",
        "from pycaret.datasets import get_data\n",
        "\n",
        "jewelleryDataSet = get_data('jewellery')"
      ],
      "execution_count": 28,
      "outputs": [
        {
          "output_type": "display_data",
          "data": {
            "text/plain": [
              "   Age  Income  SpendingScore       Savings\n",
              "0   58   77769       0.791329   6559.829923\n",
              "1   59   81799       0.791082   5417.661426\n",
              "2   62   74751       0.702657   9258.992965\n",
              "3   59   74373       0.765680   7346.334504\n",
              "4   87   17760       0.348778  16869.507130"
            ],
            "text/html": [
              "\n",
              "  <div id=\"df-f37b9948-3c8c-4afb-a100-af22fb04941b\">\n",
              "    <div class=\"colab-df-container\">\n",
              "      <div>\n",
              "<style scoped>\n",
              "    .dataframe tbody tr th:only-of-type {\n",
              "        vertical-align: middle;\n",
              "    }\n",
              "\n",
              "    .dataframe tbody tr th {\n",
              "        vertical-align: top;\n",
              "    }\n",
              "\n",
              "    .dataframe thead th {\n",
              "        text-align: right;\n",
              "    }\n",
              "</style>\n",
              "<table border=\"1\" class=\"dataframe\">\n",
              "  <thead>\n",
              "    <tr style=\"text-align: right;\">\n",
              "      <th></th>\n",
              "      <th>Age</th>\n",
              "      <th>Income</th>\n",
              "      <th>SpendingScore</th>\n",
              "      <th>Savings</th>\n",
              "    </tr>\n",
              "  </thead>\n",
              "  <tbody>\n",
              "    <tr>\n",
              "      <th>0</th>\n",
              "      <td>58</td>\n",
              "      <td>77769</td>\n",
              "      <td>0.791329</td>\n",
              "      <td>6559.829923</td>\n",
              "    </tr>\n",
              "    <tr>\n",
              "      <th>1</th>\n",
              "      <td>59</td>\n",
              "      <td>81799</td>\n",
              "      <td>0.791082</td>\n",
              "      <td>5417.661426</td>\n",
              "    </tr>\n",
              "    <tr>\n",
              "      <th>2</th>\n",
              "      <td>62</td>\n",
              "      <td>74751</td>\n",
              "      <td>0.702657</td>\n",
              "      <td>9258.992965</td>\n",
              "    </tr>\n",
              "    <tr>\n",
              "      <th>3</th>\n",
              "      <td>59</td>\n",
              "      <td>74373</td>\n",
              "      <td>0.765680</td>\n",
              "      <td>7346.334504</td>\n",
              "    </tr>\n",
              "    <tr>\n",
              "      <th>4</th>\n",
              "      <td>87</td>\n",
              "      <td>17760</td>\n",
              "      <td>0.348778</td>\n",
              "      <td>16869.507130</td>\n",
              "    </tr>\n",
              "  </tbody>\n",
              "</table>\n",
              "</div>\n",
              "      <button class=\"colab-df-convert\" onclick=\"convertToInteractive('df-f37b9948-3c8c-4afb-a100-af22fb04941b')\"\n",
              "              title=\"Convert this dataframe to an interactive table.\"\n",
              "              style=\"display:none;\">\n",
              "        \n",
              "  <svg xmlns=\"http://www.w3.org/2000/svg\" height=\"24px\"viewBox=\"0 0 24 24\"\n",
              "       width=\"24px\">\n",
              "    <path d=\"M0 0h24v24H0V0z\" fill=\"none\"/>\n",
              "    <path d=\"M18.56 5.44l.94 2.06.94-2.06 2.06-.94-2.06-.94-.94-2.06-.94 2.06-2.06.94zm-11 1L8.5 8.5l.94-2.06 2.06-.94-2.06-.94L8.5 2.5l-.94 2.06-2.06.94zm10 10l.94 2.06.94-2.06 2.06-.94-2.06-.94-.94-2.06-.94 2.06-2.06.94z\"/><path d=\"M17.41 7.96l-1.37-1.37c-.4-.4-.92-.59-1.43-.59-.52 0-1.04.2-1.43.59L10.3 9.45l-7.72 7.72c-.78.78-.78 2.05 0 2.83L4 21.41c.39.39.9.59 1.41.59.51 0 1.02-.2 1.41-.59l7.78-7.78 2.81-2.81c.8-.78.8-2.07 0-2.86zM5.41 20L4 18.59l7.72-7.72 1.47 1.35L5.41 20z\"/>\n",
              "  </svg>\n",
              "      </button>\n",
              "      \n",
              "  <style>\n",
              "    .colab-df-container {\n",
              "      display:flex;\n",
              "      flex-wrap:wrap;\n",
              "      gap: 12px;\n",
              "    }\n",
              "\n",
              "    .colab-df-convert {\n",
              "      background-color: #E8F0FE;\n",
              "      border: none;\n",
              "      border-radius: 50%;\n",
              "      cursor: pointer;\n",
              "      display: none;\n",
              "      fill: #1967D2;\n",
              "      height: 32px;\n",
              "      padding: 0 0 0 0;\n",
              "      width: 32px;\n",
              "    }\n",
              "\n",
              "    .colab-df-convert:hover {\n",
              "      background-color: #E2EBFA;\n",
              "      box-shadow: 0px 1px 2px rgba(60, 64, 67, 0.3), 0px 1px 3px 1px rgba(60, 64, 67, 0.15);\n",
              "      fill: #174EA6;\n",
              "    }\n",
              "\n",
              "    [theme=dark] .colab-df-convert {\n",
              "      background-color: #3B4455;\n",
              "      fill: #D2E3FC;\n",
              "    }\n",
              "\n",
              "    [theme=dark] .colab-df-convert:hover {\n",
              "      background-color: #434B5C;\n",
              "      box-shadow: 0px 1px 3px 1px rgba(0, 0, 0, 0.15);\n",
              "      filter: drop-shadow(0px 1px 2px rgba(0, 0, 0, 0.3));\n",
              "      fill: #FFFFFF;\n",
              "    }\n",
              "  </style>\n",
              "\n",
              "      <script>\n",
              "        const buttonEl =\n",
              "          document.querySelector('#df-f37b9948-3c8c-4afb-a100-af22fb04941b button.colab-df-convert');\n",
              "        buttonEl.style.display =\n",
              "          google.colab.kernel.accessAllowed ? 'block' : 'none';\n",
              "\n",
              "        async function convertToInteractive(key) {\n",
              "          const element = document.querySelector('#df-f37b9948-3c8c-4afb-a100-af22fb04941b');\n",
              "          const dataTable =\n",
              "            await google.colab.kernel.invokeFunction('convertToInteractive',\n",
              "                                                     [key], {});\n",
              "          if (!dataTable) return;\n",
              "\n",
              "          const docLinkHtml = 'Like what you see? Visit the ' +\n",
              "            '<a target=\"_blank\" href=https://colab.research.google.com/notebooks/data_table.ipynb>data table notebook</a>'\n",
              "            + ' to learn more about interactive tables.';\n",
              "          element.innerHTML = '';\n",
              "          dataTable['output_type'] = 'display_data';\n",
              "          await google.colab.output.renderOutput(dataTable, element);\n",
              "          const docLink = document.createElement('div');\n",
              "          docLink.innerHTML = docLinkHtml;\n",
              "          element.appendChild(docLink);\n",
              "        }\n",
              "      </script>\n",
              "    </div>\n",
              "  </div>\n",
              "  "
            ]
          },
          "metadata": {}
        }
      ]
    },
    {
      "cell_type": "markdown",
      "metadata": {
        "id": "Au1ZSVL3b3JA"
      },
      "source": [
        "---\n",
        "### **6.1 Model Performance using \"Normalization\"**\n",
        "---\n",
        "### **6.1.1 Elbow Plot**\n"
      ]
    },
    {
      "cell_type": "code",
      "metadata": {
        "colab": {
          "base_uri": "https://localhost:8080/",
          "height": 1000,
          "referenced_widgets": [
            "a9f3b7fdc5bc4727be950ae3a5c5c9f3",
            "79d4045627774ca1a5b7cd82b4b29571",
            "cc46e4e2278c4f2eb8b48089b82e97ce",
            "42e8b957a70a401c989427abdce6a34d",
            "a8afe543ccd0425ca5156d36e39bcc16",
            "95fcb00ba6b24170bca77cc249d82b6e",
            "0fa9f48524564320be6a172a47c12e1d",
            "517a5554c9b0469c8dec7a9af60fa13f",
            "b4da4637836746b1a581710aaf6f994a",
            "8b4e2e9ac8654598a785bb0032d8bf91",
            "dd361813b97d46ca951977883f560bf6"
          ]
        },
        "id": "X9zS6wx3EUDf",
        "outputId": "d93ac6f6-732e-487f-b70a-d72beb5d5fb2"
      },
      "source": [
        "setup(data = jewelleryDataSet, normalize = True, normalize_method = 'zscore')\n",
        "x = create_model('kmeans')\n",
        "plot_model(x, plot = 'elbow')"
      ],
      "execution_count": 29,
      "outputs": [
        {
          "output_type": "display_data",
          "data": {
            "text/plain": [
              "<pandas.io.formats.style.Styler at 0x7fcc039ef310>"
            ],
            "text/html": [
              "<style type=\"text/css\">\n",
              "#T_ca26d_row4_col1, #T_ca26d_row8_col1 {\n",
              "  background-color: lightgreen;\n",
              "}\n",
              "</style>\n",
              "<table id=\"T_ca26d\" class=\"dataframe\">\n",
              "  <thead>\n",
              "    <tr>\n",
              "      <th class=\"blank level0\" >&nbsp;</th>\n",
              "      <th id=\"T_ca26d_level0_col0\" class=\"col_heading level0 col0\" >Description</th>\n",
              "      <th id=\"T_ca26d_level0_col1\" class=\"col_heading level0 col1\" >Value</th>\n",
              "    </tr>\n",
              "  </thead>\n",
              "  <tbody>\n",
              "    <tr>\n",
              "      <th id=\"T_ca26d_level0_row0\" class=\"row_heading level0 row0\" >0</th>\n",
              "      <td id=\"T_ca26d_row0_col0\" class=\"data row0 col0\" >Session id</td>\n",
              "      <td id=\"T_ca26d_row0_col1\" class=\"data row0 col1\" >4305</td>\n",
              "    </tr>\n",
              "    <tr>\n",
              "      <th id=\"T_ca26d_level0_row1\" class=\"row_heading level0 row1\" >1</th>\n",
              "      <td id=\"T_ca26d_row1_col0\" class=\"data row1 col0\" >Original data shape</td>\n",
              "      <td id=\"T_ca26d_row1_col1\" class=\"data row1 col1\" >(505, 4)</td>\n",
              "    </tr>\n",
              "    <tr>\n",
              "      <th id=\"T_ca26d_level0_row2\" class=\"row_heading level0 row2\" >2</th>\n",
              "      <td id=\"T_ca26d_row2_col0\" class=\"data row2 col0\" >Transformed data shape</td>\n",
              "      <td id=\"T_ca26d_row2_col1\" class=\"data row2 col1\" >(505, 4)</td>\n",
              "    </tr>\n",
              "    <tr>\n",
              "      <th id=\"T_ca26d_level0_row3\" class=\"row_heading level0 row3\" >3</th>\n",
              "      <td id=\"T_ca26d_row3_col0\" class=\"data row3 col0\" >Numeric features</td>\n",
              "      <td id=\"T_ca26d_row3_col1\" class=\"data row3 col1\" >4</td>\n",
              "    </tr>\n",
              "    <tr>\n",
              "      <th id=\"T_ca26d_level0_row4\" class=\"row_heading level0 row4\" >4</th>\n",
              "      <td id=\"T_ca26d_row4_col0\" class=\"data row4 col0\" >Preprocess</td>\n",
              "      <td id=\"T_ca26d_row4_col1\" class=\"data row4 col1\" >True</td>\n",
              "    </tr>\n",
              "    <tr>\n",
              "      <th id=\"T_ca26d_level0_row5\" class=\"row_heading level0 row5\" >5</th>\n",
              "      <td id=\"T_ca26d_row5_col0\" class=\"data row5 col0\" >Imputation type</td>\n",
              "      <td id=\"T_ca26d_row5_col1\" class=\"data row5 col1\" >simple</td>\n",
              "    </tr>\n",
              "    <tr>\n",
              "      <th id=\"T_ca26d_level0_row6\" class=\"row_heading level0 row6\" >6</th>\n",
              "      <td id=\"T_ca26d_row6_col0\" class=\"data row6 col0\" >Numeric imputation</td>\n",
              "      <td id=\"T_ca26d_row6_col1\" class=\"data row6 col1\" >mean</td>\n",
              "    </tr>\n",
              "    <tr>\n",
              "      <th id=\"T_ca26d_level0_row7\" class=\"row_heading level0 row7\" >7</th>\n",
              "      <td id=\"T_ca26d_row7_col0\" class=\"data row7 col0\" >Categorical imputation</td>\n",
              "      <td id=\"T_ca26d_row7_col1\" class=\"data row7 col1\" >mode</td>\n",
              "    </tr>\n",
              "    <tr>\n",
              "      <th id=\"T_ca26d_level0_row8\" class=\"row_heading level0 row8\" >8</th>\n",
              "      <td id=\"T_ca26d_row8_col0\" class=\"data row8 col0\" >Normalize</td>\n",
              "      <td id=\"T_ca26d_row8_col1\" class=\"data row8 col1\" >True</td>\n",
              "    </tr>\n",
              "    <tr>\n",
              "      <th id=\"T_ca26d_level0_row9\" class=\"row_heading level0 row9\" >9</th>\n",
              "      <td id=\"T_ca26d_row9_col0\" class=\"data row9 col0\" >Normalize method</td>\n",
              "      <td id=\"T_ca26d_row9_col1\" class=\"data row9 col1\" >zscore</td>\n",
              "    </tr>\n",
              "    <tr>\n",
              "      <th id=\"T_ca26d_level0_row10\" class=\"row_heading level0 row10\" >10</th>\n",
              "      <td id=\"T_ca26d_row10_col0\" class=\"data row10 col0\" >CPU Jobs</td>\n",
              "      <td id=\"T_ca26d_row10_col1\" class=\"data row10 col1\" >-1</td>\n",
              "    </tr>\n",
              "    <tr>\n",
              "      <th id=\"T_ca26d_level0_row11\" class=\"row_heading level0 row11\" >11</th>\n",
              "      <td id=\"T_ca26d_row11_col0\" class=\"data row11 col0\" >Use GPU</td>\n",
              "      <td id=\"T_ca26d_row11_col1\" class=\"data row11 col1\" >False</td>\n",
              "    </tr>\n",
              "    <tr>\n",
              "      <th id=\"T_ca26d_level0_row12\" class=\"row_heading level0 row12\" >12</th>\n",
              "      <td id=\"T_ca26d_row12_col0\" class=\"data row12 col0\" >Log Experiment</td>\n",
              "      <td id=\"T_ca26d_row12_col1\" class=\"data row12 col1\" >False</td>\n",
              "    </tr>\n",
              "    <tr>\n",
              "      <th id=\"T_ca26d_level0_row13\" class=\"row_heading level0 row13\" >13</th>\n",
              "      <td id=\"T_ca26d_row13_col0\" class=\"data row13 col0\" >Experiment Name</td>\n",
              "      <td id=\"T_ca26d_row13_col1\" class=\"data row13 col1\" >cluster-default-name</td>\n",
              "    </tr>\n",
              "    <tr>\n",
              "      <th id=\"T_ca26d_level0_row14\" class=\"row_heading level0 row14\" >14</th>\n",
              "      <td id=\"T_ca26d_row14_col0\" class=\"data row14 col0\" >USI</td>\n",
              "      <td id=\"T_ca26d_row14_col1\" class=\"data row14 col1\" >774d</td>\n",
              "    </tr>\n",
              "  </tbody>\n",
              "</table>\n"
            ]
          },
          "metadata": {}
        },
        {
          "output_type": "display_data",
          "data": {
            "text/plain": [
              "<IPython.core.display.HTML object>"
            ],
            "text/html": []
          },
          "metadata": {}
        },
        {
          "output_type": "display_data",
          "data": {
            "text/plain": [
              "<pandas.io.formats.style.Styler at 0x7fcc039efaf0>"
            ],
            "text/html": [
              "<style type=\"text/css\">\n",
              "</style>\n",
              "<table id=\"T_47916\" class=\"dataframe\">\n",
              "  <thead>\n",
              "    <tr>\n",
              "      <th class=\"blank level0\" >&nbsp;</th>\n",
              "      <th id=\"T_47916_level0_col0\" class=\"col_heading level0 col0\" >Silhouette</th>\n",
              "      <th id=\"T_47916_level0_col1\" class=\"col_heading level0 col1\" >Calinski-Harabasz</th>\n",
              "      <th id=\"T_47916_level0_col2\" class=\"col_heading level0 col2\" >Davies-Bouldin</th>\n",
              "      <th id=\"T_47916_level0_col3\" class=\"col_heading level0 col3\" >Homogeneity</th>\n",
              "      <th id=\"T_47916_level0_col4\" class=\"col_heading level0 col4\" >Rand Index</th>\n",
              "      <th id=\"T_47916_level0_col5\" class=\"col_heading level0 col5\" >Completeness</th>\n",
              "    </tr>\n",
              "  </thead>\n",
              "  <tbody>\n",
              "    <tr>\n",
              "      <th id=\"T_47916_level0_row0\" class=\"row_heading level0 row0\" >0</th>\n",
              "      <td id=\"T_47916_row0_col0\" class=\"data row0 col0\" >0.7581</td>\n",
              "      <td id=\"T_47916_row0_col1\" class=\"data row0 col1\" >1611.2647</td>\n",
              "      <td id=\"T_47916_row0_col2\" class=\"data row0 col2\" >0.3743</td>\n",
              "      <td id=\"T_47916_row0_col3\" class=\"data row0 col3\" >0</td>\n",
              "      <td id=\"T_47916_row0_col4\" class=\"data row0 col4\" >0</td>\n",
              "      <td id=\"T_47916_row0_col5\" class=\"data row0 col5\" >0</td>\n",
              "    </tr>\n",
              "  </tbody>\n",
              "</table>\n"
            ]
          },
          "metadata": {}
        },
        {
          "output_type": "display_data",
          "data": {
            "text/plain": [
              "Processing:   0%|          | 0/3 [00:00<?, ?it/s]"
            ],
            "application/vnd.jupyter.widget-view+json": {
              "version_major": 2,
              "version_minor": 0,
              "model_id": "a9f3b7fdc5bc4727be950ae3a5c5c9f3"
            }
          },
          "metadata": {
            "application/vnd.jupyter.widget-view+json": {
              "colab": {
                "custom_widget_manager": {
                  "url": "https://ssl.gstatic.com/colaboratory-static/widgets/colab-cdn-widget-manager/b3e629b1971e1542/manager.min.js"
                }
              }
            }
          }
        },
        {
          "output_type": "display_data",
          "data": {
            "text/plain": [
              "<IPython.core.display.HTML object>"
            ],
            "text/html": []
          },
          "metadata": {}
        },
        {
          "output_type": "display_data",
          "data": {
            "text/plain": [
              "<IPython.core.display.HTML object>"
            ],
            "text/html": []
          },
          "metadata": {}
        },
        {
          "output_type": "display_data",
          "data": {
            "text/plain": [
              "<Figure size 800x550 with 1 Axes>"
            ],
            "image/png": "[encoded data removed]"
          },
          "metadata": {}
        }
      ]
    },
    {
      "cell_type": "markdown",
      "metadata": {
        "id": "HD79yrviG7iJ"
      },
      "source": [
        "---\n",
        "### **6.1.2 For Cluster = 3**\n",
        "---"
      ]
    },
    {
      "cell_type": "code",
      "metadata": {
        "id": "eLPoqBgEb3JA",
        "colab": {
          "base_uri": "https://localhost:8080/",
          "height": 583,
          "referenced_widgets": [
            "fb05762086c74048814d92057250a015",
            "af4bf724ce614acd8ac4e64f15689d85",
            "fa9161b1d1834797b8136e7321c9079c",
            "8fdda204add148f398ee3c5a4c9287ee",
            "2ecb9ca02f09409ba710cfd3eda49f7b",
            "ff425ac353414477ae12c34fafabfb80",
            "ab1b0b78e33c4dbfa9d9e9db9610bd2e",
            "cae7daef8ac34739a07bbc44bc9a9aba",
            "61eb905835fa4632bacf3c99f313715a",
            "64b02da12f6b4cfeaba08f7697ac6c47",
            "1b2edda9fd4043029f789b1d689cf9b2"
          ]
        },
        "outputId": "16cbfed0-9074-4910-909e-396c1b3f4cab"
      },
      "source": [
        "setup(data = jewelleryDataSet, normalize = True, normalize_method = 'zscore')\n",
        "x = create_model('kmeans', num_clusters = 3)"
      ],
      "execution_count": 30,
      "outputs": [
        {
          "output_type": "display_data",
          "data": {
            "text/plain": [
              "<pandas.io.formats.style.Styler at 0x7fcc0397c700>"
            ],
            "text/html": [
              "<style type=\"text/css\">\n",
              "#T_48186_row4_col1, #T_48186_row8_col1 {\n",
              "  background-color: lightgreen;\n",
              "}\n",
              "</style>\n",
              "<table id=\"T_48186\" class=\"dataframe\">\n",
              "  <thead>\n",
              "    <tr>\n",
              "      <th class=\"blank level0\" >&nbsp;</th>\n",
              "      <th id=\"T_48186_level0_col0\" class=\"col_heading level0 col0\" >Description</th>\n",
              "      <th id=\"T_48186_level0_col1\" class=\"col_heading level0 col1\" >Value</th>\n",
              "    </tr>\n",
              "  </thead>\n",
              "  <tbody>\n",
              "    <tr>\n",
              "      <th id=\"T_48186_level0_row0\" class=\"row_heading level0 row0\" >0</th>\n",
              "      <td id=\"T_48186_row0_col0\" class=\"data row0 col0\" >Session id</td>\n",
              "      <td id=\"T_48186_row0_col1\" class=\"data row0 col1\" >3559</td>\n",
              "    </tr>\n",
              "    <tr>\n",
              "      <th id=\"T_48186_level0_row1\" class=\"row_heading level0 row1\" >1</th>\n",
              "      <td id=\"T_48186_row1_col0\" class=\"data row1 col0\" >Original data shape</td>\n",
              "      <td id=\"T_48186_row1_col1\" class=\"data row1 col1\" >(505, 4)</td>\n",
              "    </tr>\n",
              "    <tr>\n",
              "      <th id=\"T_48186_level0_row2\" class=\"row_heading level0 row2\" >2</th>\n",
              "      <td id=\"T_48186_row2_col0\" class=\"data row2 col0\" >Transformed data shape</td>\n",
              "      <td id=\"T_48186_row2_col1\" class=\"data row2 col1\" >(505, 4)</td>\n",
              "    </tr>\n",
              "    <tr>\n",
              "      <th id=\"T_48186_level0_row3\" class=\"row_heading level0 row3\" >3</th>\n",
              "      <td id=\"T_48186_row3_col0\" class=\"data row3 col0\" >Numeric features</td>\n",
              "      <td id=\"T_48186_row3_col1\" class=\"data row3 col1\" >4</td>\n",
              "    </tr>\n",
              "    <tr>\n",
              "      <th id=\"T_48186_level0_row4\" class=\"row_heading level0 row4\" >4</th>\n",
              "      <td id=\"T_48186_row4_col0\" class=\"data row4 col0\" >Preprocess</td>\n",
              "      <td id=\"T_48186_row4_col1\" class=\"data row4 col1\" >True</td>\n",
              "    </tr>\n",
              "    <tr>\n",
              "      <th id=\"T_48186_level0_row5\" class=\"row_heading level0 row5\" >5</th>\n",
              "      <td id=\"T_48186_row5_col0\" class=\"data row5 col0\" >Imputation type</td>\n",
              "      <td id=\"T_48186_row5_col1\" class=\"data row5 col1\" >simple</td>\n",
              "    </tr>\n",
              "    <tr>\n",
              "      <th id=\"T_48186_level0_row6\" class=\"row_heading level0 row6\" >6</th>\n",
              "      <td id=\"T_48186_row6_col0\" class=\"data row6 col0\" >Numeric imputation</td>\n",
              "      <td id=\"T_48186_row6_col1\" class=\"data row6 col1\" >mean</td>\n",
              "    </tr>\n",
              "    <tr>\n",
              "      <th id=\"T_48186_level0_row7\" class=\"row_heading level0 row7\" >7</th>\n",
              "      <td id=\"T_48186_row7_col0\" class=\"data row7 col0\" >Categorical imputation</td>\n",
              "      <td id=\"T_48186_row7_col1\" class=\"data row7 col1\" >mode</td>\n",
              "    </tr>\n",
              "    <tr>\n",
              "      <th id=\"T_48186_level0_row8\" class=\"row_heading level0 row8\" >8</th>\n",
              "      <td id=\"T_48186_row8_col0\" class=\"data row8 col0\" >Normalize</td>\n",
              "      <td id=\"T_48186_row8_col1\" class=\"data row8 col1\" >True</td>\n",
              "    </tr>\n",
              "    <tr>\n",
              "      <th id=\"T_48186_level0_row9\" class=\"row_heading level0 row9\" >9</th>\n",
              "      <td id=\"T_48186_row9_col0\" class=\"data row9 col0\" >Normalize method</td>\n",
              "      <td id=\"T_48186_row9_col1\" class=\"data row9 col1\" >zscore</td>\n",
              "    </tr>\n",
              "    <tr>\n",
              "      <th id=\"T_48186_level0_row10\" class=\"row_heading level0 row10\" >10</th>\n",
              "      <td id=\"T_48186_row10_col0\" class=\"data row10 col0\" >CPU Jobs</td>\n",
              "      <td id=\"T_48186_row10_col1\" class=\"data row10 col1\" >-1</td>\n",
              "    </tr>\n",
              "    <tr>\n",
              "      <th id=\"T_48186_level0_row11\" class=\"row_heading level0 row11\" >11</th>\n",
              "      <td id=\"T_48186_row11_col0\" class=\"data row11 col0\" >Use GPU</td>\n",
              "      <td id=\"T_48186_row11_col1\" class=\"data row11 col1\" >False</td>\n",
              "    </tr>\n",
              "    <tr>\n",
              "      <th id=\"T_48186_level0_row12\" class=\"row_heading level0 row12\" >12</th>\n",
              "      <td id=\"T_48186_row12_col0\" class=\"data row12 col0\" >Log Experiment</td>\n",
              "      <td id=\"T_48186_row12_col1\" class=\"data row12 col1\" >False</td>\n",
              "    </tr>\n",
              "    <tr>\n",
              "      <th id=\"T_48186_level0_row13\" class=\"row_heading level0 row13\" >13</th>\n",
              "      <td id=\"T_48186_row13_col0\" class=\"data row13 col0\" >Experiment Name</td>\n",
              "      <td id=\"T_48186_row13_col1\" class=\"data row13 col1\" >cluster-default-name</td>\n",
              "    </tr>\n",
              "    <tr>\n",
              "      <th id=\"T_48186_level0_row14\" class=\"row_heading level0 row14\" >14</th>\n",
              "      <td id=\"T_48186_row14_col0\" class=\"data row14 col0\" >USI</td>\n",
              "      <td id=\"T_48186_row14_col1\" class=\"data row14 col1\" >5f0e</td>\n",
              "    </tr>\n",
              "  </tbody>\n",
              "</table>\n"
            ]
          },
          "metadata": {}
        },
        {
          "output_type": "display_data",
          "data": {
            "text/plain": [
              "<IPython.core.display.HTML object>"
            ],
            "text/html": []
          },
          "metadata": {}
        },
        {
          "output_type": "display_data",
          "data": {
            "text/plain": [
              "<pandas.io.formats.style.Styler at 0x7fcc039a3130>"
            ],
            "text/html": [
              "<style type=\"text/css\">\n",
              "</style>\n",
              "<table id=\"T_c888a\" class=\"dataframe\">\n",
              "  <thead>\n",
              "    <tr>\n",
              "      <th class=\"blank level0\" >&nbsp;</th>\n",
              "      <th id=\"T_c888a_level0_col0\" class=\"col_heading level0 col0\" >Silhouette</th>\n",
              "      <th id=\"T_c888a_level0_col1\" class=\"col_heading level0 col1\" >Calinski-Harabasz</th>\n",
              "      <th id=\"T_c888a_level0_col2\" class=\"col_heading level0 col2\" >Davies-Bouldin</th>\n",
              "      <th id=\"T_c888a_level0_col3\" class=\"col_heading level0 col3\" >Homogeneity</th>\n",
              "      <th id=\"T_c888a_level0_col4\" class=\"col_heading level0 col4\" >Rand Index</th>\n",
              "      <th id=\"T_c888a_level0_col5\" class=\"col_heading level0 col5\" >Completeness</th>\n",
              "    </tr>\n",
              "  </thead>\n",
              "  <tbody>\n",
              "    <tr>\n",
              "      <th id=\"T_c888a_level0_row0\" class=\"row_heading level0 row0\" >0</th>\n",
              "      <td id=\"T_c888a_row0_col0\" class=\"data row0 col0\" >0.6963</td>\n",
              "      <td id=\"T_c888a_row0_col1\" class=\"data row0 col1\" >1066.5812</td>\n",
              "      <td id=\"T_c888a_row0_col2\" class=\"data row0 col2\" >0.5258</td>\n",
              "      <td id=\"T_c888a_row0_col3\" class=\"data row0 col3\" >0</td>\n",
              "      <td id=\"T_c888a_row0_col4\" class=\"data row0 col4\" >0</td>\n",
              "      <td id=\"T_c888a_row0_col5\" class=\"data row0 col5\" >0</td>\n",
              "    </tr>\n",
              "  </tbody>\n",
              "</table>\n"
            ]
          },
          "metadata": {}
        },
        {
          "output_type": "display_data",
          "data": {
            "text/plain": [
              "Processing:   0%|          | 0/3 [00:00<?, ?it/s]"
            ],
            "application/vnd.jupyter.widget-view+json": {
              "version_major": 2,
              "version_minor": 0,
              "model_id": "fb05762086c74048814d92057250a015"
            }
          },
          "metadata": {
            "application/vnd.jupyter.widget-view+json": {
              "colab": {
                "custom_widget_manager": {
                  "url": "https://ssl.gstatic.com/colaboratory-static/widgets/colab-cdn-widget-manager/b3e629b1971e1542/manager.min.js"
                }
              }
            }
          }
        },
        {
          "output_type": "display_data",
          "data": {
            "text/plain": [
              "<IPython.core.display.HTML object>"
            ],
            "text/html": []
          },
          "metadata": {}
        }
      ]
    },
    {
      "cell_type": "markdown",
      "metadata": {
        "id": "fAwwYRDAD6pj"
      },
      "source": [
        "---\n",
        "### **6.1.3 For Cluster = 4**\n",
        "---"
      ]
    },
    {
      "cell_type": "code",
      "metadata": {
        "colab": {
          "base_uri": "https://localhost:8080/",
          "height": 583,
          "referenced_widgets": [
            "f549465e56b94f50a8c3b4f97b2e8e5c",
            "5dd454291cad43d487561aad6e2a88ca",
            "710de128bb104f4796e82406696e0bda",
            "003dbe3942c34a1f8da7b91b647b148a",
            "aa64858730d14121b48a9fe66ced0a38",
            "6a94d2b5459a456ab3fc374c3576303a",
            "e965ba3957704feda6c23f7e9be037e3",
            "7ad583b8202b44d082946ad1b6b6991b",
            "5590622e7f324f83af17b8a3e716f823",
            "2df7f5cb6a564eff96a61dc0bfced991",
            "4f8738687aaf411cb2ecdd9222e64dc6"
          ]
        },
        "id": "GtYogi-JD6po",
        "outputId": "8296b434-ea2b-41c5-f467-481154908361"
      },
      "source": [
        "setup(data = jewelleryDataSet, normalize = True, normalize_method = 'zscore')\n",
        "x = create_model('kmeans', num_clusters = 4)"
      ],
      "execution_count": 31,
      "outputs": [
        {
          "output_type": "display_data",
          "data": {
            "text/plain": [
              "<pandas.io.formats.style.Styler at 0x7fcc0397da20>"
            ],
            "text/html": [
              "<style type=\"text/css\">\n",
              "#T_378e9_row4_col1, #T_378e9_row8_col1 {\n",
              "  background-color: lightgreen;\n",
              "}\n",
              "</style>\n",
              "<table id=\"T_378e9\" class=\"dataframe\">\n",
              "  <thead>\n",
              "    <tr>\n",
              "      <th class=\"blank level0\" >&nbsp;</th>\n",
              "      <th id=\"T_378e9_level0_col0\" class=\"col_heading level0 col0\" >Description</th>\n",
              "      <th id=\"T_378e9_level0_col1\" class=\"col_heading level0 col1\" >Value</th>\n",
              "    </tr>\n",
              "  </thead>\n",
              "  <tbody>\n",
              "    <tr>\n",
              "      <th id=\"T_378e9_level0_row0\" class=\"row_heading level0 row0\" >0</th>\n",
              "      <td id=\"T_378e9_row0_col0\" class=\"data row0 col0\" >Session id</td>\n",
              "      <td id=\"T_378e9_row0_col1\" class=\"data row0 col1\" >8923</td>\n",
              "    </tr>\n",
              "    <tr>\n",
              "      <th id=\"T_378e9_level0_row1\" class=\"row_heading level0 row1\" >1</th>\n",
              "      <td id=\"T_378e9_row1_col0\" class=\"data row1 col0\" >Original data shape</td>\n",
              "      <td id=\"T_378e9_row1_col1\" class=\"data row1 col1\" >(505, 4)</td>\n",
              "    </tr>\n",
              "    <tr>\n",
              "      <th id=\"T_378e9_level0_row2\" class=\"row_heading level0 row2\" >2</th>\n",
              "      <td id=\"T_378e9_row2_col0\" class=\"data row2 col0\" >Transformed data shape</td>\n",
              "      <td id=\"T_378e9_row2_col1\" class=\"data row2 col1\" >(505, 4)</td>\n",
              "    </tr>\n",
              "    <tr>\n",
              "      <th id=\"T_378e9_level0_row3\" class=\"row_heading level0 row3\" >3</th>\n",
              "      <td id=\"T_378e9_row3_col0\" class=\"data row3 col0\" >Numeric features</td>\n",
              "      <td id=\"T_378e9_row3_col1\" class=\"data row3 col1\" >4</td>\n",
              "    </tr>\n",
              "    <tr>\n",
              "      <th id=\"T_378e9_level0_row4\" class=\"row_heading level0 row4\" >4</th>\n",
              "      <td id=\"T_378e9_row4_col0\" class=\"data row4 col0\" >Preprocess</td>\n",
              "      <td id=\"T_378e9_row4_col1\" class=\"data row4 col1\" >True</td>\n",
              "    </tr>\n",
              "    <tr>\n",
              "      <th id=\"T_378e9_level0_row5\" class=\"row_heading level0 row5\" >5</th>\n",
              "      <td id=\"T_378e9_row5_col0\" class=\"data row5 col0\" >Imputation type</td>\n",
              "      <td id=\"T_378e9_row5_col1\" class=\"data row5 col1\" >simple</td>\n",
              "    </tr>\n",
              "    <tr>\n",
              "      <th id=\"T_378e9_level0_row6\" class=\"row_heading level0 row6\" >6</th>\n",
              "      <td id=\"T_378e9_row6_col0\" class=\"data row6 col0\" >Numeric imputation</td>\n",
              "      <td id=\"T_378e9_row6_col1\" class=\"data row6 col1\" >mean</td>\n",
              "    </tr>\n",
              "    <tr>\n",
              "      <th id=\"T_378e9_level0_row7\" class=\"row_heading level0 row7\" >7</th>\n",
              "      <td id=\"T_378e9_row7_col0\" class=\"data row7 col0\" >Categorical imputation</td>\n",
              "      <td id=\"T_378e9_row7_col1\" class=\"data row7 col1\" >mode</td>\n",
              "    </tr>\n",
              "    <tr>\n",
              "      <th id=\"T_378e9_level0_row8\" class=\"row_heading level0 row8\" >8</th>\n",
              "      <td id=\"T_378e9_row8_col0\" class=\"data row8 col0\" >Normalize</td>\n",
              "      <td id=\"T_378e9_row8_col1\" class=\"data row8 col1\" >True</td>\n",
              "    </tr>\n",
              "    <tr>\n",
              "      <th id=\"T_378e9_level0_row9\" class=\"row_heading level0 row9\" >9</th>\n",
              "      <td id=\"T_378e9_row9_col0\" class=\"data row9 col0\" >Normalize method</td>\n",
              "      <td id=\"T_378e9_row9_col1\" class=\"data row9 col1\" >zscore</td>\n",
              "    </tr>\n",
              "    <tr>\n",
              "      <th id=\"T_378e9_level0_row10\" class=\"row_heading level0 row10\" >10</th>\n",
              "      <td id=\"T_378e9_row10_col0\" class=\"data row10 col0\" >CPU Jobs</td>\n",
              "      <td id=\"T_378e9_row10_col1\" class=\"data row10 col1\" >-1</td>\n",
              "    </tr>\n",
              "    <tr>\n",
              "      <th id=\"T_378e9_level0_row11\" class=\"row_heading level0 row11\" >11</th>\n",
              "      <td id=\"T_378e9_row11_col0\" class=\"data row11 col0\" >Use GPU</td>\n",
              "      <td id=\"T_378e9_row11_col1\" class=\"data row11 col1\" >False</td>\n",
              "    </tr>\n",
              "    <tr>\n",
              "      <th id=\"T_378e9_level0_row12\" class=\"row_heading level0 row12\" >12</th>\n",
              "      <td id=\"T_378e9_row12_col0\" class=\"data row12 col0\" >Log Experiment</td>\n",
              "      <td id=\"T_378e9_row12_col1\" class=\"data row12 col1\" >False</td>\n",
              "    </tr>\n",
              "    <tr>\n",
              "      <th id=\"T_378e9_level0_row13\" class=\"row_heading level0 row13\" >13</th>\n",
              "      <td id=\"T_378e9_row13_col0\" class=\"data row13 col0\" >Experiment Name</td>\n",
              "      <td id=\"T_378e9_row13_col1\" class=\"data row13 col1\" >cluster-default-name</td>\n",
              "    </tr>\n",
              "    <tr>\n",
              "      <th id=\"T_378e9_level0_row14\" class=\"row_heading level0 row14\" >14</th>\n",
              "      <td id=\"T_378e9_row14_col0\" class=\"data row14 col0\" >USI</td>\n",
              "      <td id=\"T_378e9_row14_col1\" class=\"data row14 col1\" >9e1e</td>\n",
              "    </tr>\n",
              "  </tbody>\n",
              "</table>\n"
            ]
          },
          "metadata": {}
        },
        {
          "output_type": "display_data",
          "data": {
            "text/plain": [
              "<IPython.core.display.HTML object>"
            ],
            "text/html": []
          },
          "metadata": {}
        },
        {
          "output_type": "display_data",
          "data": {
            "text/plain": [
              "<pandas.io.formats.style.Styler at 0x7fcc03af7ac0>"
            ],
            "text/html": [
              "<style type=\"text/css\">\n",
              "</style>\n",
              "<table id=\"T_f0511\" class=\"dataframe\">\n",
              "  <thead>\n",
              "    <tr>\n",
              "      <th class=\"blank level0\" >&nbsp;</th>\n",
              "      <th id=\"T_f0511_level0_col0\" class=\"col_heading level0 col0\" >Silhouette</th>\n",
              "      <th id=\"T_f0511_level0_col1\" class=\"col_heading level0 col1\" >Calinski-Harabasz</th>\n",
              "      <th id=\"T_f0511_level0_col2\" class=\"col_heading level0 col2\" >Davies-Bouldin</th>\n",
              "      <th id=\"T_f0511_level0_col3\" class=\"col_heading level0 col3\" >Homogeneity</th>\n",
              "      <th id=\"T_f0511_level0_col4\" class=\"col_heading level0 col4\" >Rand Index</th>\n",
              "      <th id=\"T_f0511_level0_col5\" class=\"col_heading level0 col5\" >Completeness</th>\n",
              "    </tr>\n",
              "  </thead>\n",
              "  <tbody>\n",
              "    <tr>\n",
              "      <th id=\"T_f0511_level0_row0\" class=\"row_heading level0 row0\" >0</th>\n",
              "      <td id=\"T_f0511_row0_col0\" class=\"data row0 col0\" >0.7581</td>\n",
              "      <td id=\"T_f0511_row0_col1\" class=\"data row0 col1\" >1611.2647</td>\n",
              "      <td id=\"T_f0511_row0_col2\" class=\"data row0 col2\" >0.3743</td>\n",
              "      <td id=\"T_f0511_row0_col3\" class=\"data row0 col3\" >0</td>\n",
              "      <td id=\"T_f0511_row0_col4\" class=\"data row0 col4\" >0</td>\n",
              "      <td id=\"T_f0511_row0_col5\" class=\"data row0 col5\" >0</td>\n",
              "    </tr>\n",
              "  </tbody>\n",
              "</table>\n"
            ]
          },
          "metadata": {}
        },
        {
          "output_type": "display_data",
          "data": {
            "text/plain": [
              "Processing:   0%|          | 0/3 [00:00<?, ?it/s]"
            ],
            "application/vnd.jupyter.widget-view+json": {
              "version_major": 2,
              "version_minor": 0,
              "model_id": "f549465e56b94f50a8c3b4f97b2e8e5c"
            }
          },
          "metadata": {
            "application/vnd.jupyter.widget-view+json": {
              "colab": {
                "custom_widget_manager": {
                  "url": "https://ssl.gstatic.com/colaboratory-static/widgets/colab-cdn-widget-manager/b3e629b1971e1542/manager.min.js"
                }
              }
            }
          }
        },
        {
          "output_type": "display_data",
          "data": {
            "text/plain": [
              "<IPython.core.display.HTML object>"
            ],
            "text/html": []
          },
          "metadata": {}
        }
      ]
    },
    {
      "cell_type": "markdown",
      "metadata": {
        "id": "9jTn3FsZD7xC"
      },
      "source": [
        "---\n",
        "### **6.1.4 For Cluster = 5**\n",
        "---"
      ]
    },
    {
      "cell_type": "code",
      "metadata": {
        "colab": {
          "base_uri": "https://localhost:8080/",
          "height": 583,
          "referenced_widgets": [
            "09c9ff223d964c60ab8a368b23b1ec02",
            "2943682454c84e2ca293aa17ddd49aaa",
            "b464e2f1050c42bbb7ddce9b93f39f35",
            "903924b83c2e438ea4dd17fc5ed85495",
            "037c57eacea44aecb99a28cd09d07dc6",
            "30d49b2550174a7d83ef1259173777e4",
            "a924adccf3f34386a66425ad5b82b600",
            "adcff82741e0457182622a45d498b43d",
            "9b61f634072b41d79a0a19269a1e2ebf",
            "d0a2f2d334e4482383132e1f61fb19b9",
            "f9380e3a86794929871f31c577c8898b"
          ]
        },
        "id": "JWQdC4K8D7xD",
        "outputId": "9b2cafb0-04bc-4ee8-9271-00ad033ec188"
      },
      "source": [
        "setup(data = jewelleryDataSet, normalize = True, normalize_method = 'zscore')\n",
        "x = create_model('kmeans', num_clusters = 5)"
      ],
      "execution_count": 32,
      "outputs": [
        {
          "output_type": "display_data",
          "data": {
            "text/plain": [
              "<pandas.io.formats.style.Styler at 0x7fcc039ef2e0>"
            ],
            "text/html": [
              "<style type=\"text/css\">\n",
              "#T_a40db_row4_col1, #T_a40db_row8_col1 {\n",
              "  background-color: lightgreen;\n",
              "}\n",
              "</style>\n",
              "<table id=\"T_a40db\" class=\"dataframe\">\n",
              "  <thead>\n",
              "    <tr>\n",
              "      <th class=\"blank level0\" >&nbsp;</th>\n",
              "      <th id=\"T_a40db_level0_col0\" class=\"col_heading level0 col0\" >Description</th>\n",
              "      <th id=\"T_a40db_level0_col1\" class=\"col_heading level0 col1\" >Value</th>\n",
              "    </tr>\n",
              "  </thead>\n",
              "  <tbody>\n",
              "    <tr>\n",
              "      <th id=\"T_a40db_level0_row0\" class=\"row_heading level0 row0\" >0</th>\n",
              "      <td id=\"T_a40db_row0_col0\" class=\"data row0 col0\" >Session id</td>\n",
              "      <td id=\"T_a40db_row0_col1\" class=\"data row0 col1\" >5712</td>\n",
              "    </tr>\n",
              "    <tr>\n",
              "      <th id=\"T_a40db_level0_row1\" class=\"row_heading level0 row1\" >1</th>\n",
              "      <td id=\"T_a40db_row1_col0\" class=\"data row1 col0\" >Original data shape</td>\n",
              "      <td id=\"T_a40db_row1_col1\" class=\"data row1 col1\" >(505, 4)</td>\n",
              "    </tr>\n",
              "    <tr>\n",
              "      <th id=\"T_a40db_level0_row2\" class=\"row_heading level0 row2\" >2</th>\n",
              "      <td id=\"T_a40db_row2_col0\" class=\"data row2 col0\" >Transformed data shape</td>\n",
              "      <td id=\"T_a40db_row2_col1\" class=\"data row2 col1\" >(505, 4)</td>\n",
              "    </tr>\n",
              "    <tr>\n",
              "      <th id=\"T_a40db_level0_row3\" class=\"row_heading level0 row3\" >3</th>\n",
              "      <td id=\"T_a40db_row3_col0\" class=\"data row3 col0\" >Numeric features</td>\n",
              "      <td id=\"T_a40db_row3_col1\" class=\"data row3 col1\" >4</td>\n",
              "    </tr>\n",
              "    <tr>\n",
              "      <th id=\"T_a40db_level0_row4\" class=\"row_heading level0 row4\" >4</th>\n",
              "      <td id=\"T_a40db_row4_col0\" class=\"data row4 col0\" >Preprocess</td>\n",
              "      <td id=\"T_a40db_row4_col1\" class=\"data row4 col1\" >True</td>\n",
              "    </tr>\n",
              "    <tr>\n",
              "      <th id=\"T_a40db_level0_row5\" class=\"row_heading level0 row5\" >5</th>\n",
              "      <td id=\"T_a40db_row5_col0\" class=\"data row5 col0\" >Imputation type</td>\n",
              "      <td id=\"T_a40db_row5_col1\" class=\"data row5 col1\" >simple</td>\n",
              "    </tr>\n",
              "    <tr>\n",
              "      <th id=\"T_a40db_level0_row6\" class=\"row_heading level0 row6\" >6</th>\n",
              "      <td id=\"T_a40db_row6_col0\" class=\"data row6 col0\" >Numeric imputation</td>\n",
              "      <td id=\"T_a40db_row6_col1\" class=\"data row6 col1\" >mean</td>\n",
              "    </tr>\n",
              "    <tr>\n",
              "      <th id=\"T_a40db_level0_row7\" class=\"row_heading level0 row7\" >7</th>\n",
              "      <td id=\"T_a40db_row7_col0\" class=\"data row7 col0\" >Categorical imputation</td>\n",
              "      <td id=\"T_a40db_row7_col1\" class=\"data row7 col1\" >mode</td>\n",
              "    </tr>\n",
              "    <tr>\n",
              "      <th id=\"T_a40db_level0_row8\" class=\"row_heading level0 row8\" >8</th>\n",
              "      <td id=\"T_a40db_row8_col0\" class=\"data row8 col0\" >Normalize</td>\n",
              "      <td id=\"T_a40db_row8_col1\" class=\"data row8 col1\" >True</td>\n",
              "    </tr>\n",
              "    <tr>\n",
              "      <th id=\"T_a40db_level0_row9\" class=\"row_heading level0 row9\" >9</th>\n",
              "      <td id=\"T_a40db_row9_col0\" class=\"data row9 col0\" >Normalize method</td>\n",
              "      <td id=\"T_a40db_row9_col1\" class=\"data row9 col1\" >zscore</td>\n",
              "    </tr>\n",
              "    <tr>\n",
              "      <th id=\"T_a40db_level0_row10\" class=\"row_heading level0 row10\" >10</th>\n",
              "      <td id=\"T_a40db_row10_col0\" class=\"data row10 col0\" >CPU Jobs</td>\n",
              "      <td id=\"T_a40db_row10_col1\" class=\"data row10 col1\" >-1</td>\n",
              "    </tr>\n",
              "    <tr>\n",
              "      <th id=\"T_a40db_level0_row11\" class=\"row_heading level0 row11\" >11</th>\n",
              "      <td id=\"T_a40db_row11_col0\" class=\"data row11 col0\" >Use GPU</td>\n",
              "      <td id=\"T_a40db_row11_col1\" class=\"data row11 col1\" >False</td>\n",
              "    </tr>\n",
              "    <tr>\n",
              "      <th id=\"T_a40db_level0_row12\" class=\"row_heading level0 row12\" >12</th>\n",
              "      <td id=\"T_a40db_row12_col0\" class=\"data row12 col0\" >Log Experiment</td>\n",
              "      <td id=\"T_a40db_row12_col1\" class=\"data row12 col1\" >False</td>\n",
              "    </tr>\n",
              "    <tr>\n",
              "      <th id=\"T_a40db_level0_row13\" class=\"row_heading level0 row13\" >13</th>\n",
              "      <td id=\"T_a40db_row13_col0\" class=\"data row13 col0\" >Experiment Name</td>\n",
              "      <td id=\"T_a40db_row13_col1\" class=\"data row13 col1\" >cluster-default-name</td>\n",
              "    </tr>\n",
              "    <tr>\n",
              "      <th id=\"T_a40db_level0_row14\" class=\"row_heading level0 row14\" >14</th>\n",
              "      <td id=\"T_a40db_row14_col0\" class=\"data row14 col0\" >USI</td>\n",
              "      <td id=\"T_a40db_row14_col1\" class=\"data row14 col1\" >966b</td>\n",
              "    </tr>\n",
              "  </tbody>\n",
              "</table>\n"
            ]
          },
          "metadata": {}
        },
        {
          "output_type": "display_data",
          "data": {
            "text/plain": [
              "<IPython.core.display.HTML object>"
            ],
            "text/html": []
          },
          "metadata": {}
        },
        {
          "output_type": "display_data",
          "data": {
            "text/plain": [
              "<pandas.io.formats.style.Styler at 0x7fcc039ef3d0>"
            ],
            "text/html": [
              "<style type=\"text/css\">\n",
              "</style>\n",
              "<table id=\"T_bcf31\" class=\"dataframe\">\n",
              "  <thead>\n",
              "    <tr>\n",
              "      <th class=\"blank level0\" >&nbsp;</th>\n",
              "      <th id=\"T_bcf31_level0_col0\" class=\"col_heading level0 col0\" >Silhouette</th>\n",
              "      <th id=\"T_bcf31_level0_col1\" class=\"col_heading level0 col1\" >Calinski-Harabasz</th>\n",
              "      <th id=\"T_bcf31_level0_col2\" class=\"col_heading level0 col2\" >Davies-Bouldin</th>\n",
              "      <th id=\"T_bcf31_level0_col3\" class=\"col_heading level0 col3\" >Homogeneity</th>\n",
              "      <th id=\"T_bcf31_level0_col4\" class=\"col_heading level0 col4\" >Rand Index</th>\n",
              "      <th id=\"T_bcf31_level0_col5\" class=\"col_heading level0 col5\" >Completeness</th>\n",
              "    </tr>\n",
              "  </thead>\n",
              "  <tbody>\n",
              "    <tr>\n",
              "      <th id=\"T_bcf31_level0_row0\" class=\"row_heading level0 row0\" >0</th>\n",
              "      <td id=\"T_bcf31_row0_col0\" class=\"data row0 col0\" >0.8049</td>\n",
              "      <td id=\"T_bcf31_row0_col1\" class=\"data row0 col1\" >3671.3580</td>\n",
              "      <td id=\"T_bcf31_row0_col2\" class=\"data row0 col2\" >0.2762</td>\n",
              "      <td id=\"T_bcf31_row0_col3\" class=\"data row0 col3\" >0</td>\n",
              "      <td id=\"T_bcf31_row0_col4\" class=\"data row0 col4\" >0</td>\n",
              "      <td id=\"T_bcf31_row0_col5\" class=\"data row0 col5\" >0</td>\n",
              "    </tr>\n",
              "  </tbody>\n",
              "</table>\n"
            ]
          },
          "metadata": {}
        },
        {
          "output_type": "display_data",
          "data": {
            "text/plain": [
              "Processing:   0%|          | 0/3 [00:00<?, ?it/s]"
            ],
            "application/vnd.jupyter.widget-view+json": {
              "version_major": 2,
              "version_minor": 0,
              "model_id": "09c9ff223d964c60ab8a368b23b1ec02"
            }
          },
          "metadata": {
            "application/vnd.jupyter.widget-view+json": {
              "colab": {
                "custom_widget_manager": {
                  "url": "https://ssl.gstatic.com/colaboratory-static/widgets/colab-cdn-widget-manager/b3e629b1971e1542/manager.min.js"
                }
              }
            }
          }
        },
        {
          "output_type": "display_data",
          "data": {
            "text/plain": [
              "<IPython.core.display.HTML object>"
            ],
            "text/html": []
          },
          "metadata": {}
        }
      ]
    },
    {
      "cell_type": "markdown",
      "metadata": {
        "id": "AtxbZfXYUDAn"
      },
      "source": [
        "---\n",
        "### **6.1.5 3D Plot for Cluster = 5**\n",
        "---"
      ]
    },
    {
      "cell_type": "code",
      "metadata": {
        "colab": {
          "base_uri": "https://localhost:8080/",
          "height": 583,
          "referenced_widgets": [
            "cef0db0111614f8098843e4404c42ffd",
            "3d1be55da709499dab9888cf48c2a5f0",
            "83e303c872014f8b96f1c1a6dec7daac",
            "2b685364b7124a919128f034fee57895",
            "49aaba3d15584ea2ac8e10a5065bec72",
            "b1ea2306b1f242cb8b7ff1e8327a2fd6",
            "907e0a6c5375456ca41219637c6106b7",
            "deb468e91a824fc488e58096c8a8da8b",
            "97baed2d63c041d8a60f06bad8ef6eb6",
            "2234146b758f400c82ef878a0ca356b9",
            "2bc48f6f122340ef9ffb9a4079a6b049"
          ]
        },
        "id": "3fuD_nl_UDRo",
        "outputId": "b4da1414-7378-461b-a6a9-468572b0e671"
      },
      "source": [
        "setup(data = jewelleryDataSet, normalize = True, normalize_method = 'zscore')\n",
        "x = create_model('kmeans', num_clusters = 5)\n",
        "plot_model(x, plot = 'tsne')"
      ],
      "execution_count": null,
      "outputs": [
        {
          "output_type": "display_data",
          "data": {
            "text/plain": [
              "<pandas.io.formats.style.Styler at 0x7fcc039ef2e0>"
            ],
            "text/html": [
              "<style type=\"text/css\">\n",
              "#T_47126_row4_col1, #T_47126_row8_col1 {\n",
              "  background-color: lightgreen;\n",
              "}\n",
              "</style>\n",
              "<table id=\"T_47126\" class=\"dataframe\">\n",
              "  <thead>\n",
              "    <tr>\n",
              "      <th class=\"blank level0\" >&nbsp;</th>\n",
              "      <th id=\"T_47126_level0_col0\" class=\"col_heading level0 col0\" >Description</th>\n",
              "      <th id=\"T_47126_level0_col1\" class=\"col_heading level0 col1\" >Value</th>\n",
              "    </tr>\n",
              "  </thead>\n",
              "  <tbody>\n",
              "    <tr>\n",
              "      <th id=\"T_47126_level0_row0\" class=\"row_heading level0 row0\" >0</th>\n",
              "      <td id=\"T_47126_row0_col0\" class=\"data row0 col0\" >Session id</td>\n",
              "      <td id=\"T_47126_row0_col1\" class=\"data row0 col1\" >7657</td>\n",
              "    </tr>\n",
              "    <tr>\n",
              "      <th id=\"T_47126_level0_row1\" class=\"row_heading level0 row1\" >1</th>\n",
              "      <td id=\"T_47126_row1_col0\" class=\"data row1 col0\" >Original data shape</td>\n",
              "      <td id=\"T_47126_row1_col1\" class=\"data row1 col1\" >(505, 4)</td>\n",
              "    </tr>\n",
              "    <tr>\n",
              "      <th id=\"T_47126_level0_row2\" class=\"row_heading level0 row2\" >2</th>\n",
              "      <td id=\"T_47126_row2_col0\" class=\"data row2 col0\" >Transformed data shape</td>\n",
              "      <td id=\"T_47126_row2_col1\" class=\"data row2 col1\" >(505, 4)</td>\n",
              "    </tr>\n",
              "    <tr>\n",
              "      <th id=\"T_47126_level0_row3\" class=\"row_heading level0 row3\" >3</th>\n",
              "      <td id=\"T_47126_row3_col0\" class=\"data row3 col0\" >Numeric features</td>\n",
              "      <td id=\"T_47126_row3_col1\" class=\"data row3 col1\" >4</td>\n",
              "    </tr>\n",
              "    <tr>\n",
              "      <th id=\"T_47126_level0_row4\" class=\"row_heading level0 row4\" >4</th>\n",
              "      <td id=\"T_47126_row4_col0\" class=\"data row4 col0\" >Preprocess</td>\n",
              "      <td id=\"T_47126_row4_col1\" class=\"data row4 col1\" >True</td>\n",
              "    </tr>\n",
              "    <tr>\n",
              "      <th id=\"T_47126_level0_row5\" class=\"row_heading level0 row5\" >5</th>\n",
              "      <td id=\"T_47126_row5_col0\" class=\"data row5 col0\" >Imputation type</td>\n",
              "      <td id=\"T_47126_row5_col1\" class=\"data row5 col1\" >simple</td>\n",
              "    </tr>\n",
              "    <tr>\n",
              "      <th id=\"T_47126_level0_row6\" class=\"row_heading level0 row6\" >6</th>\n",
              "      <td id=\"T_47126_row6_col0\" class=\"data row6 col0\" >Numeric imputation</td>\n",
              "      <td id=\"T_47126_row6_col1\" class=\"data row6 col1\" >mean</td>\n",
              "    </tr>\n",
              "    <tr>\n",
              "      <th id=\"T_47126_level0_row7\" class=\"row_heading level0 row7\" >7</th>\n",
              "      <td id=\"T_47126_row7_col0\" class=\"data row7 col0\" >Categorical imputation</td>\n",
              "      <td id=\"T_47126_row7_col1\" class=\"data row7 col1\" >mode</td>\n",
              "    </tr>\n",
              "    <tr>\n",
              "      <th id=\"T_47126_level0_row8\" class=\"row_heading level0 row8\" >8</th>\n",
              "      <td id=\"T_47126_row8_col0\" class=\"data row8 col0\" >Normalize</td>\n",
              "      <td id=\"T_47126_row8_col1\" class=\"data row8 col1\" >True</td>\n",
              "    </tr>\n",
              "    <tr>\n",
              "      <th id=\"T_47126_level0_row9\" class=\"row_heading level0 row9\" >9</th>\n",
              "      <td id=\"T_47126_row9_col0\" class=\"data row9 col0\" >Normalize method</td>\n",
              "      <td id=\"T_47126_row9_col1\" class=\"data row9 col1\" >zscore</td>\n",
              "    </tr>\n",
              "    <tr>\n",
              "      <th id=\"T_47126_level0_row10\" class=\"row_heading level0 row10\" >10</th>\n",
              "      <td id=\"T_47126_row10_col0\" class=\"data row10 col0\" >CPU Jobs</td>\n",
              "      <td id=\"T_47126_row10_col1\" class=\"data row10 col1\" >-1</td>\n",
              "    </tr>\n",
              "    <tr>\n",
              "      <th id=\"T_47126_level0_row11\" class=\"row_heading level0 row11\" >11</th>\n",
              "      <td id=\"T_47126_row11_col0\" class=\"data row11 col0\" >Use GPU</td>\n",
              "      <td id=\"T_47126_row11_col1\" class=\"data row11 col1\" >False</td>\n",
              "    </tr>\n",
              "    <tr>\n",
              "      <th id=\"T_47126_level0_row12\" class=\"row_heading level0 row12\" >12</th>\n",
              "      <td id=\"T_47126_row12_col0\" class=\"data row12 col0\" >Log Experiment</td>\n",
              "      <td id=\"T_47126_row12_col1\" class=\"data row12 col1\" >False</td>\n",
              "    </tr>\n",
              "    <tr>\n",
              "      <th id=\"T_47126_level0_row13\" class=\"row_heading level0 row13\" >13</th>\n",
              "      <td id=\"T_47126_row13_col0\" class=\"data row13 col0\" >Experiment Name</td>\n",
              "      <td id=\"T_47126_row13_col1\" class=\"data row13 col1\" >cluster-default-name</td>\n",
              "    </tr>\n",
              "    <tr>\n",
              "      <th id=\"T_47126_level0_row14\" class=\"row_heading level0 row14\" >14</th>\n",
              "      <td id=\"T_47126_row14_col0\" class=\"data row14 col0\" >USI</td>\n",
              "      <td id=\"T_47126_row14_col1\" class=\"data row14 col1\" >21f0</td>\n",
              "    </tr>\n",
              "  </tbody>\n",
              "</table>\n"
            ]
          },
          "metadata": {}
        },
        {
          "output_type": "display_data",
          "data": {
            "text/plain": [
              "<IPython.core.display.HTML object>"
            ],
            "text/html": []
          },
          "metadata": {}
        },
        {
          "output_type": "display_data",
          "data": {
            "text/plain": [
              "<pandas.io.formats.style.Styler at 0x7fcc03a67e50>"
            ],
            "text/html": [
              "<style type=\"text/css\">\n",
              "</style>\n",
              "<table id=\"T_f6500\" class=\"dataframe\">\n",
              "  <thead>\n",
              "    <tr>\n",
              "      <th class=\"blank level0\" >&nbsp;</th>\n",
              "      <th id=\"T_f6500_level0_col0\" class=\"col_heading level0 col0\" >Silhouette</th>\n",
              "      <th id=\"T_f6500_level0_col1\" class=\"col_heading level0 col1\" >Calinski-Harabasz</th>\n",
              "      <th id=\"T_f6500_level0_col2\" class=\"col_heading level0 col2\" >Davies-Bouldin</th>\n",
              "      <th id=\"T_f6500_level0_col3\" class=\"col_heading level0 col3\" >Homogeneity</th>\n",
              "      <th id=\"T_f6500_level0_col4\" class=\"col_heading level0 col4\" >Rand Index</th>\n",
              "      <th id=\"T_f6500_level0_col5\" class=\"col_heading level0 col5\" >Completeness</th>\n",
              "    </tr>\n",
              "  </thead>\n",
              "  <tbody>\n",
              "    <tr>\n",
              "      <th id=\"T_f6500_level0_row0\" class=\"row_heading level0 row0\" >0</th>\n",
              "      <td id=\"T_f6500_row0_col0\" class=\"data row0 col0\" >0.8049</td>\n",
              "      <td id=\"T_f6500_row0_col1\" class=\"data row0 col1\" >3671.3580</td>\n",
              "      <td id=\"T_f6500_row0_col2\" class=\"data row0 col2\" >0.2762</td>\n",
              "      <td id=\"T_f6500_row0_col3\" class=\"data row0 col3\" >0</td>\n",
              "      <td id=\"T_f6500_row0_col4\" class=\"data row0 col4\" >0</td>\n",
              "      <td id=\"T_f6500_row0_col5\" class=\"data row0 col5\" >0</td>\n",
              "    </tr>\n",
              "  </tbody>\n",
              "</table>\n"
            ]
          },
          "metadata": {}
        },
        {
          "output_type": "display_data",
          "data": {
            "text/plain": [
              "Processing:   0%|          | 0/3 [00:00<?, ?it/s]"
            ],
            "application/vnd.jupyter.widget-view+json": {
              "version_major": 2,
              "version_minor": 0,
              "model_id": "cef0db0111614f8098843e4404c42ffd"
            }
          },
          "metadata": {
            "application/vnd.jupyter.widget-view+json": {
              "colab": {
                "custom_widget_manager": {
                  "url": "https://ssl.gstatic.com/colaboratory-static/widgets/colab-cdn-widget-manager/b3e629b1971e1542/manager.min.js"
                }
              }
            }
          }
        },
        {
          "output_type": "display_data",
          "data": {
            "text/plain": [
              "<IPython.core.display.HTML object>"
            ],
            "text/html": []
          },
          "metadata": {}
        },
        {
          "output_type": "display_data",
          "data": {
            "text/plain": [
              "<IPython.core.display.HTML object>"
            ],
            "text/html": []
          },
          "metadata": {}
        }
      ]
    },
    {
      "cell_type": "markdown",
      "metadata": {
        "id": "iBYAlAA-0DYh"
      },
      "source": [
        "---\n",
        "### **6.2 Model Performance using \"Transformation\"**\n",
        "---\n",
        "\n",
        "### **6.2.1 Elbow Plot**\n"
      ]
    },
    {
      "cell_type": "code",
      "metadata": {
        "id": "imiaQks_0DYn"
      },
      "source": [
        "setup(data = jewelleryDataSet, transformation = True, transformation_method = 'yeo-johnson')\n",
        "x = create_model('kmeans')\n",
        "plot_model(x, plot = 'elbow')"
      ],
      "execution_count": null,
      "outputs": []
    },
    {
      "cell_type": "markdown",
      "metadata": {
        "id": "YwAEcPe81V-H"
      },
      "source": [
        "---\n",
        "### **6.2.2 For Cluster = 3**\n",
        "---"
      ]
    },
    {
      "cell_type": "code",
      "metadata": {
        "id": "YAjWTeL60DYi"
      },
      "source": [
        "setup(data = jewelleryDataSet, transformation = True, transformation_method = 'yeo-johnson')\n",
        "x = create_model('kmeans', num_clusters = 3)"
      ],
      "execution_count": null,
      "outputs": []
    },
    {
      "cell_type": "markdown",
      "metadata": {
        "id": "4S1De4780DYk"
      },
      "source": [
        "---\n",
        "### **6.2.3 For Cluster = 4**\n",
        "---"
      ]
    },
    {
      "cell_type": "code",
      "metadata": {
        "id": "vdKGFA270DYk"
      },
      "source": [
        "setup(data = jewelleryDataSet, transformation = True, transformation_method = 'yeo-johnson')\n",
        "x = create_model('kmeans', num_clusters = 4)"
      ],
      "execution_count": null,
      "outputs": []
    },
    {
      "cell_type": "markdown",
      "metadata": {
        "id": "sXMRGzvh0DYk"
      },
      "source": [
        "---\n",
        "### **6.2.4 For Cluster = 5**\n",
        "---"
      ]
    },
    {
      "cell_type": "code",
      "metadata": {
        "id": "7srD2RG80DYl"
      },
      "source": [
        "setup(data = jewelleryDataSet, transformation = True, transformation_method = 'yeo-johnson')\n",
        "x = create_model('kmeans', num_clusters = 5)"
      ],
      "execution_count": null,
      "outputs": []
    },
    {
      "cell_type": "markdown",
      "metadata": {
        "id": "YWdGYNJCC8_h"
      },
      "source": [
        "---\n",
        "### **6.3 Model Performance using \"PCA\"**\n",
        "---\n",
        "### **6.3.1 Elbow Plot**"
      ]
    },
    {
      "cell_type": "code",
      "metadata": {
        "id": "y8kaGr8lC8_n"
      },
      "source": [
        "setup(data = jewelleryDataSet, pca = True, pca_method = 'linear')\n",
        "x = create_model('kmeans')\n",
        "plot_model(x, plot = 'elbow')"
      ],
      "execution_count": null,
      "outputs": []
    },
    {
      "cell_type": "markdown",
      "metadata": {
        "id": "mtB9y3liC8_p"
      },
      "source": [
        "---\n",
        "### **6.3.2 For Cluster = 3**\n",
        "---"
      ]
    },
    {
      "cell_type": "code",
      "metadata": {
        "id": "cxX_g5pRC8_p"
      },
      "source": [
        "setup(data = jewelleryDataSet, pca = True, pca_method = 'linear')\n",
        "x = create_model('kmeans', num_clusters = 3)"
      ],
      "execution_count": null,
      "outputs": []
    },
    {
      "cell_type": "markdown",
      "metadata": {
        "id": "ZDSPHk_oC8_r"
      },
      "source": [
        "---\n",
        "### **6.3.3 For Cluster = 4**\n",
        "---"
      ]
    },
    {
      "cell_type": "code",
      "metadata": {
        "id": "t_Kjm5F5C8_r"
      },
      "source": [
        "setup(data = jewelleryDataSet, pca = True, pca_method = 'linear')\n",
        "x = create_model('kmeans', num_clusters = 4)"
      ],
      "execution_count": null,
      "outputs": []
    },
    {
      "cell_type": "markdown",
      "metadata": {
        "id": "9gNw9wHqC8_t"
      },
      "source": [
        "---\n",
        "### **6.3.4 For Cluster = 5**\n",
        "---"
      ]
    },
    {
      "cell_type": "code",
      "metadata": {
        "id": "F0-TALoxC8_u"
      },
      "source": [
        "setup(data = jewelleryDataSet, pca = True, pca_method = 'linear')\n",
        "x = create_model('kmeans', num_clusters = 5)"
      ],
      "execution_count": null,
      "outputs": []
    },
    {
      "cell_type": "markdown",
      "metadata": {
        "id": "QMtVqTQ6b3JB"
      },
      "source": [
        "---\n",
        "### **6.4 Model Performance using \"Transformation\" + \"Normalization\"**\n",
        "---\n",
        "### **6.4.1 Elbow Plot**"
      ]
    },
    {
      "cell_type": "code",
      "metadata": {
        "id": "UUeONHwyb3JB"
      },
      "source": [
        "setup(data = jewelleryDataSet, transformation = True, normalize = True,\n",
        "      normalize_method = 'zscore', transformation_method = 'yeo-johnson')\n",
        "x = create_model('kmeans')\n",
        "plot_model(x, plot = 'elbow')"
      ],
      "execution_count": null,
      "outputs": []
    },
    {
      "cell_type": "markdown",
      "metadata": {
        "id": "fDoyKJGzqC3s"
      },
      "source": [
        "---\n",
        "### **6.4.2 For Cluster = 3**\n",
        "---"
      ]
    },
    {
      "cell_type": "code",
      "metadata": {
        "id": "f8inz47RqC3u"
      },
      "source": [
        "setup(data = jewelleryDataSet, transformation = True, normalize = True,\n",
        "      normalize_method = 'zscore', transformation_method = 'yeo-johnson')\n",
        "x = create_model('kmeans', num_clusters = 3)"
      ],
      "execution_count": null,
      "outputs": []
    },
    {
      "cell_type": "markdown",
      "metadata": {
        "id": "uDoASHc-qC3x"
      },
      "source": [
        "---\n",
        "### **6.4.3 For Cluster = 4**\n",
        "---"
      ]
    },
    {
      "cell_type": "code",
      "metadata": {
        "id": "nb3-WWmLqC3z"
      },
      "source": [
        "setup(data = jewelleryDataSet, transformation = True, normalize = True,\n",
        "      normalize_method = 'zscore', transformation_method = 'yeo-johnson')\n",
        "x = create_model('kmeans', num_clusters = 4)"
      ],
      "execution_count": null,
      "outputs": []
    },
    {
      "cell_type": "markdown",
      "metadata": {
        "id": "xc70J9FBqC30"
      },
      "source": [
        "---\n",
        "### **6.4.4 For Cluster = 5**\n",
        "---"
      ]
    },
    {
      "cell_type": "code",
      "metadata": {
        "id": "9XeS1x64qC31"
      },
      "source": [
        "setup(data = jewelleryDataSet, transformation = True, normalize = True,\n",
        "      normalize_method = 'zscore', transformation_method = 'yeo-johnson')\n",
        "x = create_model('kmeans', num_clusters = 5)"
      ],
      "execution_count": null,
      "outputs": []
    },
    {
      "cell_type": "markdown",
      "metadata": {
        "id": "IT6y0pnIEVXO"
      },
      "source": [
        "---\n",
        "### **6.5 Model Performance using \"Transformation\" + \"Normalization\" + \"PCA\"**\n",
        "---\n",
        "### **6.5.1 Elbow Plot**"
      ]
    },
    {
      "cell_type": "code",
      "metadata": {
        "id": "CfB1ht6pEVXP"
      },
      "source": [
        "setup(data = jewelleryDataSet, transformation = True, normalize = True, pca = True,\n",
        "      normalize_method = 'zscore', transformation_method = 'yeo-johnson', pca_method = 'linear')\n",
        "x = create_model('kmeans')\n",
        "plot_model(x, plot = 'elbow')"
      ],
      "execution_count": null,
      "outputs": []
    },
    {
      "cell_type": "markdown",
      "metadata": {
        "id": "bI2xYlBIEVXQ"
      },
      "source": [
        "---\n",
        "### **6.5.2 For Cluster = 3**\n",
        "---"
      ]
    },
    {
      "cell_type": "code",
      "metadata": {
        "id": "gVLZcptOEVXS"
      },
      "source": [
        "setup(data = jewelleryDataSet, transformation = True, normalize = True, pca = True,\n",
        "      normalize_method = 'zscore', transformation_method = 'yeo-johnson', pca_method = 'linear')\n",
        "x = create_model('kmeans', num_clusters = 3)"
      ],
      "execution_count": null,
      "outputs": []
    },
    {
      "cell_type": "markdown",
      "metadata": {
        "id": "O3Yo5E-AEVXT"
      },
      "source": [
        "---\n",
        "### **6.5.3 For Cluster = 4**\n",
        "---"
      ]
    },
    {
      "cell_type": "code",
      "metadata": {
        "id": "Suc_XuG0EVXT"
      },
      "source": [
        "setup(data = jewelleryDataSet, transformation = True, normalize = True, pca = True,\n",
        "      normalize_method = 'zscore', transformation_method = 'yeo-johnson', pca_method = 'linear')\n",
        "x = create_model('kmeans', num_clusters = 4)"
      ],
      "execution_count": null,
      "outputs": []
    },
    {
      "cell_type": "markdown",
      "metadata": {
        "id": "ZaT2yffFEVXU"
      },
      "source": [
        "---\n",
        "### **6.5.4 For Cluster = 5**\n",
        "---"
      ]
    },
    {
      "cell_type": "code",
      "metadata": {
        "id": "7FP7i0sxEVXU"
      },
      "source": [
        "setup(data = jewelleryDataSet, transformation = True, normalize = True, pca = True,\n",
        "      normalize_method = 'zscore', transformation_method = 'yeo-johnson', pca_method = 'linear')\n",
        "x = create_model('kmeans', num_clusters = 5)"
      ],
      "execution_count": null,
      "outputs": []
    },
    {
      "cell_type": "markdown",
      "metadata": {
        "id": "NPZElw5tb3JD"
      },
      "source": [
        "---\n",
        "# **7. Other Clustering Techniques**\n",
        "---\n",
        "```\n",
        "K-Means clustering                 'kmeans'\n",
        "Affinity Propagation               'ap'\n",
        "Mean shift clustering              'meanshift'\n",
        "Spectral Clustering                'sc'\n",
        "Agglomerative Clustering           'hclust'\n",
        "Density-Based Spatial Clustering   'dbscan'\n",
        "OPTICS Clustering                  'optics'\n",
        "Birch Clustering                   'birch'\n",
        "K-Modes clustering                 'kmodes'\n",
        "```"
      ]
    },
    {
      "cell_type": "markdown",
      "metadata": {
        "id": "rAOoe4H2b3JE"
      },
      "source": [
        "---\n",
        "### **7.1 Buildign Agglomerative (Hierarchical) clustering model**\n",
        "---"
      ]
    },
    {
      "cell_type": "code",
      "metadata": {
        "id": "NkBeuKlEb3JF"
      },
      "source": [
        "from pycaret.datasets import get_data\n",
        "from pycaret.clustering import *\n",
        "\n",
        "jewelleryDataSet = get_data('jewellery')\n",
        "setup(data = jewelleryDataSet)\n",
        "hierarchicalModel = create_model('hclust', num_clusters=3)"
      ],
      "execution_count": null,
      "outputs": []
    },
    {
      "cell_type": "markdown",
      "metadata": {
        "id": "PnyhyJ3WXIQH"
      },
      "source": [
        "---\n",
        "### **7.1.1 Assign Model - \"Assign the labels\" to the dataset**\n",
        "---\n",
        "\n"
      ]
    },
    {
      "cell_type": "code",
      "metadata": {
        "id": "k1jLCA6bXRRi"
      },
      "source": [
        "hierarchicalModelPrediction = assign_model(hierarchicalModel)\n",
        "hierarchicalModelPrediction"
      ],
      "execution_count": null,
      "outputs": []
    },
    {
      "cell_type": "markdown",
      "metadata": {
        "id": "qBufXyJ6b3JF"
      },
      "source": [
        "---\n",
        "### **7.1.2 Evaluate Agglomerative (Hierarchical) Clustering**\n",
        "---"
      ]
    },
    {
      "cell_type": "code",
      "metadata": {
        "scrolled": true,
        "id": "yxxm2PyKb3JG"
      },
      "source": [
        "evaluate_model(hierarchicalModel)"
      ],
      "execution_count": null,
      "outputs": []
    },
    {
      "cell_type": "markdown",
      "metadata": {
        "id": "a68Lnb0Qb3JH"
      },
      "source": [
        "---\n",
        "### **7.2 Density-Based Spatial Clustering**\n",
        "---"
      ]
    },
    {
      "cell_type": "code",
      "metadata": {
        "id": "m9jr3UZOb3JI"
      },
      "source": [
        "from pycaret.datasets import get_data\n",
        "from pycaret.clustering import *\n",
        "\n",
        "jewelleryDataSet = get_data('jewellery')\n",
        "setup(data = jewelleryDataSet)\n",
        "dbscanModel = create_model('dbscan')"
      ],
      "execution_count": null,
      "outputs": []
    },
    {
      "cell_type": "markdown",
      "metadata": {
        "id": "nhjOYqB5b3JJ"
      },
      "source": [
        "---\n",
        "### **7.2.1 Assign Model - \"Assign the labels\" to the dataset**\n",
        "---\n",
        "\n"
      ]
    },
    {
      "cell_type": "code",
      "metadata": {
        "id": "yBsY2zOeb3JK"
      },
      "source": [
        "dbscanModelPrediction = assign_model(dbscanModel)\n",
        "dbscanModelPrediction\n",
        "\n",
        "# Noisy samples are given the label -1 i.e. 'Cluster -1'"
      ],
      "execution_count": null,
      "outputs": []
    },
    {
      "cell_type": "markdown",
      "metadata": {
        "id": "8Me9nIXgb3JM"
      },
      "source": [
        "### **Key Points**"
      ]
    },
    {
      "cell_type": "markdown",
      "metadata": {
        "id": "hz0ZjGodb3JN"
      },
      "source": [
        "- num_clusters not required for some of the clustering Alorithms (Affinity Propagation ('ap'), Mean shift\n",
        "  clustering ('meanshift'), Density-Based Spatial Clustering ('dbscan') and OPTICS Clustering ('optics')).\n",
        "- num_clusters param for these models are automatically determined.\n",
        "\n",
        "- When fit doesn't converge in Affinity Propagation ('ap') model, all datapoints are labelled as -1.\n",
        "\n",
        "- Noisy samples are given the label -1, when using Density-Based Spatial  ('dbscan') or OPTICS Clustering ('optics').\n",
        "\n",
        "- OPTICS ('optics') clustering may take longer training times on large datasets.\n"
      ]
    },
    {
      "cell_type": "markdown",
      "metadata": {
        "id": "hICikRsyim2Z"
      },
      "source": [
        "---\n",
        "# **8. Deploy the model on AWS**\n",
        "---\n",
        "**<a href=\"https://pycaret.readthedocs.io/en/latest/api/clustering.html#pycaret.clustering.deploy_model\">Click Here</a>**"
      ]
    }
  ]
}