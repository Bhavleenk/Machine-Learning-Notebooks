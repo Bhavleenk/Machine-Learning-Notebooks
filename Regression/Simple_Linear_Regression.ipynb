{
  "nbformat": 4,
  "nbformat_minor": 0,
  "metadata": {
    "colab": {
      "provenance": [],
      "authorship_tag": "ABX9TyNffJfMdrXTk953Q5WGUn3O",
      "include_colab_link": true
    },
    "kernelspec": {
      "name": "python3",
      "display_name": "Python 3"
    },
    "language_info": {
      "name": "python"
    }
  },
  "cells": [
    {
      "cell_type": "markdown",
      "metadata": {
        "id": "view-in-github",
        "colab_type": "text"
      },
      "source": [
        "<a href=\"https://colab.research.google.com/github/Bhavleenk/Machine-Learning-Notebooks/blob/main/Regression/Simple_Linear_Regression.ipynb\" target=\"_parent\"><img src=\"https://colab.research.google.com/assets/colab-badge.svg\" alt=\"Open In Colab\"/></a>"
      ]
    },
    {
      "cell_type": "markdown",
      "source": [
        "# **Simple Linear Regression**"
      ],
      "metadata": {
        "id": "HGvZfHgTh-l0"
      }
    },
    {
      "cell_type": "markdown",
      "source": [
        "![image.png](data:image/png;base64,iVBORw0KGgoAAAANSUhEUgAAAUIAAADFCAYAAAAhb/tIAAAAAXNSR0IArs4c6QAAAARnQU1BAACxjwv8YQUAAAAJcEhZcwAAEnQAABJ0Ad5mH3gAABs8SURBVHhe7Z1dsBTVtcc79znh5sEXDmLyYLyFR1MVICRgNEQtxMgFLBNR5COpaBIM8fqVa/yskiiam6gpRUEx5RUwEpNbAmKVoVCMKSExB1KVAOaiDykJ5CE8KNz3c89vTy9YZ9M903POnOmB/f9V7dPTe3bv3r17+j9rrz1nr48NDpEJIUTC/Eu+FUKIZJEQCiGSR0IohEgeCaEQInkkhEKI5JEQCiGSR0IohEgeCaEQInkkhEKI5JEQCiGSR0IohEgeCaEQInkkhEKI5JEQCiGSR0IohEgeCaEQInkkhEKI5JEQCiGSR0IohEgeCaEQInkkhEKI5Ok5IXz0sZ9lE8/6dDb78q9mR44cyXO7x1tv/S6cn7T22Z/nub2H9RNpz54/5blCiJHQM0KI6N3w7e9k7/zhnWzHG9uzWbNmZV+eeXHXH/KLLrowW736yfB6yuTJYduL3HrLzdkN138rGzduXDZ58ufy3HLox2uuWRiEvgy+fExcEVrY+uqrx/NIMVXqFaLX6RkhvPOuu7N58+ZmGzf+Ijv77LPDg75+3fPZ6jVrsvfffz8v1T2qCsxoQXAQkpEyY8b0/FUxfMHcdvsPsnnzr8ze3rkzzy1m1ROPh+3s2ZeF/oc5V1yR9fefG/pj86aXQx60U68QvU7PCOHaZ54OD50HISIfYewme3bvaSkwvcDOXbuyadOm5XvFhC+YuXOzFzasz3PKoZ8vmDEj32uAxXfw4N/Dl5L/YminXiF6nZ4Qwo0bf5n1n/fZk/yCWEoMx0ZjMY2E/fvfDQLDsHDGBRcOGyp6GA4ynLdhIxZSN/2a+/btD8N32kb/kWizhy8ShvtVmT9/Xvbaa78J14ElvnjJ0mz1U0+eZB23W68QvUztQojFceDAgfCw8WBv3/56/s7QUG1VY6h2yaWXhG23YKh37NixbMeON7Odbw+J3fXfyh4bEhs/REdwrlu0OJs0aVJ28IO/Bb8mAvLQwz/OS4wtiDDD1a1bt2Z948dn+/b+OZs48cxs5cqH8xIj49K8r1/etDlb/v2bsnvvuVuCJ057ahdCLI377rs3PGw82Iii8eGHH4a8K4eslGaYRVYltcKc/ocOHcoe+elPwuuZM2eG7eHD/whbrKU77rhzmC+NYeX5552XHfr7obA/1gzs3h224/v6hizmBeE1E0wHDx4Mr0fKGWeckV199dezFSt+lF111VXH6xbidKZnfISAkDAsNQYGdmcLhh5KHs5mYJFVTa0wgbnzh3eEbRFYrUePHg2TO+2AyMbCjKWJBRrnt3IHMLuOBYi12kkQ+X379oXXvTxrLkQn6SkhnPaFadlf9u7N97Ls9TfeyBYuvDbf6w7vvvtusPS8+Jo49vWND9s/DgyEbTy580ELawyrNxbmW4YsSiYo4nxmz5tBP2GxeRriODHfGxmLFi8J9VLPC79o3gYhThd6SgjPOeczwdICrCf8b1VmjGNrqllqxc6du8J5Pdu2bQs/IbG2MPyNZ1fxHzIs7YY/E78q/fRv55yT5zQsOSzL2ZfNynPah8me/v7+YGVSDz5PIVKgp4Swb3xf2CKC6zdsyJYsXhT2WxFbU81SMxAzBGbqlCl5TqMtTOJ8Y+nSPKeY1WueruTP7ATmR/WTGOvWbwjbkVrQ/BcNQ2JzCcyZMyf0BTP6Qpzu9JQQ2k80Nm/ZEvxvrXyDnQafJLz55pthiwguu/F7YajsJw0YwmN9YZkBIvLSS78KM6zdaLMNze2nMpwfXyOTTmUW9NFjDUvbhvkexI7JkZUPPni8/XYvNm3aHLZlNKtXiFOGwR7jstmXDy5YcG2+111uve32wWfWPjt4/Q3fHjxz4qcGz+0/f/CRRx/L3x3O/fevCGVItPmVrVvzd9qD+tu9Xs734osbw5bzT5/xpdLz004r59tLPlCP5fPaoB8sn9cxreoV4lTiY/zJNbEn4EfVG9av67o1KIRIl54SQoZnk6dMPmk2VgghxpLahZB/UVu8aFH2v/kEQKd/FyeEEK2ofbKEGVkmJD7x8Y9LBIUQtdBzPkIhhOg2PfXzGSGEqAMJoRAieSSEQojkkRAKIZJHQiiESB4JoRAieSSEQojkkRAKIZJHQiiESB4JoRAieSSEQojkkRAKIZJHQiiESB4JoRAieSSEQojkkRAKIZJHQiiESB4JoRAieSSEQojkkRAKIZJHQiiESB4JoRAieSSEQojkkRAKIZJHQiiESB4JoRAieSSENfPoYz/LJp716Wz25V/Njhw5kucKIbqJhLAmEL0bvv2d7J0/vJPteGN7NmvWrOzLMy/O9uz5U15ibEB0Ed9TkRkXXJjddvsP8r3Tj7fe+l24Pxs3/jLPac37779f6Rj7whXFSAhr4s677s7mzZs79AH+RXb22Wdnt95yc7Z+3fPZ6jVrwodbCNE9JIQ1sfaZp7M5V1yR7zWYPPlzIR9hFN2lFyymiy66MDv4wd+ya65ZkOeIbiEhrAGGMf3nffYkv+A11ywMDyNbIUT3kBB2GXyABw4cyFY/9WS2b9/+bPv21/N3smzVqsfD9pJLLwnbMhDSKn4hK2cJH1QRZg1Ziv1w7JPMh2WpqD4Tc0txG/HzcT7qszLkxcTnKrvW+BrjLxHORf3N2s77jw2VA3u/6HxlViPX4q+hapt8OdwhZf4+K+PLFuH7vuqXqa+XlKxbZlDUxrn95w/ef/+KfG9w8L333gt5//znP/OcYl58cePgmRM/FbZl/Pa3b51Uhn3SI48+lucMDt562+2D02d8Kd9rQBnyDV6T58tRB3m02eB9f1xRGygTtyE+H3XGZew4X87a4KHcggXX5nsnyvi22/V4iuqKsXbF/U7d1lbe8+cHjvHXUtQmKKqffd/HtN0fZ8cUHdesr4rOZWX8+VJBFmGNnH/eedn+/e/me1k2MLA7W3D117MzzjgjzykGH1IrX9LmLVuyiRMnDivDMR6+/V966VfZww+tzHMa3HLLzSHfQ1073z5hRTG5A1te2Rq2WDEHDx7MHvnpT8I+4PO6YMaMbNOmzXlOg6uHrtGOB/Z37fp9vneiTl+Gc9MGD1bcT/7rx/leg5u+vzx7e+fOkywb3/Z5c+eGbZFF2wx8t/H1UAfXPfff54R9+psJMA/HHDp0KN87wbrnn8tflcM98z7jz0+dGs4XQz/4e110Dz2r1zwd2uWPie9pSkgIa2TaF6Zlf9m7N9/LstffeCNbuPDafG90ICzTp38x3yvm8OF/hO11ixYPGx7ZMLEVCJM94If/0ajL10NClFoxYcKEYQ83PyniIW2GCd0P/vOOYedjvxV9fePD9vDhw2HbDvPnzxt2TQO7d4e2erGKXQ2UP/T3k4WwyqQY1+nrsutrNYTtG9+4xrJytId2+bpJqSIhrJFzzvlMdvTo0fAay2LSpEmVHg7zLcW+pJHywob1wfKI00goqie2kDoJllDROav040gwC8r6/te//p8gjgb+Qr5I+G2otaWVqJfBZ+IrF18arDurK7aARwPtsnp98pZ4KkgIa6RvfF/Y8oFfv2FDtmTxorDfCc7CWouskNg6GI1lBFhxWHPQygJphwlnTsg+KBj+eavRhM4s0dFi7a8CQ/k/DgyEa6VNfnhJn/N+J4TY7stIhMn6pawdZX2cKhLCGuF3g4A/jx9Xt/INGjx4fHP7BzDGhnDeasS68PCQYBUw3PICxjFYNh4eeD8zau973xgsWfrNsDUo167lig+P8zHENPy5DQQH68v7+nhddca0CF9XGbQP/xu+NNrgQWC8b45rqOIeKKKvr/FFaf3HPSob+pPvy9Evcds81sfxfaafO/FldqohIayZ/v5zgxUR/7h6tCBMDKl4QMz/w3AtnnBg2MoDg0haOSYD/KQHcBwTEVaGh536vMWBOIOVIWExNhPsIphkYQjIw2z1MKETDzFpI9fofZw/vPOucE3tQhup3+pqJoi0j/6gfTbxYtAm3rP24O9sJkjN4Dz+HnKPyobG3IvHn1h1vBznjO+hh7o5hvtobSXRz52wZk81PsbUcf5a1AA/qt6wfl1la7AOsBqYfPEzr0KcTsgirJEVK36ULV/+vZ4WQSFSQELYZVhxhmHX2md/no3v6+v4kFgI0T4aGncZnNEfffRRdu89d7ftOxNCjA0SQiFE8mhoLIRIHgmhECJ5JIRCiOSREAohkkdCKIRIHgmhECJ5JIRCiOSRENbE1ldfHfbP7gb/e2x5fvUVgzz+O6WX4T9naH+VlVx6kbK+P13gR/3trtBD+VbHsGoNfdfuakO9gISwJvjXOluVZPOml8MW+N9j4D2/Dh3CyQeYFU+OHT2W53aOKh90IU5XJIQ1Ei/hBJs3bzlpCSW+YQ8ceC/bsvnlEa92LHqDXrA2WUVoLFcNPxWRENaIrWu3dWsjWA6r0WDtxevI8T/JWIdapUaIsUFCWDOzL5uVvfabbcHq27lr1/HYxp2COMoEk49XIm6F+fnM72OpyJqhbl+mDIbevlzsS2LoTx7n8OWKoKwv4/2R1mbyfLmiPuB89r4dU0Tcprgu9rm+uD5b7dnywRacpW1FkF/UVo7x/W/nsORXlvZ9YO/bsUVukPgeFt1nKLu+ZlStu1ZYdEHUh8WXJVZtq3jGQMzcOG5uM3bv3hNiJfsYt0XE9VpMYh/nlhi47POeEcfC9cf5clyfb0OzmMe+HG2K4/9SxscJjttlferzis5XlGfH+frjWMJAGd9OXpPn+7BK24uwPvVYW62f/WuI21jUB0Z8rznWt8nO5Y+jPHnxceQZdk7fn/G5rEyrPug2sghrhljGwJL9YzH0JS7Kvr1/brpsezOIcGdLt9uyYYSwNIjihk/TyjDc5xgPVgTxMXwbKIe/syjmsS93443LwrFmqQXLbOLEYRNJtIs8Yr94WNae84C5IQi6ZIxF7GfveyNuDG2vYjV5LA4M/WbQVvrL+pl2+iX1y+Id007rgzLob9+fVj4O6sX5/fUt+27j1wu+nR7uGfFaHnhgRZ7TiJPDPeZz00tICGuEmWDiTNx3373Za6/9pu0Hpg542C2WMe3l4eMhbMZoYh7HkfY4N+eM6yoSgZg4st9Yx3624EtWR1UQC0THizZt9WFD6XvfHgvqFH+Gqkbni90W0CpCoAlxWTm7Zz4eDin+AukFJIQ1ge9u5cqHs1VPPJ5dmX/Ad7z527DtJCP1EY4FWDFxGsnsJWJcVNdIrd4qdDL2cxUQPRMMLCuE3ixX9hEXrD1rx2jiHeOTJLTnWF2Xj/Fsqdfi30gIa+DIkSPZ8u/fFKLCMXRlSDx79mXZc8/9d17i1KDMIoiHVKOJeWzWlFlXRMWrYv1VoRuxn2MQ8Sp40cMVwXDSsLaMJN5xEfQnn8V2sb4qszpHahHXgYSwyyCCixYvCT5B75uaNGlS+ECaL6yMDz/6MPvL3r2hniqM1kfYCh5Qhon2UND+OPauXWeVmMdYQd56JTwn4mF+qxNxlIfPerLfqu9iOh37uSqE+KwCfYtvEH+a/81pO/GOq0D/el9t3LcGfeXfu+ee+8LWf4495pfFreDBz9trM8cSwi5iIrhv3/4geiZmfJC3bdsWXq986KFhDxwwvOUDyBCXY48ePZp9eebFIY/36gSBRSjMD4RwMRSKseGW9xUVxTw2y8fKgB9GIUzUxUPp60LUWk0KxHBuHzeYRNtjq43hO+3yvq6i2M9VYNLF2l4mOIYFkgd/bbyuGu+4Cuuef25Yf077wrRCy5Vzhvfychxj97UM7h2fDzuGhJ+3U9Zsp1DMEtEz4Kti8mIsfX1CFCGLUAiRPBJCIUTyaGgshEgeWYRCiOSREAohkkdCKIRIHgmhECJ5JIRCiOSREAohkkdCKIRIHgmhECJ5JIQ1wT/c8w/oLKQghKgXCWFNsKIJS3HNmDE9zymGFWp88BuCu9e94kxYLn+oLfEqOeIE9I366AQskUZ/9CoSwpqZNm1a/qqYxrJd+7I/7RlorPR78GBY1LXqeoSiHlaveTosP2WL16aOrU3YkxHshpAQ1gRCxtqCUyZPznNOhpgmlFn54INhFWseqm8sXRrEcPv21/NS3Ye15FiHrt2H3CzJU5WyMJtFsI6gjzHSK5ilWhZwqRNQf5Hgfe1rV/Vc0CZDQlgT+/e/m40bNy4766yJx4e+PGh+KLVjx5thyyrTxqWXXhK2PrCP6C1MZKZOnRK2osHUKVMqrcJeBxLCmiAOBf7B5ctvyq5buDAMffmQMKQyiKcRrxRsIT/jWBtFIKykMnivaJXksm90gwedMibaZmXwAadOXpO89US+RX6z971VYtZi0bHAPm315Qxrj6W47VXqJpkfy5I9sJbP/cHSs/fL4EuK+xZbzNZPluK+j6+DFEMe5WyyjVR0D4vuA/1goQhsdWt/LOXsGFLcj7xP+bid9jmwfCgKYm+rbPtwsD0Dy3CJ7kPQawKvE4DdiINhx/tGHGi7DAJ+xwHGPRZI3AcKt2DpPi8mLmNBu0kWFNyChPtg30WByyEOTg6UI9+wYOLxdVtbfDBy6rK2tVO3L1fUN7zvjyuj6L5ZH/nA5tRl/WPn89dh7fJtYJ9kxxXVG5+feqxeK+/vC1DG12H3r6g9vm5eF/Wvr8tTtQ+7jSzCmiDew4Krvz5s2NtpiBfRLGyiBULa8srWsAVicYzUyd8qoHoRWBNYWVUCqEMc/pO40MQTsfMC10z726mbtvq+spgavm+qQmjMCWdOyPcaYOlzDh+rg5AEFrMFC4p2+euwkAVxGyhnx3Gd3K9mAaGox9dbBGV826x8HL2Pa/D3AD8olrJZha0oihzYC0gIa8B+/jJnTkOIDMQxfoCIWDdW2EPkHdi0wZz8fvhFsiFWVap86NsJoM5DGMNDSBCoIkYTnB04nwWzbwfaFEM/0B9FmIgUhcWs0gY+M4ivceONy44HY4qHt82I7ze0CvI+kpCdvq29goSwBnbv2RO23hpkhhi+8pWZYQufGPeJELGuiHPPnZS/Kgf/jPfRFGHf6PjB8PGAWRt88zM7bGksgyqNZQD1bgdnLxLsboI1x/VhoZuvzvydZfA5Gcsg756yL4Q6kRDWwF//+tdgiXk2rH8hPEBzrrgizznxG0MTSbDXk6eU/+ymHRA9zkv8XIbFFk5zLCiyeEYbQL2ZxTTaumNrs+oDXGQJx1abx9wQRdZXM4u3FdxbBM3uL5S5PDjPSIK8F9Hsi6DIbdALSAhrYNeu34chL0Mi+88RhjKrnng8L9HgyiFrjZ/YrFr1ZChH4jUi6gWzjFY+QoPfd+Ezow0+kPhY4a0TG56PNIC6td3XiXVDXe3UjRB469neNz+qwb1rRZHo0a+cww9VOYdZ4XwBYb35dtqMbrsxgG1YC9RXJKax7xbxqhLkvSplPsvRCPtYIiHsMnwwxw0NeW+++T+yJUu/mX1u8tRgPWze9PJJEyf8VGb9uuezT/7rJ0M5Un9//5AYDhfM0WIPOw9DK6f6aMBCQZjMZ2fiNZoA6ogEkwfeD4g4muVTtW6uHYvIyiCu/CePt6AeeGBFeJB5v5nL4fNTp4ZyXtToV4boNlQlcd/NDUF7uA7fThuqtgtDYquD+rh+L6a8z/Xxvgl+1SDvVSgLYm/3m98T9hqKYicCfGh5ENu1Pk4HEAMsvSrWc1XoTwTHhE40fsfIxFwn+7lTyCIUx4dr8TBQjBysMD/UFFkQQaz1XkRCKMIHlCFrmSNdtM+y734nDA/98DhlGBbjLujVEYeGxkKI5JFFKIRIHgmhECJ5JIRCiOSREAohkkdCKIRIHgmhECJ5JIRCiOSRENaErf2muMZC1I+EsCZYDKBKXGOD5bdarS3YaRDr0a5CcirDvx7yZUWyf0P0eawcY/t+9ZtmUM6OFb2DhLBmWsU1ZjVrxGjZsu+Ff1ES3YF/jWOlGBZOYAUY/jUsztOCCqcPEsKaqBLXmAdv9Zo1YfknVoYR3WNgoBFpzYfkLMpDIBHFqsuX2erRYyGifF5kbY4MCWFNVIlrzCIIa595WoshCDHGSAhrokpc49GCsLbyK2I9IMKWvBAXYT6uZsdwTu8/s1SEf5/U6vxgE01Fx/Dav0cq8t/F1+19obxmVWvwC6UW5VmK213WRmtfbLXZl6El80ka9Cl5vpy/t7xHu6AoZrFoAavPiO5DPNhWcY09Fve2HYghG8ec9cSxa4l5G8es9fsWQ9jHxC2Kx8s5yfPxa6nHt6Uovq7V5eP4xsT1cF5ro12Pj6nbrM0e6iy6Vt+WqnnN2lh03bznz21l/HVYn/o89n0fF9UtqiGLsCZYq67uuMYxDMF9zNoYiyHs/Vv4yFjS3YIDGZTzy+ETYhKL16wzLF/WQIzrgrJYwhxLv/k4xfjcrM1PPbU61OnXvKN+8vwiqTbh4WGZ/k6sH9iqjTFWHj+wwX2g/3yYVYiX3Ge/SgwV0RoJYQ20E9d4LOEB9TFEWoGQFQXeqRK/OI4oR3mu14Z5lpphx1pdMWUR0nwwJRM6Gz5asmHvaGnVxhgrHw+34wD0RXAv9EuCziAhrIGqcY1HSzUfYSN2MVYdD2A3/UqIMOeOk7d6xgr7CUyc6pqYIlBU3JZejO1xuiIhrIGqcY27CQ8d4tBseEj7imIIV4lVe/hwI2ZvX19f2BaFvGyFHWt1xZRZpuRZTGITuqIYwp2gVRtj2i3fDP26YORICGugalxjz/8dOxa2RTOgZbTyETLT6GcnLdZt2QNVFEOYtjM8I0aHh3K8Z/zwzruCkNrv7SzOry8DWLBlQsyx1EFdBm0xK3b+/HmhH/2MLNdHHj5KA98afkJ/Hb6e0dCqjTFWHveEJ7437RDHLBYVyCdNRJdgZu+y2ZcPPrP22eMzgcwY+tljj81AUs4SeZ2aGYzrjmc//Wwm2CypTzHUyWwmycqQF2OznD752ecymrXZZo7L3jds5thS3L6i2eCqeVDWRrbsx/ePfvbl/WwwWJ96ima//f2Jy4tyFLxJdBysuunTv1gpQLsQvYCGxkKI5JEQCiGSR0NjIUTyyCIUQiSPhFAIkTwSQiFE8kgIhRDJIyEUQiSPhFAIkTwSQiFE8kgIhRDJIyEUQiSPhFAIkTwSQiFE8kgIhRDJIyEUQiSPhFAIkTwSQiFE8kgIhRDJIyEUQiSPhFAIkTwSQiFE8kgIhRDJIyEUQiSPhFAIkTwSQiFE8kgIhRDJIyEUQiSPhFAIkTwSQiFE8kgIhRDJIyEUQiSPhFAIkTwSQiFE8kgIhRDJIyEUQiSPhFAIkTwSQiFE8kgIhRDJIyEUQiSPhFAIkTwSQiFE8kgIhRDJIyEUQiROlv0/ew/jN/xt0s4AAAAASUVORK5CYII=)"
      ],
      "metadata": {
        "id": "lhoC3erqiIFT"
      }
    },
    {
      "cell_type": "markdown",
      "source": [
        "\n",
        "# Ordinary Least Sqaures <br>\n",
        "In the plot, how do we know which slope line is the best one? <br>\n",
        "There can be multiple slope lines that we can draw through our data points. <br>\n",
        "- To get get the best slope line, we use Ordinary Least Sqaures method. Take the data points and project them vertically onto linear reg line (do this for all lines). <br>\n",
        "- For each point, we have y(high) and y(low). Take the difference (residual Ei) of  y(high) and y(low) i.e. is Sum(y(high) - y(low))^2 is min. <br>\n",
        "- The line having smallest value is the best one.  "
      ],
      "metadata": {
        "id": "AGj9YMMEikry"
      }
    },
    {
      "cell_type": "markdown",
      "source": [
        "# Importing the Libraries"
      ],
      "metadata": {
        "id": "jAJKEbk7ua6I"
      }
    },
    {
      "cell_type": "code",
      "execution_count": 1,
      "metadata": {
        "id": "42FFnPYthweI"
      },
      "outputs": [],
      "source": [
        "import numpy as np\n",
        "import pandas as pd\n",
        "import matplotlib.pyplot as plt"
      ]
    },
    {
      "cell_type": "markdown",
      "source": [
        "# Importing the dataset"
      ],
      "metadata": {
        "id": "bY549HqbuokO"
      }
    },
    {
      "cell_type": "code",
      "source": [
        "df = pd.read_csv(\"/content/Salary_Data.csv\")\n",
        "X = df.iloc[:,:-1]\n",
        "y = df.iloc[:,-1]"
      ],
      "metadata": {
        "id": "jbTqusliuvI5"
      },
      "execution_count": 2,
      "outputs": []
    },
    {
      "cell_type": "code",
      "source": [
        "print(X)"
      ],
      "metadata": {
        "colab": {
          "base_uri": "https://localhost:8080/"
        },
        "id": "k7Sj7L-nvC5M",
        "outputId": "e68d4e54-5fa9-4a1a-e7bc-5d4d35ed7277"
      },
      "execution_count": 3,
      "outputs": [
        {
          "output_type": "stream",
          "name": "stdout",
          "text": [
            "    YearsExperience\n",
            "0               1.1\n",
            "1               1.3\n",
            "2               1.5\n",
            "3               2.0\n",
            "4               2.2\n",
            "5               2.9\n",
            "6               3.0\n",
            "7               3.2\n",
            "8               3.2\n",
            "9               3.7\n",
            "10              3.9\n",
            "11              4.0\n",
            "12              4.0\n",
            "13              4.1\n",
            "14              4.5\n",
            "15              4.9\n",
            "16              5.1\n",
            "17              5.3\n",
            "18              5.9\n",
            "19              6.0\n",
            "20              6.8\n",
            "21              7.1\n",
            "22              7.9\n",
            "23              8.2\n",
            "24              8.7\n",
            "25              9.0\n",
            "26              9.5\n",
            "27              9.6\n",
            "28             10.3\n",
            "29             10.5\n"
          ]
        }
      ]
    },
    {
      "cell_type": "code",
      "source": [
        "print(y)"
      ],
      "metadata": {
        "colab": {
          "base_uri": "https://localhost:8080/"
        },
        "id": "ZxWlNSxxvFAi",
        "outputId": "c52b6843-5908-4913-c06f-37e2a8f4722d"
      },
      "execution_count": 4,
      "outputs": [
        {
          "output_type": "stream",
          "name": "stdout",
          "text": [
            "0      39343.0\n",
            "1      46205.0\n",
            "2      37731.0\n",
            "3      43525.0\n",
            "4      39891.0\n",
            "5      56642.0\n",
            "6      60150.0\n",
            "7      54445.0\n",
            "8      64445.0\n",
            "9      57189.0\n",
            "10     63218.0\n",
            "11     55794.0\n",
            "12     56957.0\n",
            "13     57081.0\n",
            "14     61111.0\n",
            "15     67938.0\n",
            "16     66029.0\n",
            "17     83088.0\n",
            "18     81363.0\n",
            "19     93940.0\n",
            "20     91738.0\n",
            "21     98273.0\n",
            "22    101302.0\n",
            "23    113812.0\n",
            "24    109431.0\n",
            "25    105582.0\n",
            "26    116969.0\n",
            "27    112635.0\n",
            "28    122391.0\n",
            "29    121872.0\n",
            "Name: Salary, dtype: float64\n"
          ]
        }
      ]
    },
    {
      "cell_type": "markdown",
      "source": [
        "# Splitting the Dataset into the Training set and Test set"
      ],
      "metadata": {
        "id": "ikQTCI2rvI-J"
      }
    },
    {
      "cell_type": "code",
      "source": [
        "from sklearn.model_selection import train_test_split\n",
        "X_train, X_test, y_train, y_test = train_test_split(X,y, test_size=0.3, random_state=0)"
      ],
      "metadata": {
        "id": "zqbzB1amvF-7"
      },
      "execution_count": 5,
      "outputs": []
    }
  ]
}